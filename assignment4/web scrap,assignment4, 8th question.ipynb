{
 "cells": [
  {
   "cell_type": "code",
   "execution_count": 11,
   "metadata": {},
   "outputs": [
    {
     "name": "stdout",
     "output_type": "stream",
     "text": [
      "Requirement already satisfied: selenium in c:\\users\\venkata\\anaconda3\\lib\\site-packages (4.1.3)\n",
      "Requirement already satisfied: trio-websocket~=0.9 in c:\\users\\venkata\\anaconda3\\lib\\site-packages (from selenium) (0.9.2)\n",
      "Requirement already satisfied: trio~=0.17 in c:\\users\\venkata\\anaconda3\\lib\\site-packages (from selenium) (0.20.0)\n",
      "Requirement already satisfied: urllib3[secure,socks]~=1.26 in c:\\users\\venkata\\anaconda3\\lib\\site-packages (from selenium) (1.26.9)\n",
      "Requirement already satisfied: wsproto>=0.14 in c:\\users\\venkata\\anaconda3\\lib\\site-packages (from trio-websocket~=0.9->selenium) (1.1.0)\n",
      "Requirement already satisfied: async-generator>=1.10 in c:\\users\\venkata\\anaconda3\\lib\\site-packages (from trio-websocket~=0.9->selenium) (1.10)\n",
      "Requirement already satisfied: attrs>=19.2.0 in c:\\users\\venkata\\anaconda3\\lib\\site-packages (from trio~=0.17->selenium) (20.3.0)\n",
      "Requirement already satisfied: sortedcontainers in c:\\users\\venkata\\anaconda3\\lib\\site-packages (from trio~=0.17->selenium) (2.2.2)\n",
      "Requirement already satisfied: sniffio in c:\\users\\venkata\\anaconda3\\lib\\site-packages (from trio~=0.17->selenium) (1.2.0)\n",
      "Requirement already satisfied: idna in c:\\users\\venkata\\anaconda3\\lib\\site-packages (from trio~=0.17->selenium) (2.10)\n",
      "Requirement already satisfied: cffi>=1.14; os_name == \"nt\" and implementation_name != \"pypy\" in c:\\users\\venkata\\anaconda3\\lib\\site-packages (from trio~=0.17->selenium) (1.14.3)\n",
      "Requirement already satisfied: outcome in c:\\users\\venkata\\anaconda3\\lib\\site-packages (from trio~=0.17->selenium) (1.1.0)\n",
      "Requirement already satisfied: pyOpenSSL>=0.14; extra == \"secure\" in c:\\users\\venkata\\anaconda3\\lib\\site-packages (from urllib3[secure,socks]~=1.26->selenium) (19.1.0)\n",
      "Requirement already satisfied: cryptography>=1.3.4; extra == \"secure\" in c:\\users\\venkata\\anaconda3\\lib\\site-packages (from urllib3[secure,socks]~=1.26->selenium) (3.1.1)\n",
      "Requirement already satisfied: certifi; extra == \"secure\" in c:\\users\\venkata\\anaconda3\\lib\\site-packages (from urllib3[secure,socks]~=1.26->selenium) (2020.6.20)\n",
      "Requirement already satisfied: PySocks!=1.5.7,<2.0,>=1.5.6; extra == \"socks\" in c:\\users\\venkata\\anaconda3\\lib\\site-packages (from urllib3[secure,socks]~=1.26->selenium) (1.7.1)\n",
      "Requirement already satisfied: h11<1,>=0.9.0 in c:\\users\\venkata\\anaconda3\\lib\\site-packages (from wsproto>=0.14->trio-websocket~=0.9->selenium) (0.13.0)\n",
      "Requirement already satisfied: pycparser in c:\\users\\venkata\\anaconda3\\lib\\site-packages (from cffi>=1.14; os_name == \"nt\" and implementation_name != \"pypy\"->trio~=0.17->selenium) (2.20)\n",
      "Requirement already satisfied: six>=1.5.2 in c:\\users\\venkata\\anaconda3\\lib\\site-packages (from pyOpenSSL>=0.14; extra == \"secure\"->urllib3[secure,socks]~=1.26->selenium) (1.15.0)\n"
     ]
    }
   ],
   "source": [
    "!pip install selenium"
   ]
  },
  {
   "cell_type": "code",
   "execution_count": 12,
   "metadata": {},
   "outputs": [],
   "source": [
    "import selenium\n",
    "import pandas as pd\n",
    "import time\n",
    "from selenium import webdriver\n",
    "import warnings\n",
    "warnings.filterwarnings('ignore')\n",
    "from selenium.common.exceptions import NoSuchElementException\n",
    "from selenium.webdriver.support.ui import WebDriverWait\n",
    "from selenium.webdriver.support import expected_conditions as EC\n",
    "from selenium.webdriver.common.by import By"
   ]
  },
  {
   "cell_type": "code",
   "execution_count": 13,
   "metadata": {},
   "outputs": [],
   "source": [
    "driver = webdriver.Chrome(r\"C:\\Users\\Venkata\\Downloads\\chromedriver_win32 (1)\\chromedriver.exe\")"
   ]
  },
  {
   "cell_type": "code",
   "execution_count": 14,
   "metadata": {},
   "outputs": [],
   "source": [
    "driver.get('https://www.theguardian.com/news/datablog/2012/aug/09/best-selling-books-all-time-fifty-shades-grey-compare')"
   ]
  },
  {
   "cell_type": "code",
   "execution_count": 25,
   "metadata": {},
   "outputs": [
    {
     "name": "stdout",
     "output_type": "stream",
     "text": [
      "Da Vinci Code,The\n",
      "Brown, Dan\n",
      "5,094,805\n",
      "Transworld\n",
      "Crime, Thriller & Adventure\n",
      "Harry Potter and the Deathly Hallows\n",
      "Rowling, J.K.\n",
      "4,475,152\n",
      "Bloomsbury\n",
      "Children's Fiction\n",
      "Harry Potter and the Philosopher's Stone\n",
      "Rowling, J.K.\n",
      "4,200,654\n",
      "Bloomsbury\n",
      "Children's Fiction\n",
      "Harry Potter and the Order of the Phoenix\n",
      "Rowling, J.K.\n",
      "4,179,479\n",
      "Bloomsbury\n",
      "Children's Fiction\n",
      "Fifty Shades of Grey\n",
      "James, E. L.\n",
      "3,758,936\n",
      "Random House\n",
      "Romance & Sagas\n",
      "Harry Potter and the Goblet of Fire\n",
      "Rowling, J.K.\n",
      "3,583,215\n",
      "Bloomsbury\n",
      "Children's Fiction\n",
      "Harry Potter and the Chamber of Secrets\n",
      "Rowling, J.K.\n",
      "3,484,047\n",
      "Bloomsbury\n",
      "Children's Fiction\n",
      "Harry Potter and the Prisoner of Azkaban\n",
      "Rowling, J.K.\n",
      "3,377,906\n",
      "Bloomsbury\n",
      "Children's Fiction\n",
      "Angels and Demons\n",
      "Brown, Dan\n",
      "3,193,946\n",
      "Transworld\n",
      "Crime, Thriller & Adventure\n",
      "Harry Potter and the Half-blood Prince:Children's Edition\n",
      "Rowling, J.K.\n",
      "2,950,264\n",
      "Bloomsbury\n",
      "Children's Fiction\n"
     ]
    }
   ],
   "source": [
    "for i in range(1,11):\n",
    "    print(driver.find_element_by_xpath(\"/html/body/div/div[2]/div[2]/div/div[2]/div/table/tbody/tr[{}]/td[2]\".format(i)).text)\n",
    "    print(driver.find_element_by_xpath(\"/html/body/div/div[2]/div[2]/div/div[2]/div/table/tbody/tr[{}]/td[3]\".format(i)).text)\n",
    "    print(driver.find_element_by_xpath(\"/html/body/div/div[2]/div[2]/div/div[2]/div/table/tbody/tr[{}]/td[4]\".format(i)).text)\n",
    "    print(driver.find_element_by_xpath(\"/html/body/div/div[2]/div[2]/div/div[2]/div/table/tbody/tr[{}]/td[5]\".format(i)).text)\n",
    "    print(driver.find_element_by_xpath(\"/html/body/div/div[2]/div[2]/div/div[2]/div/table/tbody/tr[{}]/td[6]\".format(i)).text)\n",
    "    "
   ]
  },
  {
   "cell_type": "code",
   "execution_count": null,
   "metadata": {},
   "outputs": [],
   "source": []
  },
  {
   "cell_type": "code",
   "execution_count": null,
   "metadata": {},
   "outputs": [],
   "source": []
  }
 ],
 "metadata": {
  "kernelspec": {
   "display_name": "Python 3",
   "language": "python",
   "name": "python3"
  },
  "language_info": {
   "codemirror_mode": {
    "name": "ipython",
    "version": 3
   },
   "file_extension": ".py",
   "mimetype": "text/x-python",
   "name": "python",
   "nbconvert_exporter": "python",
   "pygments_lexer": "ipython3",
   "version": "3.8.5"
  }
 },
 "nbformat": 4,
 "nbformat_minor": 4
}
