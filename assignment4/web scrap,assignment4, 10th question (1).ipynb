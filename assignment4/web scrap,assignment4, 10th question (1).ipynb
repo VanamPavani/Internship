{
 "cells": [
  {
   "cell_type": "code",
   "execution_count": 1,
   "metadata": {},
   "outputs": [
    {
     "name": "stdout",
     "output_type": "stream",
     "text": [
      "Requirement already satisfied: selenium in c:\\users\\venkata\\anaconda3\\lib\\site-packages (4.1.3)\n",
      "Requirement already satisfied: trio-websocket~=0.9 in c:\\users\\venkata\\anaconda3\\lib\\site-packages (from selenium) (0.9.2)\n",
      "Requirement already satisfied: urllib3[secure,socks]~=1.26 in c:\\users\\venkata\\anaconda3\\lib\\site-packages (from selenium) (1.26.9)\n",
      "Requirement already satisfied: trio~=0.17 in c:\\users\\venkata\\anaconda3\\lib\\site-packages (from selenium) (0.20.0)\n",
      "Requirement already satisfied: async-generator>=1.10 in c:\\users\\venkata\\anaconda3\\lib\\site-packages (from trio-websocket~=0.9->selenium) (1.10)\n",
      "Requirement already satisfied: wsproto>=0.14 in c:\\users\\venkata\\anaconda3\\lib\\site-packages (from trio-websocket~=0.9->selenium) (1.1.0)\n",
      "Requirement already satisfied: certifi; extra == \"secure\" in c:\\users\\venkata\\anaconda3\\lib\\site-packages (from urllib3[secure,socks]~=1.26->selenium) (2020.6.20)\n",
      "Requirement already satisfied: pyOpenSSL>=0.14; extra == \"secure\" in c:\\users\\venkata\\anaconda3\\lib\\site-packages (from urllib3[secure,socks]~=1.26->selenium) (19.1.0)\n",
      "Requirement already satisfied: idna>=2.0.0; extra == \"secure\" in c:\\users\\venkata\\anaconda3\\lib\\site-packages (from urllib3[secure,socks]~=1.26->selenium) (2.10)\n",
      "Requirement already satisfied: cryptography>=1.3.4; extra == \"secure\" in c:\\users\\venkata\\anaconda3\\lib\\site-packages (from urllib3[secure,socks]~=1.26->selenium) (3.1.1)\n",
      "Requirement already satisfied: PySocks!=1.5.7,<2.0,>=1.5.6; extra == \"socks\" in c:\\users\\venkata\\anaconda3\\lib\\site-packages (from urllib3[secure,socks]~=1.26->selenium) (1.7.1)\n",
      "Requirement already satisfied: sniffio in c:\\users\\venkata\\anaconda3\\lib\\site-packages (from trio~=0.17->selenium) (1.2.0)\n",
      "Requirement already satisfied: sortedcontainers in c:\\users\\venkata\\anaconda3\\lib\\site-packages (from trio~=0.17->selenium) (2.2.2)\n",
      "Requirement already satisfied: outcome in c:\\users\\venkata\\anaconda3\\lib\\site-packages (from trio~=0.17->selenium) (1.1.0)\n",
      "Requirement already satisfied: attrs>=19.2.0 in c:\\users\\venkata\\anaconda3\\lib\\site-packages (from trio~=0.17->selenium) (20.3.0)\n",
      "Requirement already satisfied: cffi>=1.14; os_name == \"nt\" and implementation_name != \"pypy\" in c:\\users\\venkata\\anaconda3\\lib\\site-packages (from trio~=0.17->selenium) (1.14.3)\n",
      "Requirement already satisfied: h11<1,>=0.9.0 in c:\\users\\venkata\\anaconda3\\lib\\site-packages (from wsproto>=0.14->trio-websocket~=0.9->selenium) (0.13.0)\n",
      "Requirement already satisfied: six>=1.5.2 in c:\\users\\venkata\\anaconda3\\lib\\site-packages (from pyOpenSSL>=0.14; extra == \"secure\"->urllib3[secure,socks]~=1.26->selenium) (1.15.0)\n",
      "Requirement already satisfied: pycparser in c:\\users\\venkata\\anaconda3\\lib\\site-packages (from cffi>=1.14; os_name == \"nt\" and implementation_name != \"pypy\"->trio~=0.17->selenium) (2.20)\n"
     ]
    }
   ],
   "source": [
    "!pip install selenium"
   ]
  },
  {
   "cell_type": "code",
   "execution_count": 2,
   "metadata": {},
   "outputs": [],
   "source": [
    "import selenium\n",
    "import pandas as pd\n",
    "import time\n",
    "from selenium import webdriver\n",
    "import warnings\n",
    "warnings.filterwarnings('ignore')\n",
    "from selenium.common.exceptions import NoSuchElementException\n",
    "from selenium.webdriver.support.ui import WebDriverWait\n",
    "from selenium.webdriver.support import expected_conditions as EC\n",
    "from selenium.webdriver.common.by import By"
   ]
  },
  {
   "cell_type": "code",
   "execution_count": 3,
   "metadata": {},
   "outputs": [],
   "source": [
    "driver = webdriver.Chrome(r\"C:\\Users\\Venkata\\Downloads\\chromedriver_win32 (1)\\chromedriver.exe\")"
   ]
  },
  {
   "cell_type": "code",
   "execution_count": 4,
   "metadata": {},
   "outputs": [],
   "source": [
    "driver.get('https://archive.ics.uci.edu/ml/datasets.php')\n",
    "time.sleep(2)"
   ]
  },
  {
   "cell_type": "code",
   "execution_count": 5,
   "metadata": {},
   "outputs": [],
   "source": [
    "driver.find_element_by_xpath(\"/html/body/table[1]/tbody/tr/td[2]/span[2]/a/font/b\").click()\n",
    "time.sleep(2)"
   ]
  },
  {
   "cell_type": "code",
   "execution_count": 6,
   "metadata": {},
   "outputs": [
    {
     "name": "stdout",
     "output_type": "stream",
     "text": [
      "Abalone\n",
      "Multivariate \n",
      "Classification \n",
      "Categorical, Integer, Real \n",
      "4177 \n",
      "8 \n",
      "1995 \n",
      "Adult\n",
      "Multivariate \n",
      "Classification \n",
      "Categorical, Integer \n",
      "48842 \n",
      "14 \n",
      "1996 \n",
      "Annealing\n",
      "Multivariate \n",
      "Classification \n",
      "Categorical, Integer, Real \n",
      "798 \n",
      "38 \n",
      " \n",
      "Anonymous Microsoft Web Data\n",
      " \n",
      "Recommender-Systems \n",
      "Categorical \n",
      "37711 \n",
      "294 \n",
      "1998 \n",
      "Arrhythmia\n",
      "Multivariate \n",
      "Classification \n",
      "Categorical, Integer, Real \n",
      "452 \n",
      "279 \n",
      "1998 \n",
      "Artificial Characters\n",
      "Multivariate \n",
      "Classification \n",
      "Categorical, Integer, Real \n",
      "6000 \n",
      "7 \n",
      "1992 \n",
      "Audiology (Original)\n",
      "Multivariate \n",
      "Classification \n",
      "Categorical \n",
      "226 \n",
      " \n",
      "1987 \n",
      "Audiology (Standardized)\n",
      "Multivariate \n",
      "Classification \n",
      "Categorical \n",
      "226 \n",
      "69 \n",
      "1992 \n",
      "Auto MPG\n",
      "Multivariate \n",
      "Regression \n",
      "Categorical, Real \n",
      "398 \n",
      "8 \n",
      "1993 \n"
     ]
    }
   ],
   "source": [
    "\n",
    "for i in range(2,11):\n",
    "    \n",
    "    print(driver.find_element_by_xpath(\"/html/body/table[2]/tbody/tr/td[2]/table[2]/tbody/tr[{}]/td[1]/table/tbody/tr/td[2]/p/b/a\".format(i)).text)\n",
    "    print(driver.find_element_by_xpath(\"/html/body/table[2]/tbody/tr/td[2]/table[2]/tbody/tr[{}]/td[2]/p\".format(i)).text)\n",
    "    print(driver.find_element_by_xpath(\"/html/body/table[2]/tbody/tr/td[2]/table[2]/tbody/tr[{}]/td[3]/p\".format(i)).text)\n",
    "    print(driver.find_element_by_xpath(\"/html/body/table[2]/tbody/tr/td[2]/table[2]/tbody/tr[{}]/td[4]/p\".format(i)).text)\n",
    "    print(driver.find_element_by_xpath(\"/html/body/table[2]/tbody/tr/td[2]/table[2]/tbody/tr[{}]/td[5]/p\".format(i)).text)\n",
    "    print(driver.find_element_by_xpath(\"/html/body/table[2]/tbody/tr/td[2]/table[2]/tbody/tr[{}]/td[6]/p\".format(i)).text)\n",
    "    print(driver.find_element_by_xpath(\"/html/body/table[2]/tbody/tr/td[2]/table[2]/tbody/tr[{}]/td[7]/p\".format(i)).text)"
   ]
  }
 ],
 "metadata": {
  "kernelspec": {
   "display_name": "Python 3",
   "language": "python",
   "name": "python3"
  },
  "language_info": {
   "codemirror_mode": {
    "name": "ipython",
    "version": 3
   },
   "file_extension": ".py",
   "mimetype": "text/x-python",
   "name": "python",
   "nbconvert_exporter": "python",
   "pygments_lexer": "ipython3",
   "version": "3.8.5"
  }
 },
 "nbformat": 4,
 "nbformat_minor": 4
}
