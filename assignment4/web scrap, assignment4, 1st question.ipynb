{
 "cells": [
  {
   "cell_type": "code",
   "execution_count": 1,
   "metadata": {},
   "outputs": [
    {
     "name": "stdout",
     "output_type": "stream",
     "text": [
      "Requirement already satisfied: selenium in c:\\users\\venkata\\anaconda3\\lib\\site-packages (4.1.3)\n",
      "Requirement already satisfied: trio~=0.17 in c:\\users\\venkata\\anaconda3\\lib\\site-packages (from selenium) (0.20.0)\n",
      "Requirement already satisfied: trio-websocket~=0.9 in c:\\users\\venkata\\anaconda3\\lib\\site-packages (from selenium) (0.9.2)\n",
      "Requirement already satisfied: urllib3[secure,socks]~=1.26 in c:\\users\\venkata\\anaconda3\\lib\\site-packages (from selenium) (1.26.9)\n",
      "Requirement already satisfied: sniffio in c:\\users\\venkata\\anaconda3\\lib\\site-packages (from trio~=0.17->selenium) (1.2.0)\n",
      "Requirement already satisfied: outcome in c:\\users\\venkata\\anaconda3\\lib\\site-packages (from trio~=0.17->selenium) (1.1.0)\n",
      "Requirement already satisfied: idna in c:\\users\\venkata\\anaconda3\\lib\\site-packages (from trio~=0.17->selenium) (2.10)\n",
      "Requirement already satisfied: attrs>=19.2.0 in c:\\users\\venkata\\anaconda3\\lib\\site-packages (from trio~=0.17->selenium) (20.3.0)\n",
      "Requirement already satisfied: async-generator>=1.9 in c:\\users\\venkata\\anaconda3\\lib\\site-packages (from trio~=0.17->selenium) (1.10)\n",
      "Requirement already satisfied: cffi>=1.14; os_name == \"nt\" and implementation_name != \"pypy\" in c:\\users\\venkata\\anaconda3\\lib\\site-packages (from trio~=0.17->selenium) (1.14.3)\n",
      "Requirement already satisfied: sortedcontainers in c:\\users\\venkata\\anaconda3\\lib\\site-packages (from trio~=0.17->selenium) (2.2.2)\n",
      "Requirement already satisfied: wsproto>=0.14 in c:\\users\\venkata\\anaconda3\\lib\\site-packages (from trio-websocket~=0.9->selenium) (1.1.0)\n",
      "Requirement already satisfied: cryptography>=1.3.4; extra == \"secure\" in c:\\users\\venkata\\anaconda3\\lib\\site-packages (from urllib3[secure,socks]~=1.26->selenium) (3.1.1)\n",
      "Requirement already satisfied: certifi; extra == \"secure\" in c:\\users\\venkata\\anaconda3\\lib\\site-packages (from urllib3[secure,socks]~=1.26->selenium) (2020.6.20)\n",
      "Requirement already satisfied: pyOpenSSL>=0.14; extra == \"secure\" in c:\\users\\venkata\\anaconda3\\lib\\site-packages (from urllib3[secure,socks]~=1.26->selenium) (19.1.0)\n",
      "Requirement already satisfied: PySocks!=1.5.7,<2.0,>=1.5.6; extra == \"socks\" in c:\\users\\venkata\\anaconda3\\lib\\site-packages (from urllib3[secure,socks]~=1.26->selenium) (1.7.1)\n",
      "Requirement already satisfied: pycparser in c:\\users\\venkata\\anaconda3\\lib\\site-packages (from cffi>=1.14; os_name == \"nt\" and implementation_name != \"pypy\"->trio~=0.17->selenium) (2.20)\n",
      "Requirement already satisfied: h11<1,>=0.9.0 in c:\\users\\venkata\\anaconda3\\lib\\site-packages (from wsproto>=0.14->trio-websocket~=0.9->selenium) (0.13.0)\n",
      "Requirement already satisfied: six>=1.4.1 in c:\\users\\venkata\\anaconda3\\lib\\site-packages (from cryptography>=1.3.4; extra == \"secure\"->urllib3[secure,socks]~=1.26->selenium) (1.15.0)\n"
     ]
    }
   ],
   "source": [
    "!pip install selenium"
   ]
  },
  {
   "cell_type": "code",
   "execution_count": 2,
   "metadata": {},
   "outputs": [],
   "source": [
    "import selenium\n",
    "import pandas as pd\n",
    "import time\n",
    "from selenium import webdriver\n",
    "import warnings\n",
    "warnings.filterwarnings('ignore')\n",
    "from selenium.common.exceptions import NoSuchElementException\n",
    "from selenium.webdriver.support.ui import WebDriverWait\n",
    "from selenium.webdriver.support import expected_conditions as EC\n",
    "from selenium.webdriver.common.by import By"
   ]
  },
  {
   "cell_type": "code",
   "execution_count": 3,
   "metadata": {},
   "outputs": [],
   "source": [
    "driver = webdriver.Chrome(r\"C:\\Users\\Venkata\\Downloads\\chromedriver_win32 (1)\\chromedriver.exe\")"
   ]
  },
  {
   "cell_type": "code",
   "execution_count": 4,
   "metadata": {},
   "outputs": [],
   "source": [
    "driver.get('https://en.wikipedia.org/wiki/List_of_most-viewed_YouTube_videos')"
   ]
  },
  {
   "cell_type": "code",
   "execution_count": 5,
   "metadata": {},
   "outputs": [
    {
     "data": {
      "text/plain": [
       "['1',\n",
       " '2',\n",
       " '3',\n",
       " '4',\n",
       " '5',\n",
       " '6',\n",
       " '7',\n",
       " '8',\n",
       " '9',\n",
       " '10',\n",
       " '11',\n",
       " '12',\n",
       " '13',\n",
       " '14',\n",
       " '15',\n",
       " '16',\n",
       " '17',\n",
       " '18',\n",
       " '19',\n",
       " '20',\n",
       " '21',\n",
       " '22',\n",
       " '23',\n",
       " '24',\n",
       " '25',\n",
       " '26',\n",
       " '27',\n",
       " '28',\n",
       " '29',\n",
       " '30']"
      ]
     },
     "execution_count": 5,
     "metadata": {},
     "output_type": "execute_result"
    }
   ],
   "source": [
    "rank=driver.find_elements_by_xpath(\"//table[@class='wikitable sortable jquery-tablesorter'][1]/tbody/tr/td[1]\")\n",
    "ranks=[]\n",
    "for i in rank:\n",
    "    ranks.append(i.text.replace('.',''))\n",
    "ranks"
   ]
  },
  {
   "cell_type": "code",
   "execution_count": 6,
   "metadata": {},
   "outputs": [],
   "source": [
    "videonames_tags=[]\n",
    "videonames_tags=driver.find_elements_by_xpath(\"//table[@class='wikitable sortable jquery-tablesorter'][1]/tbody/tr/td[2]/a\")"
   ]
  },
  {
   "cell_type": "code",
   "execution_count": 7,
   "metadata": {},
   "outputs": [
    {
     "data": {
      "text/plain": [
       "['Baby Shark Dance',\n",
       " 'Despacito',\n",
       " 'Johny Johny Yes Papa',\n",
       " 'Shape of You',\n",
       " 'See You Again',\n",
       " 'Uptown Funk',\n",
       " 'Gangnam Style',\n",
       " 'Dame Tu Cosita',\n",
       " 'Sugar',\n",
       " 'Roar',\n",
       " 'Counting Stars',\n",
       " 'Sorry',\n",
       " 'Thinking Out Loud',\n",
       " 'Axel F',\n",
       " 'Girls Like You',\n",
       " 'Faded',\n",
       " 'Dark Horse',\n",
       " 'Let Her Go',\n",
       " 'Bailando',\n",
       " 'Lean On',\n",
       " 'Perfect',\n",
       " 'Shake It Off',\n",
       " 'Waka Waka (This Time for Africa)',\n",
       " 'Mi Gente']"
      ]
     },
     "execution_count": 7,
     "metadata": {},
     "output_type": "execute_result"
    }
   ],
   "source": [
    "videonames=[]\n",
    "for i in videonames_tags:\n",
    "    videonames.append(i.text)\n",
    "    #print(i.text)\n",
    "videonames "
   ]
  },
  {
   "cell_type": "code",
   "execution_count": 8,
   "metadata": {},
   "outputs": [
    {
     "data": {
      "text/plain": [
       "[<selenium.webdriver.remote.webelement.WebElement (session=\"a3dbb40a301418b15ed64bf4d2fc5fdf\", element=\"c820c305-19a2-4b3d-b4f4-7c4b8fe15891\")>,\n",
       " <selenium.webdriver.remote.webelement.WebElement (session=\"a3dbb40a301418b15ed64bf4d2fc5fdf\", element=\"8f35a97b-f49a-4ba9-a620-b7ace6a479da\")>,\n",
       " <selenium.webdriver.remote.webelement.WebElement (session=\"a3dbb40a301418b15ed64bf4d2fc5fdf\", element=\"1420025a-0753-46db-87b5-4e80053162ab\")>,\n",
       " <selenium.webdriver.remote.webelement.WebElement (session=\"a3dbb40a301418b15ed64bf4d2fc5fdf\", element=\"2d7634d5-cbbe-43f7-98fe-658f79688f0f\")>,\n",
       " <selenium.webdriver.remote.webelement.WebElement (session=\"a3dbb40a301418b15ed64bf4d2fc5fdf\", element=\"da0236fe-21e7-4787-8df0-a43c76fb7b32\")>,\n",
       " <selenium.webdriver.remote.webelement.WebElement (session=\"a3dbb40a301418b15ed64bf4d2fc5fdf\", element=\"074bbdd1-1e98-423d-b7e3-63190fe1c5fd\")>,\n",
       " <selenium.webdriver.remote.webelement.WebElement (session=\"a3dbb40a301418b15ed64bf4d2fc5fdf\", element=\"ed5e9ffb-547b-4a2a-a47d-b0bb79fd884b\")>,\n",
       " <selenium.webdriver.remote.webelement.WebElement (session=\"a3dbb40a301418b15ed64bf4d2fc5fdf\", element=\"3341e54e-2264-4a99-88a8-c37be59a0ec8\")>,\n",
       " <selenium.webdriver.remote.webelement.WebElement (session=\"a3dbb40a301418b15ed64bf4d2fc5fdf\", element=\"52b8f4a0-0935-434c-9255-38ce8f119a92\")>,\n",
       " <selenium.webdriver.remote.webelement.WebElement (session=\"a3dbb40a301418b15ed64bf4d2fc5fdf\", element=\"cf37eda7-181f-4d9b-a2d6-f18df6e4b9aa\")>,\n",
       " <selenium.webdriver.remote.webelement.WebElement (session=\"a3dbb40a301418b15ed64bf4d2fc5fdf\", element=\"6fb209d1-6d57-445a-9e5d-dcf743751ed1\")>,\n",
       " <selenium.webdriver.remote.webelement.WebElement (session=\"a3dbb40a301418b15ed64bf4d2fc5fdf\", element=\"0069546a-78b4-4d3b-b4e2-3a3889c4577c\")>,\n",
       " <selenium.webdriver.remote.webelement.WebElement (session=\"a3dbb40a301418b15ed64bf4d2fc5fdf\", element=\"de46b924-274e-4647-825c-ab5732f90a06\")>,\n",
       " <selenium.webdriver.remote.webelement.WebElement (session=\"a3dbb40a301418b15ed64bf4d2fc5fdf\", element=\"92c6e956-abfe-498c-9fc0-07c7e88e3485\")>,\n",
       " <selenium.webdriver.remote.webelement.WebElement (session=\"a3dbb40a301418b15ed64bf4d2fc5fdf\", element=\"197d12a6-b483-482a-a025-862c278898c4\")>,\n",
       " <selenium.webdriver.remote.webelement.WebElement (session=\"a3dbb40a301418b15ed64bf4d2fc5fdf\", element=\"01f4f871-d1f0-45fb-a72c-45ee6cb51296\")>,\n",
       " <selenium.webdriver.remote.webelement.WebElement (session=\"a3dbb40a301418b15ed64bf4d2fc5fdf\", element=\"1db17eb3-c577-42b0-8606-a7f529763bc0\")>,\n",
       " <selenium.webdriver.remote.webelement.WebElement (session=\"a3dbb40a301418b15ed64bf4d2fc5fdf\", element=\"e452737d-57e2-4380-bd92-9efa22cc708f\")>,\n",
       " <selenium.webdriver.remote.webelement.WebElement (session=\"a3dbb40a301418b15ed64bf4d2fc5fdf\", element=\"ab5faf13-4e8e-4193-b618-ff5024079a58\")>,\n",
       " <selenium.webdriver.remote.webelement.WebElement (session=\"a3dbb40a301418b15ed64bf4d2fc5fdf\", element=\"2584bd25-0e99-4686-9824-e14b7a58d759\")>,\n",
       " <selenium.webdriver.remote.webelement.WebElement (session=\"a3dbb40a301418b15ed64bf4d2fc5fdf\", element=\"207046e6-5ef7-4673-bad8-60b07324ef6d\")>,\n",
       " <selenium.webdriver.remote.webelement.WebElement (session=\"a3dbb40a301418b15ed64bf4d2fc5fdf\", element=\"e087409a-d18a-42e0-9354-d1154a46fd91\")>,\n",
       " <selenium.webdriver.remote.webelement.WebElement (session=\"a3dbb40a301418b15ed64bf4d2fc5fdf\", element=\"2ac2dc2c-bd5e-464c-8545-63fed8577be4\")>,\n",
       " <selenium.webdriver.remote.webelement.WebElement (session=\"a3dbb40a301418b15ed64bf4d2fc5fdf\", element=\"e2f366d3-5f9d-49ec-a538-93bfa09ed472\")>,\n",
       " <selenium.webdriver.remote.webelement.WebElement (session=\"a3dbb40a301418b15ed64bf4d2fc5fdf\", element=\"ea36cc74-493f-4586-9428-893fe4fa16e5\")>,\n",
       " <selenium.webdriver.remote.webelement.WebElement (session=\"a3dbb40a301418b15ed64bf4d2fc5fdf\", element=\"8a6ae9ed-e847-4dbe-b72a-bb0b6a1e41dc\")>,\n",
       " <selenium.webdriver.remote.webelement.WebElement (session=\"a3dbb40a301418b15ed64bf4d2fc5fdf\", element=\"d2aad79c-c264-4e3f-acee-9046810b7f8c\")>,\n",
       " <selenium.webdriver.remote.webelement.WebElement (session=\"a3dbb40a301418b15ed64bf4d2fc5fdf\", element=\"0f9b216a-eb43-4d00-9c4d-bdf260da27ba\")>,\n",
       " <selenium.webdriver.remote.webelement.WebElement (session=\"a3dbb40a301418b15ed64bf4d2fc5fdf\", element=\"a0ebc721-b628-48e9-9e37-51520b9ad646\")>,\n",
       " <selenium.webdriver.remote.webelement.WebElement (session=\"a3dbb40a301418b15ed64bf4d2fc5fdf\", element=\"ede0e3b0-f2e0-42e8-8568-8b2832f91c99\")>]"
      ]
     },
     "execution_count": 8,
     "metadata": {},
     "output_type": "execute_result"
    }
   ],
   "source": [
    "uploaddate_tags=driver.find_elements_by_xpath(\"//table[@class='wikitable sortable jquery-tablesorter'][1]/tbody/tr/td[5]\")\n",
    "uploaddate_tags"
   ]
  },
  {
   "cell_type": "code",
   "execution_count": 9,
   "metadata": {},
   "outputs": [
    {
     "name": "stdout",
     "output_type": "stream",
     "text": [
      "June 17, 2016\n",
      "January 12, 2017\n",
      "October 8, 2016\n",
      "January 30, 2017\n",
      "April 6, 2015\n",
      "May 2, 2018\n",
      "March 6, 2014\n",
      "November 19, 2014\n",
      "February 27, 2018\n",
      "January 31, 2012\n",
      "July 15, 2012\n",
      "May 24, 2018\n",
      "April 5, 2018\n",
      "January 14, 2015\n",
      "September 5, 2013\n",
      "May 31, 2013\n",
      "October 22, 2015\n",
      "October 7, 2014\n",
      "June 16, 2009\n",
      "May 31, 2018\n",
      "December 3, 2015\n",
      "February 20, 2014\n",
      "June 25, 2018\n",
      "July 25, 2012\n",
      "April 11, 2014\n",
      "March 22, 2015\n",
      "November 9, 2017\n",
      "August 18, 2014\n",
      "June 4, 2010\n",
      "June 29, 2017\n"
     ]
    }
   ],
   "source": [
    "uploaddates=[]\n",
    "for i in uploaddate_tags:\n",
    "    uploaddates.append(i.text)\n",
    "    print(i.text)"
   ]
  },
  {
   "cell_type": "code",
   "execution_count": 10,
   "metadata": {},
   "outputs": [],
   "source": [
    "view=driver.find_elements_by_xpath(\"//table[@class='wikitable sortable jquery-tablesorter'][1]/tbody/tr/td[4]\")\n"
   ]
  },
  {
   "cell_type": "code",
   "execution_count": 11,
   "metadata": {},
   "outputs": [
    {
     "data": {
      "text/plain": [
       "['10.80',\n",
       " '7.87',\n",
       " '6.37',\n",
       " '5.74',\n",
       " '5.54',\n",
       " '5.44',\n",
       " '4.67',\n",
       " '4.60',\n",
       " '4.58',\n",
       " '4.50',\n",
       " '4.45',\n",
       " '4.12',\n",
       " '3.95',\n",
       " '3.71',\n",
       " '3.60',\n",
       " '3.59',\n",
       " '3.55',\n",
       " '3.46',\n",
       " '3.38',\n",
       " '3.30',\n",
       " '3.29',\n",
       " '3.29',\n",
       " '3.26',\n",
       " '3.24',\n",
       " '3.22',\n",
       " '3.22',\n",
       " '3.18',\n",
       " '3.18',\n",
       " '3.16',\n",
       " '3.09']"
      ]
     },
     "execution_count": 11,
     "metadata": {},
     "output_type": "execute_result"
    }
   ],
   "source": [
    "views=[]\n",
    "for i in view:\n",
    "    views.append(i.text)\n",
    "views"
   ]
  },
  {
   "cell_type": "code",
   "execution_count": null,
   "metadata": {},
   "outputs": [],
   "source": []
  }
 ],
 "metadata": {
  "kernelspec": {
   "display_name": "Python 3",
   "language": "python",
   "name": "python3"
  },
  "language_info": {
   "codemirror_mode": {
    "name": "ipython",
    "version": 3
   },
   "file_extension": ".py",
   "mimetype": "text/x-python",
   "name": "python",
   "nbconvert_exporter": "python",
   "pygments_lexer": "ipython3",
   "version": "3.8.5"
  }
 },
 "nbformat": 4,
 "nbformat_minor": 4
}
