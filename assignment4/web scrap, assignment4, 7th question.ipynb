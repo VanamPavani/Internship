{
 "cells": [
  {
   "cell_type": "code",
   "execution_count": 41,
   "metadata": {},
   "outputs": [
    {
     "name": "stdout",
     "output_type": "stream",
     "text": [
      "Requirement already satisfied: selenium in c:\\users\\venkata\\anaconda3\\lib\\site-packages (4.1.3)\n",
      "Requirement already satisfied: trio-websocket~=0.9 in c:\\users\\venkata\\anaconda3\\lib\\site-packages (from selenium) (0.9.2)\n",
      "Requirement already satisfied: trio~=0.17 in c:\\users\\venkata\\anaconda3\\lib\\site-packages (from selenium) (0.20.0)\n",
      "Requirement already satisfied: urllib3[secure,socks]~=1.26 in c:\\users\\venkata\\anaconda3\\lib\\site-packages (from selenium) (1.26.9)\n",
      "Requirement already satisfied: wsproto>=0.14 in c:\\users\\venkata\\anaconda3\\lib\\site-packages (from trio-websocket~=0.9->selenium) (1.1.0)\n",
      "Requirement already satisfied: async-generator>=1.10 in c:\\users\\venkata\\anaconda3\\lib\\site-packages (from trio-websocket~=0.9->selenium) (1.10)\n",
      "Requirement already satisfied: cffi>=1.14; os_name == \"nt\" and implementation_name != \"pypy\" in c:\\users\\venkata\\anaconda3\\lib\\site-packages (from trio~=0.17->selenium) (1.14.3)\n",
      "Requirement already satisfied: sniffio in c:\\users\\venkata\\anaconda3\\lib\\site-packages (from trio~=0.17->selenium) (1.2.0)\n",
      "Requirement already satisfied: attrs>=19.2.0 in c:\\users\\venkata\\anaconda3\\lib\\site-packages (from trio~=0.17->selenium) (20.3.0)\n",
      "Requirement already satisfied: idna in c:\\users\\venkata\\anaconda3\\lib\\site-packages (from trio~=0.17->selenium) (2.10)\n",
      "Requirement already satisfied: outcome in c:\\users\\venkata\\anaconda3\\lib\\site-packages (from trio~=0.17->selenium) (1.1.0)\n",
      "Requirement already satisfied: sortedcontainers in c:\\users\\venkata\\anaconda3\\lib\\site-packages (from trio~=0.17->selenium) (2.2.2)\n",
      "Requirement already satisfied: certifi; extra == \"secure\" in c:\\users\\venkata\\anaconda3\\lib\\site-packages (from urllib3[secure,socks]~=1.26->selenium) (2020.6.20)\n",
      "Requirement already satisfied: pyOpenSSL>=0.14; extra == \"secure\" in c:\\users\\venkata\\anaconda3\\lib\\site-packages (from urllib3[secure,socks]~=1.26->selenium) (19.1.0)\n",
      "Requirement already satisfied: cryptography>=1.3.4; extra == \"secure\" in c:\\users\\venkata\\anaconda3\\lib\\site-packages (from urllib3[secure,socks]~=1.26->selenium) (3.1.1)\n",
      "Requirement already satisfied: PySocks!=1.5.7,<2.0,>=1.5.6; extra == \"socks\" in c:\\users\\venkata\\anaconda3\\lib\\site-packages (from urllib3[secure,socks]~=1.26->selenium) (1.7.1)\n",
      "Requirement already satisfied: h11<1,>=0.9.0 in c:\\users\\venkata\\anaconda3\\lib\\site-packages (from wsproto>=0.14->trio-websocket~=0.9->selenium) (0.13.0)\n",
      "Requirement already satisfied: pycparser in c:\\users\\venkata\\anaconda3\\lib\\site-packages (from cffi>=1.14; os_name == \"nt\" and implementation_name != \"pypy\"->trio~=0.17->selenium) (2.20)\n",
      "Requirement already satisfied: six>=1.5.2 in c:\\users\\venkata\\anaconda3\\lib\\site-packages (from pyOpenSSL>=0.14; extra == \"secure\"->urllib3[secure,socks]~=1.26->selenium) (1.15.0)\n"
     ]
    }
   ],
   "source": [
    "!pip install selenium"
   ]
  },
  {
   "cell_type": "code",
   "execution_count": 42,
   "metadata": {},
   "outputs": [],
   "source": [
    "import selenium\n",
    "import pandas as pd\n",
    "import time\n",
    "from selenium import webdriver\n",
    "import warnings\n",
    "warnings.filterwarnings('ignore')\n",
    "from selenium.common.exceptions import NoSuchElementException\n",
    "from selenium.webdriver.support.ui import WebDriverWait\n",
    "from selenium.webdriver.support import expected_conditions as EC\n",
    "from selenium.webdriver.common.by import By"
   ]
  },
  {
   "cell_type": "code",
   "execution_count": 43,
   "metadata": {},
   "outputs": [],
   "source": [
    "driver = webdriver.Chrome(r\"C:\\Users\\Venkata\\Downloads\\chromedriver_win32 (1)\\chromedriver.exe\")"
   ]
  },
  {
   "cell_type": "code",
   "execution_count": 44,
   "metadata": {},
   "outputs": [],
   "source": [
    "driver.get('https://www.naukri.com/naukri-dot-com-recruiters')\n",
    "time.sleep(10)\n"
   ]
  },
  {
   "cell_type": "code",
   "execution_count": 45,
   "metadata": {},
   "outputs": [],
   "source": [
    "search_field=driver.find_element_by_xpath(\"/html/body/div[2]/div[2]/div[2]/div/form/div[1]/div/div[1]/div[1]/div[2]/input\")\n",
    "search_field.send_keys(\"Data science\")\n",
    "search_field.click()"
   ]
  },
  {
   "cell_type": "code",
   "execution_count": 46,
   "metadata": {},
   "outputs": [],
   "source": [
    "search_button=driver.find_element_by_xpath(\"/html/body/div[2]/div[2]/div[2]/div/form/div[1]/button\")\n",
    "search_button.click()"
   ]
  },
  {
   "cell_type": "code",
   "execution_count": 47,
   "metadata": {},
   "outputs": [],
   "source": [
    "name_tags=driver.find_elements_by_xpath(\"//span[@class='fl ellipsis']\")\n"
   ]
  },
  {
   "cell_type": "code",
   "execution_count": 48,
   "metadata": {},
   "outputs": [
    {
     "data": {
      "text/plain": [
       "['Aakash Harit',\n",
       " 'shravan Kumar Gaddam',\n",
       " 'MARSIAN Technologies LLP',\n",
       " 'Anik Agrawal',\n",
       " 'subhas patel',\n",
       " 'Abhishek - Only Analytics Hiring - India and',\n",
       " 'Institute for Financial Management and Resear',\n",
       " 'Priyanka Akiri',\n",
       " 'Kalpana Dumpala',\n",
       " 'Balu Ramesh',\n",
       " 'Mubarak',\n",
       " 'Kushal Rastogi',\n",
       " 'Mahesh Babu Channa',\n",
       " 'Kapil Devang',\n",
       " 'Sakshi Chhikara',\n",
       " 'Ruchi Dhote',\n",
       " 'Manisha Yadav',\n",
       " 'Riya Rajesh',\n",
       " 'Rashmi Bhattacharjee',\n",
       " 'Manjunathan D',\n",
       " 'Faizan Kareem',\n",
       " 'Rithika dadwal',\n",
       " 'Sandhya Khandagale',\n",
       " 'Shaun Rao',\n",
       " 'Azahar Shaikh',\n",
       " 'Asif Lucknowi',\n",
       " 'Manas',\n",
       " 'kumar',\n",
       " 'Sunil Vedula',\n",
       " 'Rajat Kumar',\n",
       " 'Dhruv Dev Dubey',\n",
       " 'Jayanth N',\n",
       " 'Avodha',\n",
       " 'Priya Khare',\n",
       " 'Amit Sharma',\n",
       " 'Kanan',\n",
       " 'Shashikant Chaudhary',\n",
       " 'Brad',\n",
       " 'Rutuja Pawar',\n",
       " 'Madhusudhan Sridhar',\n",
       " 'Ankit Sinha',\n",
       " 'Gaurav Chouhan',\n",
       " 'Rashi Kacker',\n",
       " 'Ashwini',\n",
       " 'Balaji Kolli',\n",
       " 'Rajani Nagaraj',\n",
       " 'ROHIT Kumar',\n",
       " 'Amir Chowdhury',\n",
       " 'Ravi Dubey',\n",
       " 'Sunny Sharma']"
      ]
     },
     "execution_count": 48,
     "metadata": {},
     "output_type": "execute_result"
    }
   ],
   "source": [
    "names=[]\n",
    "for i in name_tags:\n",
    "    names.append(i.text)\n",
    "names"
   ]
  },
  {
   "cell_type": "code",
   "execution_count": 49,
   "metadata": {},
   "outputs": [],
   "source": [
    "designation_tags=driver.find_elements_by_xpath(\"//span[@class='ellipsis clr']\")\n"
   ]
  },
  {
   "cell_type": "code",
   "execution_count": 50,
   "metadata": {},
   "outputs": [
    {
     "data": {
      "text/plain": [
       "['HR Manager',\n",
       " 'Company Recruiter',\n",
       " 'Company HR',\n",
       " 'Company Recruiter',\n",
       " 'Founder CEO',\n",
       " 'Recruitment Lead Consultant',\n",
       " 'Programme Manager',\n",
       " 'HR Manager',\n",
       " 'Executive Hiring',\n",
       " 'HR Administrator',\n",
       " 'Company HR',\n",
       " 'Company HR',\n",
       " 'HR Team Lead',\n",
       " 'HR Manager',\n",
       " 'Assistant Manager HR',\n",
       " 'Senior Executive Talent Acquisition',\n",
       " 'HR Executive',\n",
       " 'Manager Talent Acquisition',\n",
       " 'HR Head',\n",
       " 'IT Recruiter',\n",
       " 'HR MANAGER',\n",
       " 'HR Recruiter',\n",
       " 'HR Recruiter',\n",
       " 'Manager Human Resources',\n",
       " 'Company Recruiter',\n",
       " 'Director',\n",
       " 'Lead Talent acquisition',\n",
       " 'Proprietor',\n",
       " 'CEO',\n",
       " 'Founder CEO',\n",
       " 'Company Recruitment Head',\n",
       " 'Project Manager',\n",
       " 'Business Development Associate',\n",
       " 'Senior Manager',\n",
       " 'Consultant',\n",
       " 'senior technology instructor',\n",
       " 'HR Recruiter/HR Excutive',\n",
       " 'Manager, Technical Recruiting',\n",
       " 'Technical Recruiter',\n",
       " 'Erp Implementer',\n",
       " 'Head Analytics',\n",
       " 'Chief Technical Officer',\n",
       " 'Sr Product Manager',\n",
       " 'Director Global Delivery',\n",
       " 'Co Founder',\n",
       " 'HR Manager',\n",
       " 'Architect',\n",
       " 'Managing Partner',\n",
       " 'Recruitment Manager',\n",
       " 'Managing Director - HR']"
      ]
     },
     "execution_count": 50,
     "metadata": {},
     "output_type": "execute_result"
    }
   ],
   "source": [
    "designations=[]\n",
    "for i in designation_tags:\n",
    "    designations.append(i.text)\n",
    "designations\n",
    "    "
   ]
  },
  {
   "cell_type": "code",
   "execution_count": 53,
   "metadata": {},
   "outputs": [
    {
     "data": {
      "text/plain": [
       "['Data Science Network',\n",
       " 'Shore Infotech India Pvt. Ltd',\n",
       " 'MARSIAN Technologies LLP',\n",
       " 'Enerlytics Software Solutions Pvt Ltd',\n",
       " 'LibraryXProject',\n",
       " 'Apidel Technologies Division of Transpower',\n",
       " 'IFMR',\n",
       " 'Infinitive Software Solutions',\n",
       " 'Innominds Software',\n",
       " 'Techvantage Systems Pvt Ltd',\n",
       " 'MoneyTap',\n",
       " 'QuantMagnum Technologies Pvt. Ltd.',\n",
       " 'SocialPrachar.com',\n",
       " 'BISP Solutions',\n",
       " 'BIZ INFOTECNO PRIVATE LIMITED',\n",
       " 'Bristlecone India Ltd',\n",
       " 'Easi Tax',\n",
       " 'Novelworx Digital Solutions',\n",
       " 'AXESTRACK SOFTWARE SOLUTIONS PRIVATE...',\n",
       " 'SFJ Business Solutions Pvt Ltd',\n",
       " 'FirstTech Consaltants Pvt.Ltd',\n",
       " 'Affine Analytics',\n",
       " 'Compumatrice Multimedia Pvt Ltd',\n",
       " 'Exela Technologies',\n",
       " 'NEAL ANALYTICS SERVICES PVT LTD',\n",
       " 'Weupskill- Live Wire India',\n",
       " 'Autumn Leaf Consulting Services Private...',\n",
       " 'trainin',\n",
       " 'Nanoprecise Sci Corp',\n",
       " 'R.S Consultancy &amp; Services',\n",
       " 'Confidential',\n",
       " 'Dollarbird Information Services Pvt, Ltd',\n",
       " 'Nikitha Palaparthi',\n",
       " 'Independent Consultant',\n",
       " 'ASCO consulting',\n",
       " 'NY INST',\n",
       " '3D India Staffing Research &amp; Consulting...',\n",
       " 'O.C. Tanner',\n",
       " 'Demand Matrix',\n",
       " 'MADHUSUDHAN SRIDHAR',\n",
       " 'Suntech Global',\n",
       " 'Strategic Consulting Lab',\n",
       " 'Impel Labs Pvt. Ltd.',\n",
       " 'MRP Advisers',\n",
       " 'Saras Solutions India Pvt Ltd',\n",
       " 'WildJasmine',\n",
       " 'LNT Private Limited',\n",
       " 'Granular.ai',\n",
       " 'HyrEzy Talent Solutions LLP',\n",
       " 'Western Service Providers']"
      ]
     },
     "execution_count": 53,
     "metadata": {},
     "output_type": "execute_result"
    }
   ],
   "source": [
    "company_tags=driver.find_elements_by_xpath(\"//p[@class='highlightable']/a[2]\")\n",
    "companies=[]\n",
    "for i in company_tags:\n",
    "    companies.append(i.text)\n",
    "\n",
    "companies\n",
    "    "
   ]
  },
  {
   "cell_type": "code",
   "execution_count": 56,
   "metadata": {},
   "outputs": [
    {
     "data": {
      "text/plain": [
       "['Delhi',\n",
       " 'Hyderabad / Secunderabad',\n",
       " 'Pune',\n",
       " 'Ahmedabad',\n",
       " 'UK - (london)',\n",
       " 'Vadodara / Baroda',\n",
       " 'Chennai',\n",
       " 'Hyderabad',\n",
       " 'Hyderabad / Secunderabad',\n",
       " 'Trivandrum',\n",
       " 'Bengaluru / Bangalore',\n",
       " 'Mumbai',\n",
       " 'Hyderabad / Secunderabad',\n",
       " 'Bhopal',\n",
       " 'Chandigarh',\n",
       " 'Pune',\n",
       " 'Navi Mumbai',\n",
       " 'Cochin',\n",
       " 'Delhi',\n",
       " 'Bengaluru / Bangalore',\n",
       " 'Hyderabad / Secunderabad',\n",
       " 'Pune',\n",
       " 'Pune',\n",
       " 'Pune',\n",
       " 'Pune',\n",
       " 'Indore',\n",
       " 'Bengaluru / Bangalore',\n",
       " 'Bengaluru / Bangalore',\n",
       " 'Delhi',\n",
       " 'Bengaluru / Bangalore',\n",
       " 'Mysoru / Mysore',\n",
       " 'Hyderabad / Secunderabad',\n",
       " 'Bengaluru / Bangalore',\n",
       " 'New Delhi',\n",
       " 'Chennai',\n",
       " 'Aligarh',\n",
       " 'Salt Lake City',\n",
       " 'Pune',\n",
       " 'Bengaluru / Bangalore',\n",
       " 'Mumbai',\n",
       " 'Indore',\n",
       " 'Bengaluru / Bangalore',\n",
       " 'MYSORE',\n",
       " 'Hyderabad / Secunderabad',\n",
       " 'Bengaluru / Bangalore',\n",
       " 'Mumbai',\n",
       " 'Ghaziabad',\n",
       " 'Mumbai']"
      ]
     },
     "execution_count": 56,
     "metadata": {},
     "output_type": "execute_result"
    }
   ],
   "source": [
    "location=driver.find_elements_by_xpath(\"//small[@class='ellipsis']\")\n",
    "locations=[]\n",
    "for i in location:\n",
    "    locations.append(i.text)\n",
    "locations"
   ]
  },
  {
   "cell_type": "code",
   "execution_count": null,
   "metadata": {},
   "outputs": [],
   "source": []
  }
 ],
 "metadata": {
  "kernelspec": {
   "display_name": "Python 3",
   "language": "python",
   "name": "python3"
  },
  "language_info": {
   "codemirror_mode": {
    "name": "ipython",
    "version": 3
   },
   "file_extension": ".py",
   "mimetype": "text/x-python",
   "name": "python",
   "nbconvert_exporter": "python",
   "pygments_lexer": "ipython3",
   "version": "3.8.5"
  }
 },
 "nbformat": 4,
 "nbformat_minor": 4
}
