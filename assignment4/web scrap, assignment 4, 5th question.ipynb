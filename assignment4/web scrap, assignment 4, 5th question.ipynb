{
 "cells": [
  {
   "cell_type": "code",
   "execution_count": 101,
   "metadata": {},
   "outputs": [
    {
     "name": "stdout",
     "output_type": "stream",
     "text": [
      "Requirement already satisfied: selenium in c:\\users\\venkata\\anaconda3\\lib\\site-packages (4.1.3)\n",
      "Requirement already satisfied: trio-websocket~=0.9 in c:\\users\\venkata\\anaconda3\\lib\\site-packages (from selenium) (0.9.2)\n",
      "Requirement already satisfied: trio~=0.17 in c:\\users\\venkata\\anaconda3\\lib\\site-packages (from selenium) (0.20.0)\n",
      "Requirement already satisfied: urllib3[secure,socks]~=1.26 in c:\\users\\venkata\\anaconda3\\lib\\site-packages (from selenium) (1.26.9)\n",
      "Requirement already satisfied: async-generator>=1.10 in c:\\users\\venkata\\anaconda3\\lib\\site-packages (from trio-websocket~=0.9->selenium) (1.10)\n",
      "Requirement already satisfied: wsproto>=0.14 in c:\\users\\venkata\\anaconda3\\lib\\site-packages (from trio-websocket~=0.9->selenium) (1.1.0)\n",
      "Requirement already satisfied: sortedcontainers in c:\\users\\venkata\\anaconda3\\lib\\site-packages (from trio~=0.17->selenium) (2.2.2)\n",
      "Requirement already satisfied: cffi>=1.14; os_name == \"nt\" and implementation_name != \"pypy\" in c:\\users\\venkata\\anaconda3\\lib\\site-packages (from trio~=0.17->selenium) (1.14.3)\n",
      "Requirement already satisfied: idna in c:\\users\\venkata\\anaconda3\\lib\\site-packages (from trio~=0.17->selenium) (2.10)\n",
      "Requirement already satisfied: sniffio in c:\\users\\venkata\\anaconda3\\lib\\site-packages (from trio~=0.17->selenium) (1.2.0)\n",
      "Requirement already satisfied: attrs>=19.2.0 in c:\\users\\venkata\\anaconda3\\lib\\site-packages (from trio~=0.17->selenium) (20.3.0)\n",
      "Requirement already satisfied: outcome in c:\\users\\venkata\\anaconda3\\lib\\site-packages (from trio~=0.17->selenium) (1.1.0)\n",
      "Requirement already satisfied: cryptography>=1.3.4; extra == \"secure\" in c:\\users\\venkata\\anaconda3\\lib\\site-packages (from urllib3[secure,socks]~=1.26->selenium) (3.1.1)\n",
      "Requirement already satisfied: pyOpenSSL>=0.14; extra == \"secure\" in c:\\users\\venkata\\anaconda3\\lib\\site-packages (from urllib3[secure,socks]~=1.26->selenium) (19.1.0)\n",
      "Requirement already satisfied: certifi; extra == \"secure\" in c:\\users\\venkata\\anaconda3\\lib\\site-packages (from urllib3[secure,socks]~=1.26->selenium) (2020.6.20)\n",
      "Requirement already satisfied: PySocks!=1.5.7,<2.0,>=1.5.6; extra == \"socks\" in c:\\users\\venkata\\anaconda3\\lib\\site-packages (from urllib3[secure,socks]~=1.26->selenium) (1.7.1)\n",
      "Requirement already satisfied: h11<1,>=0.9.0 in c:\\users\\venkata\\anaconda3\\lib\\site-packages (from wsproto>=0.14->trio-websocket~=0.9->selenium) (0.13.0)\n",
      "Requirement already satisfied: pycparser in c:\\users\\venkata\\anaconda3\\lib\\site-packages (from cffi>=1.14; os_name == \"nt\" and implementation_name != \"pypy\"->trio~=0.17->selenium) (2.20)\n",
      "Requirement already satisfied: six>=1.4.1 in c:\\users\\venkata\\anaconda3\\lib\\site-packages (from cryptography>=1.3.4; extra == \"secure\"->urllib3[secure,socks]~=1.26->selenium) (1.15.0)\n"
     ]
    }
   ],
   "source": [
    "!pip install selenium"
   ]
  },
  {
   "cell_type": "code",
   "execution_count": 102,
   "metadata": {},
   "outputs": [],
   "source": [
    "import selenium\n",
    "import pandas as pd\n",
    "import time\n",
    "from selenium import webdriver\n",
    "import warnings\n",
    "warnings.filterwarnings('ignore')\n",
    "from selenium.common.exceptions import NoSuchElementException\n",
    "from selenium.webdriver.support.ui import WebDriverWait\n",
    "from selenium.webdriver.support import expected_conditions as EC\n",
    "from selenium.webdriver.common.by import By\n",
    "from selenium.webdriver.common.action_chains import ActionChains"
   ]
  },
  {
   "cell_type": "code",
   "execution_count": 103,
   "metadata": {},
   "outputs": [],
   "source": [
    "driver = webdriver.Chrome(r\"C:\\Users\\Venkata\\Downloads\\chromedriver_win32 (1)\\chromedriver.exe\")"
   ]
  },
  {
   "cell_type": "code",
   "execution_count": 104,
   "metadata": {},
   "outputs": [],
   "source": [
    "driver.get('https://github.com/')\n",
    "time.sleep(2)"
   ]
  },
  {
   "cell_type": "code",
   "execution_count": 105,
   "metadata": {},
   "outputs": [],
   "source": [
    "element_to_hover_over = driver.find_element_by_xpath(\"/html/body/div[1]/header/div/div[2]/nav/ul/li[4]\")"
   ]
  },
  {
   "cell_type": "code",
   "execution_count": 106,
   "metadata": {},
   "outputs": [],
   "source": [
    "element_to_hover_over.click()\n",
    "time.sleep(2)"
   ]
  },
  {
   "cell_type": "code",
   "execution_count": 107,
   "metadata": {},
   "outputs": [],
   "source": [
    "#ActionChains(driver).move_to_element(element_to_hover_over).perform()"
   ]
  },
  {
   "cell_type": "code",
   "execution_count": 108,
   "metadata": {},
   "outputs": [],
   "source": [
    "driver.find_element_by_xpath(\"/html/body/div[1]/header/div/div[2]/nav/ul/li[4]/details/div/ul/li[5]/a\").click()\n",
    "time.sleep(2)"
   ]
  },
  {
   "cell_type": "code",
   "execution_count": 109,
   "metadata": {},
   "outputs": [],
   "source": [
    "#childrend_by_css = el.find_elements_by_css_selector(\"d-inline-block\")\n",
    "# By css selector:\n",
    "#childrend_by_css = el.find_elements_by_css_selector(\"*\")\n",
    "#By xpath:\n",
    "#childrend_by_xpath = el.find_elements_by_xpath(\".//*\")\n",
    "\n",
    "\n"
   ]
  },
  {
   "cell_type": "code",
   "execution_count": 110,
   "metadata": {},
   "outputs": [
    {
     "data": {
      "text/plain": [
       "[5, 5, 5, 5, 5, 5, 2, 5, 5, 5, 5, 1, 3, 5, 5, 3, 5, 5, 3, 5, 5, 5, 5, 5, 5]"
      ]
     },
     "execution_count": 110,
     "metadata": {},
     "output_type": "execute_result"
    }
   ],
   "source": [
    "elements_tags=driver.find_elements_by_xpath(\"//span[@class='d-inline-block mr-3']\")\n",
    "contributor_count=[]\n",
    "for i in elements_tags:\n",
    "    childrend_by_css = i.find_elements_by_css_selector(\"*\")\n",
    "    contributor_count.append(int(len(childrend_by_css)/2))\n",
    "contributor_count"
   ]
  },
  {
   "cell_type": "code",
   "execution_count": 111,
   "metadata": {},
   "outputs": [],
   "source": [
    "repositoryname=driver.find_elements_by_xpath(\"//h1[@class='h3 lh-condensed']\")"
   ]
  },
  {
   "cell_type": "code",
   "execution_count": 112,
   "metadata": {},
   "outputs": [
    {
     "data": {
      "text/plain": [
       "['open-goal / jak-project',\n",
       " 'ToolJet / ToolJet',\n",
       " 'spacedriveapp / spacedrive',\n",
       " 'free-audio / clap',\n",
       " 'adiwajshing / Baileys',\n",
       " 'rustdesk / rustdesk',\n",
       " 'midoks / mdserver-web',\n",
       " 'Grasscutters / Grasscutter',\n",
       " 'tauri-apps / tauri',\n",
       " 'codecrafters-io / build-your-own-x',\n",
       " 'lucacasonato / fresh',\n",
       " 'n3r4zzurr0 / svg-spinners',\n",
       " 'alibaba / IOC-golang',\n",
       " 'EbookFoundation / free-programming-books',\n",
       " 'Tencent / spring-cloud-tencent',\n",
       " 'Minqi824 / ADBench',\n",
       " 'sogou / workflow',\n",
       " 'microsoft / BotBuilder-Samples',\n",
       " 'GitHubDaily / GitHubDaily',\n",
       " 'stephencelis / SQLite.swift',\n",
       " 'runelite / runelite',\n",
       " 'csteinmetz1 / ai-audio-startups',\n",
       " 'elastic / eui',\n",
       " 'tauri-apps / tao',\n",
       " 'Asabeneh / 30-Days-Of-JavaScript']"
      ]
     },
     "execution_count": 112,
     "metadata": {},
     "output_type": "execute_result"
    }
   ],
   "source": [
    "repositorynames=[]\n",
    "for i in repositoryname:\n",
    "    repositorynames.append(i.text)\n",
    "repositorynames"
   ]
  },
  {
   "cell_type": "code",
   "execution_count": 113,
   "metadata": {},
   "outputs": [
    {
     "data": {
      "text/plain": [
       "['Reviving the language that brought us the Jak & Daxter Series',\n",
       " 'Extensible low-code framework for building business applications. Connect to databases, cloud storages, GraphQL, API endpoints, Airtable, etc and build apps using drag and drop application builder. Built using JavaScript/TypeScript. 🚀',\n",
       " 'Spacedrive is an open source cross-platform file explorer, powered by a virtual distributed filesystem written in Rust.',\n",
       " 'Audio Plugin API',\n",
       " 'Lightweight full-featured WhatsApp Web + Multi-Device API',\n",
       " 'Open source virtual / remote desktop infrastructure for everyone! The open source TeamViewer alternative. Display and control your PC and Android devices.',\n",
       " 'Simple Linux Panel',\n",
       " 'A server software reimplementation for a certain anime game.',\n",
       " 'Build smaller, faster, and more secure desktop applications with a web frontend.',\n",
       " 'Master programming by recreating your favorite technologies from scratch.',\n",
       " 'Preact, but super edgy',\n",
       " 'A collection of 24 x 24 dp SVG spinners!',\n",
       " '一款服务于 Go 开发者的依赖注入框架，方便搭建任何 Go 应用。 A Golang depenedency injection framework, helps developers to build any go application.',\n",
       " '📚 Freely available programming books',\n",
       " 'Spring Cloud Tencent is a Spring Boot based Service Governance Framework provided by Tencent, including service discovery, traffic control, circuitbreak, ratelimit, config and so on.',\n",
       " 'Official Implement of \"ADBench: Anomaly Detection Benchmark\".',\n",
       " 'C++ Parallel Computing and Asynchronous Networking Engine',\n",
       " 'Welcome to the Bot Framework samples repository. Here you will find task-focused samples in C#, JavaScript and TypeScript to help you get started with the Bot Framework SDK!',\n",
       " '坚持分享 GitHub 上高质量、有趣实用的开源技术教程、开发者工具、编程网站、技术资讯。A list cool, interesting projects of GitHub.',\n",
       " 'A type-safe, Swift-language layer over SQLite3.',\n",
       " 'Open source Old School RuneScape client',\n",
       " 'Community list of startups working with AI in audio and music technology',\n",
       " 'Elastic UI Framework 🙌',\n",
       " 'The TAO of cross-platform windowing. A library in Rust built for Tauri.',\n",
       " '30 days of JavaScript programming challenge is a step-by-step guide to learn JavaScript programming language in 30 days. This challenge may take more than 100 days, please just follow your own pace.']"
      ]
     },
     "execution_count": 113,
     "metadata": {},
     "output_type": "execute_result"
    }
   ],
   "source": [
    "description=driver.find_elements_by_xpath(\"//p[@class='col-9 color-fg-muted my-1 pr-4']\")\n",
    "descriptions=[]\n",
    "for i in description:\n",
    "    descriptions.append(i.text)\n",
    "descriptions"
   ]
  },
  {
   "cell_type": "code",
   "execution_count": 114,
   "metadata": {},
   "outputs": [],
   "source": [
    "language=driver.find_elements_by_xpath(\"//span[@itemprop='programmingLanguage']\")"
   ]
  },
  {
   "cell_type": "code",
   "execution_count": 115,
   "metadata": {},
   "outputs": [
    {
     "data": {
      "text/plain": [
       "['Common Lisp',\n",
       " 'JavaScript',\n",
       " 'TypeScript',\n",
       " 'C',\n",
       " 'JavaScript',\n",
       " 'Rust',\n",
       " 'JavaScript',\n",
       " 'Java',\n",
       " 'Rust',\n",
       " 'TypeScript',\n",
       " 'SVG',\n",
       " 'Go',\n",
       " 'Java',\n",
       " 'Python',\n",
       " 'C++',\n",
       " 'JavaScript',\n",
       " 'Swift',\n",
       " 'Java',\n",
       " 'TypeScript',\n",
       " 'Rust',\n",
       " 'JavaScript']"
      ]
     },
     "execution_count": 115,
     "metadata": {},
     "output_type": "execute_result"
    }
   ],
   "source": [
    "languages=[]\n",
    "for i in language:\n",
    "    languages.append(i.text)\n",
    "languages"
   ]
  },
  {
   "cell_type": "code",
   "execution_count": null,
   "metadata": {},
   "outputs": [],
   "source": []
  }
 ],
 "metadata": {
  "kernelspec": {
   "display_name": "Python 3",
   "language": "python",
   "name": "python3"
  },
  "language_info": {
   "codemirror_mode": {
    "name": "ipython",
    "version": 3
   },
   "file_extension": ".py",
   "mimetype": "text/x-python",
   "name": "python",
   "nbconvert_exporter": "python",
   "pygments_lexer": "ipython3",
   "version": "3.8.5"
  }
 },
 "nbformat": 4,
 "nbformat_minor": 4
}
