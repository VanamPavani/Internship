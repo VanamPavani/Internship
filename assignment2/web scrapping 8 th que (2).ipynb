{
 "cells": [
  {
   "cell_type": "code",
   "execution_count": 95,
   "metadata": {},
   "outputs": [
    {
     "name": "stdout",
     "output_type": "stream",
     "text": [
      "Requirement already satisfied: selenium in c:\\users\\venkata\\anaconda3\\lib\\site-packages (4.1.3)\n",
      "Requirement already satisfied: trio-websocket~=0.9 in c:\\users\\venkata\\anaconda3\\lib\\site-packages (from selenium) (0.9.2)\n",
      "Requirement already satisfied: trio~=0.17 in c:\\users\\venkata\\anaconda3\\lib\\site-packages (from selenium) (0.20.0)\n",
      "Requirement already satisfied: urllib3[secure,socks]~=1.26 in c:\\users\\venkata\\anaconda3\\lib\\site-packages (from selenium) (1.26.9)\n",
      "Requirement already satisfied: async-generator>=1.10 in c:\\users\\venkata\\anaconda3\\lib\\site-packages (from trio-websocket~=0.9->selenium) (1.10)\n",
      "Requirement already satisfied: wsproto>=0.14 in c:\\users\\venkata\\anaconda3\\lib\\site-packages (from trio-websocket~=0.9->selenium) (1.1.0)\n",
      "Requirement already satisfied: outcome in c:\\users\\venkata\\anaconda3\\lib\\site-packages (from trio~=0.17->selenium) (1.1.0)\n",
      "Requirement already satisfied: idna in c:\\users\\venkata\\anaconda3\\lib\\site-packages (from trio~=0.17->selenium) (2.10)\n",
      "Requirement already satisfied: sortedcontainers in c:\\users\\venkata\\anaconda3\\lib\\site-packages (from trio~=0.17->selenium) (2.2.2)\n",
      "Requirement already satisfied: cffi>=1.14; os_name == \"nt\" and implementation_name != \"pypy\" in c:\\users\\venkata\\anaconda3\\lib\\site-packages (from trio~=0.17->selenium) (1.14.3)\n",
      "Requirement already satisfied: sniffio in c:\\users\\venkata\\anaconda3\\lib\\site-packages (from trio~=0.17->selenium) (1.2.0)\n",
      "Requirement already satisfied: attrs>=19.2.0 in c:\\users\\venkata\\anaconda3\\lib\\site-packages (from trio~=0.17->selenium) (20.3.0)\n",
      "Requirement already satisfied: pyOpenSSL>=0.14; extra == \"secure\" in c:\\users\\venkata\\anaconda3\\lib\\site-packages (from urllib3[secure,socks]~=1.26->selenium) (19.1.0)\n",
      "Requirement already satisfied: cryptography>=1.3.4; extra == \"secure\" in c:\\users\\venkata\\anaconda3\\lib\\site-packages (from urllib3[secure,socks]~=1.26->selenium) (3.1.1)\n",
      "Requirement already satisfied: certifi; extra == \"secure\" in c:\\users\\venkata\\anaconda3\\lib\\site-packages (from urllib3[secure,socks]~=1.26->selenium) (2020.6.20)\n",
      "Requirement already satisfied: PySocks!=1.5.7,<2.0,>=1.5.6; extra == \"socks\" in c:\\users\\venkata\\anaconda3\\lib\\site-packages (from urllib3[secure,socks]~=1.26->selenium) (1.7.1)\n",
      "Requirement already satisfied: h11<1,>=0.9.0 in c:\\users\\venkata\\anaconda3\\lib\\site-packages (from wsproto>=0.14->trio-websocket~=0.9->selenium) (0.13.0)\n",
      "Requirement already satisfied: pycparser in c:\\users\\venkata\\anaconda3\\lib\\site-packages (from cffi>=1.14; os_name == \"nt\" and implementation_name != \"pypy\"->trio~=0.17->selenium) (2.20)\n",
      "Requirement already satisfied: six>=1.5.2 in c:\\users\\venkata\\anaconda3\\lib\\site-packages (from pyOpenSSL>=0.14; extra == \"secure\"->urllib3[secure,socks]~=1.26->selenium) (1.15.0)\n"
     ]
    }
   ],
   "source": [
    "!pip install selenium"
   ]
  },
  {
   "cell_type": "code",
   "execution_count": 96,
   "metadata": {},
   "outputs": [],
   "source": [
    "import selenium\n",
    "import pandas as pd\n",
    "import time\n",
    "from selenium import webdriver\n",
    "import warnings\n",
    "warnings.filterwarnings('ignore')"
   ]
  },
  {
   "cell_type": "code",
   "execution_count": 97,
   "metadata": {},
   "outputs": [],
   "source": [
    "driver = webdriver.Chrome(r\"C:\\Users\\Venkata\\Downloads\\chromedriver_win32\\chromedriver.exe\")"
   ]
  },
  {
   "cell_type": "code",
   "execution_count": 98,
   "metadata": {},
   "outputs": [],
   "source": [
    "driver=webdriver.Chrome(\"chromedriver.exe\")\n",
    "time.sleep(2)"
   ]
  },
  {
   "cell_type": "code",
   "execution_count": 99,
   "metadata": {},
   "outputs": [],
   "source": [
    "driver.get('https://www.amazon.in/')\n",
    "time.sleep(10)"
   ]
  },
  {
   "cell_type": "code",
   "execution_count": 100,
   "metadata": {},
   "outputs": [],
   "source": [
    "time.sleep(20)\n",
    "search_field_designation=driver.find_element_by_id(\"twotabsearchtextbox\")\n",
    "search_field_designation.send_keys(\"Laptop\")"
   ]
  },
  {
   "cell_type": "code",
   "execution_count": 101,
   "metadata": {},
   "outputs": [],
   "source": [
    "search_button=driver.find_element_by_id(\"nav-search-submit-button\")\n",
    "search_button.click()"
   ]
  },
  {
   "cell_type": "code",
   "execution_count": 102,
   "metadata": {},
   "outputs": [],
   "source": [
    "time.sleep(10)\n",
    "driver.refresh()\n",
    "#IntelCore i7\n",
    "checkCPU_Type = driver.find_element_by_xpath('/html/body/div[1]/div[2]/div[1]/div[2]/div/div[3]/span/div[1]/div/div/div[5]/ul[4]/li[12]/span/a/div')\n",
    "checkCPU_Type.click();"
   ]
  },
  {
   "cell_type": "code",
   "execution_count": 103,
   "metadata": {},
   "outputs": [],
   "source": [
    "titles=[]\n",
    "price=[]\n",
    "rating=[]"
   ]
  },
  {
   "cell_type": "code",
   "execution_count": 104,
   "metadata": {},
   "outputs": [
    {
     "data": {
      "text/plain": [
       "[<selenium.webdriver.remote.webelement.WebElement (session=\"3ed769d1cc41153e00d009fd0158c8ba\", element=\"0982690c-5e07-4f6c-b30a-7c6bffb7d384\")>,\n",
       " <selenium.webdriver.remote.webelement.WebElement (session=\"3ed769d1cc41153e00d009fd0158c8ba\", element=\"cf194b05-c51f-4210-ab23-4d754f5c8c90\")>,\n",
       " <selenium.webdriver.remote.webelement.WebElement (session=\"3ed769d1cc41153e00d009fd0158c8ba\", element=\"37db7ede-22a9-4f51-a660-60f4aabe47b4\")>,\n",
       " <selenium.webdriver.remote.webelement.WebElement (session=\"3ed769d1cc41153e00d009fd0158c8ba\", element=\"ef01a26e-8be4-41d3-a8e2-a97f4b4d8243\")>,\n",
       " <selenium.webdriver.remote.webelement.WebElement (session=\"3ed769d1cc41153e00d009fd0158c8ba\", element=\"d4febd63-9c5e-434f-866f-9539414389d1\")>,\n",
       " <selenium.webdriver.remote.webelement.WebElement (session=\"3ed769d1cc41153e00d009fd0158c8ba\", element=\"700e8697-ce24-4de0-910d-a4f561d4810f\")>,\n",
       " <selenium.webdriver.remote.webelement.WebElement (session=\"3ed769d1cc41153e00d009fd0158c8ba\", element=\"a07c8bb7-083b-483d-b392-a0a1870b522b\")>,\n",
       " <selenium.webdriver.remote.webelement.WebElement (session=\"3ed769d1cc41153e00d009fd0158c8ba\", element=\"d350e6b6-b9bf-4b12-b194-66f568433172\")>,\n",
       " <selenium.webdriver.remote.webelement.WebElement (session=\"3ed769d1cc41153e00d009fd0158c8ba\", element=\"0adef9c3-7ce6-4715-b323-d30767b4a9c7\")>,\n",
       " <selenium.webdriver.remote.webelement.WebElement (session=\"3ed769d1cc41153e00d009fd0158c8ba\", element=\"0ab924c6-aa51-4143-a060-fc8c087d65e4\")>]"
      ]
     },
     "execution_count": 104,
     "metadata": {},
     "output_type": "execute_result"
    }
   ],
   "source": [
    "titles_tags=driver.find_elements_by_xpath(\"//h2[@class='a-size-mini a-spacing-none a-color-base s-line-clamp-2']\")\n",
    "titles_tags[0:10]\n"
   ]
  },
  {
   "cell_type": "code",
   "execution_count": 105,
   "metadata": {},
   "outputs": [
    {
     "data": {
      "text/plain": [
       "['Samsung Galaxy Book2 Pro 360 Intel 12th Gen i7 EvoTM 15.6 inch Touchscreen 2-in-1 AMOLED Thin & Light Laptop (16 GB/512 GB SSD/Windows 11/MSO Home & Student 2021/Graphite/1.41Kg), NP950QED-KA1IN',\n",
       " 'Samsung Galaxy Book2 360 Intel 12th Gen i7 EvoTM  33.78cm (13.3\") AMOLED Thin & Light Laptop (16 GB/512 GB SSD/Windows 11/MS Office Home & Student 2021/Graphite/1.16Kg), NP730QED-KA1IN',\n",
       " 'ASUS VivoBook 14 (2021), 14-inch (35.56 cms) FHD, Intel Core i7-1065G7 10th Gen, Thin and Light Laptop (16GB/512GB SSD/Integrated Graphics/Office 2021/Windows 11/Silver/1.6 Kg), X415JA-EK701WS',\n",
       " 'Lenovo ThinkBook 15 Intel 11th Gen Core i7 15.6\"(39.62 cm)FHD Thin and Light Laptop (16GB/512GB SSD/Windows 11 Home/MS Office H&S 2021/Iris® Xe Graphics/Backlit/Mineral Grey/1.7 Kg) 20VE00W4IH',\n",
       " 'HP Pavilion 11th Gen Intel Core i7 Processor 15.6 inches FHD Gaming Laptop (16GB/512GB SSD/Windows 11/NVIDIA RTX 3050 Graphics/MS Office/ Shadow Black & Ultra Violet/2.23Kg), 15-dk2096TX',\n",
       " 'HP Pavilion x360 11th Gen Intel Core i7 14 inch(35.6 cm) FHD Multitouch 2-in-1 Laptop(16GB RAM/512GB SSD/B&O/Win 11/FPR/Backlit KB/Intel Iris Xe Graphics/Pen/Alexa/MS Office/Silver/1.52Kg) 14-dy1047TU',\n",
       " 'HP Pavilion 14, 11th Gen Intel Core i7-16GB RAM/1TB SSD 14 inch(35.6 cm) Laptop/Intel Iris Xe Graphics/Backlit Keyboard/Alexa/B&O Audio/Fast Charge/FPR/Win 11/MS Office, 14-dv1029TU,Natural Silver',\n",
       " 'Acer Predator Helios 300 11th Gen Intel Core i9-11900H 15.6 inches FHD IPS Gaming Laptop (32GB/1TB SSD/Windows 11 Home/8GB Graphics/NVIDIA GeForce RTX 3070/300 Hz, Black, 2.3Kg) PH315-54',\n",
       " 'Lenovo Yoga 7i 11th Gen Intel Core i7-1165G7 14 inches FHD IPS 2-in-1 Touchscreen Business Laptop (16GB/512GB SSD/Windows 10/MS Office/Digital Pen/Fingerprint Reader/Slate Grey/1.43Kg), 82BH004HIN',\n",
       " 'MSI Katana GF66 Gaming, Intel i7-11800H, 15.6\" FHD IPS-Level 144Hz Panel Laptop (16GB/512GB NVMe SSD/Windows 10 Home/Nvidia RTX3050Ti 4GB GDDR6/Black/2.25Kg), 11UD-476IN']"
      ]
     },
     "execution_count": 105,
     "metadata": {},
     "output_type": "execute_result"
    }
   ],
   "source": [
    "count = 0\n",
    "for i in titles_tags:\n",
    "    title=i.text\n",
    "    titles.append(title)\n",
    "    if count > 8 :\n",
    "        break\n",
    "    count = count +1\n",
    "titles"
   ]
  },
  {
   "cell_type": "code",
   "execution_count": 106,
   "metadata": {},
   "outputs": [
    {
     "data": {
      "text/plain": [
       "[<selenium.webdriver.remote.webelement.WebElement (session=\"3ed769d1cc41153e00d009fd0158c8ba\", element=\"c5323336-db76-46df-8b4b-2594469d699f\")>,\n",
       " <selenium.webdriver.remote.webelement.WebElement (session=\"3ed769d1cc41153e00d009fd0158c8ba\", element=\"82674eda-6c62-4322-b121-82c5d54e3bba\")>,\n",
       " <selenium.webdriver.remote.webelement.WebElement (session=\"3ed769d1cc41153e00d009fd0158c8ba\", element=\"3f649540-84d0-483c-9ee5-b2b45e5603d4\")>]"
      ]
     },
     "execution_count": 106,
     "metadata": {},
     "output_type": "execute_result"
    }
   ],
   "source": [
    "price_tags=driver.find_elements_by_class_name(\"a-price-whole\")\n",
    "price_tags[0:3]"
   ]
  },
  {
   "cell_type": "code",
   "execution_count": 107,
   "metadata": {},
   "outputs": [
    {
     "data": {
      "text/plain": [
       "['1,29,990',\n",
       " '1,05,990',\n",
       " '57,310',\n",
       " '86,990',\n",
       " '89,000',\n",
       " '86,990',\n",
       " '86,990',\n",
       " '1,69,990',\n",
       " '1,04,990',\n",
       " '91,689']"
      ]
     },
     "execution_count": 107,
     "metadata": {},
     "output_type": "execute_result"
    }
   ],
   "source": [
    "count = 0\n",
    "for i in price_tags:\n",
    "    title=i.text\n",
    "    price.append(title)\n",
    "    if count > 8 :\n",
    "        break\n",
    "    count =count + 1\n",
    "price"
   ]
  },
  {
   "cell_type": "code",
   "execution_count": 108,
   "metadata": {},
   "outputs": [
    {
     "data": {
      "text/plain": [
       "[<selenium.webdriver.remote.webelement.WebElement (session=\"3ed769d1cc41153e00d009fd0158c8ba\", element=\"e83ec693-6688-4bb9-a2af-7e300e68d6be\")>,\n",
       " <selenium.webdriver.remote.webelement.WebElement (session=\"3ed769d1cc41153e00d009fd0158c8ba\", element=\"80a59c94-8808-445f-a5a2-984ec5838233\")>,\n",
       " <selenium.webdriver.remote.webelement.WebElement (session=\"3ed769d1cc41153e00d009fd0158c8ba\", element=\"e38fab5e-6d3d-49f4-a10c-b554298117db\")>,\n",
       " <selenium.webdriver.remote.webelement.WebElement (session=\"3ed769d1cc41153e00d009fd0158c8ba\", element=\"ede8b3da-8efb-43d6-9899-7dfc938f7f83\")>,\n",
       " <selenium.webdriver.remote.webelement.WebElement (session=\"3ed769d1cc41153e00d009fd0158c8ba\", element=\"a7cb1bca-d98e-4e99-9b0d-886519697c00\")>,\n",
       " <selenium.webdriver.remote.webelement.WebElement (session=\"3ed769d1cc41153e00d009fd0158c8ba\", element=\"a58f2b59-823f-4c3c-a4a0-28954b955643\")>,\n",
       " <selenium.webdriver.remote.webelement.WebElement (session=\"3ed769d1cc41153e00d009fd0158c8ba\", element=\"13fa91c6-956f-447e-9e2d-b6a03b81e502\")>,\n",
       " <selenium.webdriver.remote.webelement.WebElement (session=\"3ed769d1cc41153e00d009fd0158c8ba\", element=\"7cfbc538-0a24-4a49-9c5e-9bc1b28ecd7a\")>,\n",
       " <selenium.webdriver.remote.webelement.WebElement (session=\"3ed769d1cc41153e00d009fd0158c8ba\", element=\"0c6e690c-2bd4-4552-b64c-ace8b379ed7d\")>,\n",
       " <selenium.webdriver.remote.webelement.WebElement (session=\"3ed769d1cc41153e00d009fd0158c8ba\", element=\"2384d750-c237-4afc-8ef2-8c61d5ae95c7\")>]"
      ]
     },
     "execution_count": 108,
     "metadata": {},
     "output_type": "execute_result"
    }
   ],
   "source": [
    "rating_tags=driver.find_elements_by_xpath(\"//span[@class='a-icon-alt']\")\n",
    "rating_tags[0:10]"
   ]
  },
  {
   "cell_type": "code",
   "execution_count": 109,
   "metadata": {},
   "outputs": [
    {
     "data": {
      "text/plain": [
       "['', '', '', '', '', '', '', '', '', '']"
      ]
     },
     "execution_count": 109,
     "metadata": {},
     "output_type": "execute_result"
    }
   ],
   "source": [
    "for i in rating_tags:\n",
    "    title=i.text\n",
    "    rating.append(title)\n",
    "rating[0:10]"
   ]
  },
  {
   "cell_type": "code",
   "execution_count": 110,
   "metadata": {},
   "outputs": [
    {
     "name": "stdout",
     "output_type": "stream",
     "text": [
      "10 10\n"
     ]
    }
   ],
   "source": [
    "print(len(titles),len(price))"
   ]
  },
  {
   "cell_type": "code",
   "execution_count": 111,
   "metadata": {},
   "outputs": [],
   "source": [
    "laptop=pd.DataFrame({})\n",
    "laptop[titles]=titles\n",
    "laptop[price]=price"
   ]
  },
  {
   "cell_type": "code",
   "execution_count": 112,
   "metadata": {},
   "outputs": [
    {
     "data": {
      "text/html": [
       "<div>\n",
       "<style scoped>\n",
       "    .dataframe tbody tr th:only-of-type {\n",
       "        vertical-align: middle;\n",
       "    }\n",
       "\n",
       "    .dataframe tbody tr th {\n",
       "        vertical-align: top;\n",
       "    }\n",
       "\n",
       "    .dataframe thead th {\n",
       "        text-align: right;\n",
       "    }\n",
       "</style>\n",
       "<table border=\"1\" class=\"dataframe\">\n",
       "  <thead>\n",
       "    <tr style=\"text-align: right;\">\n",
       "      <th></th>\n",
       "      <th>Samsung Galaxy Book2 Pro 360 Intel 12th Gen i7 EvoTM 15.6 inch Touchscreen 2-in-1 AMOLED Thin &amp; Light Laptop (16 GB/512 GB SSD/Windows 11/MSO Home &amp; Student 2021/Graphite/1.41Kg), NP950QED-KA1IN</th>\n",
       "      <th>Samsung Galaxy Book2 360 Intel 12th Gen i7 EvoTM  33.78cm (13.3\") AMOLED Thin &amp; Light Laptop (16 GB/512 GB SSD/Windows 11/MS Office Home &amp; Student 2021/Graphite/1.16Kg), NP730QED-KA1IN</th>\n",
       "      <th>ASUS VivoBook 14 (2021), 14-inch (35.56 cms) FHD, Intel Core i7-1065G7 10th Gen, Thin and Light Laptop (16GB/512GB SSD/Integrated Graphics/Office 2021/Windows 11/Silver/1.6 Kg), X415JA-EK701WS</th>\n",
       "      <th>Lenovo ThinkBook 15 Intel 11th Gen Core i7 15.6\"(39.62 cm)FHD Thin and Light Laptop (16GB/512GB SSD/Windows 11 Home/MS Office H&amp;S 2021/Iris® Xe Graphics/Backlit/Mineral Grey/1.7 Kg) 20VE00W4IH</th>\n",
       "      <th>HP Pavilion 11th Gen Intel Core i7 Processor 15.6 inches FHD Gaming Laptop (16GB/512GB SSD/Windows 11/NVIDIA RTX 3050 Graphics/MS Office/ Shadow Black &amp; Ultra Violet/2.23Kg), 15-dk2096TX</th>\n",
       "      <th>HP Pavilion x360 11th Gen Intel Core i7 14 inch(35.6 cm) FHD Multitouch 2-in-1 Laptop(16GB RAM/512GB SSD/B&amp;O/Win 11/FPR/Backlit KB/Intel Iris Xe Graphics/Pen/Alexa/MS Office/Silver/1.52Kg) 14-dy1047TU</th>\n",
       "      <th>HP Pavilion 14, 11th Gen Intel Core i7-16GB RAM/1TB SSD 14 inch(35.6 cm) Laptop/Intel Iris Xe Graphics/Backlit Keyboard/Alexa/B&amp;O Audio/Fast Charge/FPR/Win 11/MS Office, 14-dv1029TU,Natural Silver</th>\n",
       "      <th>Acer Predator Helios 300 11th Gen Intel Core i9-11900H 15.6 inches FHD IPS Gaming Laptop (32GB/1TB SSD/Windows 11 Home/8GB Graphics/NVIDIA GeForce RTX 3070/300 Hz, Black, 2.3Kg) PH315-54</th>\n",
       "      <th>Lenovo Yoga 7i 11th Gen Intel Core i7-1165G7 14 inches FHD IPS 2-in-1 Touchscreen Business Laptop (16GB/512GB SSD/Windows 10/MS Office/Digital Pen/Fingerprint Reader/Slate Grey/1.43Kg), 82BH004HIN</th>\n",
       "      <th>MSI Katana GF66 Gaming, Intel i7-11800H, 15.6\" FHD IPS-Level 144Hz Panel Laptop (16GB/512GB NVMe SSD/Windows 10 Home/Nvidia RTX3050Ti 4GB GDDR6/Black/2.25Kg), 11UD-476IN</th>\n",
       "      <th>1,29,990</th>\n",
       "      <th>1,05,990</th>\n",
       "      <th>57,310</th>\n",
       "      <th>86,990</th>\n",
       "      <th>89,000</th>\n",
       "      <th>1,69,990</th>\n",
       "      <th>1,04,990</th>\n",
       "      <th>91,689</th>\n",
       "    </tr>\n",
       "  </thead>\n",
       "  <tbody>\n",
       "  </tbody>\n",
       "</table>\n",
       "</div>"
      ],
      "text/plain": [
       "Empty DataFrame\n",
       "Columns: [Samsung Galaxy Book2 Pro 360 Intel 12th Gen i7 EvoTM 15.6 inch Touchscreen 2-in-1 AMOLED Thin & Light Laptop (16 GB/512 GB SSD/Windows 11/MSO Home & Student 2021/Graphite/1.41Kg), NP950QED-KA1IN, Samsung Galaxy Book2 360 Intel 12th Gen i7 EvoTM  33.78cm (13.3\") AMOLED Thin & Light Laptop (16 GB/512 GB SSD/Windows 11/MS Office Home & Student 2021/Graphite/1.16Kg), NP730QED-KA1IN, ASUS VivoBook 14 (2021), 14-inch (35.56 cms) FHD, Intel Core i7-1065G7 10th Gen, Thin and Light Laptop (16GB/512GB SSD/Integrated Graphics/Office 2021/Windows 11/Silver/1.6 Kg), X415JA-EK701WS, Lenovo ThinkBook 15 Intel 11th Gen Core i7 15.6\"(39.62 cm)FHD Thin and Light Laptop (16GB/512GB SSD/Windows 11 Home/MS Office H&S 2021/Iris® Xe Graphics/Backlit/Mineral Grey/1.7 Kg) 20VE00W4IH, HP Pavilion 11th Gen Intel Core i7 Processor 15.6 inches FHD Gaming Laptop (16GB/512GB SSD/Windows 11/NVIDIA RTX 3050 Graphics/MS Office/ Shadow Black & Ultra Violet/2.23Kg), 15-dk2096TX, HP Pavilion x360 11th Gen Intel Core i7 14 inch(35.6 cm) FHD Multitouch 2-in-1 Laptop(16GB RAM/512GB SSD/B&O/Win 11/FPR/Backlit KB/Intel Iris Xe Graphics/Pen/Alexa/MS Office/Silver/1.52Kg) 14-dy1047TU, HP Pavilion 14, 11th Gen Intel Core i7-16GB RAM/1TB SSD 14 inch(35.6 cm) Laptop/Intel Iris Xe Graphics/Backlit Keyboard/Alexa/B&O Audio/Fast Charge/FPR/Win 11/MS Office, 14-dv1029TU,Natural Silver, Acer Predator Helios 300 11th Gen Intel Core i9-11900H 15.6 inches FHD IPS Gaming Laptop (32GB/1TB SSD/Windows 11 Home/8GB Graphics/NVIDIA GeForce RTX 3070/300 Hz, Black, 2.3Kg) PH315-54, Lenovo Yoga 7i 11th Gen Intel Core i7-1165G7 14 inches FHD IPS 2-in-1 Touchscreen Business Laptop (16GB/512GB SSD/Windows 10/MS Office/Digital Pen/Fingerprint Reader/Slate Grey/1.43Kg), 82BH004HIN, MSI Katana GF66 Gaming, Intel i7-11800H, 15.6\" FHD IPS-Level 144Hz Panel Laptop (16GB/512GB NVMe SSD/Windows 10 Home/Nvidia RTX3050Ti 4GB GDDR6/Black/2.25Kg), 11UD-476IN, 1,29,990, 1,05,990, 57,310, 86,990, 89,000, 1,69,990, 1,04,990, 91,689]\n",
       "Index: []"
      ]
     },
     "execution_count": 112,
     "metadata": {},
     "output_type": "execute_result"
    }
   ],
   "source": [
    "laptop"
   ]
  },
  {
   "cell_type": "code",
   "execution_count": 113,
   "metadata": {},
   "outputs": [],
   "source": [
    "driver.back()"
   ]
  },
  {
   "cell_type": "code",
   "execution_count": 114,
   "metadata": {},
   "outputs": [],
   "source": [
    "time.sleep(10)\n",
    "driver.refresh()\n",
    "checkCPU_Type = driver.find_element_by_xpath(\"/html/body/div[1]/div[2]/div[1]/div[2]/div/div[3]/span/div[1]/div/div/div[5]/ul[4]/li[13]/span/a/div\")\n",
    "checkCPU_Type.click();"
   ]
  },
  {
   "cell_type": "code",
   "execution_count": 115,
   "metadata": {},
   "outputs": [],
   "source": [
    "titles2=[]\n",
    "price2=[]"
   ]
  },
  {
   "cell_type": "code",
   "execution_count": 116,
   "metadata": {},
   "outputs": [
    {
     "data": {
      "text/plain": [
       "[<selenium.webdriver.remote.webelement.WebElement (session=\"3ed769d1cc41153e00d009fd0158c8ba\", element=\"d82adb65-4352-4679-851f-b20f1eb5ea8a\")>,\n",
       " <selenium.webdriver.remote.webelement.WebElement (session=\"3ed769d1cc41153e00d009fd0158c8ba\", element=\"e9dcb721-8d45-43de-b4a0-29737e62477b\")>,\n",
       " <selenium.webdriver.remote.webelement.WebElement (session=\"3ed769d1cc41153e00d009fd0158c8ba\", element=\"b887fcac-1713-4a3f-847a-d44884b62f45\")>,\n",
       " <selenium.webdriver.remote.webelement.WebElement (session=\"3ed769d1cc41153e00d009fd0158c8ba\", element=\"2bab642b-2688-4fbf-8a99-b2b1ef686240\")>,\n",
       " <selenium.webdriver.remote.webelement.WebElement (session=\"3ed769d1cc41153e00d009fd0158c8ba\", element=\"2a7c3e53-0274-4987-ad97-36bfe0802ab7\")>,\n",
       " <selenium.webdriver.remote.webelement.WebElement (session=\"3ed769d1cc41153e00d009fd0158c8ba\", element=\"a3a01692-97d6-4ded-a18d-1f75c2967266\")>,\n",
       " <selenium.webdriver.remote.webelement.WebElement (session=\"3ed769d1cc41153e00d009fd0158c8ba\", element=\"358859be-824b-473d-b12a-57c599fb6c0e\")>,\n",
       " <selenium.webdriver.remote.webelement.WebElement (session=\"3ed769d1cc41153e00d009fd0158c8ba\", element=\"07df2783-001f-470f-8ea5-48821aa2c399\")>,\n",
       " <selenium.webdriver.remote.webelement.WebElement (session=\"3ed769d1cc41153e00d009fd0158c8ba\", element=\"e2aba82c-7441-4973-ac4e-aaaddc8cfbbe\")>,\n",
       " <selenium.webdriver.remote.webelement.WebElement (session=\"3ed769d1cc41153e00d009fd0158c8ba\", element=\"d04c6623-0f2c-4aa5-aa49-fc1cced2f6e6\")>]"
      ]
     },
     "execution_count": 116,
     "metadata": {},
     "output_type": "execute_result"
    }
   ],
   "source": [
    "time.sleep(10)\n",
    "driver.refresh()\n",
    "titles2_tags=driver.find_elements_by_xpath(\"//h2[@class='a-size-mini a-spacing-none a-color-base s-line-clamp-2']\")\n",
    "titles2_tags[0:10]\n"
   ]
  },
  {
   "cell_type": "code",
   "execution_count": 117,
   "metadata": {},
   "outputs": [
    {
     "data": {
      "text/plain": [
       "['Acer Predator Helios 300 11th Gen Intel Core i9-11900H 15.6\" (39.62cms) FHD IPS Gaming Laptop (16 GB/1TB SSD/Win 11 Home/6 GB Graphics/NVIDIA GeForce RTX 3060/360 Hz, Black, 2.3 kg) PH315-54',\n",
       " 'Acer Predator Helios 300 11th Gen Intel Core i9-11900H 15.6\" (39.62cms) FHD IPS Gaming Laptop (16 GB/1TB SSD/Win 11 Home/6 GB Graphics/NVIDIA GeForce RTX 3060/360 Hz, Black, 2.3 kg) PH315-54',\n",
       " 'ASUS ROG Strix SCAR 15 (2022), 15.6-inch (39.62 cms) 2K WQHD 240Hz/3ms, Core i9-12900H 12th Gen, RTX 3080 Ti 16GB Graphics, Gaming Laptop (32GB/1TB SSD/Win 11/Office 2021/Black/2.3 Kg), G533ZX-LN024WS',\n",
       " 'ASUS ROG Strix Scar 15 (2022), 15.6\" (39.62 cms) 2K WQHD 240Hz/3ms, Intel Core i9-12900H 12th Gen, RTX 3070 Ti 8GB Graphics, Gaming Laptop (32GB/1TB SSD/Win 11/Office 2021/Black/2.3 kg) G533ZW-LN136WS',\n",
       " 'ASUS ROG Strix Scar 15 (2022), 15.6-inch (39.62 cms) 2K WQHD 240Hz/3ms, Core i9-12900H 12th Gen, RTX 3070 Ti 8GB Graphics, Gaming Laptop (32GB/2TB SSD/Win 11/Office 2021/Black/2.3 Kg), G533ZW-LN106WS',\n",
       " 'HP Envy 15- 11th Gen Intel Core i9/32GB/1TB SSD/15.6 inch(39.6 cm) 400 nits,4K AMOLED Touch, TUV + Win 11 Pro 64/NVIDIA GeForce RTX 3060 6GB Graphics/Alexa/FPR /B&O/2.14kg,15-ep1087TX, Natural Silver',\n",
       " 'ASUS ROG Zephyrus M16 (2022), 16-inch (40.64 cms) 2K QHD 165Hz/3ms, Core i9-12900H 12th Gen, RTX 3080 Ti 16GB Graphics, Gaming Laptop (32GB/2TB SSD/Win 11/Office 2021/Black/2 Kg), GU603ZX-K8024WS',\n",
       " 'ASUS TUF Gaming F15 (2021), 15.6\" (39.62 cms) FHD 240Hz, Intel Core i9-11900H 11th Gen, GeForce RTX 3060 6GB Graphics, Gaming Laptop(16GB/1TB SSD/Office 2019/Windows 10/Gray/2.3 Kg), FX566HM-AZ096TS',\n",
       " 'ASUS ROG Strix Scar 17 (2022), 17.3-inch (43.94 cms) 2K WQHD 240Hz/3ms, Core i9-12900H 12th Gen, RTX 3070 Ti 8GB Graphics, Gaming Laptop (32GB/2TB SSD/Win 11/Office 2021/Black/2.9 Kg), G733ZW-LL105WS',\n",
       " '(Renewed) HP Omen 15-dh0139TX Gaming Laptop (9th Gen i9-9880H/16GB/1TB HDD + 512GB SSD/Win 10/8GB NVIDIA RTX 2080 Graphics) & Z3700 Wireless Mouse']"
      ]
     },
     "execution_count": 117,
     "metadata": {},
     "output_type": "execute_result"
    }
   ],
   "source": [
    "count=0\n",
    "for i in titles2_tags:\n",
    "    title=i.text\n",
    "    titles2.append(title)\n",
    "    count = count + 1\n",
    "    if count >  9 :\n",
    "        break\n",
    "titles2[0:10]"
   ]
  },
  {
   "cell_type": "code",
   "execution_count": 118,
   "metadata": {},
   "outputs": [
    {
     "name": "stdout",
     "output_type": "stream",
     "text": [
      "10\n"
     ]
    }
   ],
   "source": [
    "print(count)"
   ]
  },
  {
   "cell_type": "code",
   "execution_count": 119,
   "metadata": {},
   "outputs": [
    {
     "data": {
      "text/plain": [
       "[<selenium.webdriver.remote.webelement.WebElement (session=\"3ed769d1cc41153e00d009fd0158c8ba\", element=\"cb1c1a4c-b300-4b4b-be23-f03d89d7ea31\")>,\n",
       " <selenium.webdriver.remote.webelement.WebElement (session=\"3ed769d1cc41153e00d009fd0158c8ba\", element=\"cfb2a020-6433-4b92-bdfe-3e7fa0ad89ff\")>,\n",
       " <selenium.webdriver.remote.webelement.WebElement (session=\"3ed769d1cc41153e00d009fd0158c8ba\", element=\"cc1f4214-e07b-4efc-87e0-c8940c2aa775\")>]"
      ]
     },
     "execution_count": 119,
     "metadata": {},
     "output_type": "execute_result"
    }
   ],
   "source": [
    "price2_tags=driver.find_elements_by_class_name(\"a-price-whole\")\n",
    "price2_tags[0:3]"
   ]
  },
  {
   "cell_type": "code",
   "execution_count": 120,
   "metadata": {},
   "outputs": [
    {
     "data": {
      "text/plain": [
       "['1,44,990',\n",
       " '1,44,990',\n",
       " '3,01,521',\n",
       " '2,38,990',\n",
       " '2,85,990',\n",
       " '2,02,990',\n",
       " '3,31,990',\n",
       " '1,69,990',\n",
       " '1,38,000',\n",
       " '2,25,000']"
      ]
     },
     "execution_count": 120,
     "metadata": {},
     "output_type": "execute_result"
    }
   ],
   "source": [
    "count=0\n",
    "for i in price2_tags:\n",
    "    title=i.text\n",
    "    price2.append(title)\n",
    "    count=count+1\n",
    "    if count > 9 :\n",
    "        break\n",
    "price2[0:10]"
   ]
  },
  {
   "cell_type": "code",
   "execution_count": 121,
   "metadata": {},
   "outputs": [
    {
     "name": "stdout",
     "output_type": "stream",
     "text": [
      "10 10\n"
     ]
    }
   ],
   "source": [
    "print(len(titles2),len(price2))"
   ]
  },
  {
   "cell_type": "code",
   "execution_count": 122,
   "metadata": {},
   "outputs": [],
   "source": [
    "laptop2=pd.DataFrame({})\n",
    "laptop2[titles]=titles2\n",
    "laptop2[price]=price2"
   ]
  },
  {
   "cell_type": "code",
   "execution_count": 123,
   "metadata": {},
   "outputs": [
    {
     "data": {
      "text/html": [
       "<div>\n",
       "<style scoped>\n",
       "    .dataframe tbody tr th:only-of-type {\n",
       "        vertical-align: middle;\n",
       "    }\n",
       "\n",
       "    .dataframe tbody tr th {\n",
       "        vertical-align: top;\n",
       "    }\n",
       "\n",
       "    .dataframe thead th {\n",
       "        text-align: right;\n",
       "    }\n",
       "</style>\n",
       "<table border=\"1\" class=\"dataframe\">\n",
       "  <thead>\n",
       "    <tr style=\"text-align: right;\">\n",
       "      <th></th>\n",
       "      <th>Samsung Galaxy Book2 Pro 360 Intel 12th Gen i7 EvoTM 15.6 inch Touchscreen 2-in-1 AMOLED Thin &amp; Light Laptop (16 GB/512 GB SSD/Windows 11/MSO Home &amp; Student 2021/Graphite/1.41Kg), NP950QED-KA1IN</th>\n",
       "      <th>Samsung Galaxy Book2 360 Intel 12th Gen i7 EvoTM  33.78cm (13.3\") AMOLED Thin &amp; Light Laptop (16 GB/512 GB SSD/Windows 11/MS Office Home &amp; Student 2021/Graphite/1.16Kg), NP730QED-KA1IN</th>\n",
       "      <th>ASUS VivoBook 14 (2021), 14-inch (35.56 cms) FHD, Intel Core i7-1065G7 10th Gen, Thin and Light Laptop (16GB/512GB SSD/Integrated Graphics/Office 2021/Windows 11/Silver/1.6 Kg), X415JA-EK701WS</th>\n",
       "      <th>Lenovo ThinkBook 15 Intel 11th Gen Core i7 15.6\"(39.62 cm)FHD Thin and Light Laptop (16GB/512GB SSD/Windows 11 Home/MS Office H&amp;S 2021/Iris® Xe Graphics/Backlit/Mineral Grey/1.7 Kg) 20VE00W4IH</th>\n",
       "      <th>HP Pavilion 11th Gen Intel Core i7 Processor 15.6 inches FHD Gaming Laptop (16GB/512GB SSD/Windows 11/NVIDIA RTX 3050 Graphics/MS Office/ Shadow Black &amp; Ultra Violet/2.23Kg), 15-dk2096TX</th>\n",
       "      <th>HP Pavilion x360 11th Gen Intel Core i7 14 inch(35.6 cm) FHD Multitouch 2-in-1 Laptop(16GB RAM/512GB SSD/B&amp;O/Win 11/FPR/Backlit KB/Intel Iris Xe Graphics/Pen/Alexa/MS Office/Silver/1.52Kg) 14-dy1047TU</th>\n",
       "      <th>HP Pavilion 14, 11th Gen Intel Core i7-16GB RAM/1TB SSD 14 inch(35.6 cm) Laptop/Intel Iris Xe Graphics/Backlit Keyboard/Alexa/B&amp;O Audio/Fast Charge/FPR/Win 11/MS Office, 14-dv1029TU,Natural Silver</th>\n",
       "      <th>Acer Predator Helios 300 11th Gen Intel Core i9-11900H 15.6 inches FHD IPS Gaming Laptop (32GB/1TB SSD/Windows 11 Home/8GB Graphics/NVIDIA GeForce RTX 3070/300 Hz, Black, 2.3Kg) PH315-54</th>\n",
       "      <th>Lenovo Yoga 7i 11th Gen Intel Core i7-1165G7 14 inches FHD IPS 2-in-1 Touchscreen Business Laptop (16GB/512GB SSD/Windows 10/MS Office/Digital Pen/Fingerprint Reader/Slate Grey/1.43Kg), 82BH004HIN</th>\n",
       "      <th>MSI Katana GF66 Gaming, Intel i7-11800H, 15.6\" FHD IPS-Level 144Hz Panel Laptop (16GB/512GB NVMe SSD/Windows 10 Home/Nvidia RTX3050Ti 4GB GDDR6/Black/2.25Kg), 11UD-476IN</th>\n",
       "      <th>1,29,990</th>\n",
       "      <th>1,05,990</th>\n",
       "      <th>57,310</th>\n",
       "      <th>86,990</th>\n",
       "      <th>89,000</th>\n",
       "      <th>1,69,990</th>\n",
       "      <th>1,04,990</th>\n",
       "      <th>91,689</th>\n",
       "    </tr>\n",
       "  </thead>\n",
       "  <tbody>\n",
       "  </tbody>\n",
       "</table>\n",
       "</div>"
      ],
      "text/plain": [
       "Empty DataFrame\n",
       "Columns: [Samsung Galaxy Book2 Pro 360 Intel 12th Gen i7 EvoTM 15.6 inch Touchscreen 2-in-1 AMOLED Thin & Light Laptop (16 GB/512 GB SSD/Windows 11/MSO Home & Student 2021/Graphite/1.41Kg), NP950QED-KA1IN, Samsung Galaxy Book2 360 Intel 12th Gen i7 EvoTM  33.78cm (13.3\") AMOLED Thin & Light Laptop (16 GB/512 GB SSD/Windows 11/MS Office Home & Student 2021/Graphite/1.16Kg), NP730QED-KA1IN, ASUS VivoBook 14 (2021), 14-inch (35.56 cms) FHD, Intel Core i7-1065G7 10th Gen, Thin and Light Laptop (16GB/512GB SSD/Integrated Graphics/Office 2021/Windows 11/Silver/1.6 Kg), X415JA-EK701WS, Lenovo ThinkBook 15 Intel 11th Gen Core i7 15.6\"(39.62 cm)FHD Thin and Light Laptop (16GB/512GB SSD/Windows 11 Home/MS Office H&S 2021/Iris® Xe Graphics/Backlit/Mineral Grey/1.7 Kg) 20VE00W4IH, HP Pavilion 11th Gen Intel Core i7 Processor 15.6 inches FHD Gaming Laptop (16GB/512GB SSD/Windows 11/NVIDIA RTX 3050 Graphics/MS Office/ Shadow Black & Ultra Violet/2.23Kg), 15-dk2096TX, HP Pavilion x360 11th Gen Intel Core i7 14 inch(35.6 cm) FHD Multitouch 2-in-1 Laptop(16GB RAM/512GB SSD/B&O/Win 11/FPR/Backlit KB/Intel Iris Xe Graphics/Pen/Alexa/MS Office/Silver/1.52Kg) 14-dy1047TU, HP Pavilion 14, 11th Gen Intel Core i7-16GB RAM/1TB SSD 14 inch(35.6 cm) Laptop/Intel Iris Xe Graphics/Backlit Keyboard/Alexa/B&O Audio/Fast Charge/FPR/Win 11/MS Office, 14-dv1029TU,Natural Silver, Acer Predator Helios 300 11th Gen Intel Core i9-11900H 15.6 inches FHD IPS Gaming Laptop (32GB/1TB SSD/Windows 11 Home/8GB Graphics/NVIDIA GeForce RTX 3070/300 Hz, Black, 2.3Kg) PH315-54, Lenovo Yoga 7i 11th Gen Intel Core i7-1165G7 14 inches FHD IPS 2-in-1 Touchscreen Business Laptop (16GB/512GB SSD/Windows 10/MS Office/Digital Pen/Fingerprint Reader/Slate Grey/1.43Kg), 82BH004HIN, MSI Katana GF66 Gaming, Intel i7-11800H, 15.6\" FHD IPS-Level 144Hz Panel Laptop (16GB/512GB NVMe SSD/Windows 10 Home/Nvidia RTX3050Ti 4GB GDDR6/Black/2.25Kg), 11UD-476IN, 1,29,990, 1,05,990, 57,310, 86,990, 89,000, 1,69,990, 1,04,990, 91,689]\n",
       "Index: []"
      ]
     },
     "execution_count": 123,
     "metadata": {},
     "output_type": "execute_result"
    }
   ],
   "source": [
    "laptop2"
   ]
  },
  {
   "cell_type": "code",
   "execution_count": null,
   "metadata": {},
   "outputs": [],
   "source": []
  }
 ],
 "metadata": {
  "kernelspec": {
   "display_name": "Python 3",
   "language": "python",
   "name": "python3"
  },
  "language_info": {
   "codemirror_mode": {
    "name": "ipython",
    "version": 3
   },
   "file_extension": ".py",
   "mimetype": "text/x-python",
   "name": "python",
   "nbconvert_exporter": "python",
   "pygments_lexer": "ipython3",
   "version": "3.8.5"
  }
 },
 "nbformat": 4,
 "nbformat_minor": 4
}
