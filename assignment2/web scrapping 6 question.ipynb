{
 "cells": [
  {
   "cell_type": "code",
   "execution_count": 193,
   "metadata": {},
   "outputs": [
    {
     "name": "stdout",
     "output_type": "stream",
     "text": [
      "Requirement already satisfied: selenium in c:\\users\\venkata\\anaconda3\\lib\\site-packages (4.1.3)\n",
      "Requirement already satisfied: urllib3[secure,socks]~=1.26 in c:\\users\\venkata\\anaconda3\\lib\\site-packages (from selenium) (1.26.9)\n",
      "Requirement already satisfied: trio~=0.17 in c:\\users\\venkata\\anaconda3\\lib\\site-packages (from selenium) (0.20.0)\n",
      "Requirement already satisfied: trio-websocket~=0.9 in c:\\users\\venkata\\anaconda3\\lib\\site-packages (from selenium) (0.9.2)\n",
      "Requirement already satisfied: idna>=2.0.0; extra == \"secure\" in c:\\users\\venkata\\anaconda3\\lib\\site-packages (from urllib3[secure,socks]~=1.26->selenium) (2.10)\n",
      "Requirement already satisfied: certifi; extra == \"secure\" in c:\\users\\venkata\\anaconda3\\lib\\site-packages (from urllib3[secure,socks]~=1.26->selenium) (2020.6.20)\n",
      "Requirement already satisfied: pyOpenSSL>=0.14; extra == \"secure\" in c:\\users\\venkata\\anaconda3\\lib\\site-packages (from urllib3[secure,socks]~=1.26->selenium) (19.1.0)\n",
      "Requirement already satisfied: cryptography>=1.3.4; extra == \"secure\" in c:\\users\\venkata\\anaconda3\\lib\\site-packages (from urllib3[secure,socks]~=1.26->selenium) (3.1.1)\n",
      "Requirement already satisfied: PySocks!=1.5.7,<2.0,>=1.5.6; extra == \"socks\" in c:\\users\\venkata\\anaconda3\\lib\\site-packages (from urllib3[secure,socks]~=1.26->selenium) (1.7.1)\n",
      "Requirement already satisfied: sortedcontainers in c:\\users\\venkata\\anaconda3\\lib\\site-packages (from trio~=0.17->selenium) (2.2.2)\n",
      "Requirement already satisfied: async-generator>=1.9 in c:\\users\\venkata\\anaconda3\\lib\\site-packages (from trio~=0.17->selenium) (1.10)\n",
      "Requirement already satisfied: cffi>=1.14; os_name == \"nt\" and implementation_name != \"pypy\" in c:\\users\\venkata\\anaconda3\\lib\\site-packages (from trio~=0.17->selenium) (1.14.3)\n",
      "Requirement already satisfied: attrs>=19.2.0 in c:\\users\\venkata\\anaconda3\\lib\\site-packages (from trio~=0.17->selenium) (20.3.0)\n",
      "Requirement already satisfied: outcome in c:\\users\\venkata\\anaconda3\\lib\\site-packages (from trio~=0.17->selenium) (1.1.0)\n",
      "Requirement already satisfied: sniffio in c:\\users\\venkata\\anaconda3\\lib\\site-packages (from trio~=0.17->selenium) (1.2.0)\n",
      "Requirement already satisfied: wsproto>=0.14 in c:\\users\\venkata\\anaconda3\\lib\\site-packages (from trio-websocket~=0.9->selenium) (1.1.0)\n",
      "Requirement already satisfied: six>=1.5.2 in c:\\users\\venkata\\anaconda3\\lib\\site-packages (from pyOpenSSL>=0.14; extra == \"secure\"->urllib3[secure,socks]~=1.26->selenium) (1.15.0)\n",
      "Requirement already satisfied: pycparser in c:\\users\\venkata\\anaconda3\\lib\\site-packages (from cffi>=1.14; os_name == \"nt\" and implementation_name != \"pypy\"->trio~=0.17->selenium) (2.20)\n",
      "Requirement already satisfied: h11<1,>=0.9.0 in c:\\users\\venkata\\anaconda3\\lib\\site-packages (from wsproto>=0.14->trio-websocket~=0.9->selenium) (0.13.0)\n"
     ]
    }
   ],
   "source": [
    "!pip install selenium"
   ]
  },
  {
   "cell_type": "code",
   "execution_count": 194,
   "metadata": {},
   "outputs": [],
   "source": [
    "import selenium\n",
    "import pandas as pd\n",
    "import time\n",
    "from selenium import webdriver\n",
    "import warnings\n",
    "warnings.filterwarnings('ignore')"
   ]
  },
  {
   "cell_type": "code",
   "execution_count": 195,
   "metadata": {},
   "outputs": [],
   "source": [
    "driver = webdriver.Chrome(r\"C:\\Users\\Venkata\\Downloads\\chromedriver_win32\\chromedriver.exe\")"
   ]
  },
  {
   "cell_type": "code",
   "execution_count": 196,
   "metadata": {},
   "outputs": [],
   "source": [
    "driver=webdriver.Chrome(\"chromedriver.exe\")\n",
    "time.sleep(2)"
   ]
  },
  {
   "cell_type": "code",
   "execution_count": 197,
   "metadata": {},
   "outputs": [],
   "source": [
    "driver.get('https://www.flipkart.com')"
   ]
  },
  {
   "cell_type": "code",
   "execution_count": 198,
   "metadata": {},
   "outputs": [],
   "source": [
    "login_button=driver.find_element_by_class_name(\"_1_3w1N\")\n",
    "driver.execute_script('arguments[0].click()', login_button)\n",
    "\n",
    "#login_button_close=driver.find_element_by_class_name(\"_2KpZ6l _2doB4z\")\n",
    "login_button_close=driver.find_element_by_xpath(\"/html/body/div[2]/div/div/button\")\n",
    "driver.execute_script('arguments[0].click()', login_button_close)"
   ]
  },
  {
   "cell_type": "code",
   "execution_count": 199,
   "metadata": {},
   "outputs": [],
   "source": [
    "search_field_product_name=driver.find_element_by_class_name(\"_3704LK\")\n",
    "\n",
    "#_34RNph\n",
    "search_field_product_name.send_keys(\"sneakers\")"
   ]
  },
  {
   "cell_type": "code",
   "execution_count": 200,
   "metadata": {},
   "outputs": [],
   "source": [
    "search_button=driver.find_element_by_xpath(\"/html/body/div[1]/div/div[1]/div[1]/div[2]/div[2]/form/div/button\")\n",
    "#search_button=driver.find_element_by_xpath(\"//button[@class='L0Z3Pu']\")\n",
    "#search_button=driver.find_element_by_class_name(\"L0Z3Pu\")\n",
    "search_button.click()"
   ]
  },
  {
   "cell_type": "code",
   "execution_count": 201,
   "metadata": {},
   "outputs": [],
   "source": [
    "strUrl = driver.current_url\n",
    "driver.get(strUrl)"
   ]
  },
  {
   "cell_type": "code",
   "execution_count": 202,
   "metadata": {},
   "outputs": [],
   "source": [
    "brands=[]\n",
    "descriptions=[]\n",
    "prices=[]\n",
    "offers=[]"
   ]
  },
  {
   "cell_type": "code",
   "execution_count": 203,
   "metadata": {},
   "outputs": [
    {
     "data": {
      "text/plain": [
       "[<selenium.webdriver.remote.webelement.WebElement (session=\"206ad81bd58ea97b5cfb430f7bfe2c51\", element=\"77a70f00-864b-4cfe-8074-4fe99a5594ec\")>,\n",
       " <selenium.webdriver.remote.webelement.WebElement (session=\"206ad81bd58ea97b5cfb430f7bfe2c51\", element=\"7f6b83c5-1e46-4e87-816e-a3fc717b4dc3\")>,\n",
       " <selenium.webdriver.remote.webelement.WebElement (session=\"206ad81bd58ea97b5cfb430f7bfe2c51\", element=\"ccab5f4c-0b86-4741-8860-e95850dcd83c\")>]"
      ]
     },
     "execution_count": 203,
     "metadata": {},
     "output_type": "execute_result"
    }
   ],
   "source": [
    "brands_tags=driver.find_elements_by_class_name(\"_2WkVRV\")\n",
    "brands_tags[0:3]"
   ]
  },
  {
   "cell_type": "code",
   "execution_count": 204,
   "metadata": {},
   "outputs": [
    {
     "data": {
      "text/plain": [
       "['HIGHLANDER', 'HIGHLANDER', 'URBANBOX']"
      ]
     },
     "execution_count": 204,
     "metadata": {},
     "output_type": "execute_result"
    }
   ],
   "source": [
    "count = 0\n",
    "for i in brands_tags:\n",
    "    title=i.text\n",
    "    brands.append(title)\n",
    "    count = count + 1\n",
    "brands[0:3]"
   ]
  },
  {
   "cell_type": "code",
   "execution_count": 205,
   "metadata": {},
   "outputs": [
    {
     "name": "stdout",
     "output_type": "stream",
     "text": [
      "40\n"
     ]
    }
   ],
   "source": [
    "print(count)"
   ]
  },
  {
   "cell_type": "code",
   "execution_count": 206,
   "metadata": {},
   "outputs": [
    {
     "data": {
      "text/plain": [
       "[<selenium.webdriver.remote.webelement.WebElement (session=\"206ad81bd58ea97b5cfb430f7bfe2c51\", element=\"111a6c67-eb1c-4bb1-ae01-20d7de5bdeca\")>,\n",
       " <selenium.webdriver.remote.webelement.WebElement (session=\"206ad81bd58ea97b5cfb430f7bfe2c51\", element=\"195a3763-00f9-492d-9515-2df103aada51\")>,\n",
       " <selenium.webdriver.remote.webelement.WebElement (session=\"206ad81bd58ea97b5cfb430f7bfe2c51\", element=\"ca264b05-fed1-4f01-99ef-665948441381\")>,\n",
       " <selenium.webdriver.remote.webelement.WebElement (session=\"206ad81bd58ea97b5cfb430f7bfe2c51\", element=\"a322f29a-8af6-4a92-9702-8dacef819a2d\")>]"
      ]
     },
     "execution_count": 206,
     "metadata": {},
     "output_type": "execute_result"
    }
   ],
   "source": [
    "description_tags=driver.find_elements_by_class_name(\"IRpwTa\")\n",
    "description_tags[0:4]"
   ]
  },
  {
   "cell_type": "code",
   "execution_count": 207,
   "metadata": {},
   "outputs": [
    {
     "name": "stdout",
     "output_type": "stream",
     "text": [
      "40\n"
     ]
    }
   ],
   "source": [
    "count = 0\n",
    "\n",
    "for i in description_tags:\n",
    "    title=i.text\n",
    "    descriptions.append(title)\n",
    "    count = count + 1\n",
    "descriptions[0:3]\n",
    "print(count)"
   ]
  },
  {
   "cell_type": "code",
   "execution_count": 208,
   "metadata": {},
   "outputs": [
    {
     "data": {
      "text/plain": [
       "[<selenium.webdriver.remote.webelement.WebElement (session=\"206ad81bd58ea97b5cfb430f7bfe2c51\", element=\"29f98132-ed22-4c47-a00f-e99175025477\")>,\n",
       " <selenium.webdriver.remote.webelement.WebElement (session=\"206ad81bd58ea97b5cfb430f7bfe2c51\", element=\"c021225d-abfc-402c-acd2-9e10b9d13cad\")>,\n",
       " <selenium.webdriver.remote.webelement.WebElement (session=\"206ad81bd58ea97b5cfb430f7bfe2c51\", element=\"d3633657-b1e5-4456-8a3d-fd6ff98da97a\")>]"
      ]
     },
     "execution_count": 208,
     "metadata": {},
     "output_type": "execute_result"
    }
   ],
   "source": [
    "prices_tags=driver.find_elements_by_class_name(\"_30jeq3\")\n",
    "prices_tags[0:3]"
   ]
  },
  {
   "cell_type": "code",
   "execution_count": 209,
   "metadata": {},
   "outputs": [
    {
     "name": "stdout",
     "output_type": "stream",
     "text": [
      "40\n"
     ]
    }
   ],
   "source": [
    "count=0\n",
    "for i in prices_tags:\n",
    "    title=i.text\n",
    "    prices.append(title)\n",
    "    count = count + 1\n",
    "    if count > 39:\n",
    "        break\n",
    "prices[0:3]\n",
    "print(count)"
   ]
  },
  {
   "cell_type": "code",
   "execution_count": 210,
   "metadata": {},
   "outputs": [
    {
     "data": {
      "text/plain": [
       "[<selenium.webdriver.remote.webelement.WebElement (session=\"206ad81bd58ea97b5cfb430f7bfe2c51\", element=\"ea95d6d1-9921-4ee0-aeb9-5ae3a32fe8bf\")>,\n",
       " <selenium.webdriver.remote.webelement.WebElement (session=\"206ad81bd58ea97b5cfb430f7bfe2c51\", element=\"f44a51c5-e1bd-420d-9376-bcf6053abeeb\")>,\n",
       " <selenium.webdriver.remote.webelement.WebElement (session=\"206ad81bd58ea97b5cfb430f7bfe2c51\", element=\"829a1db3-e75a-4887-98d9-4fc5b688ec3b\")>]"
      ]
     },
     "execution_count": 210,
     "metadata": {},
     "output_type": "execute_result"
    }
   ],
   "source": [
    "offers_tags=driver.find_elements_by_class_name(\"_3Ay6Sb\")\n",
    "offers_tags[0:3]"
   ]
  },
  {
   "cell_type": "code",
   "execution_count": 211,
   "metadata": {},
   "outputs": [
    {
     "name": "stdout",
     "output_type": "stream",
     "text": [
      "40\n"
     ]
    }
   ],
   "source": [
    "count=0\n",
    "for i in offers_tags:\n",
    "    title=i.text\n",
    "    offers.append(title)\n",
    "    count = count + 1\n",
    "    if count > 39 :\n",
    "        break\n",
    "offers[0:3]\n",
    "print(count)"
   ]
  },
  {
   "cell_type": "code",
   "execution_count": 212,
   "metadata": {},
   "outputs": [],
   "source": [
    "next=driver.find_element_by_xpath(\"//a[@class='_1LKTO3']\")\n",
    "next.click()"
   ]
  },
  {
   "cell_type": "code",
   "execution_count": 213,
   "metadata": {},
   "outputs": [],
   "source": [
    "time.sleep(10)\n",
    "driver.refresh()"
   ]
  },
  {
   "cell_type": "code",
   "execution_count": 214,
   "metadata": {},
   "outputs": [
    {
     "data": {
      "text/plain": [
       "[<selenium.webdriver.remote.webelement.WebElement (session=\"206ad81bd58ea97b5cfb430f7bfe2c51\", element=\"af21594a-2221-4b50-98aa-0feb28a55f82\")>,\n",
       " <selenium.webdriver.remote.webelement.WebElement (session=\"206ad81bd58ea97b5cfb430f7bfe2c51\", element=\"5b05065f-df39-4af0-94e6-09e163d1baef\")>,\n",
       " <selenium.webdriver.remote.webelement.WebElement (session=\"206ad81bd58ea97b5cfb430f7bfe2c51\", element=\"10d5746c-b90a-409c-94a7-adf91f0977c8\")>]"
      ]
     },
     "execution_count": 214,
     "metadata": {},
     "output_type": "execute_result"
    }
   ],
   "source": [
    "time.sleep(5)\n",
    "driver.refresh()\n",
    "brands2_tags=driver.find_elements_by_xpath(\"//div[@class='_2WkVRV']\")\n",
    "brands2_tags[0:3]"
   ]
  },
  {
   "cell_type": "code",
   "execution_count": 215,
   "metadata": {},
   "outputs": [
    {
     "name": "stdout",
     "output_type": "stream",
     "text": [
      "40\n"
     ]
    }
   ],
   "source": [
    "\n",
    "count = 0\n",
    "\n",
    "for i in brands2_tags:\n",
    "    title2=i.text\n",
    "    brands.append(title2)\n",
    "    count = count + 1\n",
    "print(count)"
   ]
  },
  {
   "cell_type": "code",
   "execution_count": 216,
   "metadata": {},
   "outputs": [
    {
     "name": "stdout",
     "output_type": "stream",
     "text": [
      "40\n"
     ]
    }
   ],
   "source": [
    "print(count)"
   ]
  },
  {
   "cell_type": "code",
   "execution_count": 217,
   "metadata": {},
   "outputs": [
    {
     "data": {
      "text/plain": [
       "[<selenium.webdriver.remote.webelement.WebElement (session=\"206ad81bd58ea97b5cfb430f7bfe2c51\", element=\"8c7c3f3f-2307-455f-86e7-7f3789e522a1\")>,\n",
       " <selenium.webdriver.remote.webelement.WebElement (session=\"206ad81bd58ea97b5cfb430f7bfe2c51\", element=\"1484b683-1c37-422a-a6b5-dccec90a778d\")>,\n",
       " <selenium.webdriver.remote.webelement.WebElement (session=\"206ad81bd58ea97b5cfb430f7bfe2c51\", element=\"88478c7b-b66d-4bce-8622-e17d08fb1a20\")>]"
      ]
     },
     "execution_count": 217,
     "metadata": {},
     "output_type": "execute_result"
    }
   ],
   "source": [
    "descriptions2_tags=driver.find_elements_by_class_name(\"IRpwTa\")\n",
    "descriptions2_tags[0:3]"
   ]
  },
  {
   "cell_type": "code",
   "execution_count": 218,
   "metadata": {},
   "outputs": [
    {
     "name": "stdout",
     "output_type": "stream",
     "text": [
      "40\n"
     ]
    }
   ],
   "source": [
    "count = 0\n",
    "\n",
    "for i in descriptions2_tags:\n",
    "    title=i.text\n",
    "    descriptions.append(title)\n",
    "    count = count + 1\n",
    "print(count)\n"
   ]
  },
  {
   "cell_type": "code",
   "execution_count": 219,
   "metadata": {},
   "outputs": [
    {
     "data": {
      "text/plain": [
       "[<selenium.webdriver.remote.webelement.WebElement (session=\"206ad81bd58ea97b5cfb430f7bfe2c51\", element=\"4e58e0ef-03dc-4a83-975b-b3309391b85a\")>,\n",
       " <selenium.webdriver.remote.webelement.WebElement (session=\"206ad81bd58ea97b5cfb430f7bfe2c51\", element=\"26f1d54b-8371-4518-8318-ec313d16ac76\")>,\n",
       " <selenium.webdriver.remote.webelement.WebElement (session=\"206ad81bd58ea97b5cfb430f7bfe2c51\", element=\"9ea048ad-4270-48d4-a032-db5dd31f632a\")>]"
      ]
     },
     "execution_count": 219,
     "metadata": {},
     "output_type": "execute_result"
    }
   ],
   "source": [
    "prices2_tags=driver.find_elements_by_class_name(\"_30jeq3\")\n",
    "prices2_tags[0:3]"
   ]
  },
  {
   "cell_type": "code",
   "execution_count": 220,
   "metadata": {},
   "outputs": [
    {
     "name": "stdout",
     "output_type": "stream",
     "text": [
      "40\n"
     ]
    }
   ],
   "source": [
    "count=0\n",
    "for i in prices2_tags:\n",
    "    title2=i.text\n",
    "    prices.append(title2)\n",
    "    count = count + 1\n",
    "    if count > 39 :\n",
    "        break\n",
    "print(count)"
   ]
  },
  {
   "cell_type": "code",
   "execution_count": 221,
   "metadata": {},
   "outputs": [
    {
     "name": "stdout",
     "output_type": "stream",
     "text": [
      "40\n"
     ]
    }
   ],
   "source": [
    "print(count)"
   ]
  },
  {
   "cell_type": "code",
   "execution_count": 222,
   "metadata": {},
   "outputs": [],
   "source": [
    "next2=driver.find_element_by_xpath(\"/html/body/div/div/div[3]/div[1]/div[2]/div[12]/div/div/nav/a[12]/span\")\n",
    "next2.click()"
   ]
  },
  {
   "cell_type": "code",
   "execution_count": null,
   "metadata": {},
   "outputs": [],
   "source": []
  },
  {
   "cell_type": "code",
   "execution_count": 223,
   "metadata": {},
   "outputs": [
    {
     "data": {
      "text/plain": [
       "[<selenium.webdriver.remote.webelement.WebElement (session=\"206ad81bd58ea97b5cfb430f7bfe2c51\", element=\"a9dcda2d-94c7-48f6-97c6-1a3b5e933647\")>,\n",
       " <selenium.webdriver.remote.webelement.WebElement (session=\"206ad81bd58ea97b5cfb430f7bfe2c51\", element=\"77c902e8-d924-4cb1-b483-d80f1d5421b4\")>,\n",
       " <selenium.webdriver.remote.webelement.WebElement (session=\"206ad81bd58ea97b5cfb430f7bfe2c51\", element=\"281d7c7a-c5d4-40c9-ba19-4522dcfae382\")>]"
      ]
     },
     "execution_count": 223,
     "metadata": {},
     "output_type": "execute_result"
    }
   ],
   "source": [
    "time.sleep(5)\n",
    "driver.refresh()\n",
    "brands3_tags=driver.find_elements_by_class_name(\"_2WkVRV\")\n",
    "brands3_tags[0:3]"
   ]
  },
  {
   "cell_type": "code",
   "execution_count": 224,
   "metadata": {},
   "outputs": [
    {
     "name": "stdout",
     "output_type": "stream",
     "text": [
      "20\n"
     ]
    }
   ],
   "source": [
    "count = 0\n",
    "\n",
    "for i in brands3_tags:\n",
    "    title=i.text\n",
    "    brands.append(title)\n",
    "    count = count + 1\n",
    "    if count > 19 :\n",
    "        break\n",
    "print(count)"
   ]
  },
  {
   "cell_type": "code",
   "execution_count": 225,
   "metadata": {},
   "outputs": [
    {
     "data": {
      "text/plain": [
       "[<selenium.webdriver.remote.webelement.WebElement (session=\"206ad81bd58ea97b5cfb430f7bfe2c51\", element=\"d5b29026-1c36-452b-8a58-0f4a12d50adb\")>,\n",
       " <selenium.webdriver.remote.webelement.WebElement (session=\"206ad81bd58ea97b5cfb430f7bfe2c51\", element=\"f11823ec-6052-4756-b0f4-2c26c79f9eb4\")>,\n",
       " <selenium.webdriver.remote.webelement.WebElement (session=\"206ad81bd58ea97b5cfb430f7bfe2c51\", element=\"5a1e09e8-5a15-4f99-bcad-0267e17b1a80\")>]"
      ]
     },
     "execution_count": 225,
     "metadata": {},
     "output_type": "execute_result"
    }
   ],
   "source": [
    "descriptions3_tags=driver.find_elements_by_class_name(\"IRpwTa\")\n",
    "descriptions3_tags[0:3]"
   ]
  },
  {
   "cell_type": "code",
   "execution_count": 226,
   "metadata": {},
   "outputs": [
    {
     "name": "stdout",
     "output_type": "stream",
     "text": [
      "20\n"
     ]
    }
   ],
   "source": [
    "count = 0\n",
    "\n",
    "for i in descriptions3_tags:\n",
    "    title3=i.text\n",
    "    descriptions.append(title3)\n",
    "    count = count + 1\n",
    "    if count > 19 :\n",
    "        break\n",
    "print(count)"
   ]
  },
  {
   "cell_type": "code",
   "execution_count": 227,
   "metadata": {},
   "outputs": [
    {
     "data": {
      "text/plain": [
       "[<selenium.webdriver.remote.webelement.WebElement (session=\"206ad81bd58ea97b5cfb430f7bfe2c51\", element=\"cb88bce1-4789-4e39-8fd8-8e2f9607b18d\")>,\n",
       " <selenium.webdriver.remote.webelement.WebElement (session=\"206ad81bd58ea97b5cfb430f7bfe2c51\", element=\"6b657e34-126f-4845-8ca4-125916c6f2bf\")>,\n",
       " <selenium.webdriver.remote.webelement.WebElement (session=\"206ad81bd58ea97b5cfb430f7bfe2c51\", element=\"233640af-aee4-4c0a-8acb-8a47c817d32d\")>]"
      ]
     },
     "execution_count": 227,
     "metadata": {},
     "output_type": "execute_result"
    }
   ],
   "source": [
    "prices3_tags=driver.find_elements_by_class_name(\"_30jeq3\")\n",
    "prices3_tags[0:3]"
   ]
  },
  {
   "cell_type": "code",
   "execution_count": 228,
   "metadata": {},
   "outputs": [
    {
     "name": "stdout",
     "output_type": "stream",
     "text": [
      "20\n"
     ]
    }
   ],
   "source": [
    "count = 0\n",
    "\n",
    "for i in prices3_tags:\n",
    "    title3=i.text\n",
    "    prices.append(title3)\n",
    "    count = count + 1\n",
    "    if count > 19 :\n",
    "        break\n",
    "print(count)"
   ]
  },
  {
   "cell_type": "code",
   "execution_count": 229,
   "metadata": {},
   "outputs": [
    {
     "name": "stdout",
     "output_type": "stream",
     "text": [
      "20\n"
     ]
    }
   ],
   "source": [
    "print(count)"
   ]
  },
  {
   "cell_type": "code",
   "execution_count": 230,
   "metadata": {},
   "outputs": [
    {
     "name": "stdout",
     "output_type": "stream",
     "text": [
      "100 100 40 100\n"
     ]
    }
   ],
   "source": [
    "print(len(brands),len(prices),len(offers),len(descriptions))"
   ]
  },
  {
   "cell_type": "code",
   "execution_count": 231,
   "metadata": {},
   "outputs": [],
   "source": [
    "offers2=[]"
   ]
  },
  {
   "cell_type": "code",
   "execution_count": 232,
   "metadata": {},
   "outputs": [
    {
     "data": {
      "text/plain": [
       "[<selenium.webdriver.remote.webelement.WebElement (session=\"206ad81bd58ea97b5cfb430f7bfe2c51\", element=\"cb9992c8-34b6-4a22-9ca7-60e3e7aca46b\")>,\n",
       " <selenium.webdriver.remote.webelement.WebElement (session=\"206ad81bd58ea97b5cfb430f7bfe2c51\", element=\"dbb90c4a-a844-421f-9341-3b56df9058a7\")>,\n",
       " <selenium.webdriver.remote.webelement.WebElement (session=\"206ad81bd58ea97b5cfb430f7bfe2c51\", element=\"f7bc95c8-303e-4c88-8747-f625cfad4231\")>,\n",
       " <selenium.webdriver.remote.webelement.WebElement (session=\"206ad81bd58ea97b5cfb430f7bfe2c51\", element=\"5a37f89b-6847-404f-8574-2a96859ef4fd\")>,\n",
       " <selenium.webdriver.remote.webelement.WebElement (session=\"206ad81bd58ea97b5cfb430f7bfe2c51\", element=\"fafc3f26-4555-478b-8608-898150087f8d\")>,\n",
       " <selenium.webdriver.remote.webelement.WebElement (session=\"206ad81bd58ea97b5cfb430f7bfe2c51\", element=\"d6e5b318-a8a1-41cd-8329-1f80b6db11d3\")>,\n",
       " <selenium.webdriver.remote.webelement.WebElement (session=\"206ad81bd58ea97b5cfb430f7bfe2c51\", element=\"b5feae10-f9ab-4921-9b23-8879cd3686c6\")>,\n",
       " <selenium.webdriver.remote.webelement.WebElement (session=\"206ad81bd58ea97b5cfb430f7bfe2c51\", element=\"c87ee911-7ada-45af-9fa3-981c7e731aa0\")>,\n",
       " <selenium.webdriver.remote.webelement.WebElement (session=\"206ad81bd58ea97b5cfb430f7bfe2c51\", element=\"f34504e7-66ab-49be-a378-d7cf21a9b3de\")>,\n",
       " <selenium.webdriver.remote.webelement.WebElement (session=\"206ad81bd58ea97b5cfb430f7bfe2c51\", element=\"be5d16d6-a1a7-43c3-a774-ae908b91bd9c\")>,\n",
       " <selenium.webdriver.remote.webelement.WebElement (session=\"206ad81bd58ea97b5cfb430f7bfe2c51\", element=\"42756c9e-9275-49c4-94a8-6ec0e4f5f34b\")>,\n",
       " <selenium.webdriver.remote.webelement.WebElement (session=\"206ad81bd58ea97b5cfb430f7bfe2c51\", element=\"0abb9874-a580-4e8e-9a87-99a137322e47\")>,\n",
       " <selenium.webdriver.remote.webelement.WebElement (session=\"206ad81bd58ea97b5cfb430f7bfe2c51\", element=\"d58a4587-5e7c-4338-bad3-28163e89b9ca\")>,\n",
       " <selenium.webdriver.remote.webelement.WebElement (session=\"206ad81bd58ea97b5cfb430f7bfe2c51\", element=\"195e75db-d0bc-40ed-9da4-32b55dc03939\")>,\n",
       " <selenium.webdriver.remote.webelement.WebElement (session=\"206ad81bd58ea97b5cfb430f7bfe2c51\", element=\"b8f3b71a-7585-4f81-bfe5-5d544f04462f\")>,\n",
       " <selenium.webdriver.remote.webelement.WebElement (session=\"206ad81bd58ea97b5cfb430f7bfe2c51\", element=\"1aed9ea7-a4a4-40ff-b20c-084167f95f41\")>,\n",
       " <selenium.webdriver.remote.webelement.WebElement (session=\"206ad81bd58ea97b5cfb430f7bfe2c51\", element=\"13a03dd4-4802-4d45-8d36-613b0a834fcc\")>,\n",
       " <selenium.webdriver.remote.webelement.WebElement (session=\"206ad81bd58ea97b5cfb430f7bfe2c51\", element=\"9327c636-22e6-4ce2-aa7d-7267d5ec0fda\")>,\n",
       " <selenium.webdriver.remote.webelement.WebElement (session=\"206ad81bd58ea97b5cfb430f7bfe2c51\", element=\"fab336ac-0edc-4a63-a2e7-deb24750e0c6\")>,\n",
       " <selenium.webdriver.remote.webelement.WebElement (session=\"206ad81bd58ea97b5cfb430f7bfe2c51\", element=\"6e75e0a5-09f1-40d1-8162-01ce35e7884f\")>,\n",
       " <selenium.webdriver.remote.webelement.WebElement (session=\"206ad81bd58ea97b5cfb430f7bfe2c51\", element=\"20d2fc10-56c7-4f80-8ec6-0b0409d143af\")>,\n",
       " <selenium.webdriver.remote.webelement.WebElement (session=\"206ad81bd58ea97b5cfb430f7bfe2c51\", element=\"2b03e8b4-7890-4119-a666-97b387334cdd\")>,\n",
       " <selenium.webdriver.remote.webelement.WebElement (session=\"206ad81bd58ea97b5cfb430f7bfe2c51\", element=\"7f4d011c-6b0e-47a6-b4cc-b32527939d68\")>,\n",
       " <selenium.webdriver.remote.webelement.WebElement (session=\"206ad81bd58ea97b5cfb430f7bfe2c51\", element=\"057b31d3-62ef-4466-8f5a-d1ca5e07166d\")>,\n",
       " <selenium.webdriver.remote.webelement.WebElement (session=\"206ad81bd58ea97b5cfb430f7bfe2c51\", element=\"f8699fd7-c948-4b52-8e43-562a18d6d31e\")>,\n",
       " <selenium.webdriver.remote.webelement.WebElement (session=\"206ad81bd58ea97b5cfb430f7bfe2c51\", element=\"1cc3ce7d-0147-42a6-aff1-47a3ef0c9704\")>,\n",
       " <selenium.webdriver.remote.webelement.WebElement (session=\"206ad81bd58ea97b5cfb430f7bfe2c51\", element=\"4902a8de-f494-4024-a3a8-f3e44fb84be9\")>,\n",
       " <selenium.webdriver.remote.webelement.WebElement (session=\"206ad81bd58ea97b5cfb430f7bfe2c51\", element=\"bbcfa0dc-5f97-4974-927a-9f88ae4686b8\")>,\n",
       " <selenium.webdriver.remote.webelement.WebElement (session=\"206ad81bd58ea97b5cfb430f7bfe2c51\", element=\"40f7b9a8-99eb-4a27-8f94-ae06182e7c81\")>,\n",
       " <selenium.webdriver.remote.webelement.WebElement (session=\"206ad81bd58ea97b5cfb430f7bfe2c51\", element=\"e3f81625-cb67-40aa-8339-b970453cbe5d\")>,\n",
       " <selenium.webdriver.remote.webelement.WebElement (session=\"206ad81bd58ea97b5cfb430f7bfe2c51\", element=\"9a5cffd1-4c5c-4308-97d1-1a48e77acfd8\")>,\n",
       " <selenium.webdriver.remote.webelement.WebElement (session=\"206ad81bd58ea97b5cfb430f7bfe2c51\", element=\"3dc53b28-eed3-4a44-9892-a17f050432b2\")>,\n",
       " <selenium.webdriver.remote.webelement.WebElement (session=\"206ad81bd58ea97b5cfb430f7bfe2c51\", element=\"edad3b71-9f75-43ee-a3a1-259bb28dc970\")>,\n",
       " <selenium.webdriver.remote.webelement.WebElement (session=\"206ad81bd58ea97b5cfb430f7bfe2c51\", element=\"1f016909-b6d7-4c50-abef-57b5d457635f\")>,\n",
       " <selenium.webdriver.remote.webelement.WebElement (session=\"206ad81bd58ea97b5cfb430f7bfe2c51\", element=\"f10dbd30-4a19-4ce2-9e32-78fa4a2c3c16\")>,\n",
       " <selenium.webdriver.remote.webelement.WebElement (session=\"206ad81bd58ea97b5cfb430f7bfe2c51\", element=\"9ac5b7d1-84a0-4fe2-a8c9-7e3ee3f1d69e\")>,\n",
       " <selenium.webdriver.remote.webelement.WebElement (session=\"206ad81bd58ea97b5cfb430f7bfe2c51\", element=\"a338e663-6eac-4550-a25a-4e54f8ca460e\")>,\n",
       " <selenium.webdriver.remote.webelement.WebElement (session=\"206ad81bd58ea97b5cfb430f7bfe2c51\", element=\"b8beec85-fd4e-496d-bff5-57a59362ed97\")>,\n",
       " <selenium.webdriver.remote.webelement.WebElement (session=\"206ad81bd58ea97b5cfb430f7bfe2c51\", element=\"723c6b35-f119-41bf-ab63-3ff055de1567\")>,\n",
       " <selenium.webdriver.remote.webelement.WebElement (session=\"206ad81bd58ea97b5cfb430f7bfe2c51\", element=\"fa63f215-3d64-4db8-8ce9-a55012d842d6\")>]"
      ]
     },
     "execution_count": 232,
     "metadata": {},
     "output_type": "execute_result"
    }
   ],
   "source": [
    "offers2_tags=driver.find_elements_by_xpath(\"//div[@class='_3Ay6Sb']\")\n",
    "offers2_tags"
   ]
  },
  {
   "cell_type": "code",
   "execution_count": 233,
   "metadata": {},
   "outputs": [
    {
     "name": "stdout",
     "output_type": "stream",
     "text": [
      "40\n"
     ]
    }
   ],
   "source": [
    "count = 0\n",
    "\n",
    "for i in offers2_tags:\n",
    "    title2=i.text\n",
    "    offers.append(title2)\n",
    "    count = count + 1\n",
    "print(count)"
   ]
  },
  {
   "cell_type": "code",
   "execution_count": 234,
   "metadata": {},
   "outputs": [],
   "source": [
    "next=driver.find_element_by_xpath(\"//a[@class='_1LKTO3']\")\n",
    "next.click()"
   ]
  },
  {
   "cell_type": "code",
   "execution_count": 235,
   "metadata": {},
   "outputs": [],
   "source": [
    "time.sleep(10)\n",
    "driver.refresh()"
   ]
  },
  {
   "cell_type": "code",
   "execution_count": 236,
   "metadata": {},
   "outputs": [
    {
     "data": {
      "text/plain": [
       "[<selenium.webdriver.remote.webelement.WebElement (session=\"206ad81bd58ea97b5cfb430f7bfe2c51\", element=\"5a1662a7-7545-4ebf-9db2-6e1b07404a56\")>,\n",
       " <selenium.webdriver.remote.webelement.WebElement (session=\"206ad81bd58ea97b5cfb430f7bfe2c51\", element=\"c8c325bb-bf40-420a-a481-e892dbebb44f\")>,\n",
       " <selenium.webdriver.remote.webelement.WebElement (session=\"206ad81bd58ea97b5cfb430f7bfe2c51\", element=\"1935c773-0d33-40af-9cde-11fe357207af\")>,\n",
       " <selenium.webdriver.remote.webelement.WebElement (session=\"206ad81bd58ea97b5cfb430f7bfe2c51\", element=\"ece225d2-b682-45a4-8c68-13a67c283296\")>,\n",
       " <selenium.webdriver.remote.webelement.WebElement (session=\"206ad81bd58ea97b5cfb430f7bfe2c51\", element=\"86a726c6-3a02-46c4-874e-41effb2c7621\")>,\n",
       " <selenium.webdriver.remote.webelement.WebElement (session=\"206ad81bd58ea97b5cfb430f7bfe2c51\", element=\"917dfbb7-492f-4e51-987e-eeee38be8ecc\")>,\n",
       " <selenium.webdriver.remote.webelement.WebElement (session=\"206ad81bd58ea97b5cfb430f7bfe2c51\", element=\"6cb5831d-9fc6-4750-94ab-d4df96b53982\")>,\n",
       " <selenium.webdriver.remote.webelement.WebElement (session=\"206ad81bd58ea97b5cfb430f7bfe2c51\", element=\"97feb697-0258-4c0d-84c0-b227345da4c3\")>,\n",
       " <selenium.webdriver.remote.webelement.WebElement (session=\"206ad81bd58ea97b5cfb430f7bfe2c51\", element=\"82576302-d4f6-4d0d-95d7-c7fa84f0811b\")>,\n",
       " <selenium.webdriver.remote.webelement.WebElement (session=\"206ad81bd58ea97b5cfb430f7bfe2c51\", element=\"056ba1ac-a03d-43ce-aff4-479110d50658\")>,\n",
       " <selenium.webdriver.remote.webelement.WebElement (session=\"206ad81bd58ea97b5cfb430f7bfe2c51\", element=\"beb1778b-057a-45d7-abf4-b3435f75ed4a\")>,\n",
       " <selenium.webdriver.remote.webelement.WebElement (session=\"206ad81bd58ea97b5cfb430f7bfe2c51\", element=\"0f453acb-4942-47ee-95fc-bfd7c6d4e5f3\")>,\n",
       " <selenium.webdriver.remote.webelement.WebElement (session=\"206ad81bd58ea97b5cfb430f7bfe2c51\", element=\"f626d6da-c952-49ae-a6ce-c99f71d1ffa5\")>,\n",
       " <selenium.webdriver.remote.webelement.WebElement (session=\"206ad81bd58ea97b5cfb430f7bfe2c51\", element=\"9e345b03-1b8c-47d1-a264-656942efae72\")>,\n",
       " <selenium.webdriver.remote.webelement.WebElement (session=\"206ad81bd58ea97b5cfb430f7bfe2c51\", element=\"41527ecb-de90-4946-956c-794da66c0d8c\")>,\n",
       " <selenium.webdriver.remote.webelement.WebElement (session=\"206ad81bd58ea97b5cfb430f7bfe2c51\", element=\"ddb0b46b-8a70-41e0-95e1-b1c9137a5b69\")>,\n",
       " <selenium.webdriver.remote.webelement.WebElement (session=\"206ad81bd58ea97b5cfb430f7bfe2c51\", element=\"408bb20f-692b-474c-9477-eb62e4204efe\")>,\n",
       " <selenium.webdriver.remote.webelement.WebElement (session=\"206ad81bd58ea97b5cfb430f7bfe2c51\", element=\"c0cbb803-e65a-4a34-a0a5-248f19ff5be0\")>,\n",
       " <selenium.webdriver.remote.webelement.WebElement (session=\"206ad81bd58ea97b5cfb430f7bfe2c51\", element=\"574e9b04-603f-4323-b2cd-2e6126b36319\")>,\n",
       " <selenium.webdriver.remote.webelement.WebElement (session=\"206ad81bd58ea97b5cfb430f7bfe2c51\", element=\"a3a91889-5128-4a48-a451-bfc30b4916b0\")>,\n",
       " <selenium.webdriver.remote.webelement.WebElement (session=\"206ad81bd58ea97b5cfb430f7bfe2c51\", element=\"867e249a-a82b-4220-bee9-77b4ae59541a\")>,\n",
       " <selenium.webdriver.remote.webelement.WebElement (session=\"206ad81bd58ea97b5cfb430f7bfe2c51\", element=\"242ac7a2-7307-43aa-b54a-9fc7c9996e70\")>,\n",
       " <selenium.webdriver.remote.webelement.WebElement (session=\"206ad81bd58ea97b5cfb430f7bfe2c51\", element=\"7c7462eb-1c8e-45e0-8c24-07e7412a0f98\")>,\n",
       " <selenium.webdriver.remote.webelement.WebElement (session=\"206ad81bd58ea97b5cfb430f7bfe2c51\", element=\"50bc42f4-6255-442c-ac99-f4152642473a\")>,\n",
       " <selenium.webdriver.remote.webelement.WebElement (session=\"206ad81bd58ea97b5cfb430f7bfe2c51\", element=\"4476009f-de18-49c6-8216-7a72862e4baa\")>,\n",
       " <selenium.webdriver.remote.webelement.WebElement (session=\"206ad81bd58ea97b5cfb430f7bfe2c51\", element=\"b51b1dc9-a755-4020-aeab-c299838546e1\")>,\n",
       " <selenium.webdriver.remote.webelement.WebElement (session=\"206ad81bd58ea97b5cfb430f7bfe2c51\", element=\"7d6d42ed-b30c-4ac0-bb0d-d178e62e6ec7\")>,\n",
       " <selenium.webdriver.remote.webelement.WebElement (session=\"206ad81bd58ea97b5cfb430f7bfe2c51\", element=\"5000381b-7c90-47b2-90be-ffef5e0beb78\")>,\n",
       " <selenium.webdriver.remote.webelement.WebElement (session=\"206ad81bd58ea97b5cfb430f7bfe2c51\", element=\"94a2d58f-488b-4129-a041-f88464d327fa\")>,\n",
       " <selenium.webdriver.remote.webelement.WebElement (session=\"206ad81bd58ea97b5cfb430f7bfe2c51\", element=\"f0d07832-e7b1-4634-a571-262cfdfe744e\")>,\n",
       " <selenium.webdriver.remote.webelement.WebElement (session=\"206ad81bd58ea97b5cfb430f7bfe2c51\", element=\"3c87b794-be4e-4cf9-b69f-5fb6e53b6866\")>,\n",
       " <selenium.webdriver.remote.webelement.WebElement (session=\"206ad81bd58ea97b5cfb430f7bfe2c51\", element=\"4889636c-e83d-4156-8393-86cc74b6c4e8\")>,\n",
       " <selenium.webdriver.remote.webelement.WebElement (session=\"206ad81bd58ea97b5cfb430f7bfe2c51\", element=\"0473f15d-9a71-4058-b013-5804e0027f16\")>,\n",
       " <selenium.webdriver.remote.webelement.WebElement (session=\"206ad81bd58ea97b5cfb430f7bfe2c51\", element=\"41b498a1-8d7b-4574-b626-a4d221139c00\")>,\n",
       " <selenium.webdriver.remote.webelement.WebElement (session=\"206ad81bd58ea97b5cfb430f7bfe2c51\", element=\"cc0b7d10-a56c-4683-ba69-8187b03ff47a\")>,\n",
       " <selenium.webdriver.remote.webelement.WebElement (session=\"206ad81bd58ea97b5cfb430f7bfe2c51\", element=\"70b93f6a-762c-4b1b-961d-381b472eb146\")>,\n",
       " <selenium.webdriver.remote.webelement.WebElement (session=\"206ad81bd58ea97b5cfb430f7bfe2c51\", element=\"0523c671-8c90-49e3-bcf7-a9aa5a31d7e3\")>,\n",
       " <selenium.webdriver.remote.webelement.WebElement (session=\"206ad81bd58ea97b5cfb430f7bfe2c51\", element=\"e7f45db2-65ff-4d3e-a3a5-a0c42d6a4704\")>,\n",
       " <selenium.webdriver.remote.webelement.WebElement (session=\"206ad81bd58ea97b5cfb430f7bfe2c51\", element=\"aaaaf870-0f53-4333-ab8a-aad2d605bb47\")>,\n",
       " <selenium.webdriver.remote.webelement.WebElement (session=\"206ad81bd58ea97b5cfb430f7bfe2c51\", element=\"cbd51f00-5941-459c-a04e-1d43b342acd3\")>]"
      ]
     },
     "execution_count": 236,
     "metadata": {},
     "output_type": "execute_result"
    }
   ],
   "source": [
    "offers3_tags=driver.find_elements_by_xpath(\"//div[@class='_3Ay6Sb']\")\n",
    "offers3_tags"
   ]
  },
  {
   "cell_type": "code",
   "execution_count": null,
   "metadata": {},
   "outputs": [],
   "source": []
  },
  {
   "cell_type": "code",
   "execution_count": 237,
   "metadata": {},
   "outputs": [
    {
     "name": "stdout",
     "output_type": "stream",
     "text": [
      "20\n"
     ]
    }
   ],
   "source": [
    "count = 0\n",
    "\n",
    "for i in offers3_tags:\n",
    "    title3=i.text\n",
    "    offers.append(title3)\n",
    "    count = count + 1\n",
    "    if count > 19 :\n",
    "        break\n",
    "print(count)"
   ]
  },
  {
   "cell_type": "code",
   "execution_count": 238,
   "metadata": {},
   "outputs": [
    {
     "name": "stdout",
     "output_type": "stream",
     "text": [
      "100 100 100 100\n"
     ]
    }
   ],
   "source": [
    "print(len(brands),len(prices),len(offers),len(descriptions))"
   ]
  },
  {
   "cell_type": "code",
   "execution_count": 239,
   "metadata": {},
   "outputs": [],
   "source": [
    "sneakers=pd.DataFrame({})\n",
    "sneakers['brands']=brands\n",
    "sneakers['prices']=prices\n",
    "sneakers['descriptions']=descriptions\n"
   ]
  },
  {
   "cell_type": "code",
   "execution_count": 240,
   "metadata": {},
   "outputs": [
    {
     "data": {
      "text/html": [
       "<div>\n",
       "<style scoped>\n",
       "    .dataframe tbody tr th:only-of-type {\n",
       "        vertical-align: middle;\n",
       "    }\n",
       "\n",
       "    .dataframe tbody tr th {\n",
       "        vertical-align: top;\n",
       "    }\n",
       "\n",
       "    .dataframe thead th {\n",
       "        text-align: right;\n",
       "    }\n",
       "</style>\n",
       "<table border=\"1\" class=\"dataframe\">\n",
       "  <thead>\n",
       "    <tr style=\"text-align: right;\">\n",
       "      <th></th>\n",
       "      <th>brands</th>\n",
       "      <th>prices</th>\n",
       "      <th>descriptions</th>\n",
       "    </tr>\n",
       "  </thead>\n",
       "  <tbody>\n",
       "    <tr>\n",
       "      <th>0</th>\n",
       "      <td>HIGHLANDER</td>\n",
       "      <td>₹945</td>\n",
       "      <td>Sneakers For Men</td>\n",
       "    </tr>\n",
       "    <tr>\n",
       "      <th>1</th>\n",
       "      <td>HIGHLANDER</td>\n",
       "      <td>₹945</td>\n",
       "      <td>Sneakers For Men</td>\n",
       "    </tr>\n",
       "    <tr>\n",
       "      <th>2</th>\n",
       "      <td>URBANBOX</td>\n",
       "      <td>₹158</td>\n",
       "      <td>Sneakers Sneakers For Men</td>\n",
       "    </tr>\n",
       "    <tr>\n",
       "      <th>3</th>\n",
       "      <td>aadi</td>\n",
       "      <td>₹269</td>\n",
       "      <td>Sneakers For Men</td>\n",
       "    </tr>\n",
       "    <tr>\n",
       "      <th>4</th>\n",
       "      <td>corsac</td>\n",
       "      <td>₹449</td>\n",
       "      <td>STYLISH MENS BLACK SNEAKER Sneakers For Men</td>\n",
       "    </tr>\n",
       "    <tr>\n",
       "      <th>...</th>\n",
       "      <td>...</td>\n",
       "      <td>...</td>\n",
       "      <td>...</td>\n",
       "    </tr>\n",
       "    <tr>\n",
       "      <th>95</th>\n",
       "      <td>Kirjak</td>\n",
       "      <td>₹440</td>\n",
       "      <td>men's Skyblue sneakers lace-up trendy casual S...</td>\n",
       "    </tr>\n",
       "    <tr>\n",
       "      <th>96</th>\n",
       "      <td>RODDICK SHOES</td>\n",
       "      <td>₹430</td>\n",
       "      <td>Fashion Outdoor Canvas Casual Light Weight Lac...</td>\n",
       "    </tr>\n",
       "    <tr>\n",
       "      <th>97</th>\n",
       "      <td>ZF - ALFIYA</td>\n",
       "      <td>₹395</td>\n",
       "      <td>Sneakers For Men</td>\n",
       "    </tr>\n",
       "    <tr>\n",
       "      <th>98</th>\n",
       "      <td>Zixer</td>\n",
       "      <td>₹549</td>\n",
       "      <td>Men's Streetwear Pro Style High Top Platform F...</td>\n",
       "    </tr>\n",
       "    <tr>\n",
       "      <th>99</th>\n",
       "      <td>HIGHLANDER</td>\n",
       "      <td>₹945</td>\n",
       "      <td>Sneakers For Men</td>\n",
       "    </tr>\n",
       "  </tbody>\n",
       "</table>\n",
       "<p>100 rows × 3 columns</p>\n",
       "</div>"
      ],
      "text/plain": [
       "           brands prices                                       descriptions\n",
       "0      HIGHLANDER   ₹945                                   Sneakers For Men\n",
       "1      HIGHLANDER   ₹945                                   Sneakers For Men\n",
       "2        URBANBOX   ₹158                          Sneakers Sneakers For Men\n",
       "3            aadi   ₹269                                   Sneakers For Men\n",
       "4          corsac   ₹449        STYLISH MENS BLACK SNEAKER Sneakers For Men\n",
       "..            ...    ...                                                ...\n",
       "95         Kirjak   ₹440  men's Skyblue sneakers lace-up trendy casual S...\n",
       "96  RODDICK SHOES   ₹430  Fashion Outdoor Canvas Casual Light Weight Lac...\n",
       "97    ZF - ALFIYA   ₹395                                   Sneakers For Men\n",
       "98          Zixer   ₹549  Men's Streetwear Pro Style High Top Platform F...\n",
       "99     HIGHLANDER   ₹945                                   Sneakers For Men\n",
       "\n",
       "[100 rows x 3 columns]"
      ]
     },
     "execution_count": 240,
     "metadata": {},
     "output_type": "execute_result"
    }
   ],
   "source": [
    "sneakers"
   ]
  },
  {
   "cell_type": "code",
   "execution_count": null,
   "metadata": {},
   "outputs": [],
   "source": []
  }
 ],
 "metadata": {
  "kernelspec": {
   "display_name": "Python 3",
   "language": "python",
   "name": "python3"
  },
  "language_info": {
   "codemirror_mode": {
    "name": "ipython",
    "version": 3
   },
   "file_extension": ".py",
   "mimetype": "text/x-python",
   "name": "python",
   "nbconvert_exporter": "python",
   "pygments_lexer": "ipython3",
   "version": "3.8.5"
  }
 },
 "nbformat": 4,
 "nbformat_minor": 4
}
