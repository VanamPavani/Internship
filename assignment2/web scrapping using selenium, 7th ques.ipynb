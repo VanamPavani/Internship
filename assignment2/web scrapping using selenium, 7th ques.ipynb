{
 "cells": [
  {
   "cell_type": "code",
   "execution_count": 183,
   "metadata": {},
   "outputs": [
    {
     "name": "stdout",
     "output_type": "stream",
     "text": [
      "Requirement already satisfied: selenium in c:\\users\\venkata\\anaconda3\\lib\\site-packages (4.1.3)\n",
      "Requirement already satisfied: urllib3[secure,socks]~=1.26 in c:\\users\\venkata\\anaconda3\\lib\\site-packages (from selenium) (1.26.9)\n",
      "Requirement already satisfied: trio-websocket~=0.9 in c:\\users\\venkata\\anaconda3\\lib\\site-packages (from selenium) (0.9.2)\n",
      "Requirement already satisfied: trio~=0.17 in c:\\users\\venkata\\anaconda3\\lib\\site-packages (from selenium) (0.20.0)\n",
      "Requirement already satisfied: certifi; extra == \"secure\" in c:\\users\\venkata\\anaconda3\\lib\\site-packages (from urllib3[secure,socks]~=1.26->selenium) (2020.6.20)\n",
      "Requirement already satisfied: idna>=2.0.0; extra == \"secure\" in c:\\users\\venkata\\anaconda3\\lib\\site-packages (from urllib3[secure,socks]~=1.26->selenium) (2.10)\n",
      "Requirement already satisfied: cryptography>=1.3.4; extra == \"secure\" in c:\\users\\venkata\\anaconda3\\lib\\site-packages (from urllib3[secure,socks]~=1.26->selenium) (3.1.1)\n",
      "Requirement already satisfied: pyOpenSSL>=0.14; extra == \"secure\" in c:\\users\\venkata\\anaconda3\\lib\\site-packages (from urllib3[secure,socks]~=1.26->selenium) (19.1.0)\n",
      "Requirement already satisfied: PySocks!=1.5.7,<2.0,>=1.5.6; extra == \"socks\" in c:\\users\\venkata\\anaconda3\\lib\\site-packages (from urllib3[secure,socks]~=1.26->selenium) (1.7.1)\n",
      "Requirement already satisfied: wsproto>=0.14 in c:\\users\\venkata\\anaconda3\\lib\\site-packages (from trio-websocket~=0.9->selenium) (1.1.0)\n",
      "Requirement already satisfied: async-generator>=1.10 in c:\\users\\venkata\\anaconda3\\lib\\site-packages (from trio-websocket~=0.9->selenium) (1.10)\n",
      "Requirement already satisfied: sortedcontainers in c:\\users\\venkata\\anaconda3\\lib\\site-packages (from trio~=0.17->selenium) (2.2.2)\n",
      "Requirement already satisfied: cffi>=1.14; os_name == \"nt\" and implementation_name != \"pypy\" in c:\\users\\venkata\\anaconda3\\lib\\site-packages (from trio~=0.17->selenium) (1.14.3)\n",
      "Requirement already satisfied: attrs>=19.2.0 in c:\\users\\venkata\\anaconda3\\lib\\site-packages (from trio~=0.17->selenium) (20.3.0)\n",
      "Requirement already satisfied: outcome in c:\\users\\venkata\\anaconda3\\lib\\site-packages (from trio~=0.17->selenium) (1.1.0)\n",
      "Requirement already satisfied: sniffio in c:\\users\\venkata\\anaconda3\\lib\\site-packages (from trio~=0.17->selenium) (1.2.0)\n",
      "Requirement already satisfied: six>=1.4.1 in c:\\users\\venkata\\anaconda3\\lib\\site-packages (from cryptography>=1.3.4; extra == \"secure\"->urllib3[secure,socks]~=1.26->selenium) (1.15.0)\n",
      "Requirement already satisfied: h11<1,>=0.9.0 in c:\\users\\venkata\\anaconda3\\lib\\site-packages (from wsproto>=0.14->trio-websocket~=0.9->selenium) (0.13.0)\n",
      "Requirement already satisfied: pycparser in c:\\users\\venkata\\anaconda3\\lib\\site-packages (from cffi>=1.14; os_name == \"nt\" and implementation_name != \"pypy\"->trio~=0.17->selenium) (2.20)\n"
     ]
    }
   ],
   "source": [
    "!pip install selenium"
   ]
  },
  {
   "cell_type": "code",
   "execution_count": 184,
   "metadata": {},
   "outputs": [],
   "source": [
    "import selenium\n",
    "import pandas as pd\n",
    "import time\n",
    "from selenium import webdriver\n",
    "import warnings\n",
    "warnings.filterwarnings('ignore')"
   ]
  },
  {
   "cell_type": "code",
   "execution_count": 185,
   "metadata": {},
   "outputs": [],
   "source": [
    "driver = webdriver.Chrome(r\"C:\\Users\\Venkata\\Downloads\\chromedriver_win32\\chromedriver.exe\")"
   ]
  },
  {
   "cell_type": "code",
   "execution_count": 186,
   "metadata": {},
   "outputs": [],
   "source": [
    "driver=webdriver.Chrome(\"chromedriver.exe\")\n",
    "time.sleep(2)"
   ]
  },
  {
   "cell_type": "code",
   "execution_count": 187,
   "metadata": {},
   "outputs": [],
   "source": [
    "driver.get('https://www.myntra.com/shoes')"
   ]
  },
  {
   "cell_type": "code",
   "execution_count": 188,
   "metadata": {},
   "outputs": [],
   "source": [
    "time.sleep(10)\n",
    "checkprice = driver.find_element_by_xpath(\"/html/body/div[2]/div/div[1]/main/div[3]/div[1]/section/div/div[5]/ul/li[2]/label\")\n",
    "checkprice.click();"
   ]
  },
  {
   "cell_type": "code",
   "execution_count": 189,
   "metadata": {},
   "outputs": [],
   "source": [
    "time.sleep(10)\n",
    "checkcolor = driver.find_element_by_xpath(\"/html/body/div[2]/div/div[1]/main/div[3]/div[1]/section/div/div[6]/ul/li[1]\")\n",
    "checkcolor.click();"
   ]
  },
  {
   "cell_type": "code",
   "execution_count": 190,
   "metadata": {},
   "outputs": [],
   "source": [
    "brand=[]\n",
    "price=[]\n",
    "description=[]"
   ]
  },
  {
   "cell_type": "code",
   "execution_count": 191,
   "metadata": {},
   "outputs": [
    {
     "data": {
      "text/plain": [
       "[<selenium.webdriver.remote.webelement.WebElement (session=\"e12d7f894e84c3f89a56103df2a728e8\", element=\"8bda4f30-c69d-4169-b0d5-2a84f99aa885\")>,\n",
       " <selenium.webdriver.remote.webelement.WebElement (session=\"e12d7f894e84c3f89a56103df2a728e8\", element=\"6ec018f0-9bca-4e90-91b6-3c94a29606c4\")>,\n",
       " <selenium.webdriver.remote.webelement.WebElement (session=\"e12d7f894e84c3f89a56103df2a728e8\", element=\"7ed690c4-8404-4e37-95aa-49a2440f5e2a\")>]"
      ]
     },
     "execution_count": 191,
     "metadata": {},
     "output_type": "execute_result"
    }
   ],
   "source": [
    "time.sleep(10)\n",
    "brand_tags=driver.find_elements_by_class_name(\"product-brand\")\n",
    "brand_tags[0:3]"
   ]
  },
  {
   "cell_type": "code",
   "execution_count": 192,
   "metadata": {},
   "outputs": [
    {
     "data": {
      "text/plain": [
       "['Nike', 'ALDO', 'ALDO']"
      ]
     },
     "execution_count": 192,
     "metadata": {},
     "output_type": "execute_result"
    }
   ],
   "source": [
    "for i in brand_tags:\n",
    "    title=i.text\n",
    "    brand.append(title)\n",
    "brand[0:3]"
   ]
  },
  {
   "cell_type": "code",
   "execution_count": 193,
   "metadata": {},
   "outputs": [
    {
     "data": {
      "text/plain": [
       "[<selenium.webdriver.remote.webelement.WebElement (session=\"e12d7f894e84c3f89a56103df2a728e8\", element=\"719835c1-c463-4e36-83c0-d9f0e9194750\")>,\n",
       " <selenium.webdriver.remote.webelement.WebElement (session=\"e12d7f894e84c3f89a56103df2a728e8\", element=\"888676cc-9819-49b4-a6b8-ca6cdc42c737\")>,\n",
       " <selenium.webdriver.remote.webelement.WebElement (session=\"e12d7f894e84c3f89a56103df2a728e8\", element=\"b147e139-7676-433a-bff2-501019b7cfdd\")>]"
      ]
     },
     "execution_count": 193,
     "metadata": {},
     "output_type": "execute_result"
    }
   ],
   "source": [
    "price_tags=driver.find_elements_by_class_name(\"product-price\")\n",
    "price_tags[0:3]"
   ]
  },
  {
   "cell_type": "code",
   "execution_count": 194,
   "metadata": {},
   "outputs": [
    {
     "data": {
      "text/plain": [
       "['Rs. 8725Rs. 9695(10% OFF)', 'Rs. 12999', 'Rs. 9099Rs. 12999(30% OFF)']"
      ]
     },
     "execution_count": 194,
     "metadata": {},
     "output_type": "execute_result"
    }
   ],
   "source": [
    "for i in price_tags:\n",
    "    title=i.text\n",
    "    price.append(title)\n",
    "price[0:3]"
   ]
  },
  {
   "cell_type": "code",
   "execution_count": 195,
   "metadata": {},
   "outputs": [
    {
     "data": {
      "text/plain": [
       "[<selenium.webdriver.remote.webelement.WebElement (session=\"e12d7f894e84c3f89a56103df2a728e8\", element=\"e917e30f-a7e7-4a66-9d50-8a96aa9b5229\")>,\n",
       " <selenium.webdriver.remote.webelement.WebElement (session=\"e12d7f894e84c3f89a56103df2a728e8\", element=\"2c80ad4a-3840-4e9c-a096-449438cf0515\")>,\n",
       " <selenium.webdriver.remote.webelement.WebElement (session=\"e12d7f894e84c3f89a56103df2a728e8\", element=\"299d7bbd-590f-4d11-9115-2e564a4ee129\")>]"
      ]
     },
     "execution_count": 195,
     "metadata": {},
     "output_type": "execute_result"
    }
   ],
   "source": [
    "description_tags=driver.find_elements_by_xpath(\"//h4[@class='product-product']\")\n",
    "description_tags[0:3]                                            "
   ]
  },
  {
   "cell_type": "code",
   "execution_count": 196,
   "metadata": {},
   "outputs": [
    {
     "data": {
      "text/plain": [
       "[\"AIRFORCE 1'07 LV8 EMB Sneakers\",\n",
       " 'Men Leather Driving Shoes',\n",
       " 'Men Printed Sneakers']"
      ]
     },
     "execution_count": 196,
     "metadata": {},
     "output_type": "execute_result"
    }
   ],
   "source": [
    "for i in description_tags:\n",
    "    title=i.text\n",
    "    description.append(title)\n",
    "description[0:3]"
   ]
  },
  {
   "cell_type": "code",
   "execution_count": 197,
   "metadata": {},
   "outputs": [
    {
     "name": "stdout",
     "output_type": "stream",
     "text": [
      "50 50 50\n"
     ]
    }
   ],
   "source": [
    "print(len(brand),len(price),len(description))"
   ]
  },
  {
   "cell_type": "code",
   "execution_count": 198,
   "metadata": {},
   "outputs": [],
   "source": [
    "search_next_button=driver.find_element_by_xpath(\"/html/body/div[2]/div/div[1]/main/div[3]/div[2]/div/div[2]/section/div[2]/ul/li[12]/a\")\n",
    "search_next_button.click()"
   ]
  },
  {
   "cell_type": "code",
   "execution_count": 199,
   "metadata": {},
   "outputs": [
    {
     "data": {
      "text/plain": [
       "[<selenium.webdriver.remote.webelement.WebElement (session=\"e12d7f894e84c3f89a56103df2a728e8\", element=\"e41e4491-9ad1-4e69-93c4-056cd6e18293\")>,\n",
       " <selenium.webdriver.remote.webelement.WebElement (session=\"e12d7f894e84c3f89a56103df2a728e8\", element=\"6acc3e47-facf-4124-a106-97efc6348225\")>,\n",
       " <selenium.webdriver.remote.webelement.WebElement (session=\"e12d7f894e84c3f89a56103df2a728e8\", element=\"f652a19a-3502-4a10-b0e2-92f507e811c7\")>]"
      ]
     },
     "execution_count": 199,
     "metadata": {},
     "output_type": "execute_result"
    }
   ],
   "source": [
    "time.sleep(10)\n",
    "brand2_tags=driver.find_elements_by_xpath(\"//h3[@class='product-brand']\")\n",
    "brand2_tags[0:3]"
   ]
  },
  {
   "cell_type": "code",
   "execution_count": 200,
   "metadata": {},
   "outputs": [
    {
     "data": {
      "text/plain": [
       "['ADIDAS', 'Bugatti', 'PUMA Hoops']"
      ]
     },
     "execution_count": 200,
     "metadata": {},
     "output_type": "execute_result"
    }
   ],
   "source": [
    "for i in brand2_tags:\n",
    "    title=i.text\n",
    "    brand.append(title)\n",
    "brand[50:53]"
   ]
  },
  {
   "cell_type": "code",
   "execution_count": 201,
   "metadata": {},
   "outputs": [
    {
     "name": "stdout",
     "output_type": "stream",
     "text": [
      "100\n"
     ]
    }
   ],
   "source": [
    "print(len(brand))"
   ]
  },
  {
   "cell_type": "code",
   "execution_count": 202,
   "metadata": {},
   "outputs": [
    {
     "data": {
      "text/plain": [
       "[<selenium.webdriver.remote.webelement.WebElement (session=\"e12d7f894e84c3f89a56103df2a728e8\", element=\"315c6370-64b8-48e8-acfd-6c4e1cb029ee\")>,\n",
       " <selenium.webdriver.remote.webelement.WebElement (session=\"e12d7f894e84c3f89a56103df2a728e8\", element=\"99b1770f-2172-4927-944a-da717d1dbd28\")>,\n",
       " <selenium.webdriver.remote.webelement.WebElement (session=\"e12d7f894e84c3f89a56103df2a728e8\", element=\"643b1f3a-2028-476b-a6bd-18221477f440\")>]"
      ]
     },
     "execution_count": 202,
     "metadata": {},
     "output_type": "execute_result"
    }
   ],
   "source": [
    "price2_tags=driver.find_elements_by_class_name(\"product-price\")\n",
    "price2_tags[0:3]"
   ]
  },
  {
   "cell_type": "code",
   "execution_count": 203,
   "metadata": {},
   "outputs": [
    {
     "data": {
      "text/plain": [
       "['Rs. 12999', 'Rs. 8999', 'Rs. 7999']"
      ]
     },
     "execution_count": 203,
     "metadata": {},
     "output_type": "execute_result"
    }
   ],
   "source": [
    "for i in price2_tags:\n",
    "    title=i.text\n",
    "    price.append(title)\n",
    "price[50:53]"
   ]
  },
  {
   "cell_type": "code",
   "execution_count": 204,
   "metadata": {},
   "outputs": [
    {
     "data": {
      "text/plain": [
       "[<selenium.webdriver.remote.webelement.WebElement (session=\"e12d7f894e84c3f89a56103df2a728e8\", element=\"29a90ce1-eae3-4b25-bc93-940a07cce2b2\")>,\n",
       " <selenium.webdriver.remote.webelement.WebElement (session=\"e12d7f894e84c3f89a56103df2a728e8\", element=\"4071ff51-a11a-4adc-bcce-14893eb6c914\")>,\n",
       " <selenium.webdriver.remote.webelement.WebElement (session=\"e12d7f894e84c3f89a56103df2a728e8\", element=\"0352d28e-fcca-4f89-bc3d-0e8a9e93cca2\")>]"
      ]
     },
     "execution_count": 204,
     "metadata": {},
     "output_type": "execute_result"
    }
   ],
   "source": [
    "description2_tags=driver.find_elements_by_xpath(\"//h4[@class='product-product']\")\n",
    "description2_tags[0:3]"
   ]
  },
  {
   "cell_type": "code",
   "execution_count": 205,
   "metadata": {},
   "outputs": [
    {
     "data": {
      "text/plain": [
       "['Women Dropset Training Shoes', 'Men Leather Monks', '']"
      ]
     },
     "execution_count": 205,
     "metadata": {},
     "output_type": "execute_result"
    }
   ],
   "source": [
    "for i in description2_tags:\n",
    "    title=i.text\n",
    "    description.append(title)\n",
    "description[50:53]"
   ]
  },
  {
   "cell_type": "code",
   "execution_count": 206,
   "metadata": {},
   "outputs": [
    {
     "name": "stdout",
     "output_type": "stream",
     "text": [
      "100 100 100\n"
     ]
    }
   ],
   "source": [
    "print(len(brand),len(price),len(description))"
   ]
  },
  {
   "cell_type": "code",
   "execution_count": 207,
   "metadata": {},
   "outputs": [],
   "source": [
    "shoes=pd.DataFrame({})\n",
    "shoes['Brand']=brand\n",
    "shoes['Price']=price\n",
    "shoes['Description']=description\n"
   ]
  },
  {
   "cell_type": "code",
   "execution_count": 208,
   "metadata": {},
   "outputs": [
    {
     "data": {
      "text/html": [
       "<div>\n",
       "<style scoped>\n",
       "    .dataframe tbody tr th:only-of-type {\n",
       "        vertical-align: middle;\n",
       "    }\n",
       "\n",
       "    .dataframe tbody tr th {\n",
       "        vertical-align: top;\n",
       "    }\n",
       "\n",
       "    .dataframe thead th {\n",
       "        text-align: right;\n",
       "    }\n",
       "</style>\n",
       "<table border=\"1\" class=\"dataframe\">\n",
       "  <thead>\n",
       "    <tr style=\"text-align: right;\">\n",
       "      <th></th>\n",
       "      <th>Brand</th>\n",
       "      <th>Price</th>\n",
       "      <th>Description</th>\n",
       "    </tr>\n",
       "  </thead>\n",
       "  <tbody>\n",
       "    <tr>\n",
       "      <th>0</th>\n",
       "      <td>Nike</td>\n",
       "      <td>Rs. 8725Rs. 9695(10% OFF)</td>\n",
       "      <td>AIRFORCE 1'07 LV8 EMB Sneakers</td>\n",
       "    </tr>\n",
       "    <tr>\n",
       "      <th>1</th>\n",
       "      <td>ALDO</td>\n",
       "      <td>Rs. 12999</td>\n",
       "      <td>Men Leather Driving Shoes</td>\n",
       "    </tr>\n",
       "    <tr>\n",
       "      <th>2</th>\n",
       "      <td>ALDO</td>\n",
       "      <td>Rs. 9099Rs. 12999(30% OFF)</td>\n",
       "      <td>Men Printed Sneakers</td>\n",
       "    </tr>\n",
       "    <tr>\n",
       "      <th>3</th>\n",
       "      <td>Hush Puppies</td>\n",
       "      <td>Rs. 7649Rs. 8999(15% OFF)</td>\n",
       "      <td>Men Solid Leather Formal Slip-Ons</td>\n",
       "    </tr>\n",
       "    <tr>\n",
       "      <th>4</th>\n",
       "      <td>ADIDAS</td>\n",
       "      <td>Rs. 12999</td>\n",
       "      <td>Men Dropset Training Shoes</td>\n",
       "    </tr>\n",
       "    <tr>\n",
       "      <th>...</th>\n",
       "      <td>...</td>\n",
       "      <td>...</td>\n",
       "      <td>...</td>\n",
       "    </tr>\n",
       "    <tr>\n",
       "      <th>95</th>\n",
       "      <td>Columbia</td>\n",
       "      <td>Rs. 9999</td>\n",
       "      <td>PEAKFREAK OUTDRY Trekking Shoe</td>\n",
       "    </tr>\n",
       "    <tr>\n",
       "      <th>96</th>\n",
       "      <td>Florsheim</td>\n",
       "      <td>Rs. 9995</td>\n",
       "      <td>Men Leather Formal Monks</td>\n",
       "    </tr>\n",
       "    <tr>\n",
       "      <th>97</th>\n",
       "      <td>Geox</td>\n",
       "      <td>Rs. 10999</td>\n",
       "      <td>Men Printed Slip-On Sneakers</td>\n",
       "    </tr>\n",
       "    <tr>\n",
       "      <th>98</th>\n",
       "      <td>RARE RABBIT</td>\n",
       "      <td>Rs. 7699Rs. 10999(30% OFF)</td>\n",
       "      <td>Men Textured Leather Loafers</td>\n",
       "    </tr>\n",
       "    <tr>\n",
       "      <th>99</th>\n",
       "      <td>J.FONTINI</td>\n",
       "      <td>Rs. 7490</td>\n",
       "      <td>Men Leather Formal Loafers</td>\n",
       "    </tr>\n",
       "  </tbody>\n",
       "</table>\n",
       "<p>100 rows × 3 columns</p>\n",
       "</div>"
      ],
      "text/plain": [
       "           Brand                       Price  \\\n",
       "0           Nike   Rs. 8725Rs. 9695(10% OFF)   \n",
       "1           ALDO                   Rs. 12999   \n",
       "2           ALDO  Rs. 9099Rs. 12999(30% OFF)   \n",
       "3   Hush Puppies   Rs. 7649Rs. 8999(15% OFF)   \n",
       "4         ADIDAS                   Rs. 12999   \n",
       "..           ...                         ...   \n",
       "95      Columbia                    Rs. 9999   \n",
       "96     Florsheim                    Rs. 9995   \n",
       "97          Geox                   Rs. 10999   \n",
       "98   RARE RABBIT  Rs. 7699Rs. 10999(30% OFF)   \n",
       "99     J.FONTINI                    Rs. 7490   \n",
       "\n",
       "                          Description  \n",
       "0      AIRFORCE 1'07 LV8 EMB Sneakers  \n",
       "1           Men Leather Driving Shoes  \n",
       "2                Men Printed Sneakers  \n",
       "3   Men Solid Leather Formal Slip-Ons  \n",
       "4          Men Dropset Training Shoes  \n",
       "..                                ...  \n",
       "95     PEAKFREAK OUTDRY Trekking Shoe  \n",
       "96           Men Leather Formal Monks  \n",
       "97       Men Printed Slip-On Sneakers  \n",
       "98       Men Textured Leather Loafers  \n",
       "99         Men Leather Formal Loafers  \n",
       "\n",
       "[100 rows x 3 columns]"
      ]
     },
     "execution_count": 208,
     "metadata": {},
     "output_type": "execute_result"
    }
   ],
   "source": [
    "shoes"
   ]
  },
  {
   "cell_type": "code",
   "execution_count": null,
   "metadata": {},
   "outputs": [],
   "source": []
  }
 ],
 "metadata": {
  "kernelspec": {
   "display_name": "Python 3",
   "language": "python",
   "name": "python3"
  },
  "language_info": {
   "codemirror_mode": {
    "name": "ipython",
    "version": 3
   },
   "file_extension": ".py",
   "mimetype": "text/x-python",
   "name": "python",
   "nbconvert_exporter": "python",
   "pygments_lexer": "ipython3",
   "version": "3.8.5"
  }
 },
 "nbformat": 4,
 "nbformat_minor": 4
}
