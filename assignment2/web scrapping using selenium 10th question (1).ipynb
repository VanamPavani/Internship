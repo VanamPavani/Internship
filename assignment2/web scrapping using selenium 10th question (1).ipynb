{
 "cells": [
  {
   "cell_type": "code",
   "execution_count": 125,
   "metadata": {},
   "outputs": [
    {
     "name": "stdout",
     "output_type": "stream",
     "text": [
      "Requirement already satisfied: selenium in c:\\users\\venkata\\anaconda3\\lib\\site-packages (4.1.3)\n",
      "Requirement already satisfied: trio-websocket~=0.9 in c:\\users\\venkata\\anaconda3\\lib\\site-packages (from selenium) (0.9.2)\n",
      "Requirement already satisfied: urllib3[secure,socks]~=1.26 in c:\\users\\venkata\\anaconda3\\lib\\site-packages (from selenium) (1.26.9)\n",
      "Requirement already satisfied: trio~=0.17 in c:\\users\\venkata\\anaconda3\\lib\\site-packages (from selenium) (0.20.0)\n",
      "Requirement already satisfied: wsproto>=0.14 in c:\\users\\venkata\\anaconda3\\lib\\site-packages (from trio-websocket~=0.9->selenium) (1.1.0)\n",
      "Requirement already satisfied: async-generator>=1.10 in c:\\users\\venkata\\anaconda3\\lib\\site-packages (from trio-websocket~=0.9->selenium) (1.10)\n",
      "Requirement already satisfied: pyOpenSSL>=0.14; extra == \"secure\" in c:\\users\\venkata\\anaconda3\\lib\\site-packages (from urllib3[secure,socks]~=1.26->selenium) (19.1.0)\n",
      "Requirement already satisfied: idna>=2.0.0; extra == \"secure\" in c:\\users\\venkata\\anaconda3\\lib\\site-packages (from urllib3[secure,socks]~=1.26->selenium) (2.10)\n",
      "Requirement already satisfied: certifi; extra == \"secure\" in c:\\users\\venkata\\anaconda3\\lib\\site-packages (from urllib3[secure,socks]~=1.26->selenium) (2020.6.20)\n",
      "Requirement already satisfied: cryptography>=1.3.4; extra == \"secure\" in c:\\users\\venkata\\anaconda3\\lib\\site-packages (from urllib3[secure,socks]~=1.26->selenium) (3.1.1)\n",
      "Requirement already satisfied: PySocks!=1.5.7,<2.0,>=1.5.6; extra == \"socks\" in c:\\users\\venkata\\anaconda3\\lib\\site-packages (from urllib3[secure,socks]~=1.26->selenium) (1.7.1)\n",
      "Requirement already satisfied: sortedcontainers in c:\\users\\venkata\\anaconda3\\lib\\site-packages (from trio~=0.17->selenium) (2.2.2)\n",
      "Requirement already satisfied: cffi>=1.14; os_name == \"nt\" and implementation_name != \"pypy\" in c:\\users\\venkata\\anaconda3\\lib\\site-packages (from trio~=0.17->selenium) (1.14.3)\n",
      "Requirement already satisfied: sniffio in c:\\users\\venkata\\anaconda3\\lib\\site-packages (from trio~=0.17->selenium) (1.2.0)\n",
      "Requirement already satisfied: attrs>=19.2.0 in c:\\users\\venkata\\anaconda3\\lib\\site-packages (from trio~=0.17->selenium) (20.3.0)\n",
      "Requirement already satisfied: outcome in c:\\users\\venkata\\anaconda3\\lib\\site-packages (from trio~=0.17->selenium) (1.1.0)\n",
      "Requirement already satisfied: h11<1,>=0.9.0 in c:\\users\\venkata\\anaconda3\\lib\\site-packages (from wsproto>=0.14->trio-websocket~=0.9->selenium) (0.13.0)\n",
      "Requirement already satisfied: six>=1.5.2 in c:\\users\\venkata\\anaconda3\\lib\\site-packages (from pyOpenSSL>=0.14; extra == \"secure\"->urllib3[secure,socks]~=1.26->selenium) (1.15.0)\n",
      "Requirement already satisfied: pycparser in c:\\users\\venkata\\anaconda3\\lib\\site-packages (from cffi>=1.14; os_name == \"nt\" and implementation_name != \"pypy\"->trio~=0.17->selenium) (2.20)\n"
     ]
    }
   ],
   "source": [
    "!pip install selenium"
   ]
  },
  {
   "cell_type": "code",
   "execution_count": 126,
   "metadata": {},
   "outputs": [],
   "source": [
    "import selenium\n",
    "import pandas as pd\n",
    "import time\n",
    "from selenium import webdriver\n",
    "import warnings\n",
    "warnings.filterwarnings('ignore')"
   ]
  },
  {
   "cell_type": "code",
   "execution_count": 127,
   "metadata": {},
   "outputs": [],
   "source": [
    "driver = webdriver.Chrome(r\"C:\\Users\\Venkata\\Downloads\\chromedriver_win32\\chromedriver.exe\")"
   ]
  },
  {
   "cell_type": "code",
   "execution_count": 128,
   "metadata": {},
   "outputs": [],
   "source": [
    "driver=webdriver.Chrome(\"chromedriver.exe\")\n",
    "time.sleep(2)"
   ]
  },
  {
   "cell_type": "code",
   "execution_count": 129,
   "metadata": {},
   "outputs": [],
   "source": [
    "driver.get('https://www.ambitionbox.com/')"
   ]
  },
  {
   "cell_type": "code",
   "execution_count": 130,
   "metadata": {},
   "outputs": [],
   "source": [
    "salaries_link=driver.find_element_by_xpath(\"/html/body/div[1]/nav/nav/a[4]\")\n",
    "salaries_link.click()"
   ]
  },
  {
   "cell_type": "code",
   "execution_count": 131,
   "metadata": {},
   "outputs": [],
   "source": [
    "time.sleep(10)\n",
    "search_field_designation=driver.find_element_by_xpath(\"/html/body/div/div/div/main/section[1]/div[2]/div[1]/span/input\")\n",
    "search_field_designation.send_keys(\"Data Scientist\")"
   ]
  },
  {
   "cell_type": "code",
   "execution_count": 132,
   "metadata": {},
   "outputs": [],
   "source": [
    "time.sleep(10)\n",
    "search_button=driver.find_element_by_xpath(\"/html/body/div/div/div/main/section[1]/div[2]/div[1]/span/div/div/div[1]\")\n",
    "search_button.click()"
   ]
  },
  {
   "cell_type": "code",
   "execution_count": 133,
   "metadata": {},
   "outputs": [],
   "source": [
    "time.sleep(10)"
   ]
  },
  {
   "cell_type": "code",
   "execution_count": 134,
   "metadata": {},
   "outputs": [],
   "source": [
    "company_names=[]\n",
    "total_salary_records=[]\n",
    "average_salaries=[]\n",
    "minimum_salaries=[]\n",
    "maximum_salaries=[]\n",
    "experience_list=[]"
   ]
  },
  {
   "cell_type": "code",
   "execution_count": 135,
   "metadata": {},
   "outputs": [
    {
     "data": {
      "text/plain": [
       "[<selenium.webdriver.remote.webelement.WebElement (session=\"ba34017ec3df375d511a3c26dfc57901\", element=\"e8110457-91da-4aa4-bdd2-1883e436bcbd\")>,\n",
       " <selenium.webdriver.remote.webelement.WebElement (session=\"ba34017ec3df375d511a3c26dfc57901\", element=\"dfc5c7e5-725b-42c7-9059-f9b512362fc7\")>,\n",
       " <selenium.webdriver.remote.webelement.WebElement (session=\"ba34017ec3df375d511a3c26dfc57901\", element=\"5064f6c7-1bcf-4ded-9fc7-0fbf34b009fa\")>,\n",
       " <selenium.webdriver.remote.webelement.WebElement (session=\"ba34017ec3df375d511a3c26dfc57901\", element=\"d5b03ac1-e896-45bf-8a05-37f054dd1c27\")>,\n",
       " <selenium.webdriver.remote.webelement.WebElement (session=\"ba34017ec3df375d511a3c26dfc57901\", element=\"131e218c-740f-4131-ba9a-63356f9809e4\")>,\n",
       " <selenium.webdriver.remote.webelement.WebElement (session=\"ba34017ec3df375d511a3c26dfc57901\", element=\"5c916d1b-93fb-48a2-8aed-2ec9a6ab8d01\")>,\n",
       " <selenium.webdriver.remote.webelement.WebElement (session=\"ba34017ec3df375d511a3c26dfc57901\", element=\"b3ebeab3-6636-44ab-825f-ff9f9473dc08\")>,\n",
       " <selenium.webdriver.remote.webelement.WebElement (session=\"ba34017ec3df375d511a3c26dfc57901\", element=\"9b1e3ae2-6f50-4bee-9786-9ff2b407c528\")>,\n",
       " <selenium.webdriver.remote.webelement.WebElement (session=\"ba34017ec3df375d511a3c26dfc57901\", element=\"22db9cda-775a-418c-a871-b641198893a1\")>,\n",
       " <selenium.webdriver.remote.webelement.WebElement (session=\"ba34017ec3df375d511a3c26dfc57901\", element=\"05635d5f-df9a-4467-bbd1-ec6ea96c0bc5\")>,\n",
       " <selenium.webdriver.remote.webelement.WebElement (session=\"ba34017ec3df375d511a3c26dfc57901\", element=\"c77ea95d-2cc4-4f81-9a55-d2862323dc4e\")>,\n",
       " <selenium.webdriver.remote.webelement.WebElement (session=\"ba34017ec3df375d511a3c26dfc57901\", element=\"7317e071-8454-4910-af4e-0fdc6090c371\")>,\n",
       " <selenium.webdriver.remote.webelement.WebElement (session=\"ba34017ec3df375d511a3c26dfc57901\", element=\"de75fdfa-38a5-48ae-a992-9e606f93d1c6\")>,\n",
       " <selenium.webdriver.remote.webelement.WebElement (session=\"ba34017ec3df375d511a3c26dfc57901\", element=\"04040c9c-4452-4a6c-8d68-847747fe5e29\")>,\n",
       " <selenium.webdriver.remote.webelement.WebElement (session=\"ba34017ec3df375d511a3c26dfc57901\", element=\"ddc4286e-22a2-46d0-bf52-4c807f5599e4\")>,\n",
       " <selenium.webdriver.remote.webelement.WebElement (session=\"ba34017ec3df375d511a3c26dfc57901\", element=\"6def8f8a-42b6-47f2-9760-d10b6182cf73\")>,\n",
       " <selenium.webdriver.remote.webelement.WebElement (session=\"ba34017ec3df375d511a3c26dfc57901\", element=\"79052846-5dab-4ec3-b379-a1924ea5c0e4\")>,\n",
       " <selenium.webdriver.remote.webelement.WebElement (session=\"ba34017ec3df375d511a3c26dfc57901\", element=\"d7fe8fa9-5ecf-4dd5-8651-9c5cc3ddfefc\")>,\n",
       " <selenium.webdriver.remote.webelement.WebElement (session=\"ba34017ec3df375d511a3c26dfc57901\", element=\"5ecfb332-ea71-4e31-bc24-23155ea970c7\")>,\n",
       " <selenium.webdriver.remote.webelement.WebElement (session=\"ba34017ec3df375d511a3c26dfc57901\", element=\"fa8cc6b8-ce19-4870-a5a7-503cc2dad8d4\")>,\n",
       " <selenium.webdriver.remote.webelement.WebElement (session=\"ba34017ec3df375d511a3c26dfc57901\", element=\"90990bed-c45d-4e78-8726-6cef032e3c8c\")>,\n",
       " <selenium.webdriver.remote.webelement.WebElement (session=\"ba34017ec3df375d511a3c26dfc57901\", element=\"ab22e329-9ad5-4abf-bbf1-e2bfdeeadf82\")>,\n",
       " <selenium.webdriver.remote.webelement.WebElement (session=\"ba34017ec3df375d511a3c26dfc57901\", element=\"860be29b-f59c-4de5-9a54-67f759fdf03e\")>,\n",
       " <selenium.webdriver.remote.webelement.WebElement (session=\"ba34017ec3df375d511a3c26dfc57901\", element=\"de47a368-de17-4b3f-b1d6-93bac210eb9e\")>,\n",
       " <selenium.webdriver.remote.webelement.WebElement (session=\"ba34017ec3df375d511a3c26dfc57901\", element=\"a99aeb4a-db78-4e39-9630-ba2c11f3fb93\")>,\n",
       " <selenium.webdriver.remote.webelement.WebElement (session=\"ba34017ec3df375d511a3c26dfc57901\", element=\"8d0898a8-62fd-48e6-915e-48bd9007e420\")>,\n",
       " <selenium.webdriver.remote.webelement.WebElement (session=\"ba34017ec3df375d511a3c26dfc57901\", element=\"6fbdb2bb-85e6-45f5-99f6-6ecc30789754\")>,\n",
       " <selenium.webdriver.remote.webelement.WebElement (session=\"ba34017ec3df375d511a3c26dfc57901\", element=\"8bb54a80-bc61-4869-a230-70094d210d40\")>,\n",
       " <selenium.webdriver.remote.webelement.WebElement (session=\"ba34017ec3df375d511a3c26dfc57901\", element=\"7a0ffab5-2d2a-4353-934e-f09e318a100f\")>,\n",
       " <selenium.webdriver.remote.webelement.WebElement (session=\"ba34017ec3df375d511a3c26dfc57901\", element=\"d0f87797-bc6b-4af6-a532-58f32bbddb10\")>,\n",
       " <selenium.webdriver.remote.webelement.WebElement (session=\"ba34017ec3df375d511a3c26dfc57901\", element=\"1c9f2b46-506e-43ae-ae20-44f0c746ba00\")>,\n",
       " <selenium.webdriver.remote.webelement.WebElement (session=\"ba34017ec3df375d511a3c26dfc57901\", element=\"ea5b52b3-b4fd-4b65-89a6-5a4b6436adb0\")>,\n",
       " <selenium.webdriver.remote.webelement.WebElement (session=\"ba34017ec3df375d511a3c26dfc57901\", element=\"b67f2899-261c-40c0-8575-bfbd9a31b8d2\")>,\n",
       " <selenium.webdriver.remote.webelement.WebElement (session=\"ba34017ec3df375d511a3c26dfc57901\", element=\"b5e0b796-9fce-4205-ac51-936f5a36bf71\")>,\n",
       " <selenium.webdriver.remote.webelement.WebElement (session=\"ba34017ec3df375d511a3c26dfc57901\", element=\"f48bab9f-b0b1-4edd-b2be-5ea458342d3d\")>,\n",
       " <selenium.webdriver.remote.webelement.WebElement (session=\"ba34017ec3df375d511a3c26dfc57901\", element=\"b9a11abd-7887-47b9-8c70-0c64e7256591\")>,\n",
       " <selenium.webdriver.remote.webelement.WebElement (session=\"ba34017ec3df375d511a3c26dfc57901\", element=\"0cbe111c-acef-4729-9f17-2856aa7ec408\")>,\n",
       " <selenium.webdriver.remote.webelement.WebElement (session=\"ba34017ec3df375d511a3c26dfc57901\", element=\"4287c223-01db-4830-8995-d5ae61e66e4d\")>,\n",
       " <selenium.webdriver.remote.webelement.WebElement (session=\"ba34017ec3df375d511a3c26dfc57901\", element=\"79c2fd4d-b42f-48c8-ab68-93f0d20e7fae\")>,\n",
       " <selenium.webdriver.remote.webelement.WebElement (session=\"ba34017ec3df375d511a3c26dfc57901\", element=\"72bc3bd5-f7e3-4ef2-b3e7-5d4be42c1471\")>]"
      ]
     },
     "execution_count": 135,
     "metadata": {},
     "output_type": "execute_result"
    }
   ],
   "source": [
    "\n",
    "companies_tags = driver.find_elements_by_xpath(\"//a[starts-with(@href, 'https://www.ambitionbox.com/salaries/')]\")\n",
    "companies_tags\n"
   ]
  },
  {
   "cell_type": "code",
   "execution_count": 136,
   "metadata": {},
   "outputs": [
    {
     "data": {
      "text/plain": [
       "['Walmart',\n",
       " 'Ab Inbev',\n",
       " 'Reliance Jio',\n",
       " 'ZS',\n",
       " 'Optum',\n",
       " 'Fractal Analytics',\n",
       " 'Tiger Analytics',\n",
       " 'UnitedHealth',\n",
       " 'Verizon',\n",
       " 'Ganit Business Solutions']"
      ]
     },
     "execution_count": 136,
     "metadata": {},
     "output_type": "execute_result"
    }
   ],
   "source": [
    "count =1\n",
    "for i in companies_tags:\n",
    "    company_name=i.text\n",
    "    company_names.append(company_name)\n",
    "    if count > 9 :\n",
    "        break;\n",
    "    count = count +1\n",
    "company_names"
   ]
  },
  {
   "cell_type": "code",
   "execution_count": 137,
   "metadata": {},
   "outputs": [
    {
     "data": {
      "text/plain": [
       "[<selenium.webdriver.remote.webelement.WebElement (session=\"ba34017ec3df375d511a3c26dfc57901\", element=\"7b3fe575-7dc2-428d-afa8-7db402ca1abc\")>,\n",
       " <selenium.webdriver.remote.webelement.WebElement (session=\"ba34017ec3df375d511a3c26dfc57901\", element=\"971dd363-a500-430d-8a90-a01ed78d4cab\")>,\n",
       " <selenium.webdriver.remote.webelement.WebElement (session=\"ba34017ec3df375d511a3c26dfc57901\", element=\"ad5789f7-9059-409b-b4d9-5422395f765c\")>,\n",
       " <selenium.webdriver.remote.webelement.WebElement (session=\"ba34017ec3df375d511a3c26dfc57901\", element=\"50c0debb-4daa-47b0-85e4-d420e756510e\")>,\n",
       " <selenium.webdriver.remote.webelement.WebElement (session=\"ba34017ec3df375d511a3c26dfc57901\", element=\"c5b9d555-bfbb-4269-9c8f-0b60062dc8e3\")>,\n",
       " <selenium.webdriver.remote.webelement.WebElement (session=\"ba34017ec3df375d511a3c26dfc57901\", element=\"172f824d-5b96-4961-a2d6-65ef985ada16\")>,\n",
       " <selenium.webdriver.remote.webelement.WebElement (session=\"ba34017ec3df375d511a3c26dfc57901\", element=\"e1a321e2-fbad-4564-ae14-fc4c2e1d0763\")>,\n",
       " <selenium.webdriver.remote.webelement.WebElement (session=\"ba34017ec3df375d511a3c26dfc57901\", element=\"54eead61-5849-45d8-ad78-54981b44d01e\")>,\n",
       " <selenium.webdriver.remote.webelement.WebElement (session=\"ba34017ec3df375d511a3c26dfc57901\", element=\"e48ab46d-11ea-4f48-8654-439a2d77c6b6\")>,\n",
       " <selenium.webdriver.remote.webelement.WebElement (session=\"ba34017ec3df375d511a3c26dfc57901\", element=\"aeaae78d-dfc7-41f6-a76b-b5b07a41c622\")>]"
      ]
     },
     "execution_count": 137,
     "metadata": {},
     "output_type": "execute_result"
    }
   ],
   "source": [
    "total_salary_record_tags=driver.find_elements_by_xpath(\"//span[contains(text(), 'based on')]\")\n",
    "total_salary_record_tags"
   ]
  },
  {
   "cell_type": "code",
   "execution_count": 138,
   "metadata": {},
   "outputs": [
    {
     "data": {
      "text/plain": [
       "['based on 11 salaries', 'based on 32 salaries', 'based on 10 salaries']"
      ]
     },
     "execution_count": 138,
     "metadata": {},
     "output_type": "execute_result"
    }
   ],
   "source": [
    "for i in total_salary_record_tags:\n",
    "    total_salary_record=i.text\n",
    "    total_salary_records.append(total_salary_record)\n",
    "total_salary_records[0:3]"
   ]
  },
  {
   "cell_type": "code",
   "execution_count": 139,
   "metadata": {},
   "outputs": [
    {
     "data": {
      "text/plain": [
       "[<selenium.webdriver.remote.webelement.WebElement (session=\"ba34017ec3df375d511a3c26dfc57901\", element=\"42c72859-afee-4aed-a352-00e8fc3552d3\")>,\n",
       " <selenium.webdriver.remote.webelement.WebElement (session=\"ba34017ec3df375d511a3c26dfc57901\", element=\"d84e2c64-d5b8-4d0f-b20f-fbed42db7426\")>,\n",
       " <selenium.webdriver.remote.webelement.WebElement (session=\"ba34017ec3df375d511a3c26dfc57901\", element=\"4dd90e0a-a0bd-4589-91c5-45722a730c50\")>]"
      ]
     },
     "execution_count": 139,
     "metadata": {},
     "output_type": "execute_result"
    }
   ],
   "source": [
    "salaries_tags=driver.find_elements_by_xpath(\"//div[@class='value body-medium']\")\n",
    "salaries_tags[0:3]"
   ]
  },
  {
   "cell_type": "code",
   "execution_count": 140,
   "metadata": {},
   "outputs": [
    {
     "data": {
      "text/plain": [
       "['₹ 25.0L',\n",
       " '₹ 15.0L',\n",
       " '₹ 5.6L',\n",
       " '₹ 9.8L',\n",
       " '₹ 11.0L',\n",
       " '₹ 9.5L',\n",
       " '₹ 9.0L',\n",
       " '₹ 8.3L',\n",
       " '₹ 10.0L',\n",
       " '₹ 8.5L']"
      ]
     },
     "execution_count": 140,
     "metadata": {},
     "output_type": "execute_result"
    }
   ],
   "source": [
    "count=0\n",
    "for i in salaries_tags:\n",
    "    if count % 2 == 0 :\n",
    "        mimimum_salary=i.text\n",
    "        minimum_salaries.append(mimimum_salary)\n",
    "    if count % 2 != 0 :\n",
    "        maximum_salary=i.text\n",
    "        maximum_salaries.append(maximum_salary)\n",
    "    count=count+1\n",
    "        \n",
    "minimum_salaries"
   ]
  },
  {
   "cell_type": "code",
   "execution_count": 141,
   "metadata": {},
   "outputs": [
    {
     "name": "stdout",
     "output_type": "stream",
     "text": [
      "10\n"
     ]
    }
   ],
   "source": [
    "print(len(minimum_salaries))"
   ]
  },
  {
   "cell_type": "code",
   "execution_count": 142,
   "metadata": {},
   "outputs": [
    {
     "data": {
      "text/plain": [
       "[<selenium.webdriver.remote.webelement.WebElement (session=\"ba34017ec3df375d511a3c26dfc57901\", element=\"5b64fbf6-e367-4067-bb36-cb6db6f1b333\")>,\n",
       " <selenium.webdriver.remote.webelement.WebElement (session=\"ba34017ec3df375d511a3c26dfc57901\", element=\"caa5f520-cc8f-45c5-9ebb-0fb3236b7fb2\")>,\n",
       " <selenium.webdriver.remote.webelement.WebElement (session=\"ba34017ec3df375d511a3c26dfc57901\", element=\"dab19312-6530-46b0-aece-320521f3068f\")>]"
      ]
     },
     "execution_count": 142,
     "metadata": {},
     "output_type": "execute_result"
    }
   ],
   "source": [
    "average_salaries_tags=driver.find_elements_by_class_name(\"averageCtc\")\n",
    "average_salaries_tags[0:3]"
   ]
  },
  {
   "cell_type": "code",
   "execution_count": 143,
   "metadata": {},
   "outputs": [
    {
     "data": {
      "text/plain": [
       "['₹ 29.7L', '₹ 20.5L', '₹ 18.9L']"
      ]
     },
     "execution_count": 143,
     "metadata": {},
     "output_type": "execute_result"
    }
   ],
   "source": [
    "for i in average_salaries_tags:\n",
    "    average_salary=i.text\n",
    "    average_salaries.append(average_salary)\n",
    "average_salaries[0:3]"
   ]
  },
  {
   "cell_type": "code",
   "execution_count": 144,
   "metadata": {},
   "outputs": [
    {
     "data": {
      "text/plain": [
       "[<selenium.webdriver.remote.webelement.WebElement (session=\"ba34017ec3df375d511a3c26dfc57901\", element=\"f9d4146a-5ebb-4941-9a39-8d19abe7e2de\")>]"
      ]
     },
     "execution_count": 144,
     "metadata": {},
     "output_type": "execute_result"
    }
   ],
   "source": [
    "maximum_salaries_tags=driver.find_elements_by_xpath(\"/html/body/div/div/div/main/section[1]/div[2]/div[3]/div[2]/div[2]/div[2]/div/div[2]/div[2]\")\n",
    "maximum_salaries_tags[0:3]"
   ]
  },
  {
   "cell_type": "code",
   "execution_count": 145,
   "metadata": {},
   "outputs": [
    {
     "data": {
      "text/plain": [
       "['₹ 35.0L',\n",
       " '₹ 25.5L',\n",
       " '₹ 26.2L',\n",
       " '₹ 20.0L',\n",
       " '₹ 22.0L',\n",
       " '₹ 22.0L',\n",
       " '₹ 20.0L',\n",
       " '₹ 20.5L',\n",
       " '₹ 21.0L',\n",
       " '₹ 15.0L']"
      ]
     },
     "execution_count": 145,
     "metadata": {},
     "output_type": "execute_result"
    }
   ],
   "source": [
    "\n",
    "maximum_salaries"
   ]
  },
  {
   "cell_type": "code",
   "execution_count": 146,
   "metadata": {},
   "outputs": [
    {
     "data": {
      "text/plain": [
       "[<selenium.webdriver.remote.webelement.WebElement (session=\"ba34017ec3df375d511a3c26dfc57901\", element=\"b7ee6088-81a1-42fe-8cf2-dd105bd36eb5\")>,\n",
       " <selenium.webdriver.remote.webelement.WebElement (session=\"ba34017ec3df375d511a3c26dfc57901\", element=\"76bd9cff-0947-4d0d-8b91-a8d1dfb1705d\")>,\n",
       " <selenium.webdriver.remote.webelement.WebElement (session=\"ba34017ec3df375d511a3c26dfc57901\", element=\"156c2c2e-f6b0-4fdc-96d3-63c14b9e7cf6\")>]"
      ]
     },
     "execution_count": 146,
     "metadata": {},
     "output_type": "execute_result"
    }
   ],
   "source": [
    "experience_list_tags=driver.find_elements_by_xpath(\"//div[@class='salaries sbold-list-header']\")\n",
    "experience_list_tags[0:3]"
   ]
  },
  {
   "cell_type": "code",
   "execution_count": 147,
   "metadata": {},
   "outputs": [
    {
     "data": {
      "text/plain": [
       "['3 yrs exp', '3-4 yrs exp', '4 yrs exp']"
      ]
     },
     "execution_count": 147,
     "metadata": {},
     "output_type": "execute_result"
    }
   ],
   "source": [
    "for i in experience_list_tags:\n",
    "    experience=i.text.replace(\"Data Scientist\\n . \\n\",\"\").strip()\n",
    "    experience_list.append(experience)\n",
    "experience_list[0:3]    "
   ]
  },
  {
   "cell_type": "code",
   "execution_count": 148,
   "metadata": {},
   "outputs": [
    {
     "name": "stdout",
     "output_type": "stream",
     "text": [
      "10 10 10 10 10 10\n"
     ]
    }
   ],
   "source": [
    "print(len(experience_list),len(maximum_salaries),len(minimum_salaries),len(average_salaries),len(company_names),len(total_salary_records))"
   ]
  },
  {
   "cell_type": "code",
   "execution_count": 149,
   "metadata": {},
   "outputs": [],
   "source": [
    "jobs=pd.DataFrame({})\n",
    "jobs['company']=company_names\n",
    "jobs['total_salary_records']=total_salary_records\n",
    "jobs['minimum_salaries']=minimum_salaries\n",
    "jobs['maximum_salaries']=maximum_salaries\n",
    "jobs['average_salaries']=average_salaries\n"
   ]
  },
  {
   "cell_type": "code",
   "execution_count": 150,
   "metadata": {},
   "outputs": [
    {
     "data": {
      "text/html": [
       "<div>\n",
       "<style scoped>\n",
       "    .dataframe tbody tr th:only-of-type {\n",
       "        vertical-align: middle;\n",
       "    }\n",
       "\n",
       "    .dataframe tbody tr th {\n",
       "        vertical-align: top;\n",
       "    }\n",
       "\n",
       "    .dataframe thead th {\n",
       "        text-align: right;\n",
       "    }\n",
       "</style>\n",
       "<table border=\"1\" class=\"dataframe\">\n",
       "  <thead>\n",
       "    <tr style=\"text-align: right;\">\n",
       "      <th></th>\n",
       "      <th>company</th>\n",
       "      <th>total_salary_records</th>\n",
       "      <th>minimum_salaries</th>\n",
       "      <th>maximum_salaries</th>\n",
       "      <th>average_salaries</th>\n",
       "    </tr>\n",
       "  </thead>\n",
       "  <tbody>\n",
       "    <tr>\n",
       "      <th>0</th>\n",
       "      <td>Walmart</td>\n",
       "      <td>based on 11 salaries</td>\n",
       "      <td>₹ 25.0L</td>\n",
       "      <td>₹ 35.0L</td>\n",
       "      <td>₹ 29.7L</td>\n",
       "    </tr>\n",
       "    <tr>\n",
       "      <th>1</th>\n",
       "      <td>Ab Inbev</td>\n",
       "      <td>based on 32 salaries</td>\n",
       "      <td>₹ 15.0L</td>\n",
       "      <td>₹ 25.5L</td>\n",
       "      <td>₹ 20.5L</td>\n",
       "    </tr>\n",
       "    <tr>\n",
       "      <th>2</th>\n",
       "      <td>Reliance Jio</td>\n",
       "      <td>based on 10 salaries</td>\n",
       "      <td>₹ 5.6L</td>\n",
       "      <td>₹ 26.2L</td>\n",
       "      <td>₹ 18.9L</td>\n",
       "    </tr>\n",
       "    <tr>\n",
       "      <th>3</th>\n",
       "      <td>ZS</td>\n",
       "      <td>based on 15 salaries</td>\n",
       "      <td>₹ 9.8L</td>\n",
       "      <td>₹ 20.0L</td>\n",
       "      <td>₹ 15.9L</td>\n",
       "    </tr>\n",
       "    <tr>\n",
       "      <th>4</th>\n",
       "      <td>Optum</td>\n",
       "      <td>based on 27 salaries</td>\n",
       "      <td>₹ 11.0L</td>\n",
       "      <td>₹ 22.0L</td>\n",
       "      <td>₹ 15.2L</td>\n",
       "    </tr>\n",
       "    <tr>\n",
       "      <th>5</th>\n",
       "      <td>Fractal Analytics</td>\n",
       "      <td>based on 81 salaries</td>\n",
       "      <td>₹ 9.5L</td>\n",
       "      <td>₹ 22.0L</td>\n",
       "      <td>₹ 15.2L</td>\n",
       "    </tr>\n",
       "    <tr>\n",
       "      <th>6</th>\n",
       "      <td>Tiger Analytics</td>\n",
       "      <td>based on 46 salaries</td>\n",
       "      <td>₹ 9.0L</td>\n",
       "      <td>₹ 20.0L</td>\n",
       "      <td>₹ 14.8L</td>\n",
       "    </tr>\n",
       "    <tr>\n",
       "      <th>7</th>\n",
       "      <td>UnitedHealth</td>\n",
       "      <td>based on 53 salaries</td>\n",
       "      <td>₹ 8.3L</td>\n",
       "      <td>₹ 20.5L</td>\n",
       "      <td>₹ 14.0L</td>\n",
       "    </tr>\n",
       "    <tr>\n",
       "      <th>8</th>\n",
       "      <td>Verizon</td>\n",
       "      <td>based on 14 salaries</td>\n",
       "      <td>₹ 10.0L</td>\n",
       "      <td>₹ 21.0L</td>\n",
       "      <td>₹ 12.7L</td>\n",
       "    </tr>\n",
       "    <tr>\n",
       "      <th>9</th>\n",
       "      <td>Ganit Business Solutions</td>\n",
       "      <td>based on 13 salaries</td>\n",
       "      <td>₹ 8.5L</td>\n",
       "      <td>₹ 15.0L</td>\n",
       "      <td>₹ 12.4L</td>\n",
       "    </tr>\n",
       "  </tbody>\n",
       "</table>\n",
       "</div>"
      ],
      "text/plain": [
       "                    company  total_salary_records minimum_salaries  \\\n",
       "0                   Walmart  based on 11 salaries          ₹ 25.0L   \n",
       "1                  Ab Inbev  based on 32 salaries          ₹ 15.0L   \n",
       "2              Reliance Jio  based on 10 salaries           ₹ 5.6L   \n",
       "3                        ZS  based on 15 salaries           ₹ 9.8L   \n",
       "4                     Optum  based on 27 salaries          ₹ 11.0L   \n",
       "5         Fractal Analytics  based on 81 salaries           ₹ 9.5L   \n",
       "6           Tiger Analytics  based on 46 salaries           ₹ 9.0L   \n",
       "7              UnitedHealth  based on 53 salaries           ₹ 8.3L   \n",
       "8                   Verizon  based on 14 salaries          ₹ 10.0L   \n",
       "9  Ganit Business Solutions  based on 13 salaries           ₹ 8.5L   \n",
       "\n",
       "  maximum_salaries average_salaries  \n",
       "0          ₹ 35.0L          ₹ 29.7L  \n",
       "1          ₹ 25.5L          ₹ 20.5L  \n",
       "2          ₹ 26.2L          ₹ 18.9L  \n",
       "3          ₹ 20.0L          ₹ 15.9L  \n",
       "4          ₹ 22.0L          ₹ 15.2L  \n",
       "5          ₹ 22.0L          ₹ 15.2L  \n",
       "6          ₹ 20.0L          ₹ 14.8L  \n",
       "7          ₹ 20.5L          ₹ 14.0L  \n",
       "8          ₹ 21.0L          ₹ 12.7L  \n",
       "9          ₹ 15.0L          ₹ 12.4L  "
      ]
     },
     "execution_count": 150,
     "metadata": {},
     "output_type": "execute_result"
    }
   ],
   "source": [
    "jobs"
   ]
  },
  {
   "cell_type": "code",
   "execution_count": null,
   "metadata": {},
   "outputs": [],
   "source": []
  }
 ],
 "metadata": {
  "kernelspec": {
   "display_name": "Python 3",
   "language": "python",
   "name": "python3"
  },
  "language_info": {
   "codemirror_mode": {
    "name": "ipython",
    "version": 3
   },
   "file_extension": ".py",
   "mimetype": "text/x-python",
   "name": "python",
   "nbconvert_exporter": "python",
   "pygments_lexer": "ipython3",
   "version": "3.8.5"
  }
 },
 "nbformat": 4,
 "nbformat_minor": 4
}
