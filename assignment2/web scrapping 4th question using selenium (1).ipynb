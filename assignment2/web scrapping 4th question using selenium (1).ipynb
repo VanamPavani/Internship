{
 "cells": [
  {
   "cell_type": "code",
   "execution_count": 1,
   "metadata": {},
   "outputs": [
    {
     "name": "stdout",
     "output_type": "stream",
     "text": [
      "Requirement already satisfied: selenium in c:\\users\\venkata\\anaconda3\\lib\\site-packages (4.1.3)\n",
      "Requirement already satisfied: trio-websocket~=0.9 in c:\\users\\venkata\\anaconda3\\lib\\site-packages (from selenium) (0.9.2)\n",
      "Requirement already satisfied: trio~=0.17 in c:\\users\\venkata\\anaconda3\\lib\\site-packages (from selenium) (0.20.0)\n",
      "Requirement already satisfied: urllib3[secure,socks]~=1.26 in c:\\users\\venkata\\anaconda3\\lib\\site-packages (from selenium) (1.26.9)\n",
      "Requirement already satisfied: wsproto>=0.14 in c:\\users\\venkata\\anaconda3\\lib\\site-packages (from trio-websocket~=0.9->selenium) (1.1.0)\n",
      "Requirement already satisfied: async-generator>=1.10 in c:\\users\\venkata\\anaconda3\\lib\\site-packages (from trio-websocket~=0.9->selenium) (1.10)\n",
      "Requirement already satisfied: sniffio in c:\\users\\venkata\\anaconda3\\lib\\site-packages (from trio~=0.17->selenium) (1.2.0)\n",
      "Requirement already satisfied: idna in c:\\users\\venkata\\anaconda3\\lib\\site-packages (from trio~=0.17->selenium) (2.10)\n",
      "Requirement already satisfied: outcome in c:\\users\\venkata\\anaconda3\\lib\\site-packages (from trio~=0.17->selenium) (1.1.0)\n",
      "Requirement already satisfied: attrs>=19.2.0 in c:\\users\\venkata\\anaconda3\\lib\\site-packages (from trio~=0.17->selenium) (20.3.0)\n",
      "Requirement already satisfied: sortedcontainers in c:\\users\\venkata\\anaconda3\\lib\\site-packages (from trio~=0.17->selenium) (2.2.2)\n",
      "Requirement already satisfied: cffi>=1.14; os_name == \"nt\" and implementation_name != \"pypy\" in c:\\users\\venkata\\anaconda3\\lib\\site-packages (from trio~=0.17->selenium) (1.14.3)\n",
      "Requirement already satisfied: pyOpenSSL>=0.14; extra == \"secure\" in c:\\users\\venkata\\anaconda3\\lib\\site-packages (from urllib3[secure,socks]~=1.26->selenium) (19.1.0)\n",
      "Requirement already satisfied: certifi; extra == \"secure\" in c:\\users\\venkata\\anaconda3\\lib\\site-packages (from urllib3[secure,socks]~=1.26->selenium) (2020.6.20)\n",
      "Requirement already satisfied: cryptography>=1.3.4; extra == \"secure\" in c:\\users\\venkata\\anaconda3\\lib\\site-packages (from urllib3[secure,socks]~=1.26->selenium) (3.1.1)\n",
      "Requirement already satisfied: PySocks!=1.5.7,<2.0,>=1.5.6; extra == \"socks\" in c:\\users\\venkata\\anaconda3\\lib\\site-packages (from urllib3[secure,socks]~=1.26->selenium) (1.7.1)\n",
      "Requirement already satisfied: h11<1,>=0.9.0 in c:\\users\\venkata\\anaconda3\\lib\\site-packages (from wsproto>=0.14->trio-websocket~=0.9->selenium) (0.13.0)\n",
      "Requirement already satisfied: pycparser in c:\\users\\venkata\\anaconda3\\lib\\site-packages (from cffi>=1.14; os_name == \"nt\" and implementation_name != \"pypy\"->trio~=0.17->selenium) (2.20)\n",
      "Requirement already satisfied: six>=1.5.2 in c:\\users\\venkata\\anaconda3\\lib\\site-packages (from pyOpenSSL>=0.14; extra == \"secure\"->urllib3[secure,socks]~=1.26->selenium) (1.15.0)\n"
     ]
    }
   ],
   "source": [
    "!pip install selenium"
   ]
  },
  {
   "cell_type": "code",
   "execution_count": 2,
   "metadata": {},
   "outputs": [],
   "source": [
    "import selenium\n",
    "import pandas as pd\n",
    "import time\n",
    "from selenium import webdriver\n",
    "import warnings\n",
    "warnings.filterwarnings('ignore')\n"
   ]
  },
  {
   "cell_type": "code",
   "execution_count": 3,
   "metadata": {},
   "outputs": [],
   "source": [
    "driver = webdriver.Chrome(r\"C:\\Users\\Venkata\\Downloads\\chromedriver_win32\\chromedriver.exe\")"
   ]
  },
  {
   "cell_type": "code",
   "execution_count": 4,
   "metadata": {},
   "outputs": [],
   "source": [
    "driver=webdriver.Chrome(\"chromedriver.exe\")\n",
    "time.sleep(2)"
   ]
  },
  {
   "cell_type": "code",
   "execution_count": 5,
   "metadata": {},
   "outputs": [],
   "source": [
    "driver.get('https://www.flipkart.com')"
   ]
  },
  {
   "cell_type": "code",
   "execution_count": 6,
   "metadata": {},
   "outputs": [],
   "source": [
    "login_button=driver.find_element_by_class_name(\"_1_3w1N\")\n",
    "driver.execute_script('arguments[0].click()', login_button)\n",
    "\n",
    "#login_button_close=driver.find_element_by_class_name(\"_2KpZ6l _2doB4z\")\n",
    "login_button_close=driver.find_element_by_xpath(\"/html/body/div[2]/div/div/button\")\n",
    "driver.execute_script('arguments[0].click()', login_button_close)"
   ]
  },
  {
   "cell_type": "code",
   "execution_count": 7,
   "metadata": {},
   "outputs": [],
   "source": [
    "search_field_product_name=driver.find_element_by_class_name(\"_3704LK\")\n",
    "search_field_product_name.send_keys(\"sunglasses\")"
   ]
  },
  {
   "cell_type": "code",
   "execution_count": 8,
   "metadata": {},
   "outputs": [],
   "source": [
    "\n",
    "search_button=driver.find_element_by_xpath(\"/html/body/div[1]/div/div[1]/div[1]/div[2]/div[2]/form/div/button\")\n",
    "#search_button=driver.find_element_by_xpath(\"//button[@class='L0Z3Pu']\")\n",
    "#search_button=driver.find_element_by_class_name(\"L0Z3Pu\")\n",
    "search_button.click()"
   ]
  },
  {
   "cell_type": "code",
   "execution_count": 9,
   "metadata": {},
   "outputs": [],
   "source": [
    "#url=\"https://www.flipkart.com/search?q=sunglasses&otracker=search&otracker1=search&marketplace=FLIPKART&as-show=on&as=off\""
   ]
  },
  {
   "cell_type": "code",
   "execution_count": 10,
   "metadata": {},
   "outputs": [],
   "source": [
    "#driver.get(url)\n",
    "#driver.getCurrentUrl()\n",
    "#driver.manage().timeouts().implicitlyWait(5, TimeUnit.SECONDS)\n",
    "      # get current URL and print\n",
    "strUrl = driver.current_url\n",
    "driver.get(strUrl)"
   ]
  },
  {
   "cell_type": "code",
   "execution_count": 11,
   "metadata": {},
   "outputs": [],
   "source": [
    "brands=[]\n",
    "descriptions=[]\n",
    "prices=[]"
   ]
  },
  {
   "cell_type": "code",
   "execution_count": 12,
   "metadata": {},
   "outputs": [
    {
     "data": {
      "text/plain": [
       "[<selenium.webdriver.remote.webelement.WebElement (session=\"4828ec710f1c0484fc3ce10e72f2ecd8\", element=\"faecfb2c-0966-4eea-89f3-e887d296fab2\")>,\n",
       " <selenium.webdriver.remote.webelement.WebElement (session=\"4828ec710f1c0484fc3ce10e72f2ecd8\", element=\"5ed45f04-d355-43f9-82d0-212206ac6659\")>,\n",
       " <selenium.webdriver.remote.webelement.WebElement (session=\"4828ec710f1c0484fc3ce10e72f2ecd8\", element=\"1de0ad10-8923-44a1-91b3-dbd885bee462\")>]"
      ]
     },
     "execution_count": 12,
     "metadata": {},
     "output_type": "execute_result"
    }
   ],
   "source": [
    "brands_tags=driver.find_elements_by_class_name(\"_2WkVRV\")\n",
    "brands_tags[0:3]"
   ]
  },
  {
   "cell_type": "code",
   "execution_count": 13,
   "metadata": {},
   "outputs": [
    {
     "data": {
      "text/plain": [
       "['PIRASO', 'Singco India', 'Elligator']"
      ]
     },
     "execution_count": 13,
     "metadata": {},
     "output_type": "execute_result"
    }
   ],
   "source": [
    "count = 0\n",
    "\n",
    "for i in brands_tags:\n",
    "    title=i.text\n",
    "    brands.append(title)\n",
    "    count = count + 1\n",
    "brands[0:3]"
   ]
  },
  {
   "cell_type": "code",
   "execution_count": 14,
   "metadata": {},
   "outputs": [
    {
     "name": "stdout",
     "output_type": "stream",
     "text": [
      "40\n"
     ]
    }
   ],
   "source": [
    "print(count)"
   ]
  },
  {
   "cell_type": "code",
   "execution_count": 15,
   "metadata": {},
   "outputs": [
    {
     "data": {
      "text/plain": [
       "[<selenium.webdriver.remote.webelement.WebElement (session=\"4828ec710f1c0484fc3ce10e72f2ecd8\", element=\"9ebaba8c-4eb7-4bbf-b550-d8402538c7c9\")>,\n",
       " <selenium.webdriver.remote.webelement.WebElement (session=\"4828ec710f1c0484fc3ce10e72f2ecd8\", element=\"0625a862-6c97-4a73-b147-627dbf8dc3fd\")>,\n",
       " <selenium.webdriver.remote.webelement.WebElement (session=\"4828ec710f1c0484fc3ce10e72f2ecd8\", element=\"f15a468c-f3af-48e2-82a6-2decfe1dd92b\")>]"
      ]
     },
     "execution_count": 15,
     "metadata": {},
     "output_type": "execute_result"
    }
   ],
   "source": [
    "description_tags=driver.find_elements_by_class_name(\"IRpwTa\")\n",
    "description_tags[0:3]"
   ]
  },
  {
   "cell_type": "code",
   "execution_count": 16,
   "metadata": {},
   "outputs": [
    {
     "name": "stdout",
     "output_type": "stream",
     "text": [
      "40\n"
     ]
    },
    {
     "data": {
      "text/plain": [
       "['UV Protection Rectangular Sunglasses (52)',\n",
       " 'Gradient, Toughened Glass Lens, UV Protection Retro Squ...',\n",
       " 'UV Protection Round Sunglasses (54)']"
      ]
     },
     "execution_count": 16,
     "metadata": {},
     "output_type": "execute_result"
    }
   ],
   "source": [
    "count = 0\n",
    "for i in description_tags:\n",
    "    title=i.text\n",
    "    descriptions.append(title)\n",
    "    count = count +1\n",
    "print(count)\n",
    "descriptions[0:3]"
   ]
  },
  {
   "cell_type": "code",
   "execution_count": 17,
   "metadata": {},
   "outputs": [
    {
     "data": {
      "text/plain": [
       "[<selenium.webdriver.remote.webelement.WebElement (session=\"4828ec710f1c0484fc3ce10e72f2ecd8\", element=\"df442172-aa49-4f7c-bcd2-91568d29f07f\")>,\n",
       " <selenium.webdriver.remote.webelement.WebElement (session=\"4828ec710f1c0484fc3ce10e72f2ecd8\", element=\"347913a2-df82-4361-aecb-488b0781ef23\")>,\n",
       " <selenium.webdriver.remote.webelement.WebElement (session=\"4828ec710f1c0484fc3ce10e72f2ecd8\", element=\"20090df8-e074-4ed8-ab5e-9a3603a78930\")>]"
      ]
     },
     "execution_count": 17,
     "metadata": {},
     "output_type": "execute_result"
    }
   ],
   "source": [
    "prices_tags=driver.find_elements_by_class_name(\"_30jeq3\")\n",
    "prices_tags[0:3]"
   ]
  },
  {
   "cell_type": "code",
   "execution_count": 18,
   "metadata": {},
   "outputs": [
    {
     "name": "stdout",
     "output_type": "stream",
     "text": [
      "40\n"
     ]
    },
    {
     "data": {
      "text/plain": [
       "['₹280', '₹664', '₹295']"
      ]
     },
     "execution_count": 18,
     "metadata": {},
     "output_type": "execute_result"
    }
   ],
   "source": [
    "count = 0\n",
    "for i in prices_tags:\n",
    "    title=i.text\n",
    "    prices.append(title)\n",
    "    count = count +1\n",
    "    if count > 39 :\n",
    "        break\n",
    "print(count)\n",
    "prices[0:3]"
   ]
  },
  {
   "cell_type": "code",
   "execution_count": 19,
   "metadata": {},
   "outputs": [],
   "source": [
    "next=driver.find_element_by_class_name(\"_1LKTO3\")\n",
    "next.click()"
   ]
  },
  {
   "cell_type": "code",
   "execution_count": null,
   "metadata": {},
   "outputs": [],
   "source": []
  },
  {
   "cell_type": "code",
   "execution_count": 20,
   "metadata": {},
   "outputs": [
    {
     "data": {
      "text/plain": [
       "[<selenium.webdriver.remote.webelement.WebElement (session=\"4828ec710f1c0484fc3ce10e72f2ecd8\", element=\"fe3e9d9e-a413-4972-99b7-ce07c29c804d\")>,\n",
       " <selenium.webdriver.remote.webelement.WebElement (session=\"4828ec710f1c0484fc3ce10e72f2ecd8\", element=\"866ed413-2cd6-4be4-b3c3-717adac43ab5\")>,\n",
       " <selenium.webdriver.remote.webelement.WebElement (session=\"4828ec710f1c0484fc3ce10e72f2ecd8\", element=\"98aa0fdc-2f14-4838-93ef-08d62ed107b8\")>]"
      ]
     },
     "execution_count": 20,
     "metadata": {},
     "output_type": "execute_result"
    }
   ],
   "source": [
    "time.sleep(5)\n",
    "driver.refresh()\n",
    "brands2_tags=driver.find_elements_by_class_name(\"_2WkVRV\")\n",
    "brands2_tags[0:3]"
   ]
  },
  {
   "cell_type": "code",
   "execution_count": 21,
   "metadata": {},
   "outputs": [
    {
     "name": "stdout",
     "output_type": "stream",
     "text": [
      "40\n"
     ]
    }
   ],
   "source": [
    "time.sleep(10)\n",
    "count = 0\n",
    "for i in brands2_tags:   \n",
    "    title=i.text\n",
    "    brands.append(title)\n",
    "    count = count+1\n",
    "print(count)\n"
   ]
  },
  {
   "cell_type": "code",
   "execution_count": null,
   "metadata": {},
   "outputs": [],
   "source": []
  },
  {
   "cell_type": "code",
   "execution_count": 22,
   "metadata": {},
   "outputs": [
    {
     "data": {
      "text/plain": [
       "[<selenium.webdriver.remote.webelement.WebElement (session=\"4828ec710f1c0484fc3ce10e72f2ecd8\", element=\"3b57ad88-f637-4ff0-8df4-804198e0effb\")>,\n",
       " <selenium.webdriver.remote.webelement.WebElement (session=\"4828ec710f1c0484fc3ce10e72f2ecd8\", element=\"9ccbe122-e20f-448d-a535-e3b683037631\")>,\n",
       " <selenium.webdriver.remote.webelement.WebElement (session=\"4828ec710f1c0484fc3ce10e72f2ecd8\", element=\"f7462e14-24e3-4238-854b-95dea3485916\")>]"
      ]
     },
     "execution_count": 22,
     "metadata": {},
     "output_type": "execute_result"
    }
   ],
   "source": [
    "descriptions2_tags=driver.find_elements_by_class_name(\"IRpwTa\")\n",
    "descriptions2_tags[0:3]"
   ]
  },
  {
   "cell_type": "code",
   "execution_count": 23,
   "metadata": {},
   "outputs": [
    {
     "name": "stdout",
     "output_type": "stream",
     "text": [
      "40\n"
     ]
    }
   ],
   "source": [
    "count = 0\n",
    "\n",
    "for i in descriptions2_tags:\n",
    "    title=i.text\n",
    "    descriptions.append(title)\n",
    "    count = count + 1\n",
    "descriptions[0:3]\n",
    "print(count)"
   ]
  },
  {
   "cell_type": "code",
   "execution_count": null,
   "metadata": {},
   "outputs": [],
   "source": []
  },
  {
   "cell_type": "code",
   "execution_count": 24,
   "metadata": {},
   "outputs": [
    {
     "data": {
      "text/plain": [
       "[<selenium.webdriver.remote.webelement.WebElement (session=\"4828ec710f1c0484fc3ce10e72f2ecd8\", element=\"34f0f489-1815-4f97-93d4-ebb42f8c5758\")>,\n",
       " <selenium.webdriver.remote.webelement.WebElement (session=\"4828ec710f1c0484fc3ce10e72f2ecd8\", element=\"02d0dcff-ef01-4918-bcab-cb3a94482bf1\")>,\n",
       " <selenium.webdriver.remote.webelement.WebElement (session=\"4828ec710f1c0484fc3ce10e72f2ecd8\", element=\"16f3e890-13eb-4c51-8965-ab45c90f9c96\")>]"
      ]
     },
     "execution_count": 24,
     "metadata": {},
     "output_type": "execute_result"
    }
   ],
   "source": [
    "prices2_tags=driver.find_elements_by_class_name(\"_30jeq3\")\n",
    "prices2_tags[0:3]"
   ]
  },
  {
   "cell_type": "code",
   "execution_count": 25,
   "metadata": {},
   "outputs": [
    {
     "data": {
      "text/plain": [
       "['₹280', '₹664', '₹295']"
      ]
     },
     "execution_count": 25,
     "metadata": {},
     "output_type": "execute_result"
    }
   ],
   "source": [
    "count=0\n",
    "for i in prices2_tags:\n",
    "    title2=i.text\n",
    "    prices.append(title2)\n",
    "    count = count + 1\n",
    "    if count > 39 :\n",
    "        break\n",
    "prices[0:3]"
   ]
  },
  {
   "cell_type": "code",
   "execution_count": 26,
   "metadata": {},
   "outputs": [
    {
     "name": "stdout",
     "output_type": "stream",
     "text": [
      "40\n"
     ]
    }
   ],
   "source": [
    "print(count)"
   ]
  },
  {
   "cell_type": "code",
   "execution_count": 27,
   "metadata": {},
   "outputs": [],
   "source": [
    "next2=driver.find_element_by_xpath(\"/html/body/div/div/div[3]/div[1]/div[2]/div[12]/div/div/nav/a[12]/span\")\n",
    "next2.click()"
   ]
  },
  {
   "cell_type": "code",
   "execution_count": null,
   "metadata": {},
   "outputs": [],
   "source": []
  },
  {
   "cell_type": "code",
   "execution_count": 28,
   "metadata": {},
   "outputs": [
    {
     "data": {
      "text/plain": [
       "[<selenium.webdriver.remote.webelement.WebElement (session=\"4828ec710f1c0484fc3ce10e72f2ecd8\", element=\"6de20e9e-365d-4f61-980d-06d587881150\")>,\n",
       " <selenium.webdriver.remote.webelement.WebElement (session=\"4828ec710f1c0484fc3ce10e72f2ecd8\", element=\"488f9395-7d06-4456-9958-172cc5103cc1\")>,\n",
       " <selenium.webdriver.remote.webelement.WebElement (session=\"4828ec710f1c0484fc3ce10e72f2ecd8\", element=\"c182a993-987f-41a7-8790-defb94e941f7\")>]"
      ]
     },
     "execution_count": 28,
     "metadata": {},
     "output_type": "execute_result"
    }
   ],
   "source": [
    "time.sleep(5)\n",
    "driver.refresh()\n",
    "brands3_tags=driver.find_elements_by_class_name(\"_2WkVRV\")\n",
    "brands3_tags[0:3]"
   ]
  },
  {
   "cell_type": "code",
   "execution_count": 29,
   "metadata": {},
   "outputs": [
    {
     "name": "stdout",
     "output_type": "stream",
     "text": [
      "40\n"
     ]
    }
   ],
   "source": [
    "count = 0\n",
    "\n",
    "for i in brands3_tags:\n",
    "    title=i.text\n",
    "    brands.append(title)\n",
    "    count = count + 1\n",
    "brands[0:3]\n",
    "print(count)"
   ]
  },
  {
   "cell_type": "code",
   "execution_count": 30,
   "metadata": {},
   "outputs": [
    {
     "data": {
      "text/plain": [
       "[<selenium.webdriver.remote.webelement.WebElement (session=\"4828ec710f1c0484fc3ce10e72f2ecd8\", element=\"42582f3e-645f-4b33-bece-e9dccfa32cf5\")>,\n",
       " <selenium.webdriver.remote.webelement.WebElement (session=\"4828ec710f1c0484fc3ce10e72f2ecd8\", element=\"9dd07f35-0d77-470c-b58b-a3c2841bcf83\")>,\n",
       " <selenium.webdriver.remote.webelement.WebElement (session=\"4828ec710f1c0484fc3ce10e72f2ecd8\", element=\"0fe8cd2a-2451-4bdb-bb4a-e3105b983edd\")>]"
      ]
     },
     "execution_count": 30,
     "metadata": {},
     "output_type": "execute_result"
    }
   ],
   "source": [
    "descriptions3_tags=driver.find_elements_by_class_name(\"IRpwTa\")\n",
    "descriptions3_tags[0:3]"
   ]
  },
  {
   "cell_type": "code",
   "execution_count": 31,
   "metadata": {},
   "outputs": [
    {
     "name": "stdout",
     "output_type": "stream",
     "text": [
      "40\n"
     ]
    }
   ],
   "source": [
    "count = 0\n",
    "\n",
    "for i in descriptions3_tags:\n",
    "    title3=i.text\n",
    "    descriptions.append(title3)\n",
    "    count = count + 1\n",
    "descriptions[0:3]\n",
    "print(count)"
   ]
  },
  {
   "cell_type": "code",
   "execution_count": 32,
   "metadata": {},
   "outputs": [
    {
     "data": {
      "text/plain": [
       "[<selenium.webdriver.remote.webelement.WebElement (session=\"4828ec710f1c0484fc3ce10e72f2ecd8\", element=\"858c3e7e-80c8-4d0b-88eb-f35e07015987\")>,\n",
       " <selenium.webdriver.remote.webelement.WebElement (session=\"4828ec710f1c0484fc3ce10e72f2ecd8\", element=\"6f83e4c8-fb06-4428-9c15-4d0080f7b2d4\")>,\n",
       " <selenium.webdriver.remote.webelement.WebElement (session=\"4828ec710f1c0484fc3ce10e72f2ecd8\", element=\"f9e77d24-a992-452b-ab73-9c2d090d8891\")>]"
      ]
     },
     "execution_count": 32,
     "metadata": {},
     "output_type": "execute_result"
    }
   ],
   "source": [
    "prices3_tags=driver.find_elements_by_class_name(\"_30jeq3\")\n",
    "prices3_tags[0:3]"
   ]
  },
  {
   "cell_type": "code",
   "execution_count": 33,
   "metadata": {},
   "outputs": [
    {
     "data": {
      "text/plain": [
       "['₹280', '₹664', '₹295']"
      ]
     },
     "execution_count": 33,
     "metadata": {},
     "output_type": "execute_result"
    }
   ],
   "source": [
    "count = 0\n",
    "\n",
    "for i in prices3_tags:\n",
    "    title3=i.text\n",
    "    prices.append(title3)\n",
    "    count = count + 1\n",
    "    if count > 39 :\n",
    "        break\n",
    "prices[0:3]"
   ]
  },
  {
   "cell_type": "code",
   "execution_count": 34,
   "metadata": {},
   "outputs": [
    {
     "name": "stdout",
     "output_type": "stream",
     "text": [
      "40\n"
     ]
    }
   ],
   "source": [
    "print(count)"
   ]
  },
  {
   "cell_type": "code",
   "execution_count": 35,
   "metadata": {},
   "outputs": [
    {
     "name": "stdout",
     "output_type": "stream",
     "text": [
      "120 120 120\n"
     ]
    }
   ],
   "source": [
    "print(len(brands),len(descriptions),len(prices))"
   ]
  },
  {
   "cell_type": "code",
   "execution_count": 36,
   "metadata": {},
   "outputs": [],
   "source": [
    "sunglasses=pd.DataFrame({})\n",
    "sunglasses['brands']=brands\n",
    "sunglasses['prices']=prices\n",
    "sunglasses['descriptions']=descriptions\n"
   ]
  },
  {
   "cell_type": "code",
   "execution_count": 37,
   "metadata": {},
   "outputs": [
    {
     "data": {
      "text/html": [
       "<div>\n",
       "<style scoped>\n",
       "    .dataframe tbody tr th:only-of-type {\n",
       "        vertical-align: middle;\n",
       "    }\n",
       "\n",
       "    .dataframe tbody tr th {\n",
       "        vertical-align: top;\n",
       "    }\n",
       "\n",
       "    .dataframe thead th {\n",
       "        text-align: right;\n",
       "    }\n",
       "</style>\n",
       "<table border=\"1\" class=\"dataframe\">\n",
       "  <thead>\n",
       "    <tr style=\"text-align: right;\">\n",
       "      <th></th>\n",
       "      <th>brands</th>\n",
       "      <th>prices</th>\n",
       "      <th>descriptions</th>\n",
       "    </tr>\n",
       "  </thead>\n",
       "  <tbody>\n",
       "    <tr>\n",
       "      <th>0</th>\n",
       "      <td>PIRASO</td>\n",
       "      <td>₹280</td>\n",
       "      <td>UV Protection Rectangular Sunglasses (52)</td>\n",
       "    </tr>\n",
       "    <tr>\n",
       "      <th>1</th>\n",
       "      <td>Singco India</td>\n",
       "      <td>₹664</td>\n",
       "      <td>Gradient, Toughened Glass Lens, UV Protection ...</td>\n",
       "    </tr>\n",
       "    <tr>\n",
       "      <th>2</th>\n",
       "      <td>Elligator</td>\n",
       "      <td>₹295</td>\n",
       "      <td>UV Protection Round Sunglasses (54)</td>\n",
       "    </tr>\n",
       "    <tr>\n",
       "      <th>3</th>\n",
       "      <td>Fastrack</td>\n",
       "      <td>₹639</td>\n",
       "      <td>UV Protection Rectangular Sunglasses (Free Size)</td>\n",
       "    </tr>\n",
       "    <tr>\n",
       "      <th>4</th>\n",
       "      <td>PIRASO</td>\n",
       "      <td>₹249</td>\n",
       "      <td>UV Protection Aviator Sunglasses (54)</td>\n",
       "    </tr>\n",
       "    <tr>\n",
       "      <th>...</th>\n",
       "      <td>...</td>\n",
       "      <td>...</td>\n",
       "      <td>...</td>\n",
       "    </tr>\n",
       "    <tr>\n",
       "      <th>115</th>\n",
       "      <td>PIRASO</td>\n",
       "      <td>₹325</td>\n",
       "      <td>UV Protection Rectangular, Over-sized Sunglass...</td>\n",
       "    </tr>\n",
       "    <tr>\n",
       "      <th>116</th>\n",
       "      <td>ROYAL SON</td>\n",
       "      <td>₹399</td>\n",
       "      <td>Mirrored Aviator Sunglasses (55)</td>\n",
       "    </tr>\n",
       "    <tr>\n",
       "      <th>117</th>\n",
       "      <td>SUNBEE</td>\n",
       "      <td>₹324</td>\n",
       "      <td>UV Protection, Polarized, Mirrored Round Sungl...</td>\n",
       "    </tr>\n",
       "    <tr>\n",
       "      <th>118</th>\n",
       "      <td>NuVew</td>\n",
       "      <td>₹345</td>\n",
       "      <td>UV Protection Sports Sunglasses (62)</td>\n",
       "    </tr>\n",
       "    <tr>\n",
       "      <th>119</th>\n",
       "      <td>PIRASO</td>\n",
       "      <td>₹349</td>\n",
       "      <td>UV Protection Aviator Sunglasses (56)</td>\n",
       "    </tr>\n",
       "  </tbody>\n",
       "</table>\n",
       "<p>120 rows × 3 columns</p>\n",
       "</div>"
      ],
      "text/plain": [
       "           brands prices                                       descriptions\n",
       "0          PIRASO   ₹280          UV Protection Rectangular Sunglasses (52)\n",
       "1    Singco India   ₹664  Gradient, Toughened Glass Lens, UV Protection ...\n",
       "2       Elligator   ₹295                UV Protection Round Sunglasses (54)\n",
       "3        Fastrack   ₹639   UV Protection Rectangular Sunglasses (Free Size)\n",
       "4          PIRASO   ₹249              UV Protection Aviator Sunglasses (54)\n",
       "..            ...    ...                                                ...\n",
       "115        PIRASO   ₹325  UV Protection Rectangular, Over-sized Sunglass...\n",
       "116     ROYAL SON   ₹399                   Mirrored Aviator Sunglasses (55)\n",
       "117        SUNBEE   ₹324  UV Protection, Polarized, Mirrored Round Sungl...\n",
       "118         NuVew   ₹345               UV Protection Sports Sunglasses (62)\n",
       "119        PIRASO   ₹349              UV Protection Aviator Sunglasses (56)\n",
       "\n",
       "[120 rows x 3 columns]"
      ]
     },
     "execution_count": 37,
     "metadata": {},
     "output_type": "execute_result"
    }
   ],
   "source": [
    "sunglasses"
   ]
  },
  {
   "cell_type": "code",
   "execution_count": 40,
   "metadata": {},
   "outputs": [
    {
     "data": {
      "text/html": [
       "<div>\n",
       "<style scoped>\n",
       "    .dataframe tbody tr th:only-of-type {\n",
       "        vertical-align: middle;\n",
       "    }\n",
       "\n",
       "    .dataframe tbody tr th {\n",
       "        vertical-align: top;\n",
       "    }\n",
       "\n",
       "    .dataframe thead th {\n",
       "        text-align: right;\n",
       "    }\n",
       "</style>\n",
       "<table border=\"1\" class=\"dataframe\">\n",
       "  <thead>\n",
       "    <tr style=\"text-align: right;\">\n",
       "      <th></th>\n",
       "      <th>brands</th>\n",
       "      <th>prices</th>\n",
       "      <th>descriptions</th>\n",
       "    </tr>\n",
       "  </thead>\n",
       "  <tbody>\n",
       "    <tr>\n",
       "      <th>0</th>\n",
       "      <td>PIRASO</td>\n",
       "      <td>₹280</td>\n",
       "      <td>UV Protection Rectangular Sunglasses (52)</td>\n",
       "    </tr>\n",
       "    <tr>\n",
       "      <th>1</th>\n",
       "      <td>Singco India</td>\n",
       "      <td>₹664</td>\n",
       "      <td>Gradient, Toughened Glass Lens, UV Protection ...</td>\n",
       "    </tr>\n",
       "    <tr>\n",
       "      <th>2</th>\n",
       "      <td>Elligator</td>\n",
       "      <td>₹295</td>\n",
       "      <td>UV Protection Round Sunglasses (54)</td>\n",
       "    </tr>\n",
       "    <tr>\n",
       "      <th>3</th>\n",
       "      <td>Fastrack</td>\n",
       "      <td>₹639</td>\n",
       "      <td>UV Protection Rectangular Sunglasses (Free Size)</td>\n",
       "    </tr>\n",
       "    <tr>\n",
       "      <th>4</th>\n",
       "      <td>PIRASO</td>\n",
       "      <td>₹249</td>\n",
       "      <td>UV Protection Aviator Sunglasses (54)</td>\n",
       "    </tr>\n",
       "    <tr>\n",
       "      <th>...</th>\n",
       "      <td>...</td>\n",
       "      <td>...</td>\n",
       "      <td>...</td>\n",
       "    </tr>\n",
       "    <tr>\n",
       "      <th>95</th>\n",
       "      <td>PIRASO</td>\n",
       "      <td>₹249</td>\n",
       "      <td>UV Protection Aviator Sunglasses (54)</td>\n",
       "    </tr>\n",
       "    <tr>\n",
       "      <th>96</th>\n",
       "      <td>kingsunglasses</td>\n",
       "      <td>₹265</td>\n",
       "      <td>UV Protection, Mirrored Round Sunglasses (Free...</td>\n",
       "    </tr>\n",
       "    <tr>\n",
       "      <th>97</th>\n",
       "      <td>Elligator</td>\n",
       "      <td>₹388</td>\n",
       "      <td>UV Protection Retro Square, Round Sunglasses (54)</td>\n",
       "    </tr>\n",
       "    <tr>\n",
       "      <th>98</th>\n",
       "      <td>AISLIN</td>\n",
       "      <td>₹498</td>\n",
       "      <td>UV Protection, Gradient Butterfly, Over-sized ...</td>\n",
       "    </tr>\n",
       "    <tr>\n",
       "      <th>99</th>\n",
       "      <td>PIRASO</td>\n",
       "      <td>₹249</td>\n",
       "      <td>UV Protection Aviator Sunglasses (55)</td>\n",
       "    </tr>\n",
       "  </tbody>\n",
       "</table>\n",
       "<p>100 rows × 3 columns</p>\n",
       "</div>"
      ],
      "text/plain": [
       "            brands prices                                       descriptions\n",
       "0           PIRASO   ₹280          UV Protection Rectangular Sunglasses (52)\n",
       "1     Singco India   ₹664  Gradient, Toughened Glass Lens, UV Protection ...\n",
       "2        Elligator   ₹295                UV Protection Round Sunglasses (54)\n",
       "3         Fastrack   ₹639   UV Protection Rectangular Sunglasses (Free Size)\n",
       "4           PIRASO   ₹249              UV Protection Aviator Sunglasses (54)\n",
       "..             ...    ...                                                ...\n",
       "95          PIRASO   ₹249              UV Protection Aviator Sunglasses (54)\n",
       "96  kingsunglasses   ₹265  UV Protection, Mirrored Round Sunglasses (Free...\n",
       "97       Elligator   ₹388  UV Protection Retro Square, Round Sunglasses (54)\n",
       "98          AISLIN   ₹498  UV Protection, Gradient Butterfly, Over-sized ...\n",
       "99          PIRASO   ₹249              UV Protection Aviator Sunglasses (55)\n",
       "\n",
       "[100 rows x 3 columns]"
      ]
     },
     "execution_count": 40,
     "metadata": {},
     "output_type": "execute_result"
    }
   ],
   "source": [
    "sunglasses.iloc[0:100,0:3]"
   ]
  },
  {
   "cell_type": "code",
   "execution_count": null,
   "metadata": {},
   "outputs": [],
   "source": []
  }
 ],
 "metadata": {
  "kernelspec": {
   "display_name": "Python 3",
   "language": "python",
   "name": "python3"
  },
  "language_info": {
   "codemirror_mode": {
    "name": "ipython",
    "version": 3
   },
   "file_extension": ".py",
   "mimetype": "text/x-python",
   "name": "python",
   "nbconvert_exporter": "python",
   "pygments_lexer": "ipython3",
   "version": "3.8.5"
  }
 },
 "nbformat": 4,
 "nbformat_minor": 4
}
