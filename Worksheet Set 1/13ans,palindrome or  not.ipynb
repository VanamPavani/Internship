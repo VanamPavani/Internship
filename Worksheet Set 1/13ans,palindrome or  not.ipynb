{
 "cells": [
  {
   "cell_type": "code",
   "execution_count": 1,
   "metadata": {},
   "outputs": [],
   "source": [
    "import math"
   ]
  },
  {
   "cell_type": "code",
   "execution_count": 13,
   "metadata": {},
   "outputs": [
    {
     "name": "stdout",
     "output_type": "stream",
     "text": [
      "enter stringrefer\n",
      "Yes, refer is palindrome\n"
     ]
    }
   ],
   "source": [
    "x = str(input(\"enter string\"))\n",
    " \n",
    "y = \"\"\n",
    "for i in x:\n",
    "    y = i + y\n",
    " \n",
    "if (x == y):\n",
    "    print(\"Yes,\", x, \"is palindrome\")\n",
    "else:\n",
    "    print(\"No,\", x,\" is not a palindrome\")"
   ]
  },
  {
   "cell_type": "code",
   "execution_count": null,
   "metadata": {},
   "outputs": [],
   "source": []
  }
 ],
 "metadata": {
  "kernelspec": {
   "display_name": "Python 3",
   "language": "python",
   "name": "python3"
  },
  "language_info": {
   "codemirror_mode": {
    "name": "ipython",
    "version": 3
   },
   "file_extension": ".py",
   "mimetype": "text/x-python",
   "name": "python",
   "nbconvert_exporter": "python",
   "pygments_lexer": "ipython3",
   "version": "3.8.5"
  }
 },
 "nbformat": 4,
 "nbformat_minor": 4
}
