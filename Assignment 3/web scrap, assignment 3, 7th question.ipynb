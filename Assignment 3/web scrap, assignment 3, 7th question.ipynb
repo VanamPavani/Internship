{
 "cells": [
  {
   "cell_type": "code",
   "execution_count": 46,
   "metadata": {},
   "outputs": [
    {
     "name": "stdout",
     "output_type": "stream",
     "text": [
      "Requirement already satisfied: selenium in c:\\users\\venkata\\anaconda3\\lib\\site-packages (4.1.3)\n",
      "Requirement already satisfied: trio-websocket~=0.9 in c:\\users\\venkata\\anaconda3\\lib\\site-packages (from selenium) (0.9.2)\n",
      "Requirement already satisfied: urllib3[secure,socks]~=1.26 in c:\\users\\venkata\\anaconda3\\lib\\site-packages (from selenium) (1.26.9)\n",
      "Requirement already satisfied: trio~=0.17 in c:\\users\\venkata\\anaconda3\\lib\\site-packages (from selenium) (0.20.0)\n",
      "Requirement already satisfied: wsproto>=0.14 in c:\\users\\venkata\\anaconda3\\lib\\site-packages (from trio-websocket~=0.9->selenium) (1.1.0)\n",
      "Requirement already satisfied: async-generator>=1.10 in c:\\users\\venkata\\anaconda3\\lib\\site-packages (from trio-websocket~=0.9->selenium) (1.10)\n",
      "Requirement already satisfied: idna>=2.0.0; extra == \"secure\" in c:\\users\\venkata\\anaconda3\\lib\\site-packages (from urllib3[secure,socks]~=1.26->selenium) (2.10)\n",
      "Requirement already satisfied: cryptography>=1.3.4; extra == \"secure\" in c:\\users\\venkata\\anaconda3\\lib\\site-packages (from urllib3[secure,socks]~=1.26->selenium) (3.1.1)\n",
      "Requirement already satisfied: certifi; extra == \"secure\" in c:\\users\\venkata\\anaconda3\\lib\\site-packages (from urllib3[secure,socks]~=1.26->selenium) (2020.6.20)\n",
      "Requirement already satisfied: pyOpenSSL>=0.14; extra == \"secure\" in c:\\users\\venkata\\anaconda3\\lib\\site-packages (from urllib3[secure,socks]~=1.26->selenium) (19.1.0)\n",
      "Requirement already satisfied: PySocks!=1.5.7,<2.0,>=1.5.6; extra == \"socks\" in c:\\users\\venkata\\anaconda3\\lib\\site-packages (from urllib3[secure,socks]~=1.26->selenium) (1.7.1)\n",
      "Requirement already satisfied: cffi>=1.14; os_name == \"nt\" and implementation_name != \"pypy\" in c:\\users\\venkata\\anaconda3\\lib\\site-packages (from trio~=0.17->selenium) (1.14.3)\n",
      "Requirement already satisfied: sniffio in c:\\users\\venkata\\anaconda3\\lib\\site-packages (from trio~=0.17->selenium) (1.2.0)\n",
      "Requirement already satisfied: attrs>=19.2.0 in c:\\users\\venkata\\anaconda3\\lib\\site-packages (from trio~=0.17->selenium) (20.3.0)\n",
      "Requirement already satisfied: sortedcontainers in c:\\users\\venkata\\anaconda3\\lib\\site-packages (from trio~=0.17->selenium) (2.2.2)\n",
      "Requirement already satisfied: outcome in c:\\users\\venkata\\anaconda3\\lib\\site-packages (from trio~=0.17->selenium) (1.1.0)\n",
      "Requirement already satisfied: h11<1,>=0.9.0 in c:\\users\\venkata\\anaconda3\\lib\\site-packages (from wsproto>=0.14->trio-websocket~=0.9->selenium) (0.13.0)\n",
      "Requirement already satisfied: six>=1.4.1 in c:\\users\\venkata\\anaconda3\\lib\\site-packages (from cryptography>=1.3.4; extra == \"secure\"->urllib3[secure,socks]~=1.26->selenium) (1.15.0)\n",
      "Requirement already satisfied: pycparser in c:\\users\\venkata\\anaconda3\\lib\\site-packages (from cffi>=1.14; os_name == \"nt\" and implementation_name != \"pypy\"->trio~=0.17->selenium) (2.20)\n"
     ]
    }
   ],
   "source": [
    "!pip install selenium"
   ]
  },
  {
   "cell_type": "code",
   "execution_count": 47,
   "metadata": {},
   "outputs": [],
   "source": [
    "import pandas as pd\n",
    "import time\n",
    "from selenium import webdriver\n",
    "import warnings\n",
    "warnings.filterwarnings('ignore')\n",
    "from selenium.common.exceptions import NoSuchElementException\n",
    "from selenium.webdriver.support.ui import WebDriverWait\n",
    "from selenium.webdriver.support import expected_conditions as EC\n",
    "from selenium.webdriver.common.by import By\n",
    "from selenium.webdriver.common.keys import Keys"
   ]
  },
  {
   "cell_type": "code",
   "execution_count": 48,
   "metadata": {},
   "outputs": [],
   "source": [
    "driver = webdriver.Chrome(r\"C:\\Users\\Venkata\\Downloads\\chromedriver_win32 (1)\\chromedriver.exe\")"
   ]
  },
  {
   "cell_type": "code",
   "execution_count": 49,
   "metadata": {},
   "outputs": [],
   "source": [
    "driver.get('https://www.digit.in/')"
   ]
  },
  {
   "cell_type": "code",
   "execution_count": 50,
   "metadata": {},
   "outputs": [],
   "source": [
    "driver.find_element_by_xpath(\"/html/body/div[1]/div/div[3]/div[2]/a\").click()"
   ]
  },
  {
   "cell_type": "code",
   "execution_count": 51,
   "metadata": {},
   "outputs": [],
   "source": [
    "driver.find_element_by_id(\"globalPageSearchText\").send_keys(\"best gaming laptops\")\n",
    "driver.find_element_by_id(\"globalPageSearchText\").send_keys(Keys.ENTER)\n"
   ]
  },
  {
   "cell_type": "code",
   "execution_count": 54,
   "metadata": {},
   "outputs": [
    {
     "name": "stdout",
     "output_type": "stream",
     "text": [
      "[<selenium.webdriver.remote.webelement.WebElement (session=\"2d8c2b2873dea2af74d4ea5beb320e99\", element=\"1ee404d9-b4b1-4967-8cab-52bd16a148fa\")>, <selenium.webdriver.remote.webelement.WebElement (session=\"2d8c2b2873dea2af74d4ea5beb320e99\", element=\"bcf84c05-b7cc-4c61-a367-20966c552368\")>, <selenium.webdriver.remote.webelement.WebElement (session=\"2d8c2b2873dea2af74d4ea5beb320e99\", element=\"d18180fc-4365-4252-ad6b-0db4b3de17c7\")>, <selenium.webdriver.remote.webelement.WebElement (session=\"2d8c2b2873dea2af74d4ea5beb320e99\", element=\"ce420656-bf38-482f-beba-ce96abd7a0b3\")>, <selenium.webdriver.remote.webelement.WebElement (session=\"2d8c2b2873dea2af74d4ea5beb320e99\", element=\"304104f3-c8ce-420a-8135-daa93e82af13\")>, <selenium.webdriver.remote.webelement.WebElement (session=\"2d8c2b2873dea2af74d4ea5beb320e99\", element=\"a30995cd-bbbd-4152-aad2-ac8d86a9ff07\")>, <selenium.webdriver.remote.webelement.WebElement (session=\"2d8c2b2873dea2af74d4ea5beb320e99\", element=\"66da095b-b7d1-4f27-b951-9257e5f0aad9\")>, <selenium.webdriver.remote.webelement.WebElement (session=\"2d8c2b2873dea2af74d4ea5beb320e99\", element=\"36ca3520-c558-4d03-83ad-a65a8d079474\")>, <selenium.webdriver.remote.webelement.WebElement (session=\"2d8c2b2873dea2af74d4ea5beb320e99\", element=\"a7185d18-7edc-4557-a63c-56a96e2bcfb7\")>, <selenium.webdriver.remote.webelement.WebElement (session=\"2d8c2b2873dea2af74d4ea5beb320e99\", element=\"b1294e43-0e50-45d1-b165-f823e18a118d\")>]\n"
     ]
    }
   ],
   "source": [
    "laptop=driver.find_elements_by_class_name(\"searchProduct-desc\")\n",
    "print(laptop)"
   ]
  },
  {
   "cell_type": "code",
   "execution_count": 57,
   "metadata": {},
   "outputs": [
    {
     "data": {
      "text/plain": [
       "[<selenium.webdriver.remote.webelement.WebElement (session=\"2d8c2b2873dea2af74d4ea5beb320e99\", element=\"1ee404d9-b4b1-4967-8cab-52bd16a148fa\")>,\n",
       " <selenium.webdriver.remote.webelement.WebElement (session=\"2d8c2b2873dea2af74d4ea5beb320e99\", element=\"bcf84c05-b7cc-4c61-a367-20966c552368\")>,\n",
       " <selenium.webdriver.remote.webelement.WebElement (session=\"2d8c2b2873dea2af74d4ea5beb320e99\", element=\"d18180fc-4365-4252-ad6b-0db4b3de17c7\")>,\n",
       " <selenium.webdriver.remote.webelement.WebElement (session=\"2d8c2b2873dea2af74d4ea5beb320e99\", element=\"ce420656-bf38-482f-beba-ce96abd7a0b3\")>,\n",
       " <selenium.webdriver.remote.webelement.WebElement (session=\"2d8c2b2873dea2af74d4ea5beb320e99\", element=\"304104f3-c8ce-420a-8135-daa93e82af13\")>,\n",
       " <selenium.webdriver.remote.webelement.WebElement (session=\"2d8c2b2873dea2af74d4ea5beb320e99\", element=\"a30995cd-bbbd-4152-aad2-ac8d86a9ff07\")>,\n",
       " <selenium.webdriver.remote.webelement.WebElement (session=\"2d8c2b2873dea2af74d4ea5beb320e99\", element=\"66da095b-b7d1-4f27-b951-9257e5f0aad9\")>,\n",
       " <selenium.webdriver.remote.webelement.WebElement (session=\"2d8c2b2873dea2af74d4ea5beb320e99\", element=\"36ca3520-c558-4d03-83ad-a65a8d079474\")>,\n",
       " <selenium.webdriver.remote.webelement.WebElement (session=\"2d8c2b2873dea2af74d4ea5beb320e99\", element=\"a7185d18-7edc-4557-a63c-56a96e2bcfb7\")>,\n",
       " <selenium.webdriver.remote.webelement.WebElement (session=\"2d8c2b2873dea2af74d4ea5beb320e99\", element=\"b1294e43-0e50-45d1-b165-f823e18a118d\")>]"
      ]
     },
     "execution_count": 57,
     "metadata": {},
     "output_type": "execute_result"
    }
   ],
   "source": [
    "laptop\n"
   ]
  },
  {
   "cell_type": "code",
   "execution_count": 58,
   "metadata": {},
   "outputs": [
    {
     "name": "stdout",
     "output_type": "stream",
     "text": [
      "['Asus G750JX-CV069P', 'Lenovo G50-30', \"ASUS G53J - A 3D gamer's delight but we want more\", 'Dell Vostro 15 3500', 'ASUS ROG Flow x13', 'HP Envy dv6-7206tx notebook', 'Samsung Series 9 (NP-900X3C)', 'HP Envy 15-k006tx', 'Asus GTX980 Matrix Platinum', 'Sony PlayStation Vita']\n"
     ]
    }
   ],
   "source": [
    "laptops=[]\n",
    "for i in laptop:\n",
    "    laptops.append(i.text)\n",
    "print(laptops)"
   ]
  },
  {
   "cell_type": "code",
   "execution_count": null,
   "metadata": {},
   "outputs": [],
   "source": []
  },
  {
   "cell_type": "code",
   "execution_count": null,
   "metadata": {},
   "outputs": [],
   "source": []
  }
 ],
 "metadata": {
  "kernelspec": {
   "display_name": "Python 3",
   "language": "python",
   "name": "python3"
  },
  "language_info": {
   "codemirror_mode": {
    "name": "ipython",
    "version": 3
   },
   "file_extension": ".py",
   "mimetype": "text/x-python",
   "name": "python",
   "nbconvert_exporter": "python",
   "pygments_lexer": "ipython3",
   "version": "3.8.5"
  }
 },
 "nbformat": 4,
 "nbformat_minor": 4
}
