{
 "cells": [
  {
   "cell_type": "code",
   "execution_count": 1,
   "metadata": {},
   "outputs": [
    {
     "name": "stdout",
     "output_type": "stream",
     "text": [
      "Requirement already satisfied: selenium in c:\\users\\venkata\\anaconda3\\lib\\site-packages (4.1.3)\n",
      "Requirement already satisfied: trio~=0.17 in c:\\users\\venkata\\anaconda3\\lib\\site-packages (from selenium) (0.20.0)\n",
      "Requirement already satisfied: trio-websocket~=0.9 in c:\\users\\venkata\\anaconda3\\lib\\site-packages (from selenium) (0.9.2)\n",
      "Requirement already satisfied: urllib3[secure,socks]~=1.26 in c:\\users\\venkata\\anaconda3\\lib\\site-packages (from selenium) (1.26.9)\n",
      "Requirement already satisfied: sniffio in c:\\users\\venkata\\anaconda3\\lib\\site-packages (from trio~=0.17->selenium) (1.2.0)\n",
      "Requirement already satisfied: cffi>=1.14; os_name == \"nt\" and implementation_name != \"pypy\" in c:\\users\\venkata\\anaconda3\\lib\\site-packages (from trio~=0.17->selenium) (1.14.3)\n",
      "Requirement already satisfied: outcome in c:\\users\\venkata\\anaconda3\\lib\\site-packages (from trio~=0.17->selenium) (1.1.0)\n",
      "Requirement already satisfied: sortedcontainers in c:\\users\\venkata\\anaconda3\\lib\\site-packages (from trio~=0.17->selenium) (2.2.2)\n",
      "Requirement already satisfied: async-generator>=1.9 in c:\\users\\venkata\\anaconda3\\lib\\site-packages (from trio~=0.17->selenium) (1.10)\n",
      "Requirement already satisfied: idna in c:\\users\\venkata\\anaconda3\\lib\\site-packages (from trio~=0.17->selenium) (2.10)\n",
      "Requirement already satisfied: attrs>=19.2.0 in c:\\users\\venkata\\anaconda3\\lib\\site-packages (from trio~=0.17->selenium) (20.3.0)\n",
      "Requirement already satisfied: wsproto>=0.14 in c:\\users\\venkata\\anaconda3\\lib\\site-packages (from trio-websocket~=0.9->selenium) (1.1.0)\n",
      "Requirement already satisfied: certifi; extra == \"secure\" in c:\\users\\venkata\\anaconda3\\lib\\site-packages (from urllib3[secure,socks]~=1.26->selenium) (2020.6.20)\n",
      "Requirement already satisfied: pyOpenSSL>=0.14; extra == \"secure\" in c:\\users\\venkata\\anaconda3\\lib\\site-packages (from urllib3[secure,socks]~=1.26->selenium) (19.1.0)\n",
      "Requirement already satisfied: cryptography>=1.3.4; extra == \"secure\" in c:\\users\\venkata\\anaconda3\\lib\\site-packages (from urllib3[secure,socks]~=1.26->selenium) (3.1.1)\n",
      "Requirement already satisfied: PySocks!=1.5.7,<2.0,>=1.5.6; extra == \"socks\" in c:\\users\\venkata\\anaconda3\\lib\\site-packages (from urllib3[secure,socks]~=1.26->selenium) (1.7.1)\n",
      "Requirement already satisfied: pycparser in c:\\users\\venkata\\anaconda3\\lib\\site-packages (from cffi>=1.14; os_name == \"nt\" and implementation_name != \"pypy\"->trio~=0.17->selenium) (2.20)\n",
      "Requirement already satisfied: h11<1,>=0.9.0 in c:\\users\\venkata\\anaconda3\\lib\\site-packages (from wsproto>=0.14->trio-websocket~=0.9->selenium) (0.13.0)\n",
      "Requirement already satisfied: six>=1.5.2 in c:\\users\\venkata\\anaconda3\\lib\\site-packages (from pyOpenSSL>=0.14; extra == \"secure\"->urllib3[secure,socks]~=1.26->selenium) (1.15.0)\n"
     ]
    }
   ],
   "source": [
    "!pip install selenium"
   ]
  },
  {
   "cell_type": "code",
   "execution_count": 2,
   "metadata": {},
   "outputs": [],
   "source": [
    "import selenium\n",
    "import pandas as pd\n",
    "import time\n",
    "from selenium import webdriver\n",
    "import warnings\n",
    "warnings.filterwarnings('ignore')\n",
    "from selenium.common.exceptions import NoSuchElementException\n",
    "from selenium.webdriver.support.ui import WebDriverWait\n",
    "from selenium.webdriver.support import expected_conditions as EC\n",
    "from selenium.webdriver.common.by import By\n",
    "from selenium.webdriver.common.keys import Keys\n",
    "from selenium.webdriver.common.action_chains import ActionChains"
   ]
  },
  {
   "cell_type": "code",
   "execution_count": 3,
   "metadata": {},
   "outputs": [],
   "source": [
    "driver = webdriver.Chrome(r\"C:\\Users\\Venkata\\Downloads\\chromedriver_win32 (1)\\chromedriver.exe\")"
   ]
  },
  {
   "cell_type": "code",
   "execution_count": 4,
   "metadata": {},
   "outputs": [],
   "source": [
    "driver.get('https://www.hostelworld.com/')\n",
    "time.sleep(20)"
   ]
  },
  {
   "cell_type": "code",
   "execution_count": 5,
   "metadata": {},
   "outputs": [],
   "source": [
    "\n",
    "#WebDriverWait(driver, 30).until(EC.visibility_of_element_located((By.id , \"search-input-field\")))location-text-input-field\n",
    "location_field=driver.find_element_by_id(\"location-text-input-field\")\n",
    "location_field.click()\n",
    "time.sleep(2)\n",
    "location_field1=driver.find_element_by_id(\"search-input-field\")\n",
    "location_field1.send_keys('London')\n",
    "time.sleep(5)\n",
    "driver.find_element_by_xpath(\"/html/body/div[3]/div/div/div[1]/div[1]/div/div[2]/div[4]/div/div[2]/div/div[1]/div/div/ul/li[2]\").click()\n",
    "time.sleep(2)\n",
    "\n",
    "wait = WebDriverWait(driver, 30)    \n",
    "#ActionChains(driver).move_to_element(wait.until(EC.element_to_be_clickable((By.CSS_SELECTOR, \"button primary large\")))).click().perform()\n",
    "\n",
    "\n",
    "location_field2=driver.find_element_by_xpath(\"//button[@class='button primary large']\")\n",
    "driver.execute_script(\"arguments[0].click();\", location_field2)\n",
    "#location_field2.click();\n",
    "#time.sleep(2)\n",
    "#location_field2.click()\n",
    "#location_field.send_keys(Keys.ENTER)\n",
    "#location_field.send_keys(Keys.RETURN)\n"
   ]
  },
  {
   "cell_type": "code",
   "execution_count": 8,
   "metadata": {},
   "outputs": [
    {
     "data": {
      "text/plain": [
       "[<selenium.webdriver.remote.webelement.WebElement (session=\"cbb0192534422a193ac945e0f1b03021\", element=\"aab7e114-e842-41a4-b885-b68e24b5e87c\")>,\n",
       " <selenium.webdriver.remote.webelement.WebElement (session=\"cbb0192534422a193ac945e0f1b03021\", element=\"dc0ce8bb-a1f4-4fc4-a1b5-0c1a99df2157\")>,\n",
       " <selenium.webdriver.remote.webelement.WebElement (session=\"cbb0192534422a193ac945e0f1b03021\", element=\"058de60b-7b61-4414-acc7-1471c96b3c20\")>,\n",
       " <selenium.webdriver.remote.webelement.WebElement (session=\"cbb0192534422a193ac945e0f1b03021\", element=\"0427f075-cca0-4b4b-b0ba-880a81081df0\")>,\n",
       " <selenium.webdriver.remote.webelement.WebElement (session=\"cbb0192534422a193ac945e0f1b03021\", element=\"769d1b18-1c99-4b89-a366-6eb04dc966a3\")>,\n",
       " <selenium.webdriver.remote.webelement.WebElement (session=\"cbb0192534422a193ac945e0f1b03021\", element=\"08c77945-d903-4cd8-9f34-93d5f638d11b\")>,\n",
       " <selenium.webdriver.remote.webelement.WebElement (session=\"cbb0192534422a193ac945e0f1b03021\", element=\"f4f0ac11-565f-4e93-8ebd-ae91ede5f099\")>,\n",
       " <selenium.webdriver.remote.webelement.WebElement (session=\"cbb0192534422a193ac945e0f1b03021\", element=\"9f1b883d-34bf-4f5b-be79-58f94e744930\")>,\n",
       " <selenium.webdriver.remote.webelement.WebElement (session=\"cbb0192534422a193ac945e0f1b03021\", element=\"1e955e82-a686-4eae-a4fa-a9558b39b373\")>,\n",
       " <selenium.webdriver.remote.webelement.WebElement (session=\"cbb0192534422a193ac945e0f1b03021\", element=\"7874d7a0-69d5-4633-86c0-edc21d5ad129\")>,\n",
       " <selenium.webdriver.remote.webelement.WebElement (session=\"cbb0192534422a193ac945e0f1b03021\", element=\"16ca1e4b-cfaf-469f-a8d7-75110e6fc4ec\")>,\n",
       " <selenium.webdriver.remote.webelement.WebElement (session=\"cbb0192534422a193ac945e0f1b03021\", element=\"360d0af1-0bd4-4bad-900d-090556f8e6ab\")>,\n",
       " <selenium.webdriver.remote.webelement.WebElement (session=\"cbb0192534422a193ac945e0f1b03021\", element=\"d022c5a6-e150-4056-8632-192853782d56\")>,\n",
       " <selenium.webdriver.remote.webelement.WebElement (session=\"cbb0192534422a193ac945e0f1b03021\", element=\"ec06a7f5-ca52-42c1-90df-9472dac59911\")>,\n",
       " <selenium.webdriver.remote.webelement.WebElement (session=\"cbb0192534422a193ac945e0f1b03021\", element=\"b0e379a7-b9ae-46ac-ab6e-35814fd268f4\")>,\n",
       " <selenium.webdriver.remote.webelement.WebElement (session=\"cbb0192534422a193ac945e0f1b03021\", element=\"2b3e111e-545a-4daf-a706-167ac58c1163\")>,\n",
       " <selenium.webdriver.remote.webelement.WebElement (session=\"cbb0192534422a193ac945e0f1b03021\", element=\"16dfacb3-4396-4aaf-a64d-cf05afc41131\")>,\n",
       " <selenium.webdriver.remote.webelement.WebElement (session=\"cbb0192534422a193ac945e0f1b03021\", element=\"323adcbb-3dab-4583-896e-02247c3f3eea\")>,\n",
       " <selenium.webdriver.remote.webelement.WebElement (session=\"cbb0192534422a193ac945e0f1b03021\", element=\"a6a77591-6493-4cba-a031-202d3e2dc62d\")>,\n",
       " <selenium.webdriver.remote.webelement.WebElement (session=\"cbb0192534422a193ac945e0f1b03021\", element=\"cc645be4-d329-47d1-9d21-c1b668d08016\")>,\n",
       " <selenium.webdriver.remote.webelement.WebElement (session=\"cbb0192534422a193ac945e0f1b03021\", element=\"18a6522d-5a17-4523-a6eb-9bf16a5bf4de\")>,\n",
       " <selenium.webdriver.remote.webelement.WebElement (session=\"cbb0192534422a193ac945e0f1b03021\", element=\"8733a581-286d-44a4-94b3-1c3d0a82cb29\")>,\n",
       " <selenium.webdriver.remote.webelement.WebElement (session=\"cbb0192534422a193ac945e0f1b03021\", element=\"2d4fe278-650f-4284-af96-dfd4fbf5415b\")>,\n",
       " <selenium.webdriver.remote.webelement.WebElement (session=\"cbb0192534422a193ac945e0f1b03021\", element=\"8c0fb263-6443-4fed-8891-38a644e9e2d5\")>,\n",
       " <selenium.webdriver.remote.webelement.WebElement (session=\"cbb0192534422a193ac945e0f1b03021\", element=\"937f366b-be49-464a-a521-762c70782547\")>,\n",
       " <selenium.webdriver.remote.webelement.WebElement (session=\"cbb0192534422a193ac945e0f1b03021\", element=\"d765da31-bab0-4ce5-ab5c-b5cff81ea731\")>,\n",
       " <selenium.webdriver.remote.webelement.WebElement (session=\"cbb0192534422a193ac945e0f1b03021\", element=\"ee08f4af-65b0-4227-872b-5a4f33a375e7\")>,\n",
       " <selenium.webdriver.remote.webelement.WebElement (session=\"cbb0192534422a193ac945e0f1b03021\", element=\"d01d53d9-4541-439f-82ce-37cde4dec34d\")>,\n",
       " <selenium.webdriver.remote.webelement.WebElement (session=\"cbb0192534422a193ac945e0f1b03021\", element=\"92ff2d85-2a58-417f-a3b1-cb73e3e1494d\")>,\n",
       " <selenium.webdriver.remote.webelement.WebElement (session=\"cbb0192534422a193ac945e0f1b03021\", element=\"6c71a4dc-3d02-4de8-99b6-a166e357aeb6\")>]"
      ]
     },
     "execution_count": 8,
     "metadata": {},
     "output_type": "execute_result"
    }
   ],
   "source": [
    "hostel_name=driver.find_elements_by_xpath(\"//h2[@class='title title-6']\")\n",
    "hostel_name"
   ]
  },
  {
   "cell_type": "code",
   "execution_count": 12,
   "metadata": {},
   "outputs": [],
   "source": [
    "distance=driver.find_elements_by_xpath(\"//div[@class='subtitle body-3']\")"
   ]
  },
  {
   "cell_type": "code",
   "execution_count": 13,
   "metadata": {},
   "outputs": [
    {
     "data": {
      "text/plain": [
       "[<selenium.webdriver.remote.webelement.WebElement (session=\"cbb0192534422a193ac945e0f1b03021\", element=\"e2120b7c-44ab-4814-abe9-3e422f8b391a\")>,\n",
       " <selenium.webdriver.remote.webelement.WebElement (session=\"cbb0192534422a193ac945e0f1b03021\", element=\"a669ca53-62ea-479e-b503-b0c3611b0a77\")>,\n",
       " <selenium.webdriver.remote.webelement.WebElement (session=\"cbb0192534422a193ac945e0f1b03021\", element=\"d9f5ab03-8239-41f2-a55b-f70c2ceec56c\")>,\n",
       " <selenium.webdriver.remote.webelement.WebElement (session=\"cbb0192534422a193ac945e0f1b03021\", element=\"f7682013-569a-4d44-b45b-8a4c99cac178\")>,\n",
       " <selenium.webdriver.remote.webelement.WebElement (session=\"cbb0192534422a193ac945e0f1b03021\", element=\"8b9f2107-4d4a-4434-b394-134a37cec099\")>,\n",
       " <selenium.webdriver.remote.webelement.WebElement (session=\"cbb0192534422a193ac945e0f1b03021\", element=\"7f097750-8b97-4ed2-9d16-310d624fdb42\")>,\n",
       " <selenium.webdriver.remote.webelement.WebElement (session=\"cbb0192534422a193ac945e0f1b03021\", element=\"951eb510-19b3-450d-8dd4-6db36a34593a\")>,\n",
       " <selenium.webdriver.remote.webelement.WebElement (session=\"cbb0192534422a193ac945e0f1b03021\", element=\"ab59c0a6-8989-44b2-a491-f2da17534480\")>,\n",
       " <selenium.webdriver.remote.webelement.WebElement (session=\"cbb0192534422a193ac945e0f1b03021\", element=\"15e92d5c-63a5-4270-b530-c68084d294ad\")>,\n",
       " <selenium.webdriver.remote.webelement.WebElement (session=\"cbb0192534422a193ac945e0f1b03021\", element=\"6b8ebdfa-2ed0-4b60-aba9-b04aeba994a0\")>,\n",
       " <selenium.webdriver.remote.webelement.WebElement (session=\"cbb0192534422a193ac945e0f1b03021\", element=\"cfaea3b8-1296-46a5-affc-105fac3d6c21\")>,\n",
       " <selenium.webdriver.remote.webelement.WebElement (session=\"cbb0192534422a193ac945e0f1b03021\", element=\"12173a30-18ca-4d32-8ca6-0c51ba9b46ba\")>,\n",
       " <selenium.webdriver.remote.webelement.WebElement (session=\"cbb0192534422a193ac945e0f1b03021\", element=\"d39fe6d6-6d24-497e-a19f-804d255ca08e\")>,\n",
       " <selenium.webdriver.remote.webelement.WebElement (session=\"cbb0192534422a193ac945e0f1b03021\", element=\"dcc2213f-d033-4ccf-87b3-5c2eff675456\")>,\n",
       " <selenium.webdriver.remote.webelement.WebElement (session=\"cbb0192534422a193ac945e0f1b03021\", element=\"15e75350-aa85-4638-9faa-ecd9fa3cf7d1\")>,\n",
       " <selenium.webdriver.remote.webelement.WebElement (session=\"cbb0192534422a193ac945e0f1b03021\", element=\"83ba2b33-9c51-4674-b011-af1d10b01d68\")>,\n",
       " <selenium.webdriver.remote.webelement.WebElement (session=\"cbb0192534422a193ac945e0f1b03021\", element=\"0ae41daa-d722-4879-b109-6e2e85fceb7e\")>,\n",
       " <selenium.webdriver.remote.webelement.WebElement (session=\"cbb0192534422a193ac945e0f1b03021\", element=\"dffc2efe-901c-4eea-ace4-dc19b0eacfdd\")>,\n",
       " <selenium.webdriver.remote.webelement.WebElement (session=\"cbb0192534422a193ac945e0f1b03021\", element=\"817341a7-3f0b-426b-9e0b-47936457f995\")>,\n",
       " <selenium.webdriver.remote.webelement.WebElement (session=\"cbb0192534422a193ac945e0f1b03021\", element=\"07c68efd-885c-4370-af90-5ad74e5a31a3\")>,\n",
       " <selenium.webdriver.remote.webelement.WebElement (session=\"cbb0192534422a193ac945e0f1b03021\", element=\"739431fb-bee7-4748-9068-47b4a5b6f352\")>,\n",
       " <selenium.webdriver.remote.webelement.WebElement (session=\"cbb0192534422a193ac945e0f1b03021\", element=\"26e2e97f-a3b7-43e6-a301-49ee0be35d54\")>,\n",
       " <selenium.webdriver.remote.webelement.WebElement (session=\"cbb0192534422a193ac945e0f1b03021\", element=\"65494ef1-0035-484f-881d-2bee6fc51d5f\")>,\n",
       " <selenium.webdriver.remote.webelement.WebElement (session=\"cbb0192534422a193ac945e0f1b03021\", element=\"cccbde00-d7de-4693-9eb8-92b01f4f4199\")>,\n",
       " <selenium.webdriver.remote.webelement.WebElement (session=\"cbb0192534422a193ac945e0f1b03021\", element=\"fbdfcef5-a4fe-452d-a881-51b5d865cc56\")>,\n",
       " <selenium.webdriver.remote.webelement.WebElement (session=\"cbb0192534422a193ac945e0f1b03021\", element=\"7958fb3d-5c3e-4a7e-a2cc-4c791f572697\")>,\n",
       " <selenium.webdriver.remote.webelement.WebElement (session=\"cbb0192534422a193ac945e0f1b03021\", element=\"ccf14c0d-fe42-41e0-ad83-d87e01aacc96\")>,\n",
       " <selenium.webdriver.remote.webelement.WebElement (session=\"cbb0192534422a193ac945e0f1b03021\", element=\"145ed11e-570a-4d8b-9b61-fed8d2f7306c\")>,\n",
       " <selenium.webdriver.remote.webelement.WebElement (session=\"cbb0192534422a193ac945e0f1b03021\", element=\"3ded2372-6b22-4741-8b2f-ff28e997dcd8\")>,\n",
       " <selenium.webdriver.remote.webelement.WebElement (session=\"cbb0192534422a193ac945e0f1b03021\", element=\"357fa214-3487-4855-83ea-0c259eb4ec3b\")>,\n",
       " <selenium.webdriver.remote.webelement.WebElement (session=\"cbb0192534422a193ac945e0f1b03021\", element=\"16b975fb-5a65-4f2c-b6d5-6453f863e701\")>,\n",
       " <selenium.webdriver.remote.webelement.WebElement (session=\"cbb0192534422a193ac945e0f1b03021\", element=\"0ee136ad-d6e1-46ca-8467-736b3a3e8535\")>]"
      ]
     },
     "execution_count": 13,
     "metadata": {},
     "output_type": "execute_result"
    }
   ],
   "source": [
    "distance"
   ]
  },
  {
   "cell_type": "code",
   "execution_count": null,
   "metadata": {},
   "outputs": [],
   "source": []
  }
 ],
 "metadata": {
  "kernelspec": {
   "display_name": "Python 3",
   "language": "python",
   "name": "python3"
  },
  "language_info": {
   "codemirror_mode": {
    "name": "ipython",
    "version": 3
   },
   "file_extension": ".py",
   "mimetype": "text/x-python",
   "name": "python",
   "nbconvert_exporter": "python",
   "pygments_lexer": "ipython3",
   "version": "3.8.5"
  }
 },
 "nbformat": 4,
 "nbformat_minor": 4
}
