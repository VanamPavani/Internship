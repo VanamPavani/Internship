{
 "cells": [
  {
   "cell_type": "code",
   "execution_count": 72,
   "metadata": {},
   "outputs": [
    {
     "name": "stdout",
     "output_type": "stream",
     "text": [
      "Requirement already satisfied: selenium in c:\\users\\venkata\\anaconda3\\lib\\site-packages (4.1.3)\n",
      "Requirement already satisfied: trio-websocket~=0.9 in c:\\users\\venkata\\anaconda3\\lib\\site-packages (from selenium) (0.9.2)\n",
      "Requirement already satisfied: trio~=0.17 in c:\\users\\venkata\\anaconda3\\lib\\site-packages (from selenium) (0.20.0)\n",
      "Requirement already satisfied: urllib3[secure,socks]~=1.26 in c:\\users\\venkata\\anaconda3\\lib\\site-packages (from selenium) (1.26.9)\n",
      "Requirement already satisfied: async-generator>=1.10 in c:\\users\\venkata\\anaconda3\\lib\\site-packages (from trio-websocket~=0.9->selenium) (1.10)\n",
      "Requirement already satisfied: wsproto>=0.14 in c:\\users\\venkata\\anaconda3\\lib\\site-packages (from trio-websocket~=0.9->selenium) (1.1.0)\n",
      "Requirement already satisfied: cffi>=1.14; os_name == \"nt\" and implementation_name != \"pypy\" in c:\\users\\venkata\\anaconda3\\lib\\site-packages (from trio~=0.17->selenium) (1.14.3)\n",
      "Requirement already satisfied: outcome in c:\\users\\venkata\\anaconda3\\lib\\site-packages (from trio~=0.17->selenium) (1.1.0)\n",
      "Requirement already satisfied: attrs>=19.2.0 in c:\\users\\venkata\\anaconda3\\lib\\site-packages (from trio~=0.17->selenium) (20.3.0)\n",
      "Requirement already satisfied: sortedcontainers in c:\\users\\venkata\\anaconda3\\lib\\site-packages (from trio~=0.17->selenium) (2.2.2)\n",
      "Requirement already satisfied: sniffio in c:\\users\\venkata\\anaconda3\\lib\\site-packages (from trio~=0.17->selenium) (1.2.0)\n",
      "Requirement already satisfied: idna in c:\\users\\venkata\\anaconda3\\lib\\site-packages (from trio~=0.17->selenium) (2.10)\n",
      "Requirement already satisfied: pyOpenSSL>=0.14; extra == \"secure\" in c:\\users\\venkata\\anaconda3\\lib\\site-packages (from urllib3[secure,socks]~=1.26->selenium) (19.1.0)\n",
      "Requirement already satisfied: certifi; extra == \"secure\" in c:\\users\\venkata\\anaconda3\\lib\\site-packages (from urllib3[secure,socks]~=1.26->selenium) (2020.6.20)\n",
      "Requirement already satisfied: cryptography>=1.3.4; extra == \"secure\" in c:\\users\\venkata\\anaconda3\\lib\\site-packages (from urllib3[secure,socks]~=1.26->selenium) (3.1.1)\n",
      "Requirement already satisfied: PySocks!=1.5.7,<2.0,>=1.5.6; extra == \"socks\" in c:\\users\\venkata\\anaconda3\\lib\\site-packages (from urllib3[secure,socks]~=1.26->selenium) (1.7.1)\n",
      "Requirement already satisfied: h11<1,>=0.9.0 in c:\\users\\venkata\\anaconda3\\lib\\site-packages (from wsproto>=0.14->trio-websocket~=0.9->selenium) (0.13.0)\n",
      "Requirement already satisfied: pycparser in c:\\users\\venkata\\anaconda3\\lib\\site-packages (from cffi>=1.14; os_name == \"nt\" and implementation_name != \"pypy\"->trio~=0.17->selenium) (2.20)\n",
      "Requirement already satisfied: six>=1.5.2 in c:\\users\\venkata\\anaconda3\\lib\\site-packages (from pyOpenSSL>=0.14; extra == \"secure\"->urllib3[secure,socks]~=1.26->selenium) (1.15.0)\n"
     ]
    }
   ],
   "source": [
    "!pip install selenium"
   ]
  },
  {
   "cell_type": "code",
   "execution_count": 73,
   "metadata": {},
   "outputs": [],
   "source": [
    "import selenium\n",
    "import pandas as pd\n",
    "import time\n",
    "from selenium import webdriver\n",
    "import warnings\n",
    "warnings.filterwarnings('ignore')\n",
    "from selenium.common.exceptions import NoSuchElementException\n",
    "from selenium.webdriver.support.ui import WebDriverWait\n",
    "from selenium.webdriver.support import expected_conditions as EC\n",
    "from selenium.webdriver.common.by import By"
   ]
  },
  {
   "cell_type": "code",
   "execution_count": 74,
   "metadata": {},
   "outputs": [],
   "source": [
    "driver = webdriver.Chrome(r\"C:\\Users\\Venkata\\Downloads\\chromedriver_win32 (1)\\chromedriver.exe\")"
   ]
  },
  {
   "cell_type": "code",
   "execution_count": null,
   "metadata": {},
   "outputs": [],
   "source": []
  },
  {
   "cell_type": "code",
   "execution_count": 75,
   "metadata": {},
   "outputs": [],
   "source": [
    "driver.get('https://www.amazon.in/')"
   ]
  },
  {
   "cell_type": "code",
   "execution_count": 76,
   "metadata": {},
   "outputs": [
    {
     "name": "stdout",
     "output_type": "stream",
     "text": [
      "Enter the word to searchguitar\n"
     ]
    }
   ],
   "source": [
    "ProductName = input(\"Enter the word to search\")"
   ]
  },
  {
   "cell_type": "code",
   "execution_count": 77,
   "metadata": {},
   "outputs": [
    {
     "name": "stdout",
     "output_type": "stream",
     "text": [
      "guitar\n"
     ]
    }
   ],
   "source": [
    "print(ProductName)"
   ]
  },
  {
   "cell_type": "code",
   "execution_count": 78,
   "metadata": {},
   "outputs": [],
   "source": [
    "search_field_designation=driver.find_element_by_id(\"twotabsearchtextbox\")\n",
    "search_field_designation.send_keys(ProductName)"
   ]
  },
  {
   "cell_type": "code",
   "execution_count": 79,
   "metadata": {},
   "outputs": [],
   "source": [
    "search_button=driver.find_element_by_id(\"nav-search-submit-button\")\n",
    "search_button.click()"
   ]
  },
  {
   "cell_type": "code",
   "execution_count": 80,
   "metadata": {},
   "outputs": [],
   "source": [
    "price=[]\n",
    "delivery=[]\n",
    "\n",
    "\n"
   ]
  },
  {
   "cell_type": "code",
   "execution_count": 81,
   "metadata": {},
   "outputs": [],
   "source": [
    "start=0\n",
    "end=3\n",
    "\n",
    "for page in range(start,end):\n",
    "    price_tags=driver.find_elements_by_xpath(\"//span[@class='a-price-whole']\")\n",
    "    count = 0\n",
    "    for i in price_tags:\n",
    "        if count > 2 : \n",
    "            title=i.text\n",
    "            price.append(title)\n",
    "        count = count + 1\n",
    "    delivery_tags=driver.find_elements_by_xpath(\"//span[@class='a-color-base a-text-bold']\")\n",
    "    for i in delivery_tags:\n",
    "        title=i.text\n",
    "        delivery.append(title)\n"
   ]
  },
  {
   "cell_type": "code",
   "execution_count": 82,
   "metadata": {},
   "outputs": [
    {
     "name": "stdout",
     "output_type": "stream",
     "text": [
      "['5,399', '7,348', '2,560', '4,999', '2,095', '2,090', '2,289', '7,499', '2,289', '5,399', '', '', '2,639', '2,090', '5,499', '1,990', '2,639', '4,280', '3,599', '2,499', '2,649', '5,399', '2,390', '2,290', '2,499', '899', '999', '2,499', '999', '2,289', '2,639', '6,299', '2,390', '2,290', '2,639', '8,160', '2,479', '2,639', '2,499', '7,499', '2,499', '181', '249', '299', '789', '5,759', '2,248', '2,390', '2,390', '7,200', '5,739', '2,090', '2,499', '19,047', '3,169', '7,349', '1,549', '2,799', '5,984', '3,999', '9,999', '6,890', '899', '4,295', '10,150', '5,399', '7,348', '2,560', '4,999', '2,095', '2,090', '2,289', '7,499', '2,289', '5,399', '', '', '2,639', '2,090', '5,499', '1,990', '2,639', '4,280', '3,599', '2,499', '2,649', '5,399', '2,390', '2,290', '2,499', '899', '999', '2,499', '999', '2,289', '2,639', '6,299', '2,390', '2,290', '2,639', '8,160', '2,479', '2,639', '2,499', '7,499', '2,499', '181', '249', '299', '789', '5,759', '2,248', '2,390', '2,390', '7,200', '5,739', '2,090', '2,499', '19,047', '3,169', '7,349', '1,549', '2,799', '5,984', '3,999', '9,999', '6,890', '899', '4,295', '10,150', '5,399', '7,348', '2,560', '4,999', '2,095', '2,090', '2,289', '7,499', '2,289', '5,399', '', '', '2,639', '2,090', '5,499', '1,990', '2,639', '4,280', '3,599', '2,499', '2,649', '5,399', '2,390', '2,290', '2,499', '899', '999', '2,499', '999', '2,289', '2,639', '6,299', '2,390', '2,290', '2,639', '8,160', '2,479', '2,639', '2,499', '7,499', '2,499', '181', '249', '299', '789', '5,759', '2,248', '2,390', '2,390', '7,200', '5,739', '2,090', '2,499', '19,047', '3,169', '7,349', '1,549', '2,799', '5,984', '3,999', '9,999', '6,890', '899', '4,295', '10,150']\n",
      "['Tomorrow, June 4', 'Sunday, June 5', 'Wednesday, June 8', 'Wednesday, June 8', 'Sunday, June 5', 'Sunday, June 5', 'Tomorrow, June 4', 'Tomorrow, June 4', 'Sunday, June 5', 'Tomorrow, June 4', 'Sunday, June 5', 'Sunday, June 5', 'Sunday, June 5', 'Wednesday, June 8', 'Monday, June 6', 'Tomorrow, June 4', 'Sunday, June 5', 'Tomorrow, June 4', 'Sunday, June 5', 'Tomorrow, June 4', 'Sunday, June 5', 'Thursday, June 9', 'Tuesday, June 14', 'Sunday, June 5', 'Thursday, June 9', 'Tuesday, June 14', 'Sunday, June 5', 'Tuesday, June 7', 'Sunday, June 5', 'Tomorrow, June 4', 'Sunday, June 5', 'Sunday, June 5', 'Monday, June 6', 'Sunday, June 5', 'Sunday, June 5', 'Tomorrow, June 4', 'Tomorrow, June 4', 'Sunday, June 5', 'Tomorrow, June 4', 'Thursday, June 9', 'Wednesday, June 8', 'Thursday, June 9', 'Sunday, June 5', 'Monday, June 13', 'Sunday, June 5', 'Sunday, June 5', 'Monday, June 6', 'Tuesday, June 7', 'Sunday, June 5', 'Sunday, June 5', 'Tomorrow, June 4', 'Tuesday, June 7', 'Tomorrow, June 4', 'Wednesday, June 8', 'Monday, June 6', 'Tomorrow, June 4', 'Monday, June 6', 'Sunday, June 5', 'Monday, June 6', 'Thursday, June 9', 'Wednesday, June 15', 'Wednesday, June 8', 'Monday, June 6', 'Tomorrow, June 4', 'Sunday, June 5', 'Wednesday, June 8', 'Wednesday, June 8', 'Sunday, June 5', 'Sunday, June 5', 'Tomorrow, June 4', 'Tomorrow, June 4', 'Sunday, June 5', 'Tomorrow, June 4', 'Sunday, June 5', 'Sunday, June 5', 'Sunday, June 5', 'Wednesday, June 8', 'Monday, June 6', 'Tomorrow, June 4', 'Sunday, June 5', 'Tomorrow, June 4', 'Sunday, June 5', 'Tomorrow, June 4', 'Sunday, June 5', 'Thursday, June 9', 'Tuesday, June 14', 'Sunday, June 5', 'Thursday, June 9', 'Tuesday, June 14', 'Sunday, June 5', 'Tuesday, June 7', 'Sunday, June 5', 'Tomorrow, June 4', 'Sunday, June 5', 'Sunday, June 5', 'Monday, June 6', 'Sunday, June 5', 'Sunday, June 5', 'Tomorrow, June 4', 'Tomorrow, June 4', 'Sunday, June 5', 'Tomorrow, June 4', 'Thursday, June 9', 'Wednesday, June 8', 'Thursday, June 9', 'Sunday, June 5', 'Monday, June 13', 'Sunday, June 5', 'Sunday, June 5', 'Monday, June 6', 'Tuesday, June 7', 'Sunday, June 5', 'Sunday, June 5', 'Tomorrow, June 4', 'Tuesday, June 7', 'Tomorrow, June 4', 'Wednesday, June 8', 'Monday, June 6', 'Tomorrow, June 4', 'Monday, June 6', 'Sunday, June 5', 'Monday, June 6', 'Thursday, June 9', 'Wednesday, June 15', 'Wednesday, June 8', 'Monday, June 6', 'Tomorrow, June 4', 'Sunday, June 5', 'Wednesday, June 8', 'Wednesday, June 8', 'Sunday, June 5', 'Sunday, June 5', 'Tomorrow, June 4', 'Tomorrow, June 4', 'Sunday, June 5', 'Tomorrow, June 4', 'Sunday, June 5', 'Sunday, June 5', 'Sunday, June 5', 'Wednesday, June 8', 'Monday, June 6', 'Tomorrow, June 4', 'Sunday, June 5', 'Tomorrow, June 4', 'Sunday, June 5', 'Tomorrow, June 4', 'Sunday, June 5', 'Thursday, June 9', 'Tuesday, June 14', 'Sunday, June 5', 'Thursday, June 9', 'Tuesday, June 14', 'Sunday, June 5', 'Tuesday, June 7', 'Sunday, June 5', 'Tomorrow, June 4', 'Sunday, June 5', 'Sunday, June 5', 'Monday, June 6', 'Sunday, June 5', 'Sunday, June 5', 'Tomorrow, June 4', 'Tomorrow, June 4', 'Sunday, June 5', 'Tomorrow, June 4', 'Thursday, June 9', 'Wednesday, June 8', 'Thursday, June 9', 'Sunday, June 5', 'Monday, June 13', 'Sunday, June 5', 'Sunday, June 5', 'Monday, June 6', 'Tuesday, June 7', 'Sunday, June 5', 'Sunday, June 5', 'Tomorrow, June 4', 'Tuesday, June 7', 'Tomorrow, June 4', 'Wednesday, June 8', 'Monday, June 6', 'Tomorrow, June 4', 'Monday, June 6', 'Sunday, June 5', 'Monday, June 6', 'Thursday, June 9', 'Wednesday, June 15', 'Wednesday, June 8', 'Monday, June 6']\n"
     ]
    }
   ],
   "source": [
    "print(price)\n",
    "print(delivery)"
   ]
  },
  {
   "cell_type": "code",
   "execution_count": 83,
   "metadata": {},
   "outputs": [],
   "source": [
    "#price_tags=driver.find_elements_by_xpath(\"//span[@class='a-price-whole']\")\n",
    "#price_tags"
   ]
  },
  {
   "cell_type": "code",
   "execution_count": 84,
   "metadata": {},
   "outputs": [],
   "source": [
    "#for i in price_tags:\n",
    "#    title=i.text\n",
    "#    price.append(title)\n",
    "#price"
   ]
  },
  {
   "cell_type": "code",
   "execution_count": 85,
   "metadata": {},
   "outputs": [],
   "source": [
    "#delivery_tags=driver.find_elements_by_xpath(\"//span[@class='a-color-base a-text-bold']\")\n",
    "#delivery_tags"
   ]
  },
  {
   "cell_type": "code",
   "execution_count": 86,
   "metadata": {},
   "outputs": [],
   "source": [
    "#for i in delivery_tags:\n",
    "#    title=i.text\n",
    "#    delivery.append(title)\n",
    "#delivery"
   ]
  },
  {
   "cell_type": "code",
   "execution_count": 87,
   "metadata": {},
   "outputs": [
    {
     "data": {
      "text/plain": [
       "['https://www.amazon.in/gp/slredirect/picassoRedirect.html/ref=pa_sp_atf_aps_sr_pg1_1?ie=UTF8&adId=A061107531TUGN5RHMV0N&url=%2FKadence-Frontier-Acoustic-Guitar-Strings%2Fdp%2FB01GDZ46AA%2Fref%3Dsr_1_1_sspa%3Fkeywords%3Dguitar%26qid%3D1654248941%26smid%3DAM04Z7MH4HSDD%26sr%3D8-1-spons%26psc%3D1&qualifier=1654248941&id=2692140934493670&widgetName=sp_atf',\n",
       " 'https://www.amazon.in/gp/slredirect/picassoRedirect.html/ref=pa_sp_atf_aps_sr_pg1_1?ie=UTF8&adId=A0046612372SWJAK5T57D&url=%2FKadence-Frontier-Acoustic-Equalizer-Strings%2Fdp%2FB01HRIHH9E%2Fref%3Dsr_1_2_sspa%3Fkeywords%3Dguitar%26qid%3D1654248941%26sr%3D8-2-spons%26psc%3D1&qualifier=1654248941&id=2692140934493670&widgetName=sp_atf',\n",
       " 'https://www.amazon.in/gp/slredirect/picassoRedirect.html/ref=pa_sp_atf_aps_sr_pg1_1?ie=UTF8&adId=A0049561XBD14Z9O6GXG&url=%2FBlueberry-38C-Acoustic-Guitar-Strings%2Fdp%2FB08KLMV4XX%2Fref%3Dsr_1_3_sspa%3Fkeywords%3Dguitar%26qid%3D1654248941%26sr%3D8-3-spons%26psc%3D1&qualifier=1654248941&id=2692140934493670&widgetName=sp_atf',\n",
       " 'https://www.amazon.in/gp/slredirect/picassoRedirect.html/ref=pa_sp_atf_aps_sr_pg1_1?ie=UTF8&adId=A0050053YFBD0RZWXSXR&url=%2FBlueberry-B-40EQ-GL-Fretboard-Amplifier-Equalizer%2Fdp%2FB09MZ5C9TL%2Fref%3Dsr_1_4_sspa%3Fkeywords%3Dguitar%26qid%3D1654248941%26sr%3D8-4-spons%26psc%3D1&qualifier=1654248941&id=2692140934493670&widgetName=sp_atf',\n",
       " 'https://www.amazon.in/Juarez-Acoustic-Cutaway-038C-Strings/dp/B017NPCSLI/ref=sr_1_5?keywords=guitar&qid=1654248941&sr=8-5',\n",
       " 'https://www.amazon.in/Intern-INT-38C-Sunburst-Acoustic-Guitar/dp/B07X1J4D3Z/ref=sr_1_omk_6?keywords=guitar&qid=1654248941&sr=8-6',\n",
       " 'https://www.amazon.in/Intern-INT-38C-Acoustic-Guitar-Black/dp/B073B6TQQY/ref=sr_1_7?keywords=guitar&qid=1654248941&sr=8-7',\n",
       " 'https://www.amazon.in/Intern-INT-38C-Acoustic-Guitar-Black/dp/B073B6TQQY/ref=sxin_15?asc_contentid=amzn1.osa.1320a493-71c5-4ff9-a1fa-1353eba85472.A21TJRUUN4KGV.en_IN&asc_contenttype=article&ascsubtag=amzn1.osa.1320a493-71c5-4ff9-a1fa-1353eba85472.A21TJRUUN4KGV.en_IN&content-id=amzn1.sym.5ba284fc-356d-425a-af45-af36de0996bb%3Aamzn1.sym.5ba284fc-356d-425a-af45-af36de0996bb&creativeASIN=B073B6TQQY&cv_ct_cx=guitar&cv_ct_id=amzn1.osa.1320a493-71c5-4ff9-a1fa-1353eba85472.A21TJRUUN4KGV.en_IN&cv_ct_pg=search&cv_ct_we=asin&cv_ct_wn=osp-single-source-earns-comm&keywords=guitar&linkCode=oas&pd_rd_i=B073B6TQQY&pd_rd_r=5cb41b05-98cb-49a2-abab-5e8630c74f9c&pd_rd_w=RGJKt&pd_rd_wg=4WKtf&pf_rd_p=5ba284fc-356d-425a-af45-af36de0996bb&pf_rd_r=RY4F9H2XMRF83SZ130BJ&qid=1654248941&sr=1-1-61f4c597-7a45-4a97-bd75-c52903f8ee93&tag=hznew-21',\n",
       " 'https://www.amazon.in/Kadence-Frontier-Acoustic-Guitar-Strings/dp/B01GDZ46AA/ref=sxin_15?asc_contentid=amzn1.osa.1320a493-71c5-4ff9-a1fa-1353eba85472.A21TJRUUN4KGV.en_IN&asc_contenttype=article&ascsubtag=amzn1.osa.1320a493-71c5-4ff9-a1fa-1353eba85472.A21TJRUUN4KGV.en_IN&content-id=amzn1.sym.5ba284fc-356d-425a-af45-af36de0996bb%3Aamzn1.sym.5ba284fc-356d-425a-af45-af36de0996bb&creativeASIN=B01GDZ46AA&cv_ct_cx=guitar&cv_ct_id=amzn1.osa.1320a493-71c5-4ff9-a1fa-1353eba85472.A21TJRUUN4KGV.en_IN&cv_ct_pg=search&cv_ct_we=asin&cv_ct_wn=osp-single-source-earns-comm&keywords=guitar&linkCode=oas&pd_rd_i=B01GDZ46AA&pd_rd_r=5cb41b05-98cb-49a2-abab-5e8630c74f9c&pd_rd_w=RGJKt&pd_rd_wg=4WKtf&pf_rd_p=5ba284fc-356d-425a-af45-af36de0996bb&pf_rd_r=RY4F9H2XMRF83SZ130BJ&qid=1654248941&smid=AM04Z7MH4HSDD&sr=1-2-61f4c597-7a45-4a97-bd75-c52903f8ee93&tag=hznew-21',\n",
       " 'https://www.amazon.in/JUAREZ-JRZ38C-Acoustic-Sunburst-Strings/dp/B01FYYTDS6/ref=sxin_15?asc_contentid=amzn1.osa.1320a493-71c5-4ff9-a1fa-1353eba85472.A21TJRUUN4KGV.en_IN&asc_contenttype=article&ascsubtag=amzn1.osa.1320a493-71c5-4ff9-a1fa-1353eba85472.A21TJRUUN4KGV.en_IN&content-id=amzn1.sym.5ba284fc-356d-425a-af45-af36de0996bb%3Aamzn1.sym.5ba284fc-356d-425a-af45-af36de0996bb&creativeASIN=B01FYYTDS6&cv_ct_cx=guitar&cv_ct_id=amzn1.osa.1320a493-71c5-4ff9-a1fa-1353eba85472.A21TJRUUN4KGV.en_IN&cv_ct_pg=search&cv_ct_we=asin&cv_ct_wn=osp-single-source-earns-comm&keywords=guitar&linkCode=oas&pd_rd_i=B01FYYTDS6&pd_rd_r=5cb41b05-98cb-49a2-abab-5e8630c74f9c&pd_rd_w=RGJKt&pd_rd_wg=4WKtf&pf_rd_p=5ba284fc-356d-425a-af45-af36de0996bb&pf_rd_r=RY4F9H2XMRF83SZ130BJ&qid=1654248941&sr=1-3-61f4c597-7a45-4a97-bd75-c52903f8ee93&tag=hznew-21',\n",
       " 'https://www.amazon.in/Epiphone-ENOLVSCH1-Electric-Guitars-Sunburst/dp/B075BTXVDJ/ref=sxin_15?asc_contentid=amzn1.osa.1320a493-71c5-4ff9-a1fa-1353eba85472.A21TJRUUN4KGV.en_IN&asc_contenttype=article&ascsubtag=amzn1.osa.1320a493-71c5-4ff9-a1fa-1353eba85472.A21TJRUUN4KGV.en_IN&content-id=amzn1.sym.5ba284fc-356d-425a-af45-af36de0996bb%3Aamzn1.sym.5ba284fc-356d-425a-af45-af36de0996bb&creativeASIN=B075BTXVDJ&cv_ct_cx=guitar&cv_ct_id=amzn1.osa.1320a493-71c5-4ff9-a1fa-1353eba85472.A21TJRUUN4KGV.en_IN&cv_ct_pg=search&cv_ct_we=asin&cv_ct_wn=osp-single-source-earns-comm&keywords=guitar&linkCode=oas&pd_rd_i=B075BTXVDJ&pd_rd_r=5cb41b05-98cb-49a2-abab-5e8630c74f9c&pd_rd_w=RGJKt&pd_rd_wg=4WKtf&pf_rd_p=5ba284fc-356d-425a-af45-af36de0996bb&pf_rd_r=RY4F9H2XMRF83SZ130BJ&qid=1654248941&sr=1-4-61f4c597-7a45-4a97-bd75-c52903f8ee93&tag=hznew-21',\n",
       " 'https://www.amazon.in/Juarez-Acoustic-Guitar-Cutaway-Strings/dp/B076QHZ4HZ/ref=sr_1_8?keywords=guitar&qid=1654248941&sr=8-8',\n",
       " 'https://www.amazon.in/Intern-38-inch-Cutaway-Design-Acoustic/dp/B07X4PN85R/ref=sr_1_9?keywords=guitar&qid=1654248941&sr=8-9',\n",
       " 'https://www.amazon.in/Kadence-Frontier-Acoustic-Guitar-Strings/dp/B078GTJP5Y/ref=sr_1_10?keywords=guitar&qid=1654248941&smid=AM04Z7MH4HSDD&sr=8-10',\n",
       " 'https://www.amazon.in/Photron-Acoustic-Cutaway-PH38C-BK/dp/B076T8V8NB/ref=sr_1_11?keywords=guitar&qid=1654248941&sr=8-11',\n",
       " 'https://www.amazon.in/JUAREZ-JRZ38C-Acoustic-Natural-Strings/dp/B01FYYTDWC/ref=sr_1_12?keywords=guitar&qid=1654248941&sr=8-12',\n",
       " 'https://www.amazon.in/Rosewood-Fretboard-Acoustic-Strings-K-Retail/dp/B07KLG8C4P/ref=sr_1_13?keywords=guitar&qid=1654248941&sr=8-13',\n",
       " 'https://www.amazon.in/Henrix-Cutaway-Acoustic-Die-Cast-Tuners/dp/B07KMXDXBV/ref=sr_1_14?keywords=guitar&qid=1654248941&sr=8-14',\n",
       " 'https://www.amazon.in/Medellin-Acoustic-Guitar-Carbon-Learning/dp/B09MSFP7JK/ref=sr_1_15?keywords=guitar&qid=1654248941&sr=8-15',\n",
       " 'https://www.amazon.in/JUAREZ-JRZ38C-Handed-Acoustic-Strings/dp/B01FYYTDW2/ref=sr_1_16?keywords=guitar&qid=1654248941&sr=8-16',\n",
       " 'https://www.amazon.in/Kadence-Frontier-Acoustic-Guitar-Strings/dp/B01GDZ46AA/ref=sr_1_17?keywords=guitar&qid=1654248941&smid=AM04Z7MH4HSDD&sr=8-17',\n",
       " 'https://www.amazon.in/Intern-INT-38C-SB-G-Guitar-Kit-Sunburst/dp/B07K8WLPLH/ref=sr_1_18?keywords=guitar&qid=1654248941&sr=8-18',\n",
       " 'https://www.amazon.in/Intern-INT-38C-Acoustic-Guitar-Kit/dp/B073B6TF31/ref=sr_1_19?keywords=guitar&qid=1654248941&sr=8-19',\n",
       " 'https://www.amazon.in/Medellin-Acoustic-Guitar-Carbon-Learning/dp/B09MSGQQWX/ref=sr_1_20?keywords=guitar&qid=1654248941&sr=8-20',\n",
       " 'https://www.amazon.in/gp/slredirect/picassoRedirect.html/ref=pa_sp_mtf_aps_sr_pg1_1?ie=UTF8&adId=A0781470356P60BY9NFAO&url=%2FHOMME-STORE-Instrument-Educational-Instruments%2Fdp%2FB09MM9NBZC%2Fref%3Dsr_1_21_sspa%3Fkeywords%3Dguitar%26qid%3D1654248941%26sr%3D8-21-spons%26psc%3D1&qualifier=1654248941&id=2692140934493670&widgetName=sp_mtf',\n",
       " 'https://www.amazon.in/gp/slredirect/picassoRedirect.html/ref=pa_sp_mtf_aps_sr_pg1_1?ie=UTF8&adId=A0864245VXJA9HRPJQM5&url=%2FCrizer-Childrens-Instrument-Educational-Instruments%2Fdp%2FB08R7J8LLM%2Fref%3Dsr_1_22_sspa%3Fkeywords%3Dguitar%26qid%3D1654248941%26sr%3D8-22-spons%26psc%3D1&qualifier=1654248941&id=2692140934493670&widgetName=sp_mtf',\n",
       " 'https://www.amazon.in/gp/slredirect/picassoRedirect.html/ref=pa_sp_mtf_aps_sr_pg1_1?ie=UTF8&adId=A093834425X8CW6M8IIIL&url=%2FMedellin-carbn-guitar-38inch-NATURAL%2Fdp%2FB09MSHD6TS%2Fref%3Dsr_1_23_sspa%3Fkeywords%3Dguitar%26qid%3D1654248941%26sr%3D8-23-spons%26psc%3D1&qualifier=1654248941&id=2692140934493670&widgetName=sp_mtf',\n",
       " 'https://www.amazon.in/gp/slredirect/picassoRedirect.html/ref=pa_sp_mtf_aps_sr_pg1_1?ie=UTF8&adId=A08640892VIMFNY2X93U9&url=%2FCrizer-Childrens-Educational-Instruments-Beginners%2Fdp%2FB08X4L9F1Z%2Fref%3Dsr_1_24_sspa%3Fkeywords%3Dguitar%26qid%3D1654248941%26sr%3D8-24-spons%26psc%3D1&qualifier=1654248941&id=2692140934493670&widgetName=sp_mtf',\n",
       " 'https://www.amazon.in/Intern-INT-38C-Acoustic-Guitar-Sunburst/dp/B073B5MJRM/ref=sr_1_25?keywords=guitar&qid=1654248941&sr=8-25',\n",
       " 'https://www.amazon.in/JUAREZ-JRZ38C-Acoustic-Sunburst-Strings/dp/B01FYYTDS6/ref=sr_1_26?keywords=guitar&qid=1654248941&sr=8-26',\n",
       " 'https://www.amazon.in/Kadence-Frontier-Acoustic-Natural-Equalizer/dp/B01I50UJG6/ref=sr_1_27?keywords=guitar&qid=1654248941&sr=8-27',\n",
       " 'https://www.amazon.in/Intern-INT-38C-BK-G-Guitar-Kit-Black/dp/B07K9497RC/ref=sr_1_28?keywords=guitar&qid=1654248941&sr=8-28',\n",
       " 'https://www.amazon.in/Intern-Acoustic-Steel-string-plectrums-INT-38C-WH/dp/B09LR94Z2X/ref=sr_1_29?keywords=guitar&qid=1654248941&sr=8-29',\n",
       " 'https://www.amazon.in/JUAREZ-JRZ38C-Acoustic-Sunburst-Strings/dp/B01FYYTDTU/ref=sr_1_30?keywords=guitar&qid=1654248941&sr=8-30',\n",
       " 'https://www.amazon.in/Fender-String-Cutaway-Acoustic-Guitar/dp/B07YX5W8MV/ref=sr_1_31?keywords=guitar&qid=1654248941&sr=8-31',\n",
       " 'https://www.amazon.in/Juarez-Acoustic-Guitar-Cutaway-JRZ38CT/dp/B01N3TTYJQ/ref=sr_1_32?keywords=guitar&qid=1654248941&sr=8-32',\n",
       " 'https://www.amazon.in/Juarez-Acoustic-Guitar-Cutaway-Strings/dp/B075XMRKMY/ref=sr_1_33?keywords=guitar&qid=1654248941&sr=8-33',\n",
       " 'https://www.amazon.in/Medellin-Acoustic-specailized-learning-beginners/dp/B09MSGN39M/ref=sr_1_34?keywords=guitar&qid=1654248941&sr=8-34',\n",
       " 'https://www.amazon.in/Kadence-Acoustica-Acoustic-Guitar-Zebra/dp/B07KXNKLJ2/ref=sr_1_35?keywords=guitar&qid=1654248941&sr=8-35',\n",
       " 'https://www.amazon.in/Medellin-Acoustic-LEARNING-beginners-handrest/dp/B09MSKKHJC/ref=sr_1_36?keywords=guitar&qid=1654248941&sr=8-36',\n",
       " 'https://www.amazon.in/JUAREZ-Acoustic-Guitar-String-JRGSE32/dp/B08MW1WPW5/ref=sr_1_37?keywords=guitar&qid=1654248941&sr=8-37',\n",
       " 'https://www.amazon.in/Neowood-AT-01A-Guitar-Tuner-Black-Automatic-Chromatic/dp/B09XHTXG97/ref=sr_1_38?keywords=guitar&qid=1654248941&sr=8-38',\n",
       " 'https://www.amazon.in/CVANU-Fretboard-Fingerboard-Embossed-Trapezium/dp/B09FXPVJQB/ref=sr_1_39?keywords=guitar&qid=1654248941&sr=8-39',\n",
       " 'https://www.amazon.in/DEVICE-URBAN-INFOTECH-Accurate-Acoustic/dp/B08BZXMJTP/ref=sr_1_40?keywords=guitar&qid=1654248941&sr=8-40',\n",
       " 'https://www.amazon.in/JRZ-ST01-6-String-Electric-Sunburst-Without/dp/B01FYZSOEE/ref=sr_1_41?keywords=guitar&qid=1654248941&sr=8-41',\n",
       " 'https://www.amazon.in/Intern-INT-38C-Acoustic-Guitar-Natural/dp/B073B4D22T/ref=sr_1_42?keywords=guitar&qid=1654248941&sr=8-42',\n",
       " 'https://www.amazon.in/Intern-INT-38C-Acoustic-Guitar-Purple/dp/B073B4CT2F/ref=sr_1_43?keywords=guitar&qid=1654248941&sr=8-43',\n",
       " 'https://www.amazon.in/Intern-INT-38C-RD-G-Guitar-Kit-Red/dp/B07K959RKX/ref=sr_1_44?keywords=guitar&qid=1654248941&sr=8-44',\n",
       " 'https://www.amazon.in/Yamaha-Classical-Guitar-C40-02/dp/B003UGCUFE/ref=sr_1_45?keywords=guitar&qid=1654248941&sr=8-45',\n",
       " 'https://www.amazon.in/Juarez-JRZ-ST01-6-String-Electric-Without/dp/B01FYZSOGM/ref=sr_1_46?keywords=guitar&qid=1654248941&sr=8-46',\n",
       " 'https://www.amazon.in/Intern-INT-38C-Brown-Acoustic-Guitar/dp/B07X2HV158/ref=sr_1_47?keywords=guitar&qid=1654248941&sr=8-47',\n",
       " 'https://www.amazon.in/Medellin-carbn-guitar-38inch-NATURAL/dp/B09MSHD6TS/ref=sr_1_48?keywords=guitar&qid=1654248941&sr=8-48',\n",
       " 'https://www.amazon.in/Fender-Classic-Design-Dreadnought-Acoustic/dp/B07HYS18LJ/ref=sr_1_49?keywords=guitar&qid=1654248941&sr=8-49',\n",
       " 'https://www.amazon.in/JUAREZ-JRZ38CTR-BK-Acoustic-Guitar/dp/B08FTZK7H8/ref=sr_1_50?keywords=guitar&qid=1654248941&sr=8-50',\n",
       " 'https://www.amazon.in/Kadence-Frontier-Acoustic-Guitar-Equalizer/dp/B01HRIHJWY/ref=sr_1_51?keywords=guitar&qid=1654248941&sr=8-51',\n",
       " 'https://www.amazon.in/TOXOT-TOYS-Instrument-resistance-Resonance/dp/B09Z6LKP5K/ref=sr_1_52?keywords=guitar&qid=1654248941&sr=8-52',\n",
       " 'https://www.amazon.in/JRZ38C-Strings-Acoustic-Cutaway-Mahogany/dp/B071JM8C6T/ref=sr_1_53?keywords=guitar&qid=1654248941&sr=8-53',\n",
       " 'https://www.amazon.in/Martin-Smith-W-101-N-PK-Acoustic-Natural/dp/B00UOUK4IE/ref=sr_1_54?keywords=guitar&qid=1654248941&sr=8-54',\n",
       " 'https://www.amazon.in/Junior-Acoustic-Guitar-Strings-Polishing/dp/B07RMJ88G2/ref=sr_1_55?keywords=guitar&qid=1654248941&sr=8-55',\n",
       " 'https://www.amazon.in/Kadence-Slowhand-Premium-Acoustic-Instrument/dp/B077SZ667X/ref=sr_1_56?keywords=guitar&qid=1654248941&smid=AM04Z7MH4HSDD&sr=8-56',\n",
       " 'https://www.amazon.in/gp/slredirect/picassoRedirect.html/ref=pa_sp_btf_aps_sr_pg1_1?ie=UTF8&adId=A07400101YBINYLP9UEXI&url=%2FPremium-Spruce-Top-Cutaway-Acoustic-Guitar%2Fdp%2FB08FFZY6BJ%2Fref%3Dsr_1_57_sspa%3Fkeywords%3Dguitar%26qid%3D1654248941%26sr%3D8-57-spons%26psc%3D1&qualifier=1654248941&id=2692140934493670&widgetName=sp_btf',\n",
       " 'https://www.amazon.in/gp/slredirect/picassoRedirect.html/ref=pa_sp_btf_aps_sr_pg1_1?ie=UTF8&adId=A08802611ONKSOGJ9HGRR&url=%2FHOMME-STORE-Acoustic-Instrument-Educational%2Fdp%2FB09RK4CWGK%2Fref%3Dsr_1_58_sspa%3Fkeywords%3Dguitar%26qid%3D1654248941%26sr%3D8-58-spons%26psc%3D1&qualifier=1654248941&id=2692140934493670&widgetName=sp_btf',\n",
       " 'https://www.amazon.in/gp/slredirect/picassoRedirect.html/ref=pa_sp_btf_aps_sr_pg1_1?ie=UTF8&adId=A00513451NPSOUKP9NKFP&url=%2FBlueberry-Acoustic-Inbuilt-Strings-Classic%2Fdp%2FB09VLF7G2D%2Fref%3Dsr_1_59_sspa%3Fkeywords%3Dguitar%26qid%3D1654248941%26sr%3D8-59-spons%26psc%3D1&qualifier=1654248941&id=2692140934493670&widgetName=sp_btf',\n",
       " 'https://www.amazon.in/gp/slredirect/picassoRedirect.html/ref=pa_sp_btf_aps_sr_pg1_1?ie=UTF8&adId=A08790022Y5TKL7GOFMBU&url=%2FCort-AD810-Dreadnought-Acoustic-Guitar%2Fdp%2FB07KMBVR6V%2Fref%3Dsr_1_60_sspa%3Fkeywords%3Dguitar%26qid%3D1654248941%26sr%3D8-60-spons%26psc%3D1&qualifier=1654248941&id=2692140934493670&widgetName=sp_btf',\n",
       " 'https://www.amazon.in/gp/slredirect/picassoRedirect.html/ref=pa_sp_atf_next_aps_sr_pg2_1?ie=UTF8&adId=A035772132XYG2RHINY71&url=%2FExegi-Enterprise-Childrens-Instrument-Educational%2Fdp%2FB0B12YKQHV%2Fref%3Dsr_1_49_sspa%3Fkeywords%3Dguitar%26qid%3D1654248953%26sr%3D8-49-spons%26psc%3D1&qualifier=1654248953&id=6481088216523343&widgetName=sp_atf_next',\n",
       " 'https://www.amazon.in/gp/slredirect/picassoRedirect.html/ref=pa_sp_atf_next_aps_sr_pg2_1?ie=UTF8&adId=A0051781CZ5EMAAQHR9T&url=%2FBlueberry-Trussrod-Acoustic-Strings-Natural%2Fdp%2FB09WLNQFC9%2Fref%3Dsr_1_50_sspa%3Fkeywords%3Dguitar%26qid%3D1654248953%26sr%3D8-50-spons%26psc%3D1&qualifier=1654248953&id=6481088216523343&widgetName=sp_atf_next',\n",
       " 'https://www.amazon.in/gp/slredirect/picassoRedirect.html/ref=pa_sp_atf_next_aps_sr_pg2_1?ie=UTF8&adId=A00514452JKYA7IP4JEAA&url=%2FBlueberry-Acoustic-Inbuilt-Strings-Classic%2Fdp%2FB09VLF8B8G%2Fref%3Dsr_1_51_sspa%3Fkeywords%3Dguitar%26qid%3D1654248953%26sr%3D8-51-spons%26psc%3D1&qualifier=1654248953&id=6481088216523343&widgetName=sp_atf_next',\n",
       " 'https://www.amazon.in/gp/slredirect/picassoRedirect.html/ref=pa_sp_atf_next_aps_sr_pg2_1?ie=UTF8&adId=A087933837LQ4BBEWM3H5&url=%2FGUITAR-BRO-Acoustic-Beginner-Accessories%2Fdp%2FB07T84GC8L%2Fref%3Dsr_1_52_sspa%3Fkeywords%3Dguitar%26qid%3D1654248953%26sr%3D8-52-spons%26psc%3D1&qualifier=1654248953&id=6481088216523343&widgetName=sp_atf_next',\n",
       " 'https://www.amazon.in/Kadence-Slowhand-Premium-Acoustic-Instrument/dp/B077SZ667X/ref=sr_1_53?keywords=guitar&qid=1654248953&smid=AM04Z7MH4HSDD&sr=8-53',\n",
       " 'https://www.amazon.in/DEVICE-URBAN-INFOTECH-Rotational-Electronic/dp/B081LG3X5H/ref=sr_1_54?keywords=guitar&qid=1654248953&sr=8-54',\n",
       " 'https://www.amazon.in/choice-TrussRod-Acoustic-Guitar-Sunburst/dp/B09XTJN7P9/ref=sr_1_55?keywords=guitar&qid=1654248953&sr=8-55',\n",
       " 'https://www.amazon.in/Blueberry-38C-Acoustic-Guitar-Strings/dp/B08KLMV4XX/ref=sr_1_56?keywords=guitar&qid=1654248953&sr=8-56',\n",
       " 'https://www.amazon.in/Intern-INT-38C-NT-G-Guitar-Kit-Natural/dp/B07K9MZZH9/ref=sr_1_57?keywords=guitar&qid=1654248953&sr=8-57',\n",
       " 'https://www.amazon.in/Ultimate-Concert-Cutaway-Acoustic-Bajaao/dp/B08WHWKKV5/ref=sr_1_58?keywords=guitar&qid=1654248953&sr=8-58',\n",
       " 'https://www.amazon.in/Epiphone-Express-Travel-Size-Electric-Guitar/dp/B00I056PII/ref=sr_1_49?keywords=guitar&qid=1654248953&sr=8-49',\n",
       " 'https://www.amazon.in/Intern-INT-38C-Natural-Acoustic-Guitar/dp/B07X4LPJ6H/ref=sr_1_50?keywords=guitar&qid=1654248953&sr=8-50',\n",
       " 'https://www.amazon.in/Kadence-Acoustica-Acoustic-Guitar-A03/dp/B08WCTFVT9/ref=sr_1_51?keywords=guitar&qid=1654248953&sr=8-51',\n",
       " 'https://www.amazon.in/Kadence-Professional-Guitar-Sunburst-Strings/dp/B07SXH9JKX/ref=sr_1_52?keywords=guitar&qid=1654248953&sr=8-52',\n",
       " 'https://www.amazon.in/Yamaha-FS-100C-6-String-Acoustic-without/dp/B00PAS9CK6/ref=sr_1_53?keywords=guitar&qid=1654248953&sr=8-53',\n",
       " 'https://www.amazon.in/Juarez-Acoustic-Guitar-Cutaway-Strings/dp/B084VRCCN7/ref=sr_1_54?keywords=guitar&qid=1654248953&sr=8-54',\n",
       " 'https://www.amazon.in/Medellin-Acoustic-specailized-learning-beginners/dp/B09MSH3RY1/ref=sr_1_55?keywords=guitar&qid=1654248953&sr=8-55',\n",
       " 'https://www.amazon.in/Revel-RVL-38C-LGP-NT-Linden-Acoustic-Natural/dp/B085HVRHPS/ref=sr_1_56?keywords=guitar&qid=1654248953&sr=8-56',\n",
       " 'https://www.amazon.in/Blueberry-38C-Acoustic-Strings-Natural/dp/B08KLNFL2Y/ref=sr_1_57?keywords=guitar&qid=1654248953&sr=8-57',\n",
       " 'https://www.amazon.in/Yamaha-Acoustic-Guitar-Natural-Bajaao/dp/B08RMP2F6Z/ref=sr_1_58?keywords=guitar&qid=1654248953&sr=8-58',\n",
       " 'https://www.amazon.in/gp/slredirect/picassoRedirect.html/ref=pa_sp_mtf_aps_sr_pg2_1?ie=UTF8&adId=A0861925XMECZ4E7U7VC&url=%2FKaps-ST-6-Strings-Acoustic-Right-Handed%2Fdp%2FB01D9OK6NY%2Fref%3Dsr_1_59_sspa%3Fkeywords%3Dguitar%26qid%3D1654248953%26sr%3D8-59-spons%26psc%3D1%26smid%3DA25SDO8DM1FXLU&qualifier=1654248953&id=6481088216523343&widgetName=sp_mtf',\n",
       " 'https://www.amazon.in/gp/slredirect/picassoRedirect.html/ref=pa_sp_mtf_aps_sr_pg2_1?ie=UTF8&adId=A00510453201C43891NF7&url=%2FBlueberry-Acoustic-Guitar-Strings-Picks%2Fdp%2FB08L7NQB57%2Fref%3Dsr_1_60_sspa%3Fkeywords%3Dguitar%26qid%3D1654248953%26sr%3D8-60-spons%26psc%3D1&qualifier=1654248953&id=6481088216523343&widgetName=sp_mtf',\n",
       " 'https://www.amazon.in/gp/slredirect/picassoRedirect.html/ref=pa_sp_mtf_aps_sr_pg2_1?ie=UTF8&adId=A0049661OA1A59SHEFCK&url=%2FBlueberry-38C-Acoustic-Strings-Natural%2Fdp%2FB08KLNFL2Y%2Fref%3Dsr_1_61_sspa%3Fkeywords%3Dguitar%26qid%3D1654248953%26sr%3D8-61-spons%26psc%3D1&qualifier=1654248953&id=6481088216523343&widgetName=sp_mtf',\n",
       " 'https://www.amazon.in/gp/slredirect/picassoRedirect.html/ref=pa_sp_mtf_aps_sr_pg2_1?ie=UTF8&adId=A00511333B6LTZW3VVAX9&url=%2FBlueberry-Trussrod-Acoustic-Guitar-Sunburst%2Fdp%2FB08WH5553T%2Fref%3Dsr_1_62_sspa%3Fkeywords%3Dguitar%26qid%3D1654248953%26sr%3D8-62-spons%26psc%3D1&qualifier=1654248953&id=6481088216523343&widgetName=sp_mtf',\n",
       " 'https://www.amazon.in/MUSICALS%C2%AE-Guitar-Including-Strings-remover/dp/B082Q6C28F/ref=sr_1_63?keywords=guitar&qid=1654248953&sr=8-63',\n",
       " 'https://www.amazon.in/KAPS-ST-6-Strings-Acoustic-Right-Handed/dp/B01FXG6C84/ref=sr_1_64?keywords=guitar&qid=1654248953&sr=8-64',\n",
       " 'https://www.amazon.in/JUAREZ-Arp%C3%A9ggio-Semi-Acoustic-Guitar-Natural/dp/B08KHFJKZK/ref=sr_1_65?keywords=guitar&qid=1654248953&sr=8-65',\n",
       " 'https://www.amazon.in/Kordz-Luana-Natural-Rosewood-Fretboard/dp/B07V4Y1V9M/ref=sr_1_66?keywords=guitar&qid=1654248953&sr=8-66',\n",
       " 'https://www.amazon.in/Acoustic-stability-professional-amplificaiton-Sunburst/dp/B09YH8TVW7/ref=sr_1_67?keywords=guitar&qid=1654248953&sr=8-67',\n",
       " 'https://www.amazon.in/Epiphone-Classic-String-Handed-Electric/dp/B085GCG3LN/ref=sr_1_68?keywords=guitar&qid=1654248953&sr=8-68',\n",
       " 'https://www.amazon.in/Intern-INT-38C-L-BK-Acoustic-Guitar-Black/dp/B07J4W2KTW/ref=sr_1_69?keywords=guitar&qid=1654248953&sr=8-69',\n",
       " 'https://www.amazon.in/WorldCare%C2%AE-12-Guitar-trat-Wholeale/dp/B09MSDNF6W/ref=sr_1_70?keywords=guitar&qid=1654248953&sr=8-70',\n",
       " 'https://www.amazon.in/Fender-Dread-String-Acoustic-Guitar/dp/B07RM21D8X/ref=sr_1_71?keywords=guitar&qid=1654248953&sr=8-71',\n",
       " 'https://www.amazon.in/Festra-38C-Acoustic-Strings-Blueburst/dp/B09VL14XG2/ref=sr_1_72?keywords=guitar&qid=1654248953&sr=8-72',\n",
       " 'https://www.amazon.in/Intern-INT-38C-VT-G-Guitar-Kit-Violet/dp/B07K8YJXKL/ref=sr_1_73?keywords=guitar&qid=1654248953&sr=8-73',\n",
       " 'https://www.amazon.in/Acoustic-Humidity-resistant-resonance-Sunburst/dp/B09RQYYQBB/ref=sr_1_74?keywords=guitar&qid=1654248953&sr=8-74',\n",
       " 'https://www.amazon.in/JUAREZ-JRZ38C-Handed-Acoustic-Strings/dp/B01FYYTDX6/ref=sr_1_75?keywords=guitar&qid=1654248953&sr=8-75',\n",
       " 'https://www.amazon.in/Cort-Classical-Acoustic-CEC1-OP-Plectrums/dp/B08DP69KD7/ref=sr_1_76?keywords=guitar&qid=1654248953&sr=8-76',\n",
       " 'https://www.amazon.in/Medellin-MED-BLU-C-Linden-Acoustic-Guitar/dp/B07NBMWHJW/ref=sr_1_77?keywords=guitar&qid=1654248953&sr=8-77',\n",
       " 'https://www.amazon.in/Acoustic-Humidity-resistant-resonance-Plectrums/dp/B09RQZG25Q/ref=sr_1_78?keywords=guitar&qid=1654248953&sr=8-78',\n",
       " 'https://www.amazon.in/Kadence-Frontier-Acoustic-Equalizer-Strings/dp/B01HRIHH9E/ref=sr_1_79?keywords=guitar&qid=1654248953&sr=8-79',\n",
       " 'https://www.amazon.in/Kadence-Frontier-Acoustic-Guitar-Strings/dp/B01CJJG328/ref=sr_1_80?keywords=guitar&qid=1654248953&sr=8-80',\n",
       " 'https://www.amazon.in/Acoustic-plectrums-stability-resistance-Sunburst/dp/B09YH85679/ref=sr_1_81?keywords=guitar&qid=1654248953&sr=8-81',\n",
       " 'https://www.amazon.in/Ibanez-IBA-MD39CNT-Acoustic-Guitar-MD39C-NT/dp/B07G4CCMYL/ref=sr_1_82?keywords=guitar&qid=1654248953&sr=8-82',\n",
       " 'https://www.amazon.in/Yamaha-FSX80C-Acoustic-Cutaway-Natural/dp/B09HL3GFZF/ref=sr_1_83?keywords=guitar&qid=1654248953&sr=8-83',\n",
       " 'https://www.amazon.in/Granada-Acoustic-Dreadnought-PRLD-14C-F-Black/dp/B09JBWZG14/ref=sr_1_84?keywords=guitar&qid=1654248953&sr=8-84',\n",
       " 'https://www.amazon.in/KREEPO-Fretboard-Fingerboard-Acoustic-Electric-Multicolor/dp/B09DWY4ZK2/ref=sr_1_85?keywords=guitar&qid=1654248953&sr=8-85',\n",
       " 'https://www.amazon.in/SF-600C-Concert-Acoustic-Cutaway-Natural/dp/B0B1HX47XR/ref=sr_1_86?keywords=guitar&qid=1654248953&sr=8-86',\n",
       " 'https://www.amazon.in/Givson-Ketostics-VS-RED-Acoustic-Plectrums/dp/B08KS2N1H9/ref=sr_1_87?keywords=guitar&qid=1654248953&sr=8-87',\n",
       " 'https://www.amazon.in/Special-6-string-Acoustic-Semi-Electric-2picks/dp/B09K7VWKBM/ref=sr_1_88?keywords=guitar&qid=1654248953&sr=8-88',\n",
       " 'https://www.amazon.in/Kadence-Concert-Ukulele-Equalizer-Binding/dp/B08PNSGQBL/ref=sr_1_89?keywords=guitar&qid=1654248953&sr=8-89',\n",
       " 'https://www.amazon.in/Musical-String-Acoustic-Metalic-Finished/dp/B08Y6F6KHR/ref=sr_1_90?keywords=guitar&qid=1654248953&sr=8-90',\n",
       " 'https://www.amazon.in/Blueberry-Acoustic-inbuilt-Strings-Natural/dp/B07PLK46LR/ref=sr_1_91?keywords=guitar&qid=1654248953&sr=8-91',\n",
       " 'https://www.amazon.in/Yamaha-FSX80C-Acoustic-Cutaway-Guitar/dp/B09HL5WFDX/ref=sr_1_92?keywords=guitar&qid=1654248953&sr=8-92',\n",
       " 'https://www.amazon.in/Techblaze-Pieces-Guitar-Acoustic-Machine/dp/B08NPJKLD9/ref=sr_1_93?keywords=guitar&qid=1654248953&sr=8-93',\n",
       " 'https://www.amazon.in/Acoustic-plectrums-stability-age-groups-Sunburst/dp/B09YH77571/ref=sr_1_94?keywords=guitar&qid=1654248953&sr=8-94',\n",
       " 'https://www.amazon.in/gp/slredirect/picassoRedirect.html/ref=pa_sp_btf_aps_sr_pg2_1?ie=UTF8&adId=A02055132SF64AM9MYQQ8&url=%2FKadence-6-strings-Acoustic-Guitar-Natural%2Fdp%2FB07JKYWGJN%2Fref%3Dsr_1_95_sspa%3Fkeywords%3Dguitar%26qid%3D1654248953%26sr%3D8-95-spons%26psc%3D1%26smid%3DAM04Z7MH4HSDD&qualifier=1654248953&id=6481088216523343&widgetName=sp_btf',\n",
       " 'https://www.amazon.in/gp/slredirect/picassoRedirect.html/ref=pa_sp_btf_aps_sr_pg2_1?ie=UTF8&adId=A0862905WC9IP5NPM7VF&url=%2FKaps-ST-10AC-Strings-Acoustic-Guitar%2Fdp%2FB06XRZCCXH%2Fref%3Dsr_1_96_sspa%3Fkeywords%3Dguitar%26qid%3D1654248953%26sr%3D8-96-spons%26psc%3D1&qualifier=1654248953&id=6481088216523343&widgetName=sp_btf',\n",
       " 'https://www.amazon.in/gp/slredirect/picassoRedirect.html/ref=pa_sp_btf_aps_sr_pg2_1?ie=UTF8&adId=A00497171W5X8ZPSW04BM&url=%2FBlueberry-Acoustic-Guitar-Strings-Sunburst%2Fdp%2FB08L7XJQQ1%2Fref%3Dsr_1_97_sspa%3Fkeywords%3Dguitar%26qid%3D1654248953%26sr%3D8-97-spons%26psc%3D1&qualifier=1654248953&id=6481088216523343&widgetName=sp_btf',\n",
       " 'https://www.amazon.in/gp/slredirect/picassoRedirect.html/ref=pa_sp_btf_aps_sr_pg2_1?ie=UTF8&adId=A00502093JZAPX140CZG0&url=%2FBlueberry-B-G41S-Acoustic-Strings-Natural%2Fdp%2FB07PKQGF2N%2Fref%3Dsr_1_98_sspa%3Fkeywords%3Dguitar%26qid%3D1654248953%26sr%3D8-98-spons%26psc%3D1&qualifier=1654248953&id=6481088216523343&widgetName=sp_btf',\n",
       " 'https://www.amazon.in/gp/slredirect/picassoRedirect.html/ref=pa_sp_atf_next_aps_sr_pg3_1?ie=UTF8&adId=A00505533US57S2BBM7O7&url=%2FBlueberry-40Inches-Acoustic-inbuilt-Sunburst%2Fdp%2FB07PHFXH6W%2Fref%3Dsr_1_97_sspa%3Fkeywords%3Dguitar%26qid%3D1654248957%26sr%3D8-97-spons%26psc%3D1&qualifier=1654248957&id=6816439153624369&widgetName=sp_atf_next',\n",
       " 'https://www.amazon.in/gp/slredirect/picassoRedirect.html/ref=pa_sp_atf_next_aps_sr_pg3_1?ie=UTF8&adId=A08791823J4GRMJMKDFMU&url=%2FGUITAR-BRO-Acoustic-Beginner-Accessories%2Fdp%2FB07TC7TWCR%2Fref%3Dsr_1_98_sspa%3Fkeywords%3Dguitar%26qid%3D1654248957%26sr%3D8-98-spons%26psc%3D1&qualifier=1654248957&id=6816439153624369&widgetName=sp_atf_next',\n",
       " 'https://www.amazon.in/gp/slredirect/picassoRedirect.html/ref=pa_sp_atf_next_aps_sr_pg3_1?ie=UTF8&adId=A0049261ZB8H36TUAX2&url=%2FBlueberry-B-D38-Sunburst-Acoustic-Inbuilt%2Fdp%2FB08QZCK76B%2Fref%3Dsr_1_99_sspa%3Fkeywords%3Dguitar%26qid%3D1654248957%26sr%3D8-99-spons%26psc%3D1&qualifier=1654248957&id=6816439153624369&widgetName=sp_atf_next',\n",
       " 'https://www.amazon.in/gp/slredirect/picassoRedirect.html/ref=pa_sp_atf_next_aps_sr_pg3_1?ie=UTF8&adId=A0702728AFE4O75OWI50&url=%2FLaxmi-Musical-Electronics-Acoustic-Instruments%2Fdp%2FB08X4KD6P1%2Fref%3Dsr_1_100_sspa%3Fkeywords%3Dguitar%26qid%3D1654248957%26sr%3D8-100-spons%26psc%3D1&qualifier=1654248957&id=6816439153624369&widgetName=sp_atf_next',\n",
       " 'https://www.amazon.in/Blueberry-B-D38-Acoustic-Inbuilt-Sunburst/dp/B08LNP8KGS/ref=sr_1_101?keywords=guitar&qid=1654248957&sr=8-101',\n",
       " 'https://www.amazon.in/Kadence-AstroMan-Electric-ROSEWOOD-FRETBOARD/dp/B09YHPS66K/ref=sr_1_102?keywords=guitar&qid=1654248957&sr=8-102',\n",
       " 'https://www.amazon.in/JUAREZ-Arpeggio-Guitar-JRA41MAH-F-mahogany/dp/B08MWBP88T/ref=sr_1_103?keywords=guitar&qid=1654248957&sr=8-103',\n",
       " 'https://www.amazon.in/Kadence-6-strings-Acoustic-Guitar-Natural/dp/B07JKYWGJN/ref=sr_1_104?keywords=guitar&qid=1654248957&sr=8-104',\n",
       " 'https://www.amazon.in/KAPS-ST-6-Strings-Acoustic-Right-Handed/dp/B01FBQKYRQ/ref=sr_1_105?keywords=guitar&qid=1654248957&sr=8-105',\n",
       " 'https://www.amazon.in/Special-Rosewood-Acoustic-Electric-Plectrums/dp/B09P3YMHCD/ref=sr_1_106?keywords=guitar&qid=1654248957&sr=8-106',\n",
       " 'https://www.amazon.in/Walden-Acoustic-Orchestra-Natural-O550E/dp/B086XGPWN1/ref=sr_1_97?keywords=guitar&qid=1654248957&sr=8-97',\n",
       " 'https://www.amazon.in/Blueberry-Acoustic-Guitar-Strings-Sunburst/dp/B08L7XJQQ1/ref=sr_1_98?keywords=guitar&qid=1654248957&sr=8-98',\n",
       " 'https://www.amazon.in/Revel-RVL-38C-LGP-BLS-Linden-Acoustic-Guitar/dp/B085HWKDCY/ref=sr_1_99?keywords=guitar&qid=1654248957&sr=8-99',\n",
       " 'https://www.amazon.in/Cort-AD810-Dreadnought-Acoustic-Guitar/dp/B07KMBVR6V/ref=sr_1_100?keywords=guitar&qid=1654248957&sr=8-100',\n",
       " 'https://www.amazon.in/Blueberry-B-40EQ-GL-Fretboard-Amplifier-Equalizer/dp/B09MZ5C9TL/ref=sr_1_101?keywords=guitar&qid=1654248957&sr=8-101',\n",
       " 'https://www.amazon.in/Techblaze-Strings-Changing-Multicolored-Acoustic/dp/B08L64C7LX/ref=sr_1_102?keywords=guitar&qid=1654248957&sr=8-102',\n",
       " 'https://www.amazon.in/TECHBLAZE-Guitar-Acoustic-Machine-pieces/dp/B08X6MGB3V/ref=sr_1_103?keywords=guitar&qid=1654248957&sr=8-103',\n",
       " 'https://www.amazon.in/Mustang-Strings-Changing-Including-Beginner/dp/B07S19LGLR/ref=sr_1_104?keywords=guitar&qid=1654248957&sr=8-104',\n",
       " 'https://www.amazon.in/Fender-Dread-String-Acoustic-Guitar/dp/B07RL6VG3H/ref=sr_1_105?keywords=guitar&qid=1654248957&sr=8-105',\n",
       " 'https://www.amazon.in/Acoustic-Pick-up-stability-professional-amplificaiton/dp/B09YH8X5CL/ref=sr_1_106?keywords=guitar&qid=1654248957&sr=8-106',\n",
       " 'https://www.amazon.in/gp/slredirect/picassoRedirect.html/ref=pa_sp_mtf_aps_sr_pg3_1?ie=UTF8&adId=A06809212GW9GZ6MULO9V&url=%2FUniversal-Acoustic-Classical-Mandolins-Instruments%2Fdp%2FB08XBRNC7T%2Fref%3Dsr_1_107_sspa%3Fkeywords%3Dguitar%26qid%3D1654248957%26sr%3D8-107-spons%26psc%3D1&qualifier=1654248957&id=6816439153624369&widgetName=sp_mtf',\n",
       " 'https://www.amazon.in/Yamaha-Acoustic-Guitar-Tobacco-Sunburst/dp/B08Z35ZR9Y/ref=sr_1_108?keywords=guitar&qid=1654248957&sr=8-108',\n",
       " 'https://www.amazon.in/JUAREZ-Arpeggio-Acoustic-Rosewood-Fretboard/dp/B08LBGLRFC/ref=sr_1_109?keywords=guitar&qid=1654248957&sr=8-109',\n",
       " 'https://www.amazon.in/Juarez-JRZ-ST01-6-String-Electric-Without/dp/B01FYZSOHG/ref=sr_1_110?keywords=guitar&qid=1654248957&sr=8-110',\n",
       " 'https://www.amazon.in/Givsun-Special-6-String-Acoustic-Semi-Electric/dp/B07ZTWR7GP/ref=sr_1_111?keywords=guitar&qid=1654248957&sr=8-111',\n",
       " 'https://www.amazon.in/Acoustic-plectrums-stability-age-groups-Electric/dp/B09YH8JRZH/ref=sr_1_112?keywords=guitar&qid=1654248957&sr=8-112',\n",
       " 'https://www.amazon.in/Givsun-Natural-6-String-Acoustic-Semi-Electric/dp/B07ZTWLY4J/ref=sr_1_113?keywords=guitar&qid=1654248957&sr=8-113',\n",
       " 'https://www.amazon.in/Intern-INT-38C-L-NT-Acoustic-Guitar-Natural/dp/B07J4PVDHG/ref=sr_1_114?keywords=guitar&qid=1654248957&sr=8-114',\n",
       " 'https://www.amazon.in/Exquisite-Instrument-Collection-Beautiful-Basswood/dp/B0B196RL79/ref=sr_1_115?keywords=guitar&qid=1654248957&sr=8-115',\n",
       " 'https://www.amazon.in/Portable-Trainer-Fingerboard-Lightweight-Beginner/dp/B0B2K5FTHH/ref=sr_1_116?keywords=guitar&qid=1654248957&sr=8-116',\n",
       " 'https://www.amazon.in/Ibanez-Acoustic-Guitar-Handed-Cutaway/dp/B08FMW6WJM/ref=sr_1_117?keywords=guitar&qid=1654248957&sr=8-117',\n",
       " 'https://www.amazon.in/Acoustic-Pick-up-stability-professional-amplificaiton/dp/B09YH8YQR1/ref=sr_1_118?keywords=guitar&qid=1654248957&sr=8-118',\n",
       " 'https://www.amazon.in/Acoustic-strings-plectrums-stability-age-groups/dp/B09YHC3LX6/ref=sr_1_119?keywords=guitar&qid=1654248957&sr=8-119',\n",
       " 'https://www.amazon.in/Acoustic-Pick-up-stability-professional-amplificaiton/dp/B09YH89JZQ/ref=sr_1_120?keywords=guitar&qid=1654248957&sr=8-120',\n",
       " 'https://www.amazon.in/Kadence-Astro-Electric-Guitar-FRETS/dp/B09YHPH1MZ/ref=sr_1_121?keywords=guitar&qid=1654248957&sr=8-121',\n",
       " 'https://www.amazon.in/Fender-SA-150-Acoustic-Guitar-Multicolor/dp/B0765G46BM/ref=sr_1_122?keywords=guitar&qid=1654248957&sr=8-122',\n",
       " 'https://www.amazon.in/GIVSON-KETOSTICS-VS-BLK-Strings-Acoustic/dp/B07R9ZLSNL/ref=sr_1_123?keywords=guitar&qid=1654248957&sr=8-123',\n",
       " 'https://www.amazon.in/Universal-Acoustic-Classical-Mandolins-Instruments/dp/B08XBRNC7T/ref=sr_1_124?keywords=guitar&qid=1654248957&sr=8-124',\n",
       " 'https://www.amazon.in/Henrix-PROLHNT-String-Acoustic-Guitar/dp/B08R3C1TGC/ref=sr_1_125?keywords=guitar&qid=1654248957&sr=8-125',\n",
       " 'https://www.amazon.in/Fender-FA-15-Stringed-Acoustic-Guitar/dp/B08PMLSBXT/ref=sr_1_126?keywords=guitar&qid=1654248957&sr=8-126',\n",
       " 'https://www.amazon.in/Ibanez-MD39C-NT-Cutaway-Acoustic-Polishing/dp/B084C1DGCV/ref=sr_1_127?keywords=guitar&qid=1654248957&sr=8-127',\n",
       " 'https://www.amazon.in/Acoustic-F280-Dreadnought-Plectrums-Natural/dp/B092TPXZRN/ref=sr_1_128?keywords=guitar&qid=1654248957&sr=8-128',\n",
       " 'https://www.amazon.in/Ketostics%C2%AE-Special-electric-Acoustic-Plectrums/dp/B09P4ZGKG9/ref=sr_1_129?keywords=guitar&qid=1654248957&sr=8-129',\n",
       " 'https://www.amazon.in/Intern-Acoustic-package-Cutaway-INT-IN39C-BK/dp/B08NQMDM3Z/ref=sr_1_130?keywords=guitar&qid=1654248957&sr=8-130',\n",
       " 'https://www.amazon.in/DEVICE-URBAN-INFOTECH-Acoustic-Semi-closed/dp/B08P1JS4DF/ref=sr_1_131?keywords=guitar&qid=1654248957&sr=8-131',\n",
       " 'https://www.amazon.in/Special-Cutaway-Rosewood-Acoustic-Plectrums/dp/B09P41Y4HZ/ref=sr_1_132?keywords=guitar&qid=1654248957&sr=8-132',\n",
       " 'https://www.amazon.in/JUAREZ-Acoustic-Rosewood-Fretboard-3TS/dp/B08GZXNSBG/ref=sr_1_133?keywords=guitar&qid=1654248957&sr=8-133',\n",
       " 'https://www.amazon.in/Standzo-Yamaha-F280-Acoustic-Natural/dp/B08G556DD9/ref=sr_1_134?keywords=guitar&qid=1654248957&sr=8-134',\n",
       " 'https://www.amazon.in/Fender-FA125CE-Electric-Acoustic-Plectrums/dp/B08MQB1VV5/ref=sr_1_135?keywords=guitar&qid=1654248957&sr=8-135',\n",
       " 'https://www.amazon.in/Vault-LP1MN-Style-Electric-Guitar/dp/B071WPLXRG/ref=sr_1_136?keywords=guitar&qid=1654248957&sr=8-136',\n",
       " 'https://www.amazon.in/Mustang-Guitar-Accessories-Kit-Clip/dp/B07RY9KNVK/ref=sr_1_137?keywords=guitar&qid=1654248957&sr=8-137',\n",
       " 'https://www.amazon.in/215-Rosewood-Fretboard-Acoustic-Strings/dp/B08VHD4J3G/ref=sr_1_138?keywords=guitar&qid=1654248957&sr=8-138',\n",
       " 'https://www.amazon.in/YAMAHA-NATURAL-CONCERT-CUTAWAY-GUITAR/dp/B08KW4DRKL/ref=sr_1_139?keywords=guitar&qid=1654248957&sr=8-139']"
      ]
     },
     "execution_count": 87,
     "metadata": {},
     "output_type": "execute_result"
    }
   ],
   "source": [
    "product_urls=[]\n",
    "start=0\n",
    "end=3\n",
    "for page in range(start,end):\n",
    "    url=driver.find_elements_by_xpath('//a[@class=\"a-link-normal s-underline-text s-underline-link-text s-link-style a-text-normal\"]')\n",
    "    #print(url)\n",
    "    for i in url:\n",
    "        product_urls.append(i.get_attribute(\"href\"))                        #appending the urls in product_urls list\n",
    "\n",
    "    nxt_button=driver.find_element_by_xpath(\"//a[@class='s-pagination-item s-pagination-next s-pagination-button s-pagination-separator']\")     #scraping the list of buttons from the page\n",
    "    nxt_button.click()\n",
    "    time.sleep(2)\n",
    "product_urls"
   ]
  },
  {
   "cell_type": "code",
   "execution_count": 88,
   "metadata": {},
   "outputs": [
    {
     "data": {
      "text/plain": [
       "[' Kadence',\n",
       " ' Kadence',\n",
       " ' Blueberry',\n",
       " ' Blueberry',\n",
       " ' Juârez',\n",
       " ' Intern',\n",
       " ' Intern',\n",
       " ' Intern',\n",
       " ' Kadence',\n",
       " ' JUAREZ',\n",
       " ' Epiphone',\n",
       " ' JUAREZ',\n",
       " ' Intern',\n",
       " ' Kadence',\n",
       " ' Photron',\n",
       " ' JUAREZ',\n",
       " ' HOVNER',\n",
       " ' Henrix',\n",
       " ' Medellin',\n",
       " ' Juârez',\n",
       " ' Kadence',\n",
       " ' Intern',\n",
       " ' Intern',\n",
       " ' Medellin',\n",
       " '-',\n",
       " ' Crizer',\n",
       " ' Medellin',\n",
       " ' Crizer',\n",
       " ' Intern',\n",
       " ' JUAREZ',\n",
       " ' Kadence',\n",
       " ' Intern',\n",
       " ' Intern',\n",
       " ' JUAREZ',\n",
       " ' Fender',\n",
       " ' JUAREZ',\n",
       " ' JUAREZ',\n",
       " ' Medellin',\n",
       " ' Kadence',\n",
       " ' Medellin',\n",
       " '-',\n",
       " '-',\n",
       " '-',\n",
       " '-',\n",
       " ' Juârez',\n",
       " ' Intern',\n",
       " ' Intern',\n",
       " ' Intern',\n",
       " ' YAMAHA',\n",
       " ' JUAREZ',\n",
       " ' Intern',\n",
       " ' Medellin',\n",
       " ' Fender',\n",
       " ' JUAREZ',\n",
       " ' Kadence',\n",
       " ' TOXOT TOYS',\n",
       " ' Juârez',\n",
       " ' Martin Smith',\n",
       " ' VAULT',\n",
       " ' Kadence',\n",
       " ' VAULT',\n",
       " '-',\n",
       " ' Blueberry',\n",
       " ' Cort',\n",
       " ' Exegi Enterprise',\n",
       " ' Blueberry',\n",
       " ' Blueberry',\n",
       " ' Guitar Bro',\n",
       " ' Kadence',\n",
       " ' DEVICE OF URBAN INFOTECH',\n",
       " ' Generic',\n",
       " ' Blueberry',\n",
       " ' Intern',\n",
       " ' YAMAHA',\n",
       " ' Epiphone',\n",
       " ' Intern',\n",
       " ' Kadence',\n",
       " ' Kadence',\n",
       " ' YAMAHA',\n",
       " ' JUAREZ',\n",
       " ' Medellin',\n",
       " ' Revel',\n",
       " ' Blueberry',\n",
       " ' YAMAHA',\n",
       " ' Kaps',\n",
       " ' Blueberry',\n",
       " ' Blueberry',\n",
       " ' Blueberry',\n",
       " ' Hrb musicals',\n",
       " ' Kaps',\n",
       " ' JUAREZ',\n",
       " ' Kordz',\n",
       " ' Intern',\n",
       " ' Epiphone',\n",
       " ' Intern',\n",
       " '-',\n",
       " ' Fender',\n",
       " ' FESTRA',\n",
       " ' Intern',\n",
       " ' Intern',\n",
       " ' Juârez',\n",
       " ' Cort',\n",
       " ' Medellin',\n",
       " ' Intern',\n",
       " ' Kadence',\n",
       " ' Kadence',\n",
       " ' Intern',\n",
       " ' Ibanez',\n",
       " '-',\n",
       " ' Granada',\n",
       " ' KREEPO',\n",
       " ' SAGA',\n",
       " ' GIVSON',\n",
       " ' GIVSUN',\n",
       " ' Kadence',\n",
       " ' MUSICAL STRING',\n",
       " ' Blueberry',\n",
       " ' YAMAHA',\n",
       " ' Techblaze',\n",
       " ' Intern',\n",
       " ' Kadence',\n",
       " ' Kaps',\n",
       " ' Blueberry',\n",
       " ' Blueberry',\n",
       " ' Blueberry',\n",
       " ' Guitar Bro',\n",
       " ' Blueberry',\n",
       " '-',\n",
       " ' Blueberry',\n",
       " ' Kadence',\n",
       " ' JUAREZ',\n",
       " ' Kadence',\n",
       " ' Kaps',\n",
       " ' KETOSTICS',\n",
       " ' Walden',\n",
       " ' Blueberry',\n",
       " ' Revel',\n",
       " ' Cort',\n",
       " ' Blueberry',\n",
       " ' Techblaze',\n",
       " ' TECHBLAZE',\n",
       " ' MUSTANG',\n",
       " ' Fender',\n",
       " ' Intern',\n",
       " ' MUSTANG',\n",
       " ' YAMAHA',\n",
       " ' JUAREZ',\n",
       " ' JUAREZ',\n",
       " ' GIVSUN',\n",
       " ' Intern',\n",
       " ' GIVSUN',\n",
       " ' Intern',\n",
       " '-',\n",
       " '-',\n",
       " ' Ibanez',\n",
       " ' Intern',\n",
       " ' Intern',\n",
       " ' Intern',\n",
       " ' Kadence',\n",
       " ' Fender',\n",
       " ' GIVSON',\n",
       " ' MUSTANG',\n",
       " ' Henrix',\n",
       " ' Fender',\n",
       " ' Ibanez',\n",
       " ' YAMAHA',\n",
       " ' KETOSTICS',\n",
       " ' Intern',\n",
       " ' DEVICE OF URBAN INFOTECH',\n",
       " ' KETOSTICS',\n",
       " ' JUAREZ',\n",
       " ' STANDZO',\n",
       " ' Fender',\n",
       " ' VAULT',\n",
       " ' MUSTANG',\n",
       " ' HOVNER',\n",
       " ' YAMAHA']"
      ]
     },
     "execution_count": 88,
     "metadata": {},
     "output_type": "execute_result"
    }
   ],
   "source": [
    "brand_names=[]\n",
    "product_names=[]\n",
    "availability=[]\n",
    "exchange=[]\n",
    "prices=[]\n",
    "deliveryBy=[]\n",
    "for url in product_urls:\n",
    "\n",
    "    driver.get(url)\n",
    "\n",
    "    time.sleep(2)    \n",
    "\n",
    "        \n",
    "    # Extracting return/exchange from text contains\n",
    "\n",
    "    try:\n",
    "\n",
    "        returnExchange = driver.find_element_by_xpath(\"//a[contains(text(), 'Replacement')]\")     \n",
    "\n",
    "        exchange.append(returnExchange.text)\n",
    "\n",
    "    except NoSuchElementException:\n",
    "\n",
    "        exchange.append('-') \n",
    "    # Extracting Brand from xpath\n",
    "\n",
    "     # Extracting availability from id\n",
    "\n",
    "    try:\n",
    "\n",
    "        availabe = driver.find_element_by_id('availability')      \n",
    "\n",
    "        availability.append(availabe.text)\n",
    "\n",
    "    except NoSuchElementException:\n",
    "\n",
    "        availability.append('-') \n",
    "    # Extracting Brand from xpath\n",
    "    \n",
    "    # Extracting product name from id\n",
    "\n",
    "    try:\n",
    "\n",
    "        product = driver.find_element_by_id('productTitle')      \n",
    "\n",
    "        product_names.append(product.text)\n",
    "\n",
    "    except NoSuchElementException:\n",
    "\n",
    "        product_names.append('-') \n",
    "    # Extracting Brand from xpath\n",
    "    \n",
    "\n",
    "    try:\n",
    "\n",
    "        brand = driver.find_element_by_xpath('//tr[@class=\"a-spacing-small po-brand\"]')      \n",
    "\n",
    "        brand_names.append(brand.text.replace(\"Brand\", \"\"))\n",
    "\n",
    "    except NoSuchElementException:\n",
    "\n",
    "        brand_names.append('-')   \n",
    "brand_names"
   ]
  },
  {
   "cell_type": "code",
   "execution_count": 89,
   "metadata": {},
   "outputs": [
    {
     "name": "stdout",
     "output_type": "stream",
     "text": [
      "['Kadence Frontier guitar with Online Guitar learning course, Wine Red Acoustic Guitar with Die Cast Keys, Set of Strings, Strap, Picks and Bag (Wine Red, Acoustic)', 'Kadence Frontier Jumbo Semi Acoustic Guitar With Die Cast Keys Super Combo (Bag, 1 pack Strings, Strap, Picks, Capo, Tuner (natural)', 'Blueberry 38C, 38\" Acoustic Guitar Kit with Bag, Strap, One Pack Strings And Picks (Black)', 'Blueberry B-40EQ-GL Acoustic Electric Guitar Kit inbuilt Trussrod, Rosewood Fretboard & bridge with 4 Band EQ-7545R Piezo Pickup Guitar Preamp Amplifier Equalizer Tuner with Bag, Pick, Belt, String set', 'Juârez Acoustic Guitar, 38 Inch Cutaway, 038C with Bag, Strings, Pick and Strap, Black', 'Intern INT-38C Sunburst Acoustic Guitar kit with carry bag & picks', 'Intern INT-38C Acoustic Guitar Kit, With Bag, Strings, Pick And Strap, Black', 'Intern INT-38C Acoustic Guitar Kit, With Bag, Strings, Pick And Strap, Black', 'Kadence Frontier guitar with Online Guitar learning course, Wine Red Acoustic Guitar with Die Cast Keys, Set of Strings, Strap, Picks and Bag (Wine Red, Acoustic)', 'Juarez Acoustic Guitar Kit, 38 Inch Cutaway, 38C with Bag, Strings, Pick and Strap, TBS Transparent Blue Sunburst', 'Epiphone Les Paul SL 6 Strings Right Handed Electric Guitar, Color Vintage Sunburst', 'Juarez Acoustic Guitar, 38 Inch Curved Body Cutaway, 38CUR with Bag, Strings, Pick and Strap, Black', 'Intern 38C Cutaway Design Black Acoustic Guitar with Picks & Carry Bag', 'Kadence Guitar Frontier Series, Electric Acoustic Black Guitar With EQ, Die Cast Keys, Set of Strings, Strap, Picks and Bag (Black EQ, Electric Acoustic)', 'Photron Acoustic Guitar, 38 Inch Cutaway, PH38C/BK with Picks Only, Black (Without Bag, Strap and Extra Strings)', 'JUAREZ JRZ38C Right Handed Acoustic Guitar with Bag, Strings, Pick and Strap (Natural, 6 Strings)', 'Hovner 215 Black F-Cut Rosewood Fretboard Acoustic Guitar With Bag,Strap,1 Set of Extra Strings and 2 Picks By K-Retail', 'Henrix PRO 38 Inch 6 String Cutaway Acoustic Guitar With Die Cast Tuners, Gigbag, Picks, String Set, Strap & Cloth - Black', 'Medellin 38\" Acoustic Guitar Carbon Fiber body+(Free Online Learning Course) - Durable Matt finish with handrest, strings, strap, bag, 3 Picks, capo, stand.', 'Juârez Acoustic Guitar, 38 Inch Cutaway, JRZ38C with Bag, Strings, Pick and Strap, Red', 'Kadence Frontier guitar with Online Guitar learning course, Wine Red Acoustic Guitar with Die Cast Keys, Set of Strings, Strap, Picks and Bag (Wine Red, Acoustic)', 'Intern INT-38C-SB-G Cutaway Right Handed Acoustic Guitar Kit, With Bag, Strings, Pick And Strap (Sunburst, 6 Strings)', 'Intern INT-38C Acoustic Guitar Kit, With Bag, Strings, Pick And Strap, Red', 'Medellin 38\" Acoustic Guitar Black Carbon Fiber body+(Free Online Learning Course) - Durable Matt finish with handrest, strings, strap, bag, 3 Picks, capo, stand.', \"HOMME STORE 4 String Guitar Children's Musical Instrument Educational Toy Guitar Ukulele Instruments Beginner Musical Sound Toys Best Gift for Children, multi-coloured\", \"Crizer 4 String Guitar Children's Musical Instrument Educational Toy Guitar Ukulele Instruments Beginner Musical Sound Toys Best Gift for Children\", 'Medellin 38\" Acoustic Guitar Carbon Fiber body+(Free Online Learning Course) - Durable Matt finish with handrest, strings, strap, bag, 3 Picks, capo, stand. (natural)', \"Crizer Guitar Toy For Kids 4-String Musical Acoustic Guitar Toy, Children's Musical Learning Educational Instruments for Beginners with Ability Random Brown Color Best Gift for Boys & Girls- 24 Inch\", 'Intern INT-38C Acoustic Guitar Kit (Sunburst) with Carry bag, Picks, Strings set and Guitar Strap, Small', 'Juarez Acoustic Guitar Kit, 38 Inch Cutaway, 38C with Bag, Strings, Pick and Strap, TBS Transparent Blue Sunburst', 'Kadence Frontier Series, Semi Acoustic Guitar With Die Cast Keys (Bag,Strap,Strings And 3 Picks) (Natural)', 'Intern INT-38C-BK-G Cutaway Right Handed Acoustic Guitar Kit, With Bag, Strings, Pick And Strap (Black, 6 Strings)', 'Intern 38C Acoustic Steel-string Guitar Premium White Cutaway Design with carry bag, strings, guitar strap and plectrums (INT-38C-WH)', 'Juarez Acoustic Guitar Kit, 38 Inch Cutaway, 38C with Bag, Strings, Pick and Strap, 3TS Sunburst', 'Fender SA 135C 39 Inch 6 String Cutaway Acoustic Guitar - Hardwood Fretboard - Natural', 'Juârez Acoustic Guitar, 38 Inch Cutaway, JRZ38CT, Hippie Funky Design, with Bag, Picks, Strap & Extra String set', 'Juarez Acoustic Guitar, 38 Inch Cutaway with Pick Guard, 38CPG with Bag, Strings, Pick and Strap, Black', 'Medellin 38\" Carbon Fiber Acoustic Guitar with free specailized learning course- MDCF38BK Durable Carbon Fiber Matt Sunburst finish Body for beginners with handrest, set of Strings, Strap, Bag, 3 Picks, Capo, Guitar Wall Hanging Stand and Free GUITAR LEARNING COURSE (Special Learning Combo with Guitar)', 'Kadence Guitar Acoustica Series A05, Electric Acoustic Guitar, Zebra Wood with Pickup, Inbuilt tuner and Bag (Zebra Wood, Electro Acoustic)', 'Medellin 38\" Acoustic Guitar Brown Carbon Fiber Body with FREE Online LEARNING COURSE Durable Matt finish Body for beginners with handrest, set of Strings, Strap, Bag, 3 Picks, Capo, Guitar Wall Hanging Stand and Free GUITAR LEARNING COURSE (Special Learning Combo with Guitar)', 'JUAREZ Acoustic Guitar 3xE 1st String & 2 Pick Set JRGSE32', 'Neowood AT-01A-Guitar Tuner-Black Automatic Digital Tuner (Chromatic: Yes, Black)', 'CVANU Guitar Fretboard Sticker Fingerboard Embossed Carved Decals Stickers (Trapezium Design) With Brown Color Size(5cm X 17cm)', 'DEVICE OF URBAN INFOTECH Guitar Tuner 360 degree Digital Tuner Easy to Use Highly Accurate Clip-on Tuner Best for Acoustic and Electric Guitar Bass Violin Ukulele With Capo & 5 Picks(Design may very)', 'Juarez JRZ-ST01, 6 Strings Electric Guitar, Right Handed with Bag/Case, 2 x Picks (3TS Sunburst)', 'Intern INT-38C Acoustic Guitar Kit, With Bag, Strings, Pick And Strap, Natural', 'Intern INT-38C Acoustic Guitar Kit, With Bag, Strings, Pick And Strap, Purple', 'Intern INT-38C-RD-G Cutaway Right Handed Acoustic Guitar Kit, With Bag, Strings, Pick And Strap (Red, 6 Strings)', 'Yamaha Classical Guitar C40//02', 'Juarez JRZ-ST01 6-String Electric Guitar, Right Handed, Full Black, with Case/Bag and Picks', 'Intern INT-38C Brown Acoustic Guitar kit with carry bag & picks', 'Medellin 38\" Acoustic Guitar Carbon Fiber body+(Free Online Learning Course) - Durable Matt finish with handrest, strings, strap, bag, 3 Picks, capo, stand. (natural)', 'Fender Classic Design CD-60S Dreadnought Acoustic Guitar (Black)', 'JUAREZ JRZ38CTR/BK 38 Inch Acoustic Guitar with Dual Action Truss Rod, Bag, Picks, Allen Key, Extra String Set, Black', 'Kadence Frontier Jumbo Semi Acoustic Guitar With Die Cast Keys,Super Combo (Bag, 1 pack Strings, Strap, Picks, Capo, Tuner)', 'TOXOT TOYS 38 IN Right Handed Acoustic Guitar With Carry Bag & Picks | Musical Instrument Learning Toy for Kids | Humidity Proof, Bend resistance, Durable Action, Natural Tone & Bright Resonance', 'Juârez JRZ38C/MAH 6 Strings Acoustic Guitar 38 Inch Cutaway, Right Handed, Mahogany with Bag, Strings, Picks and Strap', 'Martin Smith W-101-N-PK Acoustic Guitar Super Kit with Stand (Natural)', 'Vault Junior 30 Inch Acoustic Guitar for Kids with Ebook, Bag, Strings, Straps, Picks, String winder & Polishing Cloth - Natural Gloss', 'Kadence Slowhand Premium Jumbo Semi Acoustic Guitar with Heavy Padded Bag, guitar cable, Pro Capo (Black Spruce Wood)', 'Vault EA40 41 inch Premium Solid Spruce-Top Cutaway Acoustic Guitar', 'HOMME STORE 4 String Guitar Kids Brown Plastic 4 String Acoustic Guitar for Kids Musical Instrument Learning Educational Small Toy for Boys & Girls (Wooden Guitar) (1)', 'Blueberry B40L, 40\" Acoustic Guitar Kit Inbuilt Truss Rod with Bag, Strap, One Pack Strings And Picks (Classic Brown)', 'Cort AD810 Dreadnought Acoustic Guitar with Gig Bag,Tuner,Picks and Strap (Natural Bundle)', \"Exegi Enterprise 4 String Decor Guitar Children's Musical Instrument Educational Toy Small Guitar for Beginners Kids Child\", 'SHARE BY Blueberry R-40- Trussrod Acoustic Guitar Kit with Bag, Strap, One Pack Strings and Picks (Natural)', 'Blueberry B40L, 40\" Acoustic Guitar Kit Inbuilt Truss Rod with Bag, Strap, One Pack Strings And Picks (Classic Maroon)', 'GUITAR BRO - COMBO (Black Acoustic Guitar for Beginner, Guitar Learning Kit, Song Book, Video Lectures, Accessories like Pick, Bag)', 'Kadence Slowhand Premium Jumbo Semi Acoustic Guitar with Heavy Padded Bag, guitar cable, Pro Capo (Black Spruce Wood)', 'DEVICE OF URBAN INFOTECH 360 degree Rotational Electronic Highly Accurate Clip-on Digital Tuner Easy to Use for Acoustic and Electric Guitar Bass Violin Ukulele with Picks(Design May Vary)', 'Heart choice 38C IN TrussRod Acoustic Guitar Kit with Bag, Belt & Picks (Sunburst)', 'Blueberry 38C, 38\" Acoustic Guitar Kit with Bag, Strap, One Pack Strings And Picks (Black)', 'Intern INT-38C-NT-G Right Handed Acoustic Guitar Kit, With Bag, Strings, Pick And Strap (Natural, 6-Strings)', 'Yamaha FS80C The Ultimate Concert Body Cutaway Acoustic Guitar (Black) With Bajaao Gig-Bag', 'Epiphone Les Paul Express\"Travel-Size\" Electric Guitar', 'Intern INT-38C Natural Acoustic Guitar kit with carry bag & picks', 'Kadence Acoustica 34” Acoustic Guitar A03 with bag', 'Kadence Frontier 34inch guitar for Kids, Travel Guitar for Adult Acoustic Guitar with Die Cast Keys, Set of Strings, Strap, Picks and Bag (Sunburst Guitar)', 'Yamaha FS100C Acoustic Guitar, Black', 'Juarez Acoustic Guitar, 38 Inch Cutaway, 38CMB with Bag, Strings, Pick and Strap, Matte Black', 'Medellin 38\" Carbon Fiber Acoustic Guitar with free specailized learning course- MDCF38BK Durable Carbon Fiber Matt Pink finish Body for beginners with handrest, set of Strings, Strap, Bag, 3 Picks, Capo, Guitar Wall Hanging Stand and Free GUITAR LEARNING COURSE (Special Learning Combo with Guitar)', 'Revel 38 Inches Cutaway Design Acoustic Guitar with Carry bag and Plectrums. Great tone and Beginner/Learners standard size configuration for all age groups (Natural)', 'Blueberry 38C, 38\" Acoustic Guitar Kit with Bag, Strap, One Pack Strings And Picks (Natural)', 'Yamaha F280 Acoustic Guitar, Natural With Bajaao Gig Bag', 'Kaps ST - 1ACM, 6-Strings, Acoustic Guitar , Right-Handed, Wine Red, With Guitar Cover/Bag', 'Blueberry B-40, 40\" Acoustic Guitar Kit with Bag,Belt, One Pack Strings & Picks (Black)', 'Blueberry 38C, 38\" Acoustic Guitar Kit with Bag, Strap, One Pack Strings And Picks (Natural)', 'Blueberry D38 TrussRod Acoustic Guitar Kit with Bag, String,Belt & Picks (Sunburst)', 'HRB MUSICALS® 50 Pcs Guitar String Tool Kit Including 3 Guitar Strings SET, 1 Guitar Tuner, 15 Picks, 1 black Capo with Pins remover, 1 pick holder, 12 Guitar pins, 1 guitar Cutter and 1 Winder', 'KAPS ST - 1CM, 6-Strings, Acoustic Guitar , Right-Handed, SunBurst, With Guitar Cover/Bag', 'JUAREZ Arpéggio 104.14 cm (41 Inch) Semi-Acoustic Guitar Kit, Thin Line Body, Spruce Top, with 4 Band EQ, Natural', 'Kordz Luana Natural Wooden 41 Inch Rosewood Fretboard Acoustic Guitar With Bag,Strap,1 Set of Extra Strings and 2 Picks', 'INTERN 40 inches Acoustic Guitar with Pick-up & truss rod, carry bag, strings pack, strap & picks. Premium Wooden durable built, Best tonal stability with professional sound amplificaiton. (Sunburst).', 'Epiphone Les Paul Classic 6 String Right Handed Electric Guitar, Ebony', 'Intern INT-38C-L-BK Left Hand Acoustic Guitar Kit (Black)', 'WorldCare® 12 Pc Guitar for trat Wholeale Re', 'Fender CD 60 Dread V3 DS 6 String Acoustic Guitar - Walnut Fretboard-Sunburst', 'Festra 38C, 38 Inch Acoustic Guitar Kit with Bag, Strap, One Pack Strings And 2 Picks (Black) (Acoustic 38C (38 Inch) Guitar Kit, Blueburst)', 'Intern INT-38C-VT-G Cutaway Right Handed Acoustic Guitar Kit, With Bag, Strings, Pick And Strap (Violet, 6-Strings)', 'INTERN Cutaway Design Acoustic Guitar Pack -Humidity Proof, Bend resistant, Durable Action, Natural tone & resonance. Sunburst Carbon Fibre/Fiber Guitar with carry bag, Strap, Strings set, Picks.', 'Juârez Acoustic Guitar, 38 Inch Cutaway, JRZ38C with Bag, Strings, Pick and Strap, Blue', 'Cort Classical Guitar Electro Acoustic CEC1-OP With Padded Bag, Belt, Plectrums Complete Pack.', 'Medellin MED-BLU-C Linden Wood Acoustic Guitar', 'INTERN Cutaway Design Acoustic Guitar Pack -Humidity Proof, Bend resistant, Durable Action, Natural tone & resonance. Natural Carbon Fibre/Fiber Guitar with Bag, Strap, Strings set & Plectrums.', 'Kadence Frontier Jumbo Semi Acoustic Guitar With Die Cast Keys Super Combo (Bag, 1 pack Strings, Strap, Picks, Capo, Tuner (natural)', 'Kadence Frontier Series,Black Acoustic Guitar With Die Cast Keys Combo (Bag,strap,strings and 3 picks)', 'INTERN 41 inches Cutaway Shape Acoustic Guitar with truss rod. Includes plectrums. Premium Wooden durable built, Best tonal stability and bend resistance (Glossy Sunburst).', 'Ibanez MD39C-NT Acoustic Guitar (Natural), Designed in Japan and Made Specially for India', 'Yamaha FSX80C Semi Acoustic Cutaway Guitar with Bag (Natural)', 'Granada, Acoustic Guitar, Dreadnought PRLD-14C-F -Black', 'KREEPO Guitar Fretboard Sticker Fingerboard Frets Note Chart Decals Stickers Beginner Learner Acoustic-Electric Guitar Multicolor(9.1cm X 14.5cm)', 'Saga SF-600C Dreadnought Acoustic Cutaway Guitar (Natural)', 'Givson Venus Special Cutaway Rosewood 41 Inch Acoustic Guitar Kit with Bag, Rhythm String Set, Strap and 5 Plectrums, (Red)', 'Givsun Crown Special (Black Matt) 6-string Cut A Way,Right hand Acoustic Semi-Electric Guitar with Bag and Free 1set string,2picks.', 'Kadence Concert Sized Ukulele 24inch (Built in Equalizer) With Bag and Tuner (Saple Wood With Binding)', 'Musical String New Semi Acoustic F cut Guitar 6 string, 21 freet 41 inch, Metalic Black glossy Finished with Black Cover Bag, Strap(Belt), Picks and Extra String Set', 'Blueberry B40, 40 Inch Acoustic Guitar Kit inbuilt Truss Rod, with Bag, Strap, One Pack Strings and Picks (Natural)', 'Yamaha FSX80C Semi Acoustic Cutaway Guitar with Bag (Black)', 'Techblaze 6 Pieces Guitar Keys for Acoustic Guitar Chrome Tuning Pegs Keys 3 Left 3 Right Guitar Machine Heads Knobs With Strap Button Locks Guitar Keys 3R+3L 6 pcs- Chrome', 'INTERN 41 inches Acoustic Guitar with truss rod. Includes carry bag, strings pack, strap & plectrums. Premium Wooden durable built, tonal stability & for all age-groups(Glossy Sunburst).', 'Kadence Guitar Acoustica Series, 41” Jumbo Size 6-strings Acoustic Guitar, Spruce body with Pick Guard A311 with bag', 'Kaps ST-10AC,6 Strings, Acoustic Guitar, Right Handed, Black With Cover/Bag +Alice Strings set+2 Picks + Strap/Belt', 'Blueberry B-40, 40\" Acoustic Guitar Kit with Bag,Belt, One Pack Strings & Picks (Sunburst)', 'Blueberry B-G41S, 41 Inch Acoustic Guitar Kit, with Bag,Belt, One Pack Strings And Picks (Natural)', 'Blueberry B40-40Inches Acoustic Guitar Kit inbuilt Truss Rod, with Bag, Strap, One Pack Strings and Picks (Sunburst)', 'GUITAR BRO - COMBO (Blue Acoustic Guitar for Beginner, Guitar Learning Kit, Song Book, Video Lectures, Accessories like Pick, Bag)', 'Blueberry B-D38 Sunburst 38 Inch Acoustic Guitar Kit Inbuilt Truss Rod with Bag, Strap, One Pack Strings And Picks', 'LME Laxmi Musical Electronics - Acoustic Pickup for Violin, Veena, Guitar, Mandolin, Banjo and All Acoustic String Instruments', 'Blueberry B-D38, 38 Inch Acoustic Guitar Kit Inbuilt Truss Rod with Bag, Strap, One Pack Strings And Picks (Sunburst)', 'Kadence AstroMan Electric Guitar, 21 FRETS, ROSEWOOD FRETBOARD, H - S - S PICK UPS Sun brust combo with Bag, Guitar strap,guitar cable and Picks with Amplifier', 'JUAREZ Arpeggio Guitar JRA41MAH-F, mahogany', 'Kadence Guitar Acoustica Series, 41” Jumbo Size 6-strings Acoustic Guitar, Spruce body with Pick Guard A311 with bag', 'KAPS ST - 10AC, 6-Strings, Acoustic Guitar, Right-Handed, Blue, With Guitar Cover/Bag', 'Givson Venus Special Cutaway Rosewood 41 Inch Acoustic Semi Electric Guitar Kit with Bag, Rhythm String Set, Strap and 5 Plectrums, (Black)', 'Walden, Acoustic Guitar, Orchestra, with Bag -Satin Natural O550E/W', 'Blueberry B-40, 40\" Acoustic Guitar Kit with Bag,Belt, One Pack Strings & Picks (Sunburst)', 'Revel Acoustic Guitar with Carry bag and Plectrums. Beginner and Learners standard size configuration (Blue),Full,RVL-38C-LGP-BLS', 'Cort AD810 Dreadnought Acoustic Guitar with Gig Bag,Tuner,Picks and Strap (Natural Bundle)', 'Blueberry B-40EQ-GL Acoustic Electric Guitar Kit inbuilt Trussrod, Rosewood Fretboard & bridge with 4 Band EQ-7545R Piezo Pickup Guitar Preamp Amplifier Equalizer Tuner with Bag, Pick, Belt, String set', 'Techblaze 22 Pcs Guitar Kit Set Guitar Strings Changing Kit Guitar Tool Kit with 6 Strings, 12 Multicolored Picks, 1 Guitar Capo, 1 String Winder 1 String Cutter, 1 Guitar Tuner for Acoustic Guitars', 'TECHBLAZE 6 Pcs Guitar Keys for Acoustic Guitar Chrome Tuning Pegs Keys 3 Left 3 Right Guitar Machine Heads Knobs With Strap Button Locks Guitar Keys 3R+3L 6 pieces- Chrome', 'Mustang 46 PCS Guitar Strings Changing Kit Guitar Tool Kit Including Guitar Strings Guitar Tuner Picks Capo Pins Guitar String Cutter and Winder for Beginner', 'Fender CD 60 Dread V3 DS 6 String Acoustic Guitar - Walnut Fretboard-Natural', 'INTERN 40 inches Acoustic Guitar with Pick-up & truss rod, carry bag, strings pack, strap & picks. Premium Wooden durable built, Best tonal stability with professional sound amplificaiton. (ASH).', 'Pack of 2 Universal Guitar Stand by Hola! Music Fits Acoustic Classical Electric Bass Guitars Mandolins Banjos Ukuleles and Other Stringed Instruments', 'Yamaha F310 Acoustic Guitar, Tobacco Brown Sunburst', 'JUAREZ Arpeggio 41 Inch Acoustic Guitar Kit, Spruce Top, Rosewood Fretboard & Bridge, Truss Rod, Chrome Die Cast Machine Tuners, Natural', 'Juarez JRZ-ST02 6-String Electric Guitar, Right Handed, Red, with Case/Bag and Picks', 'Givsun Venus Special Black Matt 6-String Cut A Way Right Hand Acoustic Semi-Electric Guitar With Bag And Free 1 Set String,2 Picks', 'INTERN 41 inches Acoustic Guitar with truss rod. Includes carry bag, strings pack, strap & plectrums. Premium Wooden durable built, tonal stability & for all age-groups(Electric Blue).', 'Givsun Venus Full Rose Natural 6-String Cut A Way Right Hand Acoustic Semi-Electric Guitar With Bag And Free 1 Set String,2 Picks', 'Intern INT-38C-L-NT Left Hand Acoustic Guitar Kit (Natural) with Carry bag, string set, picks and strap', 'Guitar Model, Exquisite Musical Instrument Model Collection, Beautiful Basswood Guitar Gift', 'Mini Guitar, Portable Guitar Chord Trainer 6 String Fingerboard Lightweight for Guitar Lover for Beginner(Four frets Color String Pocket Guitar)', 'Ibanez Acoustic Guitar MD39C Right Handed Cutaway Guitar - Natural With Bag, Belt, Plectrums Complete Pack.', 'INTERN 40 inches Acoustic Guitar with Pick-up & truss rod, carry bag, strings pack, strap & picks. Premium Wooden durable built, Best tonal stability with professional sound amplificaiton. (Natural).', 'INTERN 41 inches Acoustic Guitar with truss rod. Includes carry bag, strings pack, strap & plectrums. Premium Wooden durable built, tonal stability & for all age-groups (Jamming Black).', 'INTERN 40 inches Acoustic Guitar with Pick-up & truss rod, carry bag, strings pack, strap & picks. Premium Wooden durable built, Best tonal stability with professional sound amplificaiton. (Blue).', 'Kadence Astro Man Electric Guitar, 24 FRETS, H- S - S PICK UPS Walnut Top with Alder wood Back and Sides (white)', 'Fender Squier SA-150 Dreadnought Acoustic Guitar 0961090021', 'Givson Ketostics Venus Special VS-BLK, Acoustic Guitar Combo with Cover/Bag, String Set, Belt and Picks', 'Pack of 2 Universal Guitar Stand by Hola! Music Fits Acoustic Classical Electric Bass Guitars Mandolins Banjos Ukuleles and Other Stringed Instruments', 'Henrix PRO Left Handed 38 Inch Cutaway Acoustic Guitar With Die Cast Tuners and Dual Action Truss Rod, Gigbag, Picks, String Set, Strap, Cloth & Ebook (Natural)', 'Fender Model FA-15 Black 3/4 Size Steel Stringed Acoustic Guitar with Gig Bag-971170106', 'Ibanez MD39C-NT 39\" Cutaway Acoustic Guitar With Gig-Bag, Polishing Cloth And E-Book', 'Yamaha Acoustic Guitar F280 Dreadnought With Mexa Sponge Bag Belt,Plectrums, String Set & Guitar Stand (Natural)', 'Ketostics® Givson Venus Super Special semi electric Guitar Combo (BLACK) Acoustic Guitar With Cover/Bag, Rhythm String Set, Strap and 5 Plectrums', 'Intern Made in India Acoustic Guitar package. 39 inches Cutaway Guitar with Truss Rod. Durable and long lasting with Carry bag, strings, picks and allen key, black, full (INT-IN39C-BK)', 'DEVICE OF URBAN INFOTECH Tuning Peg Silver for Acoustic Guitar Parts Tuners Keys Semi-closed Guitar String Tuning Pegs Tuner Machine Heads Knobs Tuning Keys for Acoustic & Electric Guitar 3R+3L(6 PCS)', 'Givson Venus Special Cutaway Rosewood 41 Inch Acoustic Guitar Kit with Bag, Rhythm String Set, Strap and 5 Plectrums, (red)', 'JUAREZ Fiésta 41 Inch Acoustic Guitar Cutaway with Dual Action Truss Rod, 21 Frets Rosewood Fretboard & Bridge, Padded 5mm Cotton Bag, Cotton Strap, 2 Picks, Allen Key, Extra String Set, 3TS Sunburst', 'Standzo Yamaha F280 Acoustic Guitar, Natural with Padded Carry Bag, Belt, Picks, String and Learning Book Combo Pack', 'Fender FA125CE Electric Acoustic Guitar With Sponge Bag, Belt, String Set, & Plectrums Combo Pack', 'Vault LP1 Les Paul Style Electric Guitar - Cherry Sunburst', 'Mustang Guitar Accessories Kit - Stand, Clip-on Tuner, Strap, Capo, 4 Assorted Picks, Holder - For Acoustic and Electric Instruments - Great Gift For Beginners and Advanced Players', 'Hovner 215 Dark Green F-Cut Rosewood Fretboard Acoustic Guitar With Bag,Strap,1 Set of Extra Strings and 2 Picks By V2', 'YAMAHA FS80C NATURAL CONCERT CUTAWAY GUITAR']\n"
     ]
    }
   ],
   "source": [
    "print(product_names)"
   ]
  },
  {
   "cell_type": "code",
   "execution_count": 90,
   "metadata": {},
   "outputs": [
    {
     "name": "stdout",
     "output_type": "stream",
     "text": [
      "['', 'In stock.', 'In stock.', 'In stock.', 'In stock.', 'In stock.', 'In stock.', 'In stock.', '', 'In stock.', 'Only 1 left in stock.', 'In stock.', 'In stock.', '', 'In stock.', 'In stock.', 'In stock.', 'In stock.', 'In stock.', 'In stock.', '', 'In stock.', 'In stock.', 'In stock.', 'In stock.', 'In stock.', 'In stock.', 'In stock.', 'In stock.', 'In stock.', 'In stock.', 'In stock.', 'In stock.', 'In stock.', 'In stock.', 'In stock.', 'In stock.', 'In stock.', 'In stock.', 'In stock.', 'In stock.', 'In stock.', 'In stock.', 'In stock.', 'In stock.', 'In stock.', 'In stock.', 'In stock.', 'In stock.', 'In stock.', 'In stock.', 'In stock.', 'In stock.', 'In stock.', 'In stock.', 'In stock.', 'In stock.', 'In stock.', 'In stock.', '', 'In stock.', 'In stock.', 'In stock.', 'In stock.', 'In stock.', 'In stock.', 'In stock.', 'In stock.', '', 'In stock.', 'In stock.', 'In stock.', 'In stock.', 'In stock.', 'Only 1 left in stock.', 'In stock.', 'In stock.', 'In stock.', 'In stock.', 'In stock.', 'In stock.', 'In stock.', 'In stock.', 'In stock.', 'Only 1 left in stock.', 'In stock.', 'In stock.', 'In stock.', 'In stock.', 'Only 1 left in stock.', 'Available to ship in 1-2 days.', 'In stock.', 'In stock.', 'In stock.', '', '', 'In stock.', 'In stock.', 'In stock.', 'In stock.', 'In stock.', 'Only 1 left in stock.', 'In stock.', 'In stock.', 'In stock.', 'In stock.', 'In stock.', 'In stock.', 'Only 2 left in stock.', 'In stock.', 'In stock.', 'In stock.', 'In stock.', 'Only 1 left in stock.', 'In stock.', 'Only 1 left in stock.', 'In stock.', 'In stock.', 'In stock.', 'In stock.', 'In stock.', 'Only 1 left in stock.', 'In stock.', 'Only 1 left in stock.', 'In stock.', 'In stock.', 'In stock.', 'In stock.', 'In stock.', 'In stock.', 'In stock.', 'In stock.', 'Only 1 left in stock.', 'In stock.', 'Only 2 left in stock.', 'In stock.', '', 'In stock.', 'In stock.', 'In stock.', 'In stock.', 'In stock.', 'In stock.', 'In stock.', 'In stock.', 'In stock.', 'Only 2 left in stock.', 'In stock.', 'In stock.', 'In stock.', 'Only 2 left in stock.', 'Only 1 left in stock.', 'Usually dispatched in 1 to 3 weeks.', 'Usually dispatched in 6 to 10 days.', 'In stock.', 'In stock.', 'In stock.', 'In stock.', 'In stock.', 'In stock.', 'In stock.', 'In stock.', 'In stock.', 'Only 2 left in stock.', 'In stock.', 'In stock.', 'In stock.', 'Only 2 left in stock.', 'In stock.', 'In stock.', 'In stock.', 'Only 1 left in stock.', 'In stock.', 'Only 2 left in stock.', 'In stock.', 'In stock.', 'In stock.']\n"
     ]
    }
   ],
   "source": [
    "print(availability)"
   ]
  },
  {
   "cell_type": "code",
   "execution_count": 91,
   "metadata": {},
   "outputs": [
    {
     "name": "stdout",
     "output_type": "stream",
     "text": [
      "['7 Days Replacement', '7 Days Replacement', '7 Days Replacement', '7 Days Replacement', '7 Days Replacement', '7 Days Replacement', '7 Days Replacement', '7 Days Replacement', '7 Days Replacement', '7 Days Replacement', '7 Days Replacement', '7 Days Replacement', '7 Days Replacement', '7 Days Replacement', '7 Days Replacement', '7 Days Replacement', '7 Days Replacement', '7 Days Replacement', '7 Days Replacement', '7 Days Replacement', '7 Days Replacement', '7 Days Replacement', '7 Days Replacement', '7 Days Replacement', '7 Days Replacement', '7 Days Replacement', '7 Days Replacement', '7 Days Replacement', '7 Days Replacement', '7 Days Replacement', '7 Days Replacement', '7 Days Replacement', '7 Days Replacement', '7 Days Replacement', '7 Days Replacement', '7 Days Replacement', '7 Days Replacement', '7 Days Replacement', '7 Days Replacement', '7 Days Replacement', '7 Days Replacement', '7 Days Replacement', '7 Days Replacement', '7 Days Replacement', '7 Days Replacement', '7 Days Replacement', '7 Days Replacement', '7 Days Replacement', '7 Days Replacement', '7 Days Replacement', '7 Days Replacement', '7 Days Replacement', '7 Days Replacement', '7 Days Replacement', '7 Days Replacement', '7 Days Replacement', '7 Days Replacement', '7 Days Replacement', '7 Days Replacement', '7 Days Replacement', '7 Days Replacement', '7 Days Replacement', '7 Days Replacement', '7 Days Replacement', '-', '7 Days Replacement', '7 Days Replacement', '7 Days Replacement', '7 Days Replacement', '7 Days Replacement', '7 Days Replacement', '7 Days Replacement', '7 Days Replacement', '7 Days Replacement', '7 Days Replacement', '7 Days Replacement', '7 Days Replacement', '7 Days Replacement', '7 Days Replacement', '7 Days Replacement', '7 Days Replacement', '7 Days Replacement', '7 Days Replacement', '7 Days Replacement', '7 Days Replacement', '7 Days Replacement', '7 Days Replacement', '7 Days Replacement', '7 Days Replacement', '7 Days Replacement', '7 Days Replacement', '7 Days Replacement', '7 Days Replacement', '7 Days Replacement', '7 Days Replacement', '-', '7 Days Replacement', '7 Days Replacement', '7 Days Replacement', '7 Days Replacement', '7 Days Replacement', '7 Days Replacement', '7 Days Replacement', '7 Days Replacement', '7 Days Replacement', '7 Days Replacement', '7 Days Replacement', '7 Days Replacement', '7 Days Replacement', '7 Days Replacement', '7 Days Replacement', '7 Days Replacement', '7 Days Replacement', '7 Days Replacement', '7 Days Replacement', '7 Days Replacement', '7 Days Replacement', '7 Days Replacement', '7 Days Replacement', '7 Days Replacement', '7 Days Replacement', '7 Days Replacement', '7 Days Replacement', '7 Days Replacement', '7 Days Replacement', '7 Days Replacement', '7 Days Replacement', '7 Days Replacement', '7 Days Replacement', '7 Days Replacement', '7 Days Replacement', '7 Days Replacement', '7 Days Replacement', '7 Days Replacement', '7 Days Replacement', '7 Days Replacement', '7 Days Replacement', '7 Days Replacement', '7 Days Replacement', '7 Days Replacement', '7 Days Replacement', '7 Days Replacement', '7 Days Replacement', '7 Days Replacement', '7 Days Replacement', '7 Days Replacement', '7 Days Replacement', '7 Days Replacement', '7 Days Replacement', '7 Days Replacement', '7 Days Replacement', '7 Days Replacement', '-', '7 Days Replacement', '7 Days Replacement', '7 Days Replacement', '7 Days Replacement', '7 Days Replacement', '7 Days Replacement', '7 Days Replacement', '7 Days Replacement', '7 Days Replacement', '7 Days Replacement', '7 Days Replacement', '7 Days Replacement', '7 Days Replacement', '7 Days Replacement', '7 Days Replacement', '7 Days Replacement', '7 Days Replacement', '7 Days Replacement', '7 Days Replacement', '7 Days Replacement', '7 Days Replacement', '7 Days Replacement', '7 Days Replacement', '7 Days Replacement']\n"
     ]
    }
   ],
   "source": [
    "print(exchange)"
   ]
  },
  {
   "cell_type": "code",
   "execution_count": null,
   "metadata": {},
   "outputs": [],
   "source": []
  },
  {
   "cell_type": "code",
   "execution_count": null,
   "metadata": {},
   "outputs": [],
   "source": []
  }
 ],
 "metadata": {
  "kernelspec": {
   "display_name": "Python 3",
   "language": "python",
   "name": "python3"
  },
  "language_info": {
   "codemirror_mode": {
    "name": "ipython",
    "version": 3
   },
   "file_extension": ".py",
   "mimetype": "text/x-python",
   "name": "python",
   "nbconvert_exporter": "python",
   "pygments_lexer": "ipython3",
   "version": "3.8.5"
  }
 },
 "nbformat": 4,
 "nbformat_minor": 4
}
