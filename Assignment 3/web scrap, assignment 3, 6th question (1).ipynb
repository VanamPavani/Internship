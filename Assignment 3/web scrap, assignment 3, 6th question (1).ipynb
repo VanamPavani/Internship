{
 "cells": [
  {
   "cell_type": "code",
   "execution_count": 85,
   "metadata": {},
   "outputs": [
    {
     "name": "stdout",
     "output_type": "stream",
     "text": [
      "Requirement already satisfied: selenium in c:\\users\\venkata\\anaconda3\\lib\\site-packages (4.1.3)\n",
      "Requirement already satisfied: trio-websocket~=0.9 in c:\\users\\venkata\\anaconda3\\lib\\site-packages (from selenium) (0.9.2)\n",
      "Requirement already satisfied: trio~=0.17 in c:\\users\\venkata\\anaconda3\\lib\\site-packages (from selenium) (0.20.0)\n",
      "Requirement already satisfied: urllib3[secure,socks]~=1.26 in c:\\users\\venkata\\anaconda3\\lib\\site-packages (from selenium) (1.26.9)\n",
      "Requirement already satisfied: wsproto>=0.14 in c:\\users\\venkata\\anaconda3\\lib\\site-packages (from trio-websocket~=0.9->selenium) (1.1.0)\n",
      "Requirement already satisfied: async-generator>=1.10 in c:\\users\\venkata\\anaconda3\\lib\\site-packages (from trio-websocket~=0.9->selenium) (1.10)\n",
      "Requirement already satisfied: outcome in c:\\users\\venkata\\anaconda3\\lib\\site-packages (from trio~=0.17->selenium) (1.1.0)\n",
      "Requirement already satisfied: sniffio in c:\\users\\venkata\\anaconda3\\lib\\site-packages (from trio~=0.17->selenium) (1.2.0)\n",
      "Requirement already satisfied: sortedcontainers in c:\\users\\venkata\\anaconda3\\lib\\site-packages (from trio~=0.17->selenium) (2.2.2)\n",
      "Requirement already satisfied: attrs>=19.2.0 in c:\\users\\venkata\\anaconda3\\lib\\site-packages (from trio~=0.17->selenium) (20.3.0)\n",
      "Requirement already satisfied: cffi>=1.14; os_name == \"nt\" and implementation_name != \"pypy\" in c:\\users\\venkata\\anaconda3\\lib\\site-packages (from trio~=0.17->selenium) (1.14.3)\n",
      "Requirement already satisfied: idna in c:\\users\\venkata\\anaconda3\\lib\\site-packages (from trio~=0.17->selenium) (2.10)\n",
      "Requirement already satisfied: pyOpenSSL>=0.14; extra == \"secure\" in c:\\users\\venkata\\anaconda3\\lib\\site-packages (from urllib3[secure,socks]~=1.26->selenium) (19.1.0)\n",
      "Requirement already satisfied: certifi; extra == \"secure\" in c:\\users\\venkata\\anaconda3\\lib\\site-packages (from urllib3[secure,socks]~=1.26->selenium) (2020.6.20)\n",
      "Requirement already satisfied: cryptography>=1.3.4; extra == \"secure\" in c:\\users\\venkata\\anaconda3\\lib\\site-packages (from urllib3[secure,socks]~=1.26->selenium) (3.1.1)\n",
      "Requirement already satisfied: PySocks!=1.5.7,<2.0,>=1.5.6; extra == \"socks\" in c:\\users\\venkata\\anaconda3\\lib\\site-packages (from urllib3[secure,socks]~=1.26->selenium) (1.7.1)\n",
      "Requirement already satisfied: h11<1,>=0.9.0 in c:\\users\\venkata\\anaconda3\\lib\\site-packages (from wsproto>=0.14->trio-websocket~=0.9->selenium) (0.13.0)\n",
      "Requirement already satisfied: pycparser in c:\\users\\venkata\\anaconda3\\lib\\site-packages (from cffi>=1.14; os_name == \"nt\" and implementation_name != \"pypy\"->trio~=0.17->selenium) (2.20)\n",
      "Requirement already satisfied: six>=1.5.2 in c:\\users\\venkata\\anaconda3\\lib\\site-packages (from pyOpenSSL>=0.14; extra == \"secure\"->urllib3[secure,socks]~=1.26->selenium) (1.15.0)\n"
     ]
    }
   ],
   "source": [
    "!pip install selenium"
   ]
  },
  {
   "cell_type": "code",
   "execution_count": 86,
   "metadata": {},
   "outputs": [],
   "source": [
    "import selenium\n",
    "import pandas as pd\n",
    "import time\n",
    "from selenium import webdriver\n",
    "import warnings\n",
    "warnings.filterwarnings('ignore')\n",
    "from selenium.common.exceptions import NoSuchElementException\n",
    "from selenium.webdriver.support.ui import WebDriverWait\n",
    "from selenium.webdriver.support import expected_conditions as EC\n",
    "from selenium.webdriver.common.by import By"
   ]
  },
  {
   "cell_type": "code",
   "execution_count": 87,
   "metadata": {},
   "outputs": [],
   "source": [
    "driver = webdriver.Chrome(r\"C:\\Users\\Venkata\\Downloads\\chromedriver_win32 (1)\\chromedriver.exe\")"
   ]
  },
  {
   "cell_type": "code",
   "execution_count": 88,
   "metadata": {},
   "outputs": [],
   "source": [
    "driver.get('https://www.trak.in/')"
   ]
  },
  {
   "cell_type": "code",
   "execution_count": 89,
   "metadata": {},
   "outputs": [
    {
     "name": "stdout",
     "output_type": "stream",
     "text": [
      "menu-item-51510\n",
      "Funding Deals\n"
     ]
    }
   ],
   "source": [
    "time.sleep(10)\n",
    "\n",
    "ele = driver.find_element_by_xpath(\"//li[@class='menu-have-icon menu-icon-type-fontawesome menu-item menu-item-type-post_type menu-item-object-page better-anim-fade menu-item-51510']\")\n",
    "print(ele.get_attribute(\"id\"))\n",
    "print(ele.text)\n",
    "#ele.click()\n",
    "\n",
    "#print(driver.find_element_by_xpath(\"/html/body/div[1]/header/div[2]/div/div/div/div/nav/ul/li[9]/a\").get_attribute(\"href\"))\n",
    "funding_url=driver.find_element_by_xpath(\"//a[contains(text(),'Funding Deals')]\").get_attribute('href')\n",
    "driver.get(funding_url)\n",
    "time.sleep(10)\n"
   ]
  },
  {
   "cell_type": "code",
   "execution_count": 92,
   "metadata": {},
   "outputs": [
    {
     "name": "stdout",
     "output_type": "stream",
     "text": [
      "15/01/2021\n",
      "28/01/2021\n",
      "19/01/2021\n",
      "19/01/2021\n",
      "18/01/2021\n",
      "18/01/2021\n",
      "11/01/2021\n",
      "13/01/2021\n",
      "Digit Insurance\n",
      "Bombay Shaving Company\n",
      "DeHaat\n",
      "Darwinbox\n",
      "mfine\n",
      "Udayy\n",
      "True Elements\n",
      "Saveo\n",
      "11/02/2021\n",
      "22/02/2021\n",
      "19/02/2021\n",
      "17/02/2021\n",
      "15/02/2021\n",
      "12/02/2021\n",
      "12/02/2021\n",
      "09/02/2021\n",
      "09/02/2021\n",
      "Doubtnut\n",
      "Zomato\n",
      "Fingerlix\n",
      "Zolve\n",
      "KreditBee\n",
      "Pepperfry\n",
      "Grofers\n",
      "Nothing\n",
      "SplashLearn\n",
      "30/03/2021\n",
      "25/03/2021\n",
      "04/03/2021\n",
      "26/03/2021\n",
      "30/03/2021\n",
      "23/03/2021\n",
      "31/03/2021\n",
      "BYJU’S\n",
      "CityMall\n",
      "DealShare\n",
      "DotPe\n",
      "Dunzo\n",
      "SkilloVilla\n",
      "Uniphore\n"
     ]
    }
   ],
   "source": [
    "\n",
    "date = []\n",
    "startup_name=[]\n",
    "industry=[]\n",
    "for i in range(54,57):\n",
    "\n",
    "    # Date\n",
    "\n",
    "    dt = driver.find_elements_by_xpath('//table[@id=\"tablepress-{}\"]/tbody/tr/td[2]'.format(i))\n",
    "    sn = driver.find_elements_by_xpath('//table[@id=\"tablepress-{}\"]/tbody/tr/td[3]'.format(i))\n",
    "    for d in dt:\n",
    "\n",
    "        date.append(d.text)\n",
    "        print(d.text)\n",
    "    for s in sn:\n",
    "        \n",
    "        startup_name.append(s.text)\n",
    "        print(s.text)"
   ]
  },
  {
   "cell_type": "code",
   "execution_count": 91,
   "metadata": {},
   "outputs": [
    {
     "name": "stdout",
     "output_type": "stream",
     "text": [
      "[<selenium.webdriver.remote.webelement.WebElement (session=\"9bd58fea9b91bfe4179dd656577bffe8\", element=\"a66a6d27-c3d0-4b19-9466-f78e14f708ae\")>, <selenium.webdriver.remote.webelement.WebElement (session=\"9bd58fea9b91bfe4179dd656577bffe8\", element=\"c63799d4-0efc-458b-ba3e-12ea6046e572\")>, <selenium.webdriver.remote.webelement.WebElement (session=\"9bd58fea9b91bfe4179dd656577bffe8\", element=\"d6e9646c-6566-42be-84b3-426372e5b0a9\")>, <selenium.webdriver.remote.webelement.WebElement (session=\"9bd58fea9b91bfe4179dd656577bffe8\", element=\"609638e6-841e-4701-a36d-05f9e18843e5\")>, <selenium.webdriver.remote.webelement.WebElement (session=\"9bd58fea9b91bfe4179dd656577bffe8\", element=\"a64d40d2-6c2d-447e-b04d-ca03fb78b4d7\")>, <selenium.webdriver.remote.webelement.WebElement (session=\"9bd58fea9b91bfe4179dd656577bffe8\", element=\"9097aa9c-0f98-4ceb-a490-4922cabca7f0\")>, <selenium.webdriver.remote.webelement.WebElement (session=\"9bd58fea9b91bfe4179dd656577bffe8\", element=\"69260399-d59a-461b-81f2-4ef34b6572ca\")>]\n"
     ]
    }
   ],
   "source": [
    "print(dt)"
   ]
  },
  {
   "cell_type": "code",
   "execution_count": 94,
   "metadata": {},
   "outputs": [
    {
     "name": "stdout",
     "output_type": "stream",
     "text": [
      "Financial Services\n",
      "Consumer Goods Company\n",
      "AgriTech Startup\n",
      "SaaS\n",
      "Health Tech Startup\n",
      "EdTech\n",
      "Food Startup\n",
      "B2B E-commerce\n",
      "Edu Tech\n",
      "Hospitality\n",
      "Hospitality\n",
      "FinTech\n",
      "Finance\n",
      "E-commerce\n",
      "E-Commerce\n",
      "Technology\n",
      "EdTech\n",
      "Edu-tech\n",
      "E-commerce\n",
      "E-commerce\n",
      "FinTech\n",
      "E-commerce\n",
      "Edu-tech\n",
      "Technology\n"
     ]
    }
   ],
   "source": [
    "industry=[]\n",
    "for i in range(54,57):\n",
    "\n",
    "    \n",
    "\n",
    "    iy = driver.find_elements_by_xpath('//table[@id=\"tablepress-{}\"]/tbody/tr/td[4]'.format(i))\n",
    "    \n",
    "    for i in iy:\n",
    "\n",
    "        industry.append(i.text)\n",
    "        print(i.text)\n",
    "    \n"
   ]
  },
  {
   "cell_type": "code",
   "execution_count": 95,
   "metadata": {},
   "outputs": [
    {
     "name": "stdout",
     "output_type": "stream",
     "text": [
      "Insurance Services\n",
      "Shave care, beard care, and skincare products\n",
      "online marketplace for farm products and services\n",
      "HR Tech\n",
      "AI-powered telemedicine mobile app\n",
      "Online learning platform for kids in class 1-5\n",
      "Whole Food plant based Nashta\n",
      "Pharmacies\n",
      "E-Learning Platform\n",
      "Online Food Delivery Platform\n",
      "Semi-cooked food delivery app\n",
      "Global Neobank Venture\n",
      "Digital lending platform\n",
      "Multi-brand furniture brand\n",
      "Online supermarket\n",
      "Consumer Technology Venture\n",
      "Game-based learning programme\n",
      "Online tutoring\n",
      "Social ecommerce and online grocery platform\n",
      "Online shopping platform\n",
      "Commerce and payments platform to offline enterprise businesses.\n",
      "Hyper-local delivery app\n",
      "Career and job-oriented upskilling.\n",
      "Conversational Service Automation (CSA)\n"
     ]
    }
   ],
   "source": [
    "edu_tech=[]\n",
    "for i in range(54,57):\n",
    "\n",
    "    \n",
    "\n",
    "    iy = driver.find_elements_by_xpath('//table[@id=\"tablepress-{}\"]/tbody/tr/td[5]'.format(i))\n",
    "    \n",
    "    for i in iy:\n",
    "\n",
    "        industry.append(i.text)\n",
    "        print(i.text)\n",
    "    \n",
    "\n"
   ]
  },
  {
   "cell_type": "code",
   "execution_count": 96,
   "metadata": {},
   "outputs": [
    {
     "name": "stdout",
     "output_type": "stream",
     "text": [
      "Bengaluru\n",
      "New Delhi\n",
      "Patna\n",
      "Mumbai\n",
      "Bengaluru\n",
      "Gurgaon\n",
      "Pune\n",
      "Bengaluru\n",
      "Gurgaon\n",
      "Gurgaon\n",
      "Mumbai\n",
      "Mumbai\n",
      "Bengaluru\n",
      "Mumbai\n",
      "Gurgaon\n",
      "London\n",
      "Gurgaon\n",
      "Bengaluru\n",
      "Gurgaon\n",
      "Jaipur, Rajasthan\n",
      "Gurgaon\n",
      "Bengaluru\n",
      "Bengaluru\n",
      "Palo Alto\n"
     ]
    }
   ],
   "source": [
    "location=[]\n",
    "for i in range(54,57):\n",
    "\n",
    "    \n",
    "\n",
    "    iy = driver.find_elements_by_xpath('//table[@id=\"tablepress-{}\"]/tbody/tr/td[6]'.format(i))\n",
    "    \n",
    "    for i in iy:\n",
    "\n",
    "        industry.append(i.text)\n",
    "        print(i.text)"
   ]
  },
  {
   "cell_type": "code",
   "execution_count": 97,
   "metadata": {},
   "outputs": [
    {
     "name": "stdout",
     "output_type": "stream",
     "text": [
      "A91 Partners, Faering Capital, TVS Capital Funds\n",
      "Reckitt Benckiser\n",
      "Prosus Ventures\n",
      "Salesforce Ventures\n",
      "Heritas Capital Management\n",
      "Sequoia Capital\n",
      "SIDBI Venture Capital\n",
      "Matrix Partners India, RTP Global, others\n",
      "SIG Global, Sequoia Capital, WaterBridge Ventures and ON Mauritius\n",
      "Tiger Global, Kora\n",
      "Rhodium Trust, Accel Partners and Swiggy\n",
      "Accel Partners and Lightspeed Venture Partners\n",
      "Azim Premji’s PremjiInvest and South Korea’s Mirae Asset Venture\n",
      "InnoVen Capital\n",
      "SoftBank Vision Fund (SVF)\n",
      "GV\n",
      "Owl Ventures\n",
      "MC Global Edtech, B Capital, Baron, others\n",
      "Accel Partners\n",
      "Innoven Capital\n",
      "PayU\n",
      "Krishtal Advisors Pte Ltd\n",
      "Titan Capital, others\n",
      "Sorenson Capital Partners\n"
     ]
    }
   ],
   "source": [
    "investor_name=[]\n",
    "for i in range(54,57):\n",
    "\n",
    "    \n",
    "\n",
    "    iy = driver.find_elements_by_xpath('//table[@id=\"tablepress-{}\"]/tbody/tr/td[7]'.format(i))\n",
    "    \n",
    "    for i in iy:\n",
    "\n",
    "        industry.append(i.text)\n",
    "        print(i.text)"
   ]
  },
  {
   "cell_type": "code",
   "execution_count": 98,
   "metadata": {},
   "outputs": [
    {
     "name": "stdout",
     "output_type": "stream",
     "text": [
      "Venture\n",
      "Venture\n",
      "Series C\n",
      "Seed\n",
      "Venture Round\n",
      "Seed Funding\n",
      "Series\n",
      "Seed\n",
      "Series B\n",
      "Venture\n",
      "Series C\n",
      "Seed\n",
      "Series C\n",
      "Debt Financing\n",
      "Unspecified\n",
      "Series A\n",
      "Series C\n",
      "Series F\n",
      "Series A\n",
      "Debt Financing\n",
      "Series A\n",
      "Series E\n",
      "Seed\n",
      "Series D\n"
     ]
    }
   ],
   "source": [
    "investment_type=[]\n",
    "for i in range(54,57):\n",
    "\n",
    "    \n",
    "\n",
    "    iy = driver.find_elements_by_xpath('//table[@id=\"tablepress-{}\"]/tbody/tr/td[8]'.format(i))\n",
    "    \n",
    "    for i in iy:\n",
    "\n",
    "        industry.append(i.text)\n",
    "        print(i.text)"
   ]
  },
  {
   "cell_type": "code",
   "execution_count": null,
   "metadata": {},
   "outputs": [],
   "source": []
  }
 ],
 "metadata": {
  "kernelspec": {
   "display_name": "Python 3",
   "language": "python",
   "name": "python3"
  },
  "language_info": {
   "codemirror_mode": {
    "name": "ipython",
    "version": 3
   },
   "file_extension": ".py",
   "mimetype": "text/x-python",
   "name": "python",
   "nbconvert_exporter": "python",
   "pygments_lexer": "ipython3",
   "version": "3.8.5"
  }
 },
 "nbformat": 4,
 "nbformat_minor": 4
}
